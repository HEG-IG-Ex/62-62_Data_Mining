{
 "cells": [
  {
   "cell_type": "markdown",
   "id": "365801a9",
   "metadata": {},
   "source": [
    "# Introduction to R"
   ]
  },
  {
   "cell_type": "markdown",
   "id": "2cef69e7",
   "metadata": {},
   "source": [
    "We might need to install the IRkernel in R, see https://irkernel.github.io/installation/ "
   ]
  },
  {
   "cell_type": "markdown",
   "id": "2cb709e3",
   "metadata": {},
   "source": [
    "R is a programming language for statistical computing and data visualization. It has been adopted in the fields of data mining, bioinformatics, and data analysis.\n",
    "\n",
    "It is an interpreted language and it comes with a command line. You can install R or Rstudio, the latter provides a richer user experience. In the lectures I will be switching between jupyter notebooks, the R console/command line, and a file editor in which we will be writting executable scripts. \n",
    "\n",
    "Some of the most basic structures of R are:\n",
    "* vectors \n",
    "* matrices \n",
    "* data frames, typically used to store data containing mixtures of quantitative and qualitative data\n",
    "* lists\n",
    "\n",
    "Many of the operations in R are **vectorised** they can be directly performed over vectors or matrices **without the use of loops.**\n",
    "\n"
   ]
  },
  {
   "cell_type": "markdown",
   "id": "1cda62f7",
   "metadata": {},
   "source": [
    "## Vectors and matrices"
   ]
  },
  {
   "cell_type": "code",
   "execution_count": null,
   "id": "a1b0a4d2",
   "metadata": {},
   "outputs": [],
   "source": [
    "#create a vector with elements: 1, 2, 3, 4\n",
    "c(1,2,3,4)"
   ]
  },
  {
   "cell_type": "code",
   "execution_count": null,
   "id": "d6c6ff78",
   "metadata": {},
   "outputs": [],
   "source": [
    "#a faster way to do the above is\n",
    "1:4"
   ]
  },
  {
   "cell_type": "code",
   "execution_count": null,
   "id": "2abab2cc",
   "metadata": {},
   "outputs": [],
   "source": [
    "#another vector\n",
    "c(\"a\",1,2)"
   ]
  },
  {
   "cell_type": "code",
   "id": "973a72a7",
   "metadata": {
    "ExecuteTime": {
     "end_time": "2024-09-23T17:31:04.162173Z",
     "start_time": "2024-09-23T17:31:04.151170Z"
    }
   },
   "source": [
    "#store the vector in a variable \n",
    "x<-c(1,2,3,4)\n",
    "print(x)"
   ],
   "outputs": [
    {
     "name": "stdout",
     "output_type": "stream",
     "text": [
      "[1] 1 2 3 4\n"
     ]
    }
   ],
   "execution_count": 24
  },
  {
   "cell_type": "markdown",
   "id": "61c2f19d",
   "metadata": {},
   "source": [
    "So lets see what a *vectorised* operations look like"
   ]
  },
  {
   "cell_type": "code",
   "id": "ba90ad5d",
   "metadata": {
    "ExecuteTime": {
     "end_time": "2024-09-23T17:31:23.456051Z",
     "start_time": "2024-09-23T17:31:23.433885Z"
    }
   },
   "source": [
    "#what do you think the following commands do:\n",
    "x + 2\n",
    "x*3\n",
    "x^2\n",
    "x*x\n",
    "x%*%x"
   ],
   "outputs": [
    {
     "data": {
      "text/html": [
       "<style>\n",
       ".list-inline {list-style: none; margin:0; padding: 0}\n",
       ".list-inline>li {display: inline-block}\n",
       ".list-inline>li:not(:last-child)::after {content: \"\\00b7\"; padding: 0 .5ex}\n",
       "</style>\n",
       "<ol class=list-inline><li>3</li><li>4</li><li>5</li><li>6</li></ol>\n"
      ],
      "text/markdown": "1. 3\n2. 4\n3. 5\n4. 6\n\n\n",
      "text/latex": "\\begin{enumerate*}\n\\item 3\n\\item 4\n\\item 5\n\\item 6\n\\end{enumerate*}\n",
      "text/plain": [
       "[1] 3 4 5 6"
      ]
     },
     "metadata": {},
     "output_type": "display_data"
    },
    {
     "data": {
      "text/html": [
       "<style>\n",
       ".list-inline {list-style: none; margin:0; padding: 0}\n",
       ".list-inline>li {display: inline-block}\n",
       ".list-inline>li:not(:last-child)::after {content: \"\\00b7\"; padding: 0 .5ex}\n",
       "</style>\n",
       "<ol class=list-inline><li>3</li><li>6</li><li>9</li><li>12</li></ol>\n"
      ],
      "text/markdown": "1. 3\n2. 6\n3. 9\n4. 12\n\n\n",
      "text/latex": "\\begin{enumerate*}\n\\item 3\n\\item 6\n\\item 9\n\\item 12\n\\end{enumerate*}\n",
      "text/plain": [
       "[1]  3  6  9 12"
      ]
     },
     "metadata": {},
     "output_type": "display_data"
    },
    {
     "data": {
      "text/html": [
       "<style>\n",
       ".list-inline {list-style: none; margin:0; padding: 0}\n",
       ".list-inline>li {display: inline-block}\n",
       ".list-inline>li:not(:last-child)::after {content: \"\\00b7\"; padding: 0 .5ex}\n",
       "</style>\n",
       "<ol class=list-inline><li>1</li><li>4</li><li>9</li><li>16</li></ol>\n"
      ],
      "text/markdown": "1. 1\n2. 4\n3. 9\n4. 16\n\n\n",
      "text/latex": "\\begin{enumerate*}\n\\item 1\n\\item 4\n\\item 9\n\\item 16\n\\end{enumerate*}\n",
      "text/plain": [
       "[1]  1  4  9 16"
      ]
     },
     "metadata": {},
     "output_type": "display_data"
    },
    {
     "data": {
      "text/html": [
       "<style>\n",
       ".list-inline {list-style: none; margin:0; padding: 0}\n",
       ".list-inline>li {display: inline-block}\n",
       ".list-inline>li:not(:last-child)::after {content: \"\\00b7\"; padding: 0 .5ex}\n",
       "</style>\n",
       "<ol class=list-inline><li>1</li><li>4</li><li>9</li><li>16</li></ol>\n"
      ],
      "text/markdown": "1. 1\n2. 4\n3. 9\n4. 16\n\n\n",
      "text/latex": "\\begin{enumerate*}\n\\item 1\n\\item 4\n\\item 9\n\\item 16\n\\end{enumerate*}\n",
      "text/plain": [
       "[1]  1  4  9 16"
      ]
     },
     "metadata": {},
     "output_type": "display_data"
    },
    {
     "data": {
      "text/html": [
       "<table class=\"dataframe\">\n",
       "<caption>A matrix: 1 × 1 of type dbl</caption>\n",
       "<tbody>\n",
       "\t<tr><td>30</td></tr>\n",
       "</tbody>\n",
       "</table>\n"
      ],
      "text/markdown": "\nA matrix: 1 × 1 of type dbl\n\n| 30 |\n\n",
      "text/latex": "A matrix: 1 × 1 of type dbl\n\\begin{tabular}{l}\n\t 30\\\\\n\\end{tabular}\n",
      "text/plain": [
       "     [,1]\n",
       "[1,] 30  "
      ]
     },
     "metadata": {},
     "output_type": "display_data"
    }
   ],
   "execution_count": 27
  },
  {
   "cell_type": "markdown",
   "id": "ddfd5dcb",
   "metadata": {},
   "source": [
    "All of them operate in a vectorised manner. In a classical programming language to implement each of these operators we would need to iterate over the dimensions of the vector, i.e. create loops. Not in R and not in Python libraries such as numpy and PyTorch. This allows us to exploit parallelism both in CPUs and GPUs and execute things much faster than when we are using loops."
   ]
  },
  {
   "cell_type": "code",
   "execution_count": null,
   "id": "2490353e",
   "metadata": {},
   "outputs": [],
   "source": [
    "#how about this operation, what happens here?\n",
    "#note that our two vectors are of different length\n",
    "y <- c(1,2)\n",
    "print(x)\n",
    "print(y)\n",
    "print(x*y)\n",
    "\n",
    "y<-c(1,2,3)\n",
    "print(x)\n",
    "print(y)\n",
    "print(x*y)"
   ]
  },
  {
   "cell_type": "markdown",
   "id": "eae1a8b4",
   "metadata": {},
   "source": [
    "What we have above are examples of what we can call **recycling**. When applying an operation to two vectors that requires them to be the same length, R automatically recycles, or repeats, the shorter one, until it is long enough to match the longer one. If the length longer vector is not a multiple of the length of the shorter vector we get an error such as the above:\n",
    "\n",
    "``` “la taille d'un objet plus long n'est pas multiple de la taille d'un objet plus court” ```"
   ]
  },
  {
   "cell_type": "code",
   "execution_count": null,
   "id": "838b385e",
   "metadata": {},
   "outputs": [],
   "source": [
    "#Lets make a matrix now\n",
    "X <- matrix(1:12, nrow = 3, ncol = 4)\n",
    "print(X)\n",
    "print(X*X)\n",
    "print(X%*%t(X))\n",
    "dim(X) #gives the dimensions of X "
   ]
  },
  {
   "cell_type": "markdown",
   "id": "45c7de21",
   "metadata": {},
   "source": [
    "What is the difference between the two operations:\n",
    "\n",
    "``` \n",
    "X*X\n",
    "X%*%t(X) ```\n",
    "\n",
    "the first one does elementwise multiplication of $X$ with itself, while the second does **matrix multiplication** between $X$ and its transpose. \n",
    "\n",
    "Lets try now to divide the elements of each line with the sum of the elements of that line (What will this operation do to each line)?"
   ]
  },
  {
   "cell_type": "code",
   "execution_count": null,
   "id": "fd95b2b5",
   "metadata": {},
   "outputs": [],
   "source": [
    "X <- matrix(c(1,2,3,10,20,30,100,200,300), nrow = 3, ncol = 3, byrow=T)\n",
    "X\n",
    "rowSums(X)\n",
    "X/rowSums(X)\n",
    "rowSums(X/rowSums(X)) #a check to see whether we get the correct result"
   ]
  },
  {
   "cell_type": "markdown",
   "id": "2f215b1e",
   "metadata": {},
   "source": [
    "So what happens above is that the rowSums(X) vector is repeated over the columns of X, giving us the desired result. \n",
    "\n",
    "What about doing the same thing but this time we want to divide the elements of each column with the sum of the elements of that column. "
   ]
  },
  {
   "cell_type": "code",
   "execution_count": null,
   "id": "7134ca06",
   "metadata": {},
   "outputs": [],
   "source": [
    "X\n",
    "colSums(X)\n",
    "X/colSums(X)\n",
    "colSums(X/colSums(X)) #a check to see whether we get the correct result"
   ]
  },
  {
   "cell_type": "markdown",
   "id": "ed493984",
   "metadata": {},
   "source": [
    "As expected **this does not work**, since the vector is again moved over the columns of the matrix as it was the case in the previous example. \n",
    "\n",
    "One solution would be to take the tranpose of X repeat the process that we know that it works and then transpose the result\n"
   ]
  },
  {
   "cell_type": "code",
   "execution_count": null,
   "id": "c6385c82",
   "metadata": {},
   "outputs": [],
   "source": [
    "trX<-t(X)\n",
    "rowSums(trX)\n",
    "trX/rowSums(trX)\n",
    "t(trX/rowSums(trX))\n",
    "colSums(t(trX/rowSums(trX))) #a check to see whether we get the correct result"
   ]
  },
  {
   "cell_type": "markdown",
   "id": "e8376721",
   "metadata": {},
   "source": [
    "Another solution is to use a command, ```sweep``` that controls how the vector will be recycled over the matrix, i.e. over the lines or the columns. "
   ]
  },
  {
   "cell_type": "code",
   "execution_count": null,
   "id": "f7a627c3",
   "metadata": {},
   "outputs": [],
   "source": [
    "sweep(X,2,colSums(X),FUN=\"/\") # repeats the vector colSums(X) over the \n",
    "                              # lines of the X matrix and\n",
    "                              # applies the / operation\n",
    "                              # basically normalises columns to 1\n",
    "colSums(sweep(X,2,colSums(X),FUN=\"/\"))"
   ]
  },
  {
   "cell_type": "code",
   "execution_count": null,
   "id": "2b57603b",
   "metadata": {},
   "outputs": [],
   "source": [
    "sweep(X,1,rowSums(X),FUN=\"/\") # repeats the vector rowSums(X) over the \n",
    "                              # columns of the X matrix and\n",
    "                              # applies the / operation\n",
    "                              # basically normalises rows to 1\n",
    "rowSums(sweep(X,1,rowSums(X),FUN=\"/\"))"
   ]
  },
  {
   "cell_type": "markdown",
   "id": "b79a121f",
   "metadata": {},
   "source": [
    "These operations will become handy when we will revisit the joint and marginal probability distributions. "
   ]
  },
  {
   "cell_type": "markdown",
   "id": "fa149f64",
   "metadata": {},
   "source": [
    "## Lists ##"
   ]
  },
  {
   "cell_type": "markdown",
   "id": "e8d71c8b",
   "metadata": {},
   "source": [
    "Lists are complex objects that can contain **named elements** of arbitrary structure"
   ]
  },
  {
   "cell_type": "code",
   "execution_count": null,
   "id": "02d647f8",
   "metadata": {
    "scrolled": false
   },
   "outputs": [],
   "source": [
    "x <- c(1,2,3)\n",
    "y <- c(\"a\",\"b\")\n",
    "z <- 1:10\n",
    "X <- matrix(c(1,2,3,10,20,30,100,200,300), nrow = 3, ncol = 3, byrow=T)\n",
    "\n",
    "aList <- list(num=x, text=y, sequence=z, matr=X)\n",
    "aList\n",
    "\n",
    "#we can access each one of the fields of the list using their names as follows\n",
    "aList$num\n",
    "aList$text\n",
    "aList$sequence\n",
    "\n",
    "#set the value of a field\n",
    "aList$num <- 4\n",
    "\n",
    "aList\n",
    "\n",
    "#access the names of the fields of the list\n",
    "attributes(aList)"
   ]
  },
  {
   "cell_type": "markdown",
   "id": "3ed98cb2",
   "metadata": {},
   "source": [
    "## Loops\n",
    "\n",
    "R provides different loop structures but for most operations involving matrices and vectors we will not use them, because such operations are typically vectorised."
   ]
  },
  {
   "cell_type": "code",
   "execution_count": null,
   "id": "fe6bc798",
   "metadata": {},
   "outputs": [],
   "source": [
    "for(i in 1:10){print(i)}\n",
    "\n",
    "for(i in c(\"a\",\"b\",\"c\")){print(i)}\n",
    "\n",
    "X <- matrix(c(1,2,3,10,20,30,100,200,300), nrow = 3, ncol = 3, byrow=T)\n",
    "print(X)\n",
    "d<-dim(X)\n",
    "#we will NOT be using such loops\n",
    "for(line in 1:d[1]){\n",
    "    for(row in 1:d[2])\n",
    "        print(X[line,row])\n",
    "}"
   ]
  },
  {
   "cell_type": "markdown",
   "id": "c167e561",
   "metadata": {},
   "source": [
    "Looping with the ```apply``` function"
   ]
  },
  {
   "cell_type": "code",
   "execution_count": null,
   "id": "7eb94af1",
   "metadata": {},
   "outputs": [],
   "source": [
    "#lets compute the maximum element per line of a matrix\n",
    "#How would you do it?\n",
    "#In R we will use a function called apply\n",
    "\n",
    "X <- matrix(c(1,2,3,10,20,30,100,200,300,1000,2000,3000), nrow = 3, ncol = 4, byrow=T)\n",
    "X\n",
    "\n",
    "apply(X,1,max) #the 1 argument indicates that the max function is applied over each row of the matrix\n",
    "\n",
    "apply(X,2,max) #the 2 argument indicates that the max function is applied over each column of the matrix\n",
    "\n",
    "apply(X,c(1,2),log) #the c(1,2) indicates that the function is applied over each element of the matrix, log computes the natural logarithm\n",
    "\n",
    "apply(X,c(1,2),log, base=2) #if the function we apply takes additional arguments we set them, \n",
    "                            #here base=2 is an argument of the log\n",
    "\n"
   ]
  },
  {
   "cell_type": "markdown",
   "id": "85758567",
   "metadata": {},
   "source": [
    "Related to the ```apply``` function are the ```sapply``` and ```lapply``` which work over vectors and lists. "
   ]
  },
  {
   "cell_type": "markdown",
   "id": "f6bc3b6f",
   "metadata": {},
   "source": [
    "## Functions "
   ]
  },
  {
   "cell_type": "markdown",
   "id": "5d93e74a",
   "metadata": {},
   "source": [
    "Lets write a simple function that computes the power of x to y, x^y"
   ]
  },
  {
   "cell_type": "code",
   "execution_count": null,
   "id": "b2d2f9ce",
   "metadata": {},
   "outputs": [],
   "source": [
    "myPower <- function(x,y){\n",
    "    x^y #we could also write return(x^y) but it is not necessary. R returns the last evaluated expression\n",
    "}\n",
    "\n",
    "myPower(2,3)"
   ]
  },
  {
   "cell_type": "markdown",
   "id": "e39c9823",
   "metadata": {},
   "source": [
    "Most of the times we will be raising at the power of 2, it would nice to have a default value of 2 for y. R allows for default values."
   ]
  },
  {
   "cell_type": "code",
   "execution_count": null,
   "id": "c2b87222",
   "metadata": {},
   "outputs": [],
   "source": [
    "myPower <- function(x,y=2){\n",
    "    x^y\n",
    "}\n",
    "\n",
    "myPower(3) #if we do not pass y it uses the default\n",
    "\n",
    "myPower(3,3) #when we pass y it uses the value we pass\n",
    "\n",
    "myPower(y=2,x=3) #what will be the result here?\n",
    "                 #In R if we name the arguments we can pass them in any order we want. "
   ]
  },
  {
   "cell_type": "code",
   "execution_count": null,
   "id": "d0018f61",
   "metadata": {},
   "outputs": [],
   "source": [
    "myPower <- function(x=2,y=2){\n",
    "    x^y\n",
    "}\n",
    "\n",
    "myPower() #we can call it without any arguments if every argument has a default value"
   ]
  },
  {
   "cell_type": "markdown",
   "id": "a1a33d8f",
   "metadata": {},
   "source": [
    "**Exercise:** \n",
    "* create a 3 x 4 matrix with elements 1 to 12 organised by rows\n",
    "* compute the maximum per row\n",
    "* compute the maximum per column\n",
    "* normalise the elements of every row by the maximum element of the row\n",
    "* do the same for the columns\n",
    "* write a function that takes as input a matrix and returns by default the above row normalised matrix, unless we specify that we want the column normalised. "
   ]
  },
  {
   "metadata": {
    "ExecuteTime": {
     "end_time": "2024-09-23T17:05:46.559644Z",
     "start_time": "2024-09-23T17:05:46.519373Z"
    }
   },
   "cell_type": "code",
   "source": [
    "# create a 3 x 4 matrix with elements 1 to 12 organised by rows\n",
    "# matrix(data, nrow, ncol, byrow, dimnames)\n",
    "X <- matrix(1:12, nrow = 3, ncol = 4, byrow = TRUE)\n",
    "X\n",
    "\n",
    "# compute the maximum per row\n",
    "maxPerRow<-apply(X,1,max)\n",
    "maxPerRow\n",
    "\n",
    "# compute the maximum per column\n",
    "maxPerCol<-apply(X,2,max)\n",
    "maxPerCol\n",
    "\n",
    "# Sweep => https://www.rdocumentation.org/packages/base/versions/3.6.2/topics/sweep\n",
    "# normalise the elements of every row by the maximum element of the row\n",
    "sweep(X,1,maxPerRow,FUN=\"/\")\n",
    "\n",
    "# normalise the elements of every col by the maximum element of the row\n",
    "sweep(X,2,maxPerCol,FUN=\"/\")\n",
    "\n",
    "# write a function that takes as input a matrix and returns by default the above row normalised matrix, unless we specify that we want the column normalised.\n",
    "normaliseMatrix <- function(X, byRow=TRUE){\n",
    "    if(byRow)\n",
    "        sweep(X,1,apply(X,1,max),FUN=\"/\")\n",
    "    else\n",
    "        sweep(X,2,apply(X,2,max),FUN=\"/\")\n",
    "}\n",
    "\n",
    "normaliseMatrix(X)\n",
    "normaliseMatrix(X, FALSE)"
   ],
   "id": "e998f29b952e54cd",
   "outputs": [
    {
     "data": {
      "text/html": [
       "<table class=\"dataframe\">\n",
       "<caption>A matrix: 3 × 4 of type int</caption>\n",
       "<tbody>\n",
       "\t<tr><td>1</td><td> 2</td><td> 3</td><td> 4</td></tr>\n",
       "\t<tr><td>5</td><td> 6</td><td> 7</td><td> 8</td></tr>\n",
       "\t<tr><td>9</td><td>10</td><td>11</td><td>12</td></tr>\n",
       "</tbody>\n",
       "</table>\n"
      ],
      "text/markdown": "\nA matrix: 3 × 4 of type int\n\n| 1 |  2 |  3 |  4 |\n| 5 |  6 |  7 |  8 |\n| 9 | 10 | 11 | 12 |\n\n",
      "text/latex": "A matrix: 3 × 4 of type int\n\\begin{tabular}{llll}\n\t 1 &  2 &  3 &  4\\\\\n\t 5 &  6 &  7 &  8\\\\\n\t 9 & 10 & 11 & 12\\\\\n\\end{tabular}\n",
      "text/plain": [
       "     [,1] [,2] [,3] [,4]\n",
       "[1,] 1     2    3    4  \n",
       "[2,] 5     6    7    8  \n",
       "[3,] 9    10   11   12  "
      ]
     },
     "metadata": {},
     "output_type": "display_data"
    },
    {
     "data": {
      "text/html": [
       "<style>\n",
       ".list-inline {list-style: none; margin:0; padding: 0}\n",
       ".list-inline>li {display: inline-block}\n",
       ".list-inline>li:not(:last-child)::after {content: \"\\00b7\"; padding: 0 .5ex}\n",
       "</style>\n",
       "<ol class=list-inline><li>4</li><li>8</li><li>12</li></ol>\n"
      ],
      "text/markdown": "1. 4\n2. 8\n3. 12\n\n\n",
      "text/latex": "\\begin{enumerate*}\n\\item 4\n\\item 8\n\\item 12\n\\end{enumerate*}\n",
      "text/plain": [
       "[1]  4  8 12"
      ]
     },
     "metadata": {},
     "output_type": "display_data"
    },
    {
     "data": {
      "text/html": [
       "<style>\n",
       ".list-inline {list-style: none; margin:0; padding: 0}\n",
       ".list-inline>li {display: inline-block}\n",
       ".list-inline>li:not(:last-child)::after {content: \"\\00b7\"; padding: 0 .5ex}\n",
       "</style>\n",
       "<ol class=list-inline><li>9</li><li>10</li><li>11</li><li>12</li></ol>\n"
      ],
      "text/markdown": "1. 9\n2. 10\n3. 11\n4. 12\n\n\n",
      "text/latex": "\\begin{enumerate*}\n\\item 9\n\\item 10\n\\item 11\n\\item 12\n\\end{enumerate*}\n",
      "text/plain": [
       "[1]  9 10 11 12"
      ]
     },
     "metadata": {},
     "output_type": "display_data"
    },
    {
     "data": {
      "text/html": [
       "<table class=\"dataframe\">\n",
       "<caption>A matrix: 3 × 4 of type dbl</caption>\n",
       "<tbody>\n",
       "\t<tr><td>0.250</td><td>0.5000000</td><td>0.7500000</td><td>1</td></tr>\n",
       "\t<tr><td>0.625</td><td>0.7500000</td><td>0.8750000</td><td>1</td></tr>\n",
       "\t<tr><td>0.750</td><td>0.8333333</td><td>0.9166667</td><td>1</td></tr>\n",
       "</tbody>\n",
       "</table>\n"
      ],
      "text/markdown": "\nA matrix: 3 × 4 of type dbl\n\n| 0.250 | 0.5000000 | 0.7500000 | 1 |\n| 0.625 | 0.7500000 | 0.8750000 | 1 |\n| 0.750 | 0.8333333 | 0.9166667 | 1 |\n\n",
      "text/latex": "A matrix: 3 × 4 of type dbl\n\\begin{tabular}{llll}\n\t 0.250 & 0.5000000 & 0.7500000 & 1\\\\\n\t 0.625 & 0.7500000 & 0.8750000 & 1\\\\\n\t 0.750 & 0.8333333 & 0.9166667 & 1\\\\\n\\end{tabular}\n",
      "text/plain": [
       "     [,1]  [,2]      [,3]      [,4]\n",
       "[1,] 0.250 0.5000000 0.7500000 1   \n",
       "[2,] 0.625 0.7500000 0.8750000 1   \n",
       "[3,] 0.750 0.8333333 0.9166667 1   "
      ]
     },
     "metadata": {},
     "output_type": "display_data"
    },
    {
     "data": {
      "text/html": [
       "<table class=\"dataframe\">\n",
       "<caption>A matrix: 3 × 4 of type dbl</caption>\n",
       "<tbody>\n",
       "\t<tr><td>0.1111111</td><td>0.2</td><td>0.2727273</td><td>0.3333333</td></tr>\n",
       "\t<tr><td>0.5555556</td><td>0.6</td><td>0.6363636</td><td>0.6666667</td></tr>\n",
       "\t<tr><td>1.0000000</td><td>1.0</td><td>1.0000000</td><td>1.0000000</td></tr>\n",
       "</tbody>\n",
       "</table>\n"
      ],
      "text/markdown": "\nA matrix: 3 × 4 of type dbl\n\n| 0.1111111 | 0.2 | 0.2727273 | 0.3333333 |\n| 0.5555556 | 0.6 | 0.6363636 | 0.6666667 |\n| 1.0000000 | 1.0 | 1.0000000 | 1.0000000 |\n\n",
      "text/latex": "A matrix: 3 × 4 of type dbl\n\\begin{tabular}{llll}\n\t 0.1111111 & 0.2 & 0.2727273 & 0.3333333\\\\\n\t 0.5555556 & 0.6 & 0.6363636 & 0.6666667\\\\\n\t 1.0000000 & 1.0 & 1.0000000 & 1.0000000\\\\\n\\end{tabular}\n",
      "text/plain": [
       "     [,1]      [,2] [,3]      [,4]     \n",
       "[1,] 0.1111111 0.2  0.2727273 0.3333333\n",
       "[2,] 0.5555556 0.6  0.6363636 0.6666667\n",
       "[3,] 1.0000000 1.0  1.0000000 1.0000000"
      ]
     },
     "metadata": {},
     "output_type": "display_data"
    },
    {
     "data": {
      "text/html": [
       "<table class=\"dataframe\">\n",
       "<caption>A matrix: 3 × 4 of type dbl</caption>\n",
       "<tbody>\n",
       "\t<tr><td>0.250</td><td>0.5000000</td><td>0.7500000</td><td>1</td></tr>\n",
       "\t<tr><td>0.625</td><td>0.7500000</td><td>0.8750000</td><td>1</td></tr>\n",
       "\t<tr><td>0.750</td><td>0.8333333</td><td>0.9166667</td><td>1</td></tr>\n",
       "</tbody>\n",
       "</table>\n"
      ],
      "text/markdown": "\nA matrix: 3 × 4 of type dbl\n\n| 0.250 | 0.5000000 | 0.7500000 | 1 |\n| 0.625 | 0.7500000 | 0.8750000 | 1 |\n| 0.750 | 0.8333333 | 0.9166667 | 1 |\n\n",
      "text/latex": "A matrix: 3 × 4 of type dbl\n\\begin{tabular}{llll}\n\t 0.250 & 0.5000000 & 0.7500000 & 1\\\\\n\t 0.625 & 0.7500000 & 0.8750000 & 1\\\\\n\t 0.750 & 0.8333333 & 0.9166667 & 1\\\\\n\\end{tabular}\n",
      "text/plain": [
       "     [,1]  [,2]      [,3]      [,4]\n",
       "[1,] 0.250 0.5000000 0.7500000 1   \n",
       "[2,] 0.625 0.7500000 0.8750000 1   \n",
       "[3,] 0.750 0.8333333 0.9166667 1   "
      ]
     },
     "metadata": {},
     "output_type": "display_data"
    },
    {
     "data": {
      "text/html": [
       "<table class=\"dataframe\">\n",
       "<caption>A matrix: 3 × 4 of type dbl</caption>\n",
       "<tbody>\n",
       "\t<tr><td>0.1111111</td><td>0.2</td><td>0.2727273</td><td>0.3333333</td></tr>\n",
       "\t<tr><td>0.5555556</td><td>0.6</td><td>0.6363636</td><td>0.6666667</td></tr>\n",
       "\t<tr><td>1.0000000</td><td>1.0</td><td>1.0000000</td><td>1.0000000</td></tr>\n",
       "</tbody>\n",
       "</table>\n"
      ],
      "text/markdown": "\nA matrix: 3 × 4 of type dbl\n\n| 0.1111111 | 0.2 | 0.2727273 | 0.3333333 |\n| 0.5555556 | 0.6 | 0.6363636 | 0.6666667 |\n| 1.0000000 | 1.0 | 1.0000000 | 1.0000000 |\n\n",
      "text/latex": "A matrix: 3 × 4 of type dbl\n\\begin{tabular}{llll}\n\t 0.1111111 & 0.2 & 0.2727273 & 0.3333333\\\\\n\t 0.5555556 & 0.6 & 0.6363636 & 0.6666667\\\\\n\t 1.0000000 & 1.0 & 1.0000000 & 1.0000000\\\\\n\\end{tabular}\n",
      "text/plain": [
       "     [,1]      [,2] [,3]      [,4]     \n",
       "[1,] 0.1111111 0.2  0.2727273 0.3333333\n",
       "[2,] 0.5555556 0.6  0.6363636 0.6666667\n",
       "[3,] 1.0000000 1.0  1.0000000 1.0000000"
      ]
     },
     "metadata": {},
     "output_type": "display_data"
    }
   ],
   "execution_count": 10
  },
  {
   "cell_type": "markdown",
   "id": "b2e6cccc",
   "metadata": {},
   "source": [
    "## Reading datasets and working with data frames ##"
   ]
  },
  {
   "cell_type": "code",
   "id": "14e3df4a",
   "metadata": {
    "ExecuteTime": {
     "end_time": "2024-09-23T17:00:33.231215Z",
     "start_time": "2024-09-23T17:00:33.219209Z"
    }
   },
   "source": [
    "getwd()"
   ],
   "outputs": [
    {
     "data": {
      "text/html": [
       "'C:/Users/huniv/jnotebook'"
      ],
      "text/markdown": "'C:/Users/huniv/jnotebook'",
      "text/latex": "'C:/Users/huniv/jnotebook'",
      "text/plain": [
       "[1] \"C:/Users/huniv/jnotebook\""
      ]
     },
     "metadata": {},
     "output_type": "display_data"
    }
   ],
   "execution_count": 7
  },
  {
   "cell_type": "markdown",
   "id": "111739cf",
   "metadata": {},
   "source": [
    "lets go where the data are"
   ]
  },
  {
   "cell_type": "code",
   "id": "298edc9e",
   "metadata": {
    "ExecuteTime": {
     "end_time": "2024-09-23T17:18:13.369333Z",
     "start_time": "2024-09-23T17:18:13.357333Z"
    }
   },
   "source": [
    "#give your working directory\n",
    "setwd(\"C:/Users/huniv/jnotebook/datasets\")\n"
   ],
   "outputs": [],
   "execution_count": 12
  },
  {
   "cell_type": "markdown",
   "id": "04815b79",
   "metadata": {},
   "source": [
    "Lets read the data, and store it in an object of type *data frame*.\n",
    "A data frame is a table that can store both quantitative and qualitative values\t\n",
    "\n"
   ]
  },
  {
   "cell_type": "code",
   "id": "c53f96d2",
   "metadata": {
    "ExecuteTime": {
     "end_time": "2024-09-23T17:18:16.751897Z",
     "start_time": "2024-09-23T17:18:16.737899Z"
    }
   },
   "source": [
    "myData <- read.table(file=\"iris.csv\", header=T, sep = \",\")"
   ],
   "outputs": [],
   "execution_count": 13
  },
  {
   "cell_type": "code",
   "id": "6c75ba9f",
   "metadata": {
    "ExecuteTime": {
     "end_time": "2024-09-23T17:18:19.631544Z",
     "start_time": "2024-09-23T17:18:19.593985Z"
    }
   },
   "source": [
    "myData"
   ],
   "outputs": [
    {
     "data": {
      "text/html": [
       "<table class=\"dataframe\">\n",
       "<caption>A data.frame: 150 × 5</caption>\n",
       "<thead>\n",
       "\t<tr><th scope=col>sepal_length</th><th scope=col>sepal_width</th><th scope=col>petal_length</th><th scope=col>petal_width</th><th scope=col>type.</th></tr>\n",
       "\t<tr><th scope=col>&lt;dbl&gt;</th><th scope=col>&lt;dbl&gt;</th><th scope=col>&lt;dbl&gt;</th><th scope=col>&lt;dbl&gt;</th><th scope=col>&lt;chr&gt;</th></tr>\n",
       "</thead>\n",
       "<tbody>\n",
       "\t<tr><td>5.1</td><td>3.5</td><td>1.4</td><td>0.2</td><td>Iris_setosa</td></tr>\n",
       "\t<tr><td>4.9</td><td>3.0</td><td>1.4</td><td>0.2</td><td>Iris_setosa</td></tr>\n",
       "\t<tr><td>4.7</td><td>3.2</td><td>1.3</td><td>0.2</td><td>Iris_setosa</td></tr>\n",
       "\t<tr><td>4.6</td><td>3.1</td><td>1.5</td><td>0.2</td><td>Iris_setosa</td></tr>\n",
       "\t<tr><td>5.0</td><td>3.6</td><td>1.4</td><td>0.2</td><td>Iris_setosa</td></tr>\n",
       "\t<tr><td>5.4</td><td>3.9</td><td>1.7</td><td>0.4</td><td>Iris_setosa</td></tr>\n",
       "\t<tr><td>4.6</td><td>3.4</td><td>1.4</td><td>0.3</td><td>Iris_setosa</td></tr>\n",
       "\t<tr><td>5.0</td><td>3.4</td><td>1.5</td><td>0.2</td><td>Iris_setosa</td></tr>\n",
       "\t<tr><td>4.4</td><td>2.9</td><td>1.4</td><td>0.2</td><td>Iris_setosa</td></tr>\n",
       "\t<tr><td>4.9</td><td>3.1</td><td>1.5</td><td>0.1</td><td>Iris_setosa</td></tr>\n",
       "\t<tr><td>5.4</td><td>3.7</td><td>1.5</td><td>0.2</td><td>Iris_setosa</td></tr>\n",
       "\t<tr><td>4.8</td><td>3.4</td><td>1.6</td><td>0.2</td><td>Iris_setosa</td></tr>\n",
       "\t<tr><td>4.8</td><td>3.0</td><td>1.4</td><td>0.1</td><td>Iris_setosa</td></tr>\n",
       "\t<tr><td>4.3</td><td>3.0</td><td>1.1</td><td>0.1</td><td>Iris_setosa</td></tr>\n",
       "\t<tr><td>5.8</td><td>4.0</td><td>1.2</td><td>0.2</td><td>Iris_setosa</td></tr>\n",
       "\t<tr><td>5.7</td><td>4.4</td><td>1.5</td><td>0.4</td><td>Iris_setosa</td></tr>\n",
       "\t<tr><td>5.4</td><td>3.9</td><td>1.3</td><td>0.4</td><td>Iris_setosa</td></tr>\n",
       "\t<tr><td>5.1</td><td>3.5</td><td>1.4</td><td>0.3</td><td>Iris_setosa</td></tr>\n",
       "\t<tr><td>5.7</td><td>3.8</td><td>1.7</td><td>0.3</td><td>Iris_setosa</td></tr>\n",
       "\t<tr><td>5.1</td><td>3.8</td><td>1.5</td><td>0.3</td><td>Iris_setosa</td></tr>\n",
       "\t<tr><td>5.4</td><td>3.4</td><td>1.7</td><td>0.2</td><td>Iris_setosa</td></tr>\n",
       "\t<tr><td>5.1</td><td>3.7</td><td>1.5</td><td>0.4</td><td>Iris_setosa</td></tr>\n",
       "\t<tr><td>4.6</td><td>3.6</td><td>1.0</td><td>0.2</td><td>Iris_setosa</td></tr>\n",
       "\t<tr><td>5.1</td><td>3.3</td><td>1.7</td><td>0.5</td><td>Iris_setosa</td></tr>\n",
       "\t<tr><td>4.8</td><td>3.4</td><td>1.9</td><td>0.2</td><td>Iris_setosa</td></tr>\n",
       "\t<tr><td>5.0</td><td>3.0</td><td>1.6</td><td>0.2</td><td>Iris_setosa</td></tr>\n",
       "\t<tr><td>5.0</td><td>3.4</td><td>1.6</td><td>0.4</td><td>Iris_setosa</td></tr>\n",
       "\t<tr><td>5.2</td><td>3.5</td><td>1.5</td><td>0.2</td><td>Iris_setosa</td></tr>\n",
       "\t<tr><td>5.2</td><td>3.4</td><td>1.4</td><td>0.2</td><td>Iris_setosa</td></tr>\n",
       "\t<tr><td>4.7</td><td>3.2</td><td>1.6</td><td>0.2</td><td>Iris_setosa</td></tr>\n",
       "\t<tr><td>...</td><td>...</td><td>...</td><td>...</td><td>...</td></tr>\n",
       "\t<tr><td>6.9</td><td>3.2</td><td>5.7</td><td>2.3</td><td>Iris_virginica</td></tr>\n",
       "\t<tr><td>5.6</td><td>2.8</td><td>4.9</td><td>2.0</td><td>Iris_virginica</td></tr>\n",
       "\t<tr><td>7.7</td><td>2.8</td><td>6.7</td><td>2.0</td><td>Iris_virginica</td></tr>\n",
       "\t<tr><td>6.3</td><td>2.7</td><td>4.9</td><td>1.8</td><td>Iris_virginica</td></tr>\n",
       "\t<tr><td>6.7</td><td>3.3</td><td>5.7</td><td>2.1</td><td>Iris_virginica</td></tr>\n",
       "\t<tr><td>7.2</td><td>3.2</td><td>6.0</td><td>1.8</td><td>Iris_virginica</td></tr>\n",
       "\t<tr><td>6.2</td><td>2.8</td><td>4.8</td><td>1.8</td><td>Iris_virginica</td></tr>\n",
       "\t<tr><td>6.1</td><td>3.0</td><td>4.9</td><td>1.8</td><td>Iris_virginica</td></tr>\n",
       "\t<tr><td>6.4</td><td>2.8</td><td>5.6</td><td>2.1</td><td>Iris_virginica</td></tr>\n",
       "\t<tr><td>7.2</td><td>3.0</td><td>5.8</td><td>1.6</td><td>Iris_virginica</td></tr>\n",
       "\t<tr><td>7.4</td><td>2.8</td><td>6.1</td><td>1.9</td><td>Iris_virginica</td></tr>\n",
       "\t<tr><td>7.9</td><td>3.8</td><td>6.4</td><td>2.0</td><td>Iris_virginica</td></tr>\n",
       "\t<tr><td>6.4</td><td>2.8</td><td>5.6</td><td>2.2</td><td>Iris_virginica</td></tr>\n",
       "\t<tr><td>6.3</td><td>2.8</td><td>5.1</td><td>1.5</td><td>Iris_virginica</td></tr>\n",
       "\t<tr><td>6.1</td><td>2.6</td><td>5.6</td><td>1.4</td><td>Iris_virginica</td></tr>\n",
       "\t<tr><td>7.7</td><td>3.0</td><td>6.1</td><td>2.3</td><td>Iris_virginica</td></tr>\n",
       "\t<tr><td>6.3</td><td>3.4</td><td>5.6</td><td>2.4</td><td>Iris_virginica</td></tr>\n",
       "\t<tr><td>6.4</td><td>3.1</td><td>5.5</td><td>1.8</td><td>Iris_virginica</td></tr>\n",
       "\t<tr><td>6.0</td><td>3.0</td><td>4.8</td><td>1.8</td><td>Iris_virginica</td></tr>\n",
       "\t<tr><td>6.9</td><td>3.1</td><td>5.4</td><td>2.1</td><td>Iris_virginica</td></tr>\n",
       "\t<tr><td>6.7</td><td>3.1</td><td>5.6</td><td>2.4</td><td>Iris_virginica</td></tr>\n",
       "\t<tr><td>6.9</td><td>3.1</td><td>5.1</td><td>2.3</td><td>Iris_virginica</td></tr>\n",
       "\t<tr><td>5.8</td><td>2.7</td><td>5.1</td><td>1.9</td><td>Iris_virginica</td></tr>\n",
       "\t<tr><td>6.8</td><td>3.2</td><td>5.9</td><td>2.3</td><td>Iris_virginica</td></tr>\n",
       "\t<tr><td>6.7</td><td>3.3</td><td>5.7</td><td>2.5</td><td>Iris_virginica</td></tr>\n",
       "\t<tr><td>6.7</td><td>3.0</td><td>5.2</td><td>2.3</td><td>Iris_virginica</td></tr>\n",
       "\t<tr><td>6.3</td><td>2.5</td><td>5.0</td><td>1.9</td><td>Iris_virginica</td></tr>\n",
       "\t<tr><td>6.5</td><td>3.0</td><td>5.2</td><td>2.0</td><td>Iris_virginica</td></tr>\n",
       "\t<tr><td>6.2</td><td>3.4</td><td>5.4</td><td>2.3</td><td>Iris_virginica</td></tr>\n",
       "\t<tr><td>5.9</td><td>3.0</td><td>5.1</td><td>1.8</td><td>Iris_virginica</td></tr>\n",
       "</tbody>\n",
       "</table>\n"
      ],
      "text/markdown": "\nA data.frame: 150 × 5\n\n| sepal_length &lt;dbl&gt; | sepal_width &lt;dbl&gt; | petal_length &lt;dbl&gt; | petal_width &lt;dbl&gt; | type. &lt;chr&gt; |\n|---|---|---|---|---|\n| 5.1 | 3.5 | 1.4 | 0.2 | Iris_setosa |\n| 4.9 | 3.0 | 1.4 | 0.2 | Iris_setosa |\n| 4.7 | 3.2 | 1.3 | 0.2 | Iris_setosa |\n| 4.6 | 3.1 | 1.5 | 0.2 | Iris_setosa |\n| 5.0 | 3.6 | 1.4 | 0.2 | Iris_setosa |\n| 5.4 | 3.9 | 1.7 | 0.4 | Iris_setosa |\n| 4.6 | 3.4 | 1.4 | 0.3 | Iris_setosa |\n| 5.0 | 3.4 | 1.5 | 0.2 | Iris_setosa |\n| 4.4 | 2.9 | 1.4 | 0.2 | Iris_setosa |\n| 4.9 | 3.1 | 1.5 | 0.1 | Iris_setosa |\n| 5.4 | 3.7 | 1.5 | 0.2 | Iris_setosa |\n| 4.8 | 3.4 | 1.6 | 0.2 | Iris_setosa |\n| 4.8 | 3.0 | 1.4 | 0.1 | Iris_setosa |\n| 4.3 | 3.0 | 1.1 | 0.1 | Iris_setosa |\n| 5.8 | 4.0 | 1.2 | 0.2 | Iris_setosa |\n| 5.7 | 4.4 | 1.5 | 0.4 | Iris_setosa |\n| 5.4 | 3.9 | 1.3 | 0.4 | Iris_setosa |\n| 5.1 | 3.5 | 1.4 | 0.3 | Iris_setosa |\n| 5.7 | 3.8 | 1.7 | 0.3 | Iris_setosa |\n| 5.1 | 3.8 | 1.5 | 0.3 | Iris_setosa |\n| 5.4 | 3.4 | 1.7 | 0.2 | Iris_setosa |\n| 5.1 | 3.7 | 1.5 | 0.4 | Iris_setosa |\n| 4.6 | 3.6 | 1.0 | 0.2 | Iris_setosa |\n| 5.1 | 3.3 | 1.7 | 0.5 | Iris_setosa |\n| 4.8 | 3.4 | 1.9 | 0.2 | Iris_setosa |\n| 5.0 | 3.0 | 1.6 | 0.2 | Iris_setosa |\n| 5.0 | 3.4 | 1.6 | 0.4 | Iris_setosa |\n| 5.2 | 3.5 | 1.5 | 0.2 | Iris_setosa |\n| 5.2 | 3.4 | 1.4 | 0.2 | Iris_setosa |\n| 4.7 | 3.2 | 1.6 | 0.2 | Iris_setosa |\n| ... | ... | ... | ... | ... |\n| 6.9 | 3.2 | 5.7 | 2.3 | Iris_virginica |\n| 5.6 | 2.8 | 4.9 | 2.0 | Iris_virginica |\n| 7.7 | 2.8 | 6.7 | 2.0 | Iris_virginica |\n| 6.3 | 2.7 | 4.9 | 1.8 | Iris_virginica |\n| 6.7 | 3.3 | 5.7 | 2.1 | Iris_virginica |\n| 7.2 | 3.2 | 6.0 | 1.8 | Iris_virginica |\n| 6.2 | 2.8 | 4.8 | 1.8 | Iris_virginica |\n| 6.1 | 3.0 | 4.9 | 1.8 | Iris_virginica |\n| 6.4 | 2.8 | 5.6 | 2.1 | Iris_virginica |\n| 7.2 | 3.0 | 5.8 | 1.6 | Iris_virginica |\n| 7.4 | 2.8 | 6.1 | 1.9 | Iris_virginica |\n| 7.9 | 3.8 | 6.4 | 2.0 | Iris_virginica |\n| 6.4 | 2.8 | 5.6 | 2.2 | Iris_virginica |\n| 6.3 | 2.8 | 5.1 | 1.5 | Iris_virginica |\n| 6.1 | 2.6 | 5.6 | 1.4 | Iris_virginica |\n| 7.7 | 3.0 | 6.1 | 2.3 | Iris_virginica |\n| 6.3 | 3.4 | 5.6 | 2.4 | Iris_virginica |\n| 6.4 | 3.1 | 5.5 | 1.8 | Iris_virginica |\n| 6.0 | 3.0 | 4.8 | 1.8 | Iris_virginica |\n| 6.9 | 3.1 | 5.4 | 2.1 | Iris_virginica |\n| 6.7 | 3.1 | 5.6 | 2.4 | Iris_virginica |\n| 6.9 | 3.1 | 5.1 | 2.3 | Iris_virginica |\n| 5.8 | 2.7 | 5.1 | 1.9 | Iris_virginica |\n| 6.8 | 3.2 | 5.9 | 2.3 | Iris_virginica |\n| 6.7 | 3.3 | 5.7 | 2.5 | Iris_virginica |\n| 6.7 | 3.0 | 5.2 | 2.3 | Iris_virginica |\n| 6.3 | 2.5 | 5.0 | 1.9 | Iris_virginica |\n| 6.5 | 3.0 | 5.2 | 2.0 | Iris_virginica |\n| 6.2 | 3.4 | 5.4 | 2.3 | Iris_virginica |\n| 5.9 | 3.0 | 5.1 | 1.8 | Iris_virginica |\n\n",
      "text/latex": "A data.frame: 150 × 5\n\\begin{tabular}{lllll}\n sepal\\_length & sepal\\_width & petal\\_length & petal\\_width & type.\\\\\n <dbl> & <dbl> & <dbl> & <dbl> & <chr>\\\\\n\\hline\n\t 5.1 & 3.5 & 1.4 & 0.2 & Iris\\_setosa\\\\\n\t 4.9 & 3.0 & 1.4 & 0.2 & Iris\\_setosa\\\\\n\t 4.7 & 3.2 & 1.3 & 0.2 & Iris\\_setosa\\\\\n\t 4.6 & 3.1 & 1.5 & 0.2 & Iris\\_setosa\\\\\n\t 5.0 & 3.6 & 1.4 & 0.2 & Iris\\_setosa\\\\\n\t 5.4 & 3.9 & 1.7 & 0.4 & Iris\\_setosa\\\\\n\t 4.6 & 3.4 & 1.4 & 0.3 & Iris\\_setosa\\\\\n\t 5.0 & 3.4 & 1.5 & 0.2 & Iris\\_setosa\\\\\n\t 4.4 & 2.9 & 1.4 & 0.2 & Iris\\_setosa\\\\\n\t 4.9 & 3.1 & 1.5 & 0.1 & Iris\\_setosa\\\\\n\t 5.4 & 3.7 & 1.5 & 0.2 & Iris\\_setosa\\\\\n\t 4.8 & 3.4 & 1.6 & 0.2 & Iris\\_setosa\\\\\n\t 4.8 & 3.0 & 1.4 & 0.1 & Iris\\_setosa\\\\\n\t 4.3 & 3.0 & 1.1 & 0.1 & Iris\\_setosa\\\\\n\t 5.8 & 4.0 & 1.2 & 0.2 & Iris\\_setosa\\\\\n\t 5.7 & 4.4 & 1.5 & 0.4 & Iris\\_setosa\\\\\n\t 5.4 & 3.9 & 1.3 & 0.4 & Iris\\_setosa\\\\\n\t 5.1 & 3.5 & 1.4 & 0.3 & Iris\\_setosa\\\\\n\t 5.7 & 3.8 & 1.7 & 0.3 & Iris\\_setosa\\\\\n\t 5.1 & 3.8 & 1.5 & 0.3 & Iris\\_setosa\\\\\n\t 5.4 & 3.4 & 1.7 & 0.2 & Iris\\_setosa\\\\\n\t 5.1 & 3.7 & 1.5 & 0.4 & Iris\\_setosa\\\\\n\t 4.6 & 3.6 & 1.0 & 0.2 & Iris\\_setosa\\\\\n\t 5.1 & 3.3 & 1.7 & 0.5 & Iris\\_setosa\\\\\n\t 4.8 & 3.4 & 1.9 & 0.2 & Iris\\_setosa\\\\\n\t 5.0 & 3.0 & 1.6 & 0.2 & Iris\\_setosa\\\\\n\t 5.0 & 3.4 & 1.6 & 0.4 & Iris\\_setosa\\\\\n\t 5.2 & 3.5 & 1.5 & 0.2 & Iris\\_setosa\\\\\n\t 5.2 & 3.4 & 1.4 & 0.2 & Iris\\_setosa\\\\\n\t 4.7 & 3.2 & 1.6 & 0.2 & Iris\\_setosa\\\\\n\t ... & ... & ... & ... & ...\\\\\n\t 6.9 & 3.2 & 5.7 & 2.3 & Iris\\_virginica\\\\\n\t 5.6 & 2.8 & 4.9 & 2.0 & Iris\\_virginica\\\\\n\t 7.7 & 2.8 & 6.7 & 2.0 & Iris\\_virginica\\\\\n\t 6.3 & 2.7 & 4.9 & 1.8 & Iris\\_virginica\\\\\n\t 6.7 & 3.3 & 5.7 & 2.1 & Iris\\_virginica\\\\\n\t 7.2 & 3.2 & 6.0 & 1.8 & Iris\\_virginica\\\\\n\t 6.2 & 2.8 & 4.8 & 1.8 & Iris\\_virginica\\\\\n\t 6.1 & 3.0 & 4.9 & 1.8 & Iris\\_virginica\\\\\n\t 6.4 & 2.8 & 5.6 & 2.1 & Iris\\_virginica\\\\\n\t 7.2 & 3.0 & 5.8 & 1.6 & Iris\\_virginica\\\\\n\t 7.4 & 2.8 & 6.1 & 1.9 & Iris\\_virginica\\\\\n\t 7.9 & 3.8 & 6.4 & 2.0 & Iris\\_virginica\\\\\n\t 6.4 & 2.8 & 5.6 & 2.2 & Iris\\_virginica\\\\\n\t 6.3 & 2.8 & 5.1 & 1.5 & Iris\\_virginica\\\\\n\t 6.1 & 2.6 & 5.6 & 1.4 & Iris\\_virginica\\\\\n\t 7.7 & 3.0 & 6.1 & 2.3 & Iris\\_virginica\\\\\n\t 6.3 & 3.4 & 5.6 & 2.4 & Iris\\_virginica\\\\\n\t 6.4 & 3.1 & 5.5 & 1.8 & Iris\\_virginica\\\\\n\t 6.0 & 3.0 & 4.8 & 1.8 & Iris\\_virginica\\\\\n\t 6.9 & 3.1 & 5.4 & 2.1 & Iris\\_virginica\\\\\n\t 6.7 & 3.1 & 5.6 & 2.4 & Iris\\_virginica\\\\\n\t 6.9 & 3.1 & 5.1 & 2.3 & Iris\\_virginica\\\\\n\t 5.8 & 2.7 & 5.1 & 1.9 & Iris\\_virginica\\\\\n\t 6.8 & 3.2 & 5.9 & 2.3 & Iris\\_virginica\\\\\n\t 6.7 & 3.3 & 5.7 & 2.5 & Iris\\_virginica\\\\\n\t 6.7 & 3.0 & 5.2 & 2.3 & Iris\\_virginica\\\\\n\t 6.3 & 2.5 & 5.0 & 1.9 & Iris\\_virginica\\\\\n\t 6.5 & 3.0 & 5.2 & 2.0 & Iris\\_virginica\\\\\n\t 6.2 & 3.4 & 5.4 & 2.3 & Iris\\_virginica\\\\\n\t 5.9 & 3.0 & 5.1 & 1.8 & Iris\\_virginica\\\\\n\\end{tabular}\n",
      "text/plain": [
       "    sepal_length sepal_width petal_length petal_width type.         \n",
       "1   5.1          3.5         1.4          0.2         Iris_setosa   \n",
       "2   4.9          3.0         1.4          0.2         Iris_setosa   \n",
       "3   4.7          3.2         1.3          0.2         Iris_setosa   \n",
       "4   4.6          3.1         1.5          0.2         Iris_setosa   \n",
       "5   5.0          3.6         1.4          0.2         Iris_setosa   \n",
       "6   5.4          3.9         1.7          0.4         Iris_setosa   \n",
       "7   4.6          3.4         1.4          0.3         Iris_setosa   \n",
       "8   5.0          3.4         1.5          0.2         Iris_setosa   \n",
       "9   4.4          2.9         1.4          0.2         Iris_setosa   \n",
       "10  4.9          3.1         1.5          0.1         Iris_setosa   \n",
       "11  5.4          3.7         1.5          0.2         Iris_setosa   \n",
       "12  4.8          3.4         1.6          0.2         Iris_setosa   \n",
       "13  4.8          3.0         1.4          0.1         Iris_setosa   \n",
       "14  4.3          3.0         1.1          0.1         Iris_setosa   \n",
       "15  5.8          4.0         1.2          0.2         Iris_setosa   \n",
       "16  5.7          4.4         1.5          0.4         Iris_setosa   \n",
       "17  5.4          3.9         1.3          0.4         Iris_setosa   \n",
       "18  5.1          3.5         1.4          0.3         Iris_setosa   \n",
       "19  5.7          3.8         1.7          0.3         Iris_setosa   \n",
       "20  5.1          3.8         1.5          0.3         Iris_setosa   \n",
       "21  5.4          3.4         1.7          0.2         Iris_setosa   \n",
       "22  5.1          3.7         1.5          0.4         Iris_setosa   \n",
       "23  4.6          3.6         1.0          0.2         Iris_setosa   \n",
       "24  5.1          3.3         1.7          0.5         Iris_setosa   \n",
       "25  4.8          3.4         1.9          0.2         Iris_setosa   \n",
       "26  5.0          3.0         1.6          0.2         Iris_setosa   \n",
       "27  5.0          3.4         1.6          0.4         Iris_setosa   \n",
       "28  5.2          3.5         1.5          0.2         Iris_setosa   \n",
       "29  5.2          3.4         1.4          0.2         Iris_setosa   \n",
       "30  4.7          3.2         1.6          0.2         Iris_setosa   \n",
       "... ...          ...         ...          ...         ...           \n",
       "121 6.9          3.2         5.7          2.3         Iris_virginica\n",
       "122 5.6          2.8         4.9          2.0         Iris_virginica\n",
       "123 7.7          2.8         6.7          2.0         Iris_virginica\n",
       "124 6.3          2.7         4.9          1.8         Iris_virginica\n",
       "125 6.7          3.3         5.7          2.1         Iris_virginica\n",
       "126 7.2          3.2         6.0          1.8         Iris_virginica\n",
       "127 6.2          2.8         4.8          1.8         Iris_virginica\n",
       "128 6.1          3.0         4.9          1.8         Iris_virginica\n",
       "129 6.4          2.8         5.6          2.1         Iris_virginica\n",
       "130 7.2          3.0         5.8          1.6         Iris_virginica\n",
       "131 7.4          2.8         6.1          1.9         Iris_virginica\n",
       "132 7.9          3.8         6.4          2.0         Iris_virginica\n",
       "133 6.4          2.8         5.6          2.2         Iris_virginica\n",
       "134 6.3          2.8         5.1          1.5         Iris_virginica\n",
       "135 6.1          2.6         5.6          1.4         Iris_virginica\n",
       "136 7.7          3.0         6.1          2.3         Iris_virginica\n",
       "137 6.3          3.4         5.6          2.4         Iris_virginica\n",
       "138 6.4          3.1         5.5          1.8         Iris_virginica\n",
       "139 6.0          3.0         4.8          1.8         Iris_virginica\n",
       "140 6.9          3.1         5.4          2.1         Iris_virginica\n",
       "141 6.7          3.1         5.6          2.4         Iris_virginica\n",
       "142 6.9          3.1         5.1          2.3         Iris_virginica\n",
       "143 5.8          2.7         5.1          1.9         Iris_virginica\n",
       "144 6.8          3.2         5.9          2.3         Iris_virginica\n",
       "145 6.7          3.3         5.7          2.5         Iris_virginica\n",
       "146 6.7          3.0         5.2          2.3         Iris_virginica\n",
       "147 6.3          2.5         5.0          1.9         Iris_virginica\n",
       "148 6.5          3.0         5.2          2.0         Iris_virginica\n",
       "149 6.2          3.4         5.4          2.3         Iris_virginica\n",
       "150 5.9          3.0         5.1          1.8         Iris_virginica"
      ]
     },
     "metadata": {},
     "output_type": "display_data"
    }
   ],
   "execution_count": 14
  },
  {
   "cell_type": "code",
   "id": "9b76009d",
   "metadata": {
    "ExecuteTime": {
     "end_time": "2024-09-23T17:18:24.925793Z",
     "start_time": "2024-09-23T17:18:24.912177Z"
    }
   },
   "source": [
    "#and lets take a look at a summary of the data\n",
    "summary(myData)"
   ],
   "outputs": [
    {
     "data": {
      "text/plain": [
       "  sepal_length    sepal_width     petal_length    petal_width   \n",
       " Min.   :4.300   Min.   :2.000   Min.   :1.000   Min.   :0.100  \n",
       " 1st Qu.:5.100   1st Qu.:2.800   1st Qu.:1.600   1st Qu.:0.300  \n",
       " Median :5.800   Median :3.000   Median :4.350   Median :1.300  \n",
       " Mean   :5.843   Mean   :3.054   Mean   :3.759   Mean   :1.199  \n",
       " 3rd Qu.:6.400   3rd Qu.:3.300   3rd Qu.:5.100   3rd Qu.:1.800  \n",
       " Max.   :7.900   Max.   :4.400   Max.   :6.900   Max.   :2.500  \n",
       "    type.          \n",
       " Length:150        \n",
       " Class :character  \n",
       " Mode  :character  \n",
       "                   \n",
       "                   \n",
       "                   "
      ]
     },
     "metadata": {},
     "output_type": "display_data"
    }
   ],
   "execution_count": 15
  },
  {
   "cell_type": "markdown",
   "id": "f8ef019f",
   "metadata": {},
   "source": [
    "lets see what are the names of the attributes"
   ]
  },
  {
   "cell_type": "code",
   "id": "e19e3210",
   "metadata": {
    "ExecuteTime": {
     "end_time": "2024-09-23T17:18:28.190361Z",
     "start_time": "2024-09-23T17:18:28.179055Z"
    }
   },
   "source": [
    "names(myData)\n"
   ],
   "outputs": [
    {
     "data": {
      "text/html": [
       "<style>\n",
       ".list-inline {list-style: none; margin:0; padding: 0}\n",
       ".list-inline>li {display: inline-block}\n",
       ".list-inline>li:not(:last-child)::after {content: \"\\00b7\"; padding: 0 .5ex}\n",
       "</style>\n",
       "<ol class=list-inline><li>'sepal_length'</li><li>'sepal_width'</li><li>'petal_length'</li><li>'petal_width'</li><li>'type.'</li></ol>\n"
      ],
      "text/markdown": "1. 'sepal_length'\n2. 'sepal_width'\n3. 'petal_length'\n4. 'petal_width'\n5. 'type.'\n\n\n",
      "text/latex": "\\begin{enumerate*}\n\\item 'sepal\\_length'\n\\item 'sepal\\_width'\n\\item 'petal\\_length'\n\\item 'petal\\_width'\n\\item 'type.'\n\\end{enumerate*}\n",
      "text/plain": [
       "[1] \"sepal_length\" \"sepal_width\"  \"petal_length\" \"petal_width\"  \"type.\"       "
      ]
     },
     "metadata": {},
     "output_type": "display_data"
    }
   ],
   "execution_count": 16
  },
  {
   "cell_type": "markdown",
   "id": "00bb0d3b",
   "metadata": {},
   "source": [
    "lets see what is the dimensionality of myData the data frame that contains the data"
   ]
  },
  {
   "cell_type": "code",
   "id": "010ece5a",
   "metadata": {
    "ExecuteTime": {
     "end_time": "2024-09-23T17:18:30.756119Z",
     "start_time": "2024-09-23T17:18:30.744119Z"
    }
   },
   "source": [
    "dim(myData)\n"
   ],
   "outputs": [
    {
     "data": {
      "text/html": [
       "<style>\n",
       ".list-inline {list-style: none; margin:0; padding: 0}\n",
       ".list-inline>li {display: inline-block}\n",
       ".list-inline>li:not(:last-child)::after {content: \"\\00b7\"; padding: 0 .5ex}\n",
       "</style>\n",
       "<ol class=list-inline><li>150</li><li>5</li></ol>\n"
      ],
      "text/markdown": "1. 150\n2. 5\n\n\n",
      "text/latex": "\\begin{enumerate*}\n\\item 150\n\\item 5\n\\end{enumerate*}\n",
      "text/plain": [
       "[1] 150   5"
      ]
     },
     "metadata": {},
     "output_type": "display_data"
    }
   ],
   "execution_count": 17
  },
  {
   "cell_type": "markdown",
   "id": "6c693d48",
   "metadata": {},
   "source": [
    "Lets access now different elements of the myData data frame\n"
   ]
  },
  {
   "cell_type": "code",
   "id": "792fa10e",
   "metadata": {
    "ExecuteTime": {
     "end_time": "2024-09-23T17:18:33.396976Z",
     "start_time": "2024-09-23T17:18:33.383621Z"
    }
   },
   "source": [
    "# Lets get the first line\n",
    "myData[1,]"
   ],
   "outputs": [
    {
     "data": {
      "text/html": [
       "<table class=\"dataframe\">\n",
       "<caption>A data.frame: 1 × 5</caption>\n",
       "<thead>\n",
       "\t<tr><th></th><th scope=col>sepal_length</th><th scope=col>sepal_width</th><th scope=col>petal_length</th><th scope=col>petal_width</th><th scope=col>type.</th></tr>\n",
       "\t<tr><th></th><th scope=col>&lt;dbl&gt;</th><th scope=col>&lt;dbl&gt;</th><th scope=col>&lt;dbl&gt;</th><th scope=col>&lt;dbl&gt;</th><th scope=col>&lt;chr&gt;</th></tr>\n",
       "</thead>\n",
       "<tbody>\n",
       "\t<tr><th scope=row>1</th><td>5.1</td><td>3.5</td><td>1.4</td><td>0.2</td><td>Iris_setosa</td></tr>\n",
       "</tbody>\n",
       "</table>\n"
      ],
      "text/markdown": "\nA data.frame: 1 × 5\n\n| <!--/--> | sepal_length &lt;dbl&gt; | sepal_width &lt;dbl&gt; | petal_length &lt;dbl&gt; | petal_width &lt;dbl&gt; | type. &lt;chr&gt; |\n|---|---|---|---|---|---|\n| 1 | 5.1 | 3.5 | 1.4 | 0.2 | Iris_setosa |\n\n",
      "text/latex": "A data.frame: 1 × 5\n\\begin{tabular}{r|lllll}\n  & sepal\\_length & sepal\\_width & petal\\_length & petal\\_width & type.\\\\\n  & <dbl> & <dbl> & <dbl> & <dbl> & <chr>\\\\\n\\hline\n\t1 & 5.1 & 3.5 & 1.4 & 0.2 & Iris\\_setosa\\\\\n\\end{tabular}\n",
      "text/plain": [
       "  sepal_length sepal_width petal_length petal_width type.      \n",
       "1 5.1          3.5         1.4          0.2         Iris_setosa"
      ]
     },
     "metadata": {},
     "output_type": "display_data"
    }
   ],
   "execution_count": 18
  },
  {
   "cell_type": "code",
   "id": "3b029c9f",
   "metadata": {
    "ExecuteTime": {
     "end_time": "2024-09-23T17:18:42.906114Z",
     "start_time": "2024-09-23T17:18:42.894007Z"
    }
   },
   "source": [
    "#second column\n",
    "myData[,2]"
   ],
   "outputs": [
    {
     "data": {
      "text/html": [
       "<style>\n",
       ".list-inline {list-style: none; margin:0; padding: 0}\n",
       ".list-inline>li {display: inline-block}\n",
       ".list-inline>li:not(:last-child)::after {content: \"\\00b7\"; padding: 0 .5ex}\n",
       "</style>\n",
       "<ol class=list-inline><li>3.5</li><li>3</li><li>3.2</li><li>3.1</li><li>3.6</li><li>3.9</li><li>3.4</li><li>3.4</li><li>2.9</li><li>3.1</li><li>3.7</li><li>3.4</li><li>3</li><li>3</li><li>4</li><li>4.4</li><li>3.9</li><li>3.5</li><li>3.8</li><li>3.8</li><li>3.4</li><li>3.7</li><li>3.6</li><li>3.3</li><li>3.4</li><li>3</li><li>3.4</li><li>3.5</li><li>3.4</li><li>3.2</li><li>3.1</li><li>3.4</li><li>4.1</li><li>4.2</li><li>3.1</li><li>3.2</li><li>3.5</li><li>3.1</li><li>3</li><li>3.4</li><li>3.5</li><li>2.3</li><li>3.2</li><li>3.5</li><li>3.8</li><li>3</li><li>3.8</li><li>3.2</li><li>3.7</li><li>3.3</li><li>3.2</li><li>3.2</li><li>3.1</li><li>2.3</li><li>2.8</li><li>2.8</li><li>3.3</li><li>2.4</li><li>2.9</li><li>2.7</li><li>2</li><li>3</li><li>2.2</li><li>2.9</li><li>2.9</li><li>3.1</li><li>3</li><li>2.7</li><li>2.2</li><li>2.5</li><li>3.2</li><li>2.8</li><li>2.5</li><li>2.8</li><li>2.9</li><li>3</li><li>2.8</li><li>3</li><li>2.9</li><li>2.6</li><li>2.4</li><li>2.4</li><li>2.7</li><li>2.7</li><li>3</li><li>3.4</li><li>3.1</li><li>2.3</li><li>3</li><li>2.5</li><li>2.6</li><li>3</li><li>2.6</li><li>2.3</li><li>2.7</li><li>3</li><li>2.9</li><li>2.9</li><li>2.5</li><li>2.8</li><li>3.3</li><li>2.7</li><li>3</li><li>2.9</li><li>3</li><li>3</li><li>2.5</li><li>2.9</li><li>2.5</li><li>3.6</li><li>3.2</li><li>2.7</li><li>3</li><li>2.5</li><li>2.8</li><li>3.2</li><li>3</li><li>3.8</li><li>2.6</li><li>2.2</li><li>3.2</li><li>2.8</li><li>2.8</li><li>2.7</li><li>3.3</li><li>3.2</li><li>2.8</li><li>3</li><li>2.8</li><li>3</li><li>2.8</li><li>3.8</li><li>2.8</li><li>2.8</li><li>2.6</li><li>3</li><li>3.4</li><li>3.1</li><li>3</li><li>3.1</li><li>3.1</li><li>3.1</li><li>2.7</li><li>3.2</li><li>3.3</li><li>3</li><li>2.5</li><li>3</li><li>3.4</li><li>3</li></ol>\n"
      ],
      "text/markdown": "1. 3.5\n2. 3\n3. 3.2\n4. 3.1\n5. 3.6\n6. 3.9\n7. 3.4\n8. 3.4\n9. 2.9\n10. 3.1\n11. 3.7\n12. 3.4\n13. 3\n14. 3\n15. 4\n16. 4.4\n17. 3.9\n18. 3.5\n19. 3.8\n20. 3.8\n21. 3.4\n22. 3.7\n23. 3.6\n24. 3.3\n25. 3.4\n26. 3\n27. 3.4\n28. 3.5\n29. 3.4\n30. 3.2\n31. 3.1\n32. 3.4\n33. 4.1\n34. 4.2\n35. 3.1\n36. 3.2\n37. 3.5\n38. 3.1\n39. 3\n40. 3.4\n41. 3.5\n42. 2.3\n43. 3.2\n44. 3.5\n45. 3.8\n46. 3\n47. 3.8\n48. 3.2\n49. 3.7\n50. 3.3\n51. 3.2\n52. 3.2\n53. 3.1\n54. 2.3\n55. 2.8\n56. 2.8\n57. 3.3\n58. 2.4\n59. 2.9\n60. 2.7\n61. 2\n62. 3\n63. 2.2\n64. 2.9\n65. 2.9\n66. 3.1\n67. 3\n68. 2.7\n69. 2.2\n70. 2.5\n71. 3.2\n72. 2.8\n73. 2.5\n74. 2.8\n75. 2.9\n76. 3\n77. 2.8\n78. 3\n79. 2.9\n80. 2.6\n81. 2.4\n82. 2.4\n83. 2.7\n84. 2.7\n85. 3\n86. 3.4\n87. 3.1\n88. 2.3\n89. 3\n90. 2.5\n91. 2.6\n92. 3\n93. 2.6\n94. 2.3\n95. 2.7\n96. 3\n97. 2.9\n98. 2.9\n99. 2.5\n100. 2.8\n101. 3.3\n102. 2.7\n103. 3\n104. 2.9\n105. 3\n106. 3\n107. 2.5\n108. 2.9\n109. 2.5\n110. 3.6\n111. 3.2\n112. 2.7\n113. 3\n114. 2.5\n115. 2.8\n116. 3.2\n117. 3\n118. 3.8\n119. 2.6\n120. 2.2\n121. 3.2\n122. 2.8\n123. 2.8\n124. 2.7\n125. 3.3\n126. 3.2\n127. 2.8\n128. 3\n129. 2.8\n130. 3\n131. 2.8\n132. 3.8\n133. 2.8\n134. 2.8\n135. 2.6\n136. 3\n137. 3.4\n138. 3.1\n139. 3\n140. 3.1\n141. 3.1\n142. 3.1\n143. 2.7\n144. 3.2\n145. 3.3\n146. 3\n147. 2.5\n148. 3\n149. 3.4\n150. 3\n\n\n",
      "text/latex": "\\begin{enumerate*}\n\\item 3.5\n\\item 3\n\\item 3.2\n\\item 3.1\n\\item 3.6\n\\item 3.9\n\\item 3.4\n\\item 3.4\n\\item 2.9\n\\item 3.1\n\\item 3.7\n\\item 3.4\n\\item 3\n\\item 3\n\\item 4\n\\item 4.4\n\\item 3.9\n\\item 3.5\n\\item 3.8\n\\item 3.8\n\\item 3.4\n\\item 3.7\n\\item 3.6\n\\item 3.3\n\\item 3.4\n\\item 3\n\\item 3.4\n\\item 3.5\n\\item 3.4\n\\item 3.2\n\\item 3.1\n\\item 3.4\n\\item 4.1\n\\item 4.2\n\\item 3.1\n\\item 3.2\n\\item 3.5\n\\item 3.1\n\\item 3\n\\item 3.4\n\\item 3.5\n\\item 2.3\n\\item 3.2\n\\item 3.5\n\\item 3.8\n\\item 3\n\\item 3.8\n\\item 3.2\n\\item 3.7\n\\item 3.3\n\\item 3.2\n\\item 3.2\n\\item 3.1\n\\item 2.3\n\\item 2.8\n\\item 2.8\n\\item 3.3\n\\item 2.4\n\\item 2.9\n\\item 2.7\n\\item 2\n\\item 3\n\\item 2.2\n\\item 2.9\n\\item 2.9\n\\item 3.1\n\\item 3\n\\item 2.7\n\\item 2.2\n\\item 2.5\n\\item 3.2\n\\item 2.8\n\\item 2.5\n\\item 2.8\n\\item 2.9\n\\item 3\n\\item 2.8\n\\item 3\n\\item 2.9\n\\item 2.6\n\\item 2.4\n\\item 2.4\n\\item 2.7\n\\item 2.7\n\\item 3\n\\item 3.4\n\\item 3.1\n\\item 2.3\n\\item 3\n\\item 2.5\n\\item 2.6\n\\item 3\n\\item 2.6\n\\item 2.3\n\\item 2.7\n\\item 3\n\\item 2.9\n\\item 2.9\n\\item 2.5\n\\item 2.8\n\\item 3.3\n\\item 2.7\n\\item 3\n\\item 2.9\n\\item 3\n\\item 3\n\\item 2.5\n\\item 2.9\n\\item 2.5\n\\item 3.6\n\\item 3.2\n\\item 2.7\n\\item 3\n\\item 2.5\n\\item 2.8\n\\item 3.2\n\\item 3\n\\item 3.8\n\\item 2.6\n\\item 2.2\n\\item 3.2\n\\item 2.8\n\\item 2.8\n\\item 2.7\n\\item 3.3\n\\item 3.2\n\\item 2.8\n\\item 3\n\\item 2.8\n\\item 3\n\\item 2.8\n\\item 3.8\n\\item 2.8\n\\item 2.8\n\\item 2.6\n\\item 3\n\\item 3.4\n\\item 3.1\n\\item 3\n\\item 3.1\n\\item 3.1\n\\item 3.1\n\\item 2.7\n\\item 3.2\n\\item 3.3\n\\item 3\n\\item 2.5\n\\item 3\n\\item 3.4\n\\item 3\n\\end{enumerate*}\n",
      "text/plain": [
       "  [1] 3.5 3.0 3.2 3.1 3.6 3.9 3.4 3.4 2.9 3.1 3.7 3.4 3.0 3.0 4.0 4.4 3.9 3.5\n",
       " [19] 3.8 3.8 3.4 3.7 3.6 3.3 3.4 3.0 3.4 3.5 3.4 3.2 3.1 3.4 4.1 4.2 3.1 3.2\n",
       " [37] 3.5 3.1 3.0 3.4 3.5 2.3 3.2 3.5 3.8 3.0 3.8 3.2 3.7 3.3 3.2 3.2 3.1 2.3\n",
       " [55] 2.8 2.8 3.3 2.4 2.9 2.7 2.0 3.0 2.2 2.9 2.9 3.1 3.0 2.7 2.2 2.5 3.2 2.8\n",
       " [73] 2.5 2.8 2.9 3.0 2.8 3.0 2.9 2.6 2.4 2.4 2.7 2.7 3.0 3.4 3.1 2.3 3.0 2.5\n",
       " [91] 2.6 3.0 2.6 2.3 2.7 3.0 2.9 2.9 2.5 2.8 3.3 2.7 3.0 2.9 3.0 3.0 2.5 2.9\n",
       "[109] 2.5 3.6 3.2 2.7 3.0 2.5 2.8 3.2 3.0 3.8 2.6 2.2 3.2 2.8 2.8 2.7 3.3 3.2\n",
       "[127] 2.8 3.0 2.8 3.0 2.8 3.8 2.8 2.8 2.6 3.0 3.4 3.1 3.0 3.1 3.1 3.1 2.7 3.2\n",
       "[145] 3.3 3.0 2.5 3.0 3.4 3.0"
      ]
     },
     "metadata": {},
     "output_type": "display_data"
    }
   ],
   "execution_count": 19
  },
  {
   "cell_type": "markdown",
   "id": "bdc713ff",
   "metadata": {},
   "source": [
    "how to get lines 1 to 5 and 10 to 15\n"
   ]
  },
  {
   "cell_type": "code",
   "id": "c47c3b9c",
   "metadata": {
    "ExecuteTime": {
     "end_time": "2024-09-23T17:18:47.700196Z",
     "start_time": "2024-09-23T17:18:47.681196Z"
    }
   },
   "source": [
    "myData[ c(1:5,10:15), ]"
   ],
   "outputs": [
    {
     "data": {
      "text/html": [
       "<table class=\"dataframe\">\n",
       "<caption>A data.frame: 11 × 5</caption>\n",
       "<thead>\n",
       "\t<tr><th></th><th scope=col>sepal_length</th><th scope=col>sepal_width</th><th scope=col>petal_length</th><th scope=col>petal_width</th><th scope=col>type.</th></tr>\n",
       "\t<tr><th></th><th scope=col>&lt;dbl&gt;</th><th scope=col>&lt;dbl&gt;</th><th scope=col>&lt;dbl&gt;</th><th scope=col>&lt;dbl&gt;</th><th scope=col>&lt;chr&gt;</th></tr>\n",
       "</thead>\n",
       "<tbody>\n",
       "\t<tr><th scope=row>1</th><td>5.1</td><td>3.5</td><td>1.4</td><td>0.2</td><td>Iris_setosa</td></tr>\n",
       "\t<tr><th scope=row>2</th><td>4.9</td><td>3.0</td><td>1.4</td><td>0.2</td><td>Iris_setosa</td></tr>\n",
       "\t<tr><th scope=row>3</th><td>4.7</td><td>3.2</td><td>1.3</td><td>0.2</td><td>Iris_setosa</td></tr>\n",
       "\t<tr><th scope=row>4</th><td>4.6</td><td>3.1</td><td>1.5</td><td>0.2</td><td>Iris_setosa</td></tr>\n",
       "\t<tr><th scope=row>5</th><td>5.0</td><td>3.6</td><td>1.4</td><td>0.2</td><td>Iris_setosa</td></tr>\n",
       "\t<tr><th scope=row>10</th><td>4.9</td><td>3.1</td><td>1.5</td><td>0.1</td><td>Iris_setosa</td></tr>\n",
       "\t<tr><th scope=row>11</th><td>5.4</td><td>3.7</td><td>1.5</td><td>0.2</td><td>Iris_setosa</td></tr>\n",
       "\t<tr><th scope=row>12</th><td>4.8</td><td>3.4</td><td>1.6</td><td>0.2</td><td>Iris_setosa</td></tr>\n",
       "\t<tr><th scope=row>13</th><td>4.8</td><td>3.0</td><td>1.4</td><td>0.1</td><td>Iris_setosa</td></tr>\n",
       "\t<tr><th scope=row>14</th><td>4.3</td><td>3.0</td><td>1.1</td><td>0.1</td><td>Iris_setosa</td></tr>\n",
       "\t<tr><th scope=row>15</th><td>5.8</td><td>4.0</td><td>1.2</td><td>0.2</td><td>Iris_setosa</td></tr>\n",
       "</tbody>\n",
       "</table>\n"
      ],
      "text/markdown": "\nA data.frame: 11 × 5\n\n| <!--/--> | sepal_length &lt;dbl&gt; | sepal_width &lt;dbl&gt; | petal_length &lt;dbl&gt; | petal_width &lt;dbl&gt; | type. &lt;chr&gt; |\n|---|---|---|---|---|---|\n| 1 | 5.1 | 3.5 | 1.4 | 0.2 | Iris_setosa |\n| 2 | 4.9 | 3.0 | 1.4 | 0.2 | Iris_setosa |\n| 3 | 4.7 | 3.2 | 1.3 | 0.2 | Iris_setosa |\n| 4 | 4.6 | 3.1 | 1.5 | 0.2 | Iris_setosa |\n| 5 | 5.0 | 3.6 | 1.4 | 0.2 | Iris_setosa |\n| 10 | 4.9 | 3.1 | 1.5 | 0.1 | Iris_setosa |\n| 11 | 5.4 | 3.7 | 1.5 | 0.2 | Iris_setosa |\n| 12 | 4.8 | 3.4 | 1.6 | 0.2 | Iris_setosa |\n| 13 | 4.8 | 3.0 | 1.4 | 0.1 | Iris_setosa |\n| 14 | 4.3 | 3.0 | 1.1 | 0.1 | Iris_setosa |\n| 15 | 5.8 | 4.0 | 1.2 | 0.2 | Iris_setosa |\n\n",
      "text/latex": "A data.frame: 11 × 5\n\\begin{tabular}{r|lllll}\n  & sepal\\_length & sepal\\_width & petal\\_length & petal\\_width & type.\\\\\n  & <dbl> & <dbl> & <dbl> & <dbl> & <chr>\\\\\n\\hline\n\t1 & 5.1 & 3.5 & 1.4 & 0.2 & Iris\\_setosa\\\\\n\t2 & 4.9 & 3.0 & 1.4 & 0.2 & Iris\\_setosa\\\\\n\t3 & 4.7 & 3.2 & 1.3 & 0.2 & Iris\\_setosa\\\\\n\t4 & 4.6 & 3.1 & 1.5 & 0.2 & Iris\\_setosa\\\\\n\t5 & 5.0 & 3.6 & 1.4 & 0.2 & Iris\\_setosa\\\\\n\t10 & 4.9 & 3.1 & 1.5 & 0.1 & Iris\\_setosa\\\\\n\t11 & 5.4 & 3.7 & 1.5 & 0.2 & Iris\\_setosa\\\\\n\t12 & 4.8 & 3.4 & 1.6 & 0.2 & Iris\\_setosa\\\\\n\t13 & 4.8 & 3.0 & 1.4 & 0.1 & Iris\\_setosa\\\\\n\t14 & 4.3 & 3.0 & 1.1 & 0.1 & Iris\\_setosa\\\\\n\t15 & 5.8 & 4.0 & 1.2 & 0.2 & Iris\\_setosa\\\\\n\\end{tabular}\n",
      "text/plain": [
       "   sepal_length sepal_width petal_length petal_width type.      \n",
       "1  5.1          3.5         1.4          0.2         Iris_setosa\n",
       "2  4.9          3.0         1.4          0.2         Iris_setosa\n",
       "3  4.7          3.2         1.3          0.2         Iris_setosa\n",
       "4  4.6          3.1         1.5          0.2         Iris_setosa\n",
       "5  5.0          3.6         1.4          0.2         Iris_setosa\n",
       "10 4.9          3.1         1.5          0.1         Iris_setosa\n",
       "11 5.4          3.7         1.5          0.2         Iris_setosa\n",
       "12 4.8          3.4         1.6          0.2         Iris_setosa\n",
       "13 4.8          3.0         1.4          0.1         Iris_setosa\n",
       "14 4.3          3.0         1.1          0.1         Iris_setosa\n",
       "15 5.8          4.0         1.2          0.2         Iris_setosa"
      ]
     },
     "metadata": {},
     "output_type": "display_data"
    }
   ],
   "execution_count": 20
  },
  {
   "cell_type": "markdown",
   "id": "a9569f01",
   "metadata": {},
   "source": [
    "In general which rows to get is specified before the \",\" and which columns after the \",\"\n",
    "\n",
    "``` myData[line(s), column(s)] ```"
   ]
  },
  {
   "cell_type": "markdown",
   "id": "d7b2b8eb",
   "metadata": {},
   "source": [
    "So now lets get a more elaborate filter, lets retrieve all instances\n",
    "of type **Iris_virginica** and all columns\n",
    "\n",
    "```myData[,5]==\"Iris_virginica\"``` : returns a vector of TRUE/FALSE of the\n",
    "same length as the number of lines/instances in myData and we can use\n",
    "it to index the lines that we want to keep (TRUE) as follows"
   ]
  },
  {
   "cell_type": "code",
   "id": "79b95242",
   "metadata": {
    "ExecuteTime": {
     "end_time": "2024-09-23T17:19:07.370513Z",
     "start_time": "2024-09-23T17:19:07.359467Z"
    }
   },
   "source": [
    "myData[,5]==\"Iris_virginica\""
   ],
   "outputs": [
    {
     "data": {
      "text/html": [
       "<style>\n",
       ".list-inline {list-style: none; margin:0; padding: 0}\n",
       ".list-inline>li {display: inline-block}\n",
       ".list-inline>li:not(:last-child)::after {content: \"\\00b7\"; padding: 0 .5ex}\n",
       "</style>\n",
       "<ol class=list-inline><li>FALSE</li><li>FALSE</li><li>FALSE</li><li>FALSE</li><li>FALSE</li><li>FALSE</li><li>FALSE</li><li>FALSE</li><li>FALSE</li><li>FALSE</li><li>FALSE</li><li>FALSE</li><li>FALSE</li><li>FALSE</li><li>FALSE</li><li>FALSE</li><li>FALSE</li><li>FALSE</li><li>FALSE</li><li>FALSE</li><li>FALSE</li><li>FALSE</li><li>FALSE</li><li>FALSE</li><li>FALSE</li><li>FALSE</li><li>FALSE</li><li>FALSE</li><li>FALSE</li><li>FALSE</li><li>FALSE</li><li>FALSE</li><li>FALSE</li><li>FALSE</li><li>FALSE</li><li>FALSE</li><li>FALSE</li><li>FALSE</li><li>FALSE</li><li>FALSE</li><li>FALSE</li><li>FALSE</li><li>FALSE</li><li>FALSE</li><li>FALSE</li><li>FALSE</li><li>FALSE</li><li>FALSE</li><li>FALSE</li><li>FALSE</li><li>FALSE</li><li>FALSE</li><li>FALSE</li><li>FALSE</li><li>FALSE</li><li>FALSE</li><li>FALSE</li><li>FALSE</li><li>FALSE</li><li>FALSE</li><li>FALSE</li><li>FALSE</li><li>FALSE</li><li>FALSE</li><li>FALSE</li><li>FALSE</li><li>FALSE</li><li>FALSE</li><li>FALSE</li><li>FALSE</li><li>FALSE</li><li>FALSE</li><li>FALSE</li><li>FALSE</li><li>FALSE</li><li>FALSE</li><li>FALSE</li><li>FALSE</li><li>FALSE</li><li>FALSE</li><li>FALSE</li><li>FALSE</li><li>FALSE</li><li>FALSE</li><li>FALSE</li><li>FALSE</li><li>FALSE</li><li>FALSE</li><li>FALSE</li><li>FALSE</li><li>FALSE</li><li>FALSE</li><li>FALSE</li><li>FALSE</li><li>FALSE</li><li>FALSE</li><li>FALSE</li><li>FALSE</li><li>FALSE</li><li>FALSE</li><li>TRUE</li><li>TRUE</li><li>TRUE</li><li>TRUE</li><li>TRUE</li><li>TRUE</li><li>TRUE</li><li>TRUE</li><li>TRUE</li><li>TRUE</li><li>TRUE</li><li>TRUE</li><li>TRUE</li><li>TRUE</li><li>TRUE</li><li>TRUE</li><li>TRUE</li><li>TRUE</li><li>TRUE</li><li>TRUE</li><li>TRUE</li><li>TRUE</li><li>TRUE</li><li>TRUE</li><li>TRUE</li><li>TRUE</li><li>TRUE</li><li>TRUE</li><li>TRUE</li><li>TRUE</li><li>TRUE</li><li>TRUE</li><li>TRUE</li><li>TRUE</li><li>TRUE</li><li>TRUE</li><li>TRUE</li><li>TRUE</li><li>TRUE</li><li>TRUE</li><li>TRUE</li><li>TRUE</li><li>TRUE</li><li>TRUE</li><li>TRUE</li><li>TRUE</li><li>TRUE</li><li>TRUE</li><li>TRUE</li><li>TRUE</li></ol>\n"
      ],
      "text/markdown": "1. FALSE\n2. FALSE\n3. FALSE\n4. FALSE\n5. FALSE\n6. FALSE\n7. FALSE\n8. FALSE\n9. FALSE\n10. FALSE\n11. FALSE\n12. FALSE\n13. FALSE\n14. FALSE\n15. FALSE\n16. FALSE\n17. FALSE\n18. FALSE\n19. FALSE\n20. FALSE\n21. FALSE\n22. FALSE\n23. FALSE\n24. FALSE\n25. FALSE\n26. FALSE\n27. FALSE\n28. FALSE\n29. FALSE\n30. FALSE\n31. FALSE\n32. FALSE\n33. FALSE\n34. FALSE\n35. FALSE\n36. FALSE\n37. FALSE\n38. FALSE\n39. FALSE\n40. FALSE\n41. FALSE\n42. FALSE\n43. FALSE\n44. FALSE\n45. FALSE\n46. FALSE\n47. FALSE\n48. FALSE\n49. FALSE\n50. FALSE\n51. FALSE\n52. FALSE\n53. FALSE\n54. FALSE\n55. FALSE\n56. FALSE\n57. FALSE\n58. FALSE\n59. FALSE\n60. FALSE\n61. FALSE\n62. FALSE\n63. FALSE\n64. FALSE\n65. FALSE\n66. FALSE\n67. FALSE\n68. FALSE\n69. FALSE\n70. FALSE\n71. FALSE\n72. FALSE\n73. FALSE\n74. FALSE\n75. FALSE\n76. FALSE\n77. FALSE\n78. FALSE\n79. FALSE\n80. FALSE\n81. FALSE\n82. FALSE\n83. FALSE\n84. FALSE\n85. FALSE\n86. FALSE\n87. FALSE\n88. FALSE\n89. FALSE\n90. FALSE\n91. FALSE\n92. FALSE\n93. FALSE\n94. FALSE\n95. FALSE\n96. FALSE\n97. FALSE\n98. FALSE\n99. FALSE\n100. FALSE\n101. TRUE\n102. TRUE\n103. TRUE\n104. TRUE\n105. TRUE\n106. TRUE\n107. TRUE\n108. TRUE\n109. TRUE\n110. TRUE\n111. TRUE\n112. TRUE\n113. TRUE\n114. TRUE\n115. TRUE\n116. TRUE\n117. TRUE\n118. TRUE\n119. TRUE\n120. TRUE\n121. TRUE\n122. TRUE\n123. TRUE\n124. TRUE\n125. TRUE\n126. TRUE\n127. TRUE\n128. TRUE\n129. TRUE\n130. TRUE\n131. TRUE\n132. TRUE\n133. TRUE\n134. TRUE\n135. TRUE\n136. TRUE\n137. TRUE\n138. TRUE\n139. TRUE\n140. TRUE\n141. TRUE\n142. TRUE\n143. TRUE\n144. TRUE\n145. TRUE\n146. TRUE\n147. TRUE\n148. TRUE\n149. TRUE\n150. TRUE\n\n\n",
      "text/latex": "\\begin{enumerate*}\n\\item FALSE\n\\item FALSE\n\\item FALSE\n\\item FALSE\n\\item FALSE\n\\item FALSE\n\\item FALSE\n\\item FALSE\n\\item FALSE\n\\item FALSE\n\\item FALSE\n\\item FALSE\n\\item FALSE\n\\item FALSE\n\\item FALSE\n\\item FALSE\n\\item FALSE\n\\item FALSE\n\\item FALSE\n\\item FALSE\n\\item FALSE\n\\item FALSE\n\\item FALSE\n\\item FALSE\n\\item FALSE\n\\item FALSE\n\\item FALSE\n\\item FALSE\n\\item FALSE\n\\item FALSE\n\\item FALSE\n\\item FALSE\n\\item FALSE\n\\item FALSE\n\\item FALSE\n\\item FALSE\n\\item FALSE\n\\item FALSE\n\\item FALSE\n\\item FALSE\n\\item FALSE\n\\item FALSE\n\\item FALSE\n\\item FALSE\n\\item FALSE\n\\item FALSE\n\\item FALSE\n\\item FALSE\n\\item FALSE\n\\item FALSE\n\\item FALSE\n\\item FALSE\n\\item FALSE\n\\item FALSE\n\\item FALSE\n\\item FALSE\n\\item FALSE\n\\item FALSE\n\\item FALSE\n\\item FALSE\n\\item FALSE\n\\item FALSE\n\\item FALSE\n\\item FALSE\n\\item FALSE\n\\item FALSE\n\\item FALSE\n\\item FALSE\n\\item FALSE\n\\item FALSE\n\\item FALSE\n\\item FALSE\n\\item FALSE\n\\item FALSE\n\\item FALSE\n\\item FALSE\n\\item FALSE\n\\item FALSE\n\\item FALSE\n\\item FALSE\n\\item FALSE\n\\item FALSE\n\\item FALSE\n\\item FALSE\n\\item FALSE\n\\item FALSE\n\\item FALSE\n\\item FALSE\n\\item FALSE\n\\item FALSE\n\\item FALSE\n\\item FALSE\n\\item FALSE\n\\item FALSE\n\\item FALSE\n\\item FALSE\n\\item FALSE\n\\item FALSE\n\\item FALSE\n\\item FALSE\n\\item TRUE\n\\item TRUE\n\\item TRUE\n\\item TRUE\n\\item TRUE\n\\item TRUE\n\\item TRUE\n\\item TRUE\n\\item TRUE\n\\item TRUE\n\\item TRUE\n\\item TRUE\n\\item TRUE\n\\item TRUE\n\\item TRUE\n\\item TRUE\n\\item TRUE\n\\item TRUE\n\\item TRUE\n\\item TRUE\n\\item TRUE\n\\item TRUE\n\\item TRUE\n\\item TRUE\n\\item TRUE\n\\item TRUE\n\\item TRUE\n\\item TRUE\n\\item TRUE\n\\item TRUE\n\\item TRUE\n\\item TRUE\n\\item TRUE\n\\item TRUE\n\\item TRUE\n\\item TRUE\n\\item TRUE\n\\item TRUE\n\\item TRUE\n\\item TRUE\n\\item TRUE\n\\item TRUE\n\\item TRUE\n\\item TRUE\n\\item TRUE\n\\item TRUE\n\\item TRUE\n\\item TRUE\n\\item TRUE\n\\item TRUE\n\\end{enumerate*}\n",
      "text/plain": [
       "  [1] FALSE FALSE FALSE FALSE FALSE FALSE FALSE FALSE FALSE FALSE FALSE FALSE\n",
       " [13] FALSE FALSE FALSE FALSE FALSE FALSE FALSE FALSE FALSE FALSE FALSE FALSE\n",
       " [25] FALSE FALSE FALSE FALSE FALSE FALSE FALSE FALSE FALSE FALSE FALSE FALSE\n",
       " [37] FALSE FALSE FALSE FALSE FALSE FALSE FALSE FALSE FALSE FALSE FALSE FALSE\n",
       " [49] FALSE FALSE FALSE FALSE FALSE FALSE FALSE FALSE FALSE FALSE FALSE FALSE\n",
       " [61] FALSE FALSE FALSE FALSE FALSE FALSE FALSE FALSE FALSE FALSE FALSE FALSE\n",
       " [73] FALSE FALSE FALSE FALSE FALSE FALSE FALSE FALSE FALSE FALSE FALSE FALSE\n",
       " [85] FALSE FALSE FALSE FALSE FALSE FALSE FALSE FALSE FALSE FALSE FALSE FALSE\n",
       " [97] FALSE FALSE FALSE FALSE  TRUE  TRUE  TRUE  TRUE  TRUE  TRUE  TRUE  TRUE\n",
       "[109]  TRUE  TRUE  TRUE  TRUE  TRUE  TRUE  TRUE  TRUE  TRUE  TRUE  TRUE  TRUE\n",
       "[121]  TRUE  TRUE  TRUE  TRUE  TRUE  TRUE  TRUE  TRUE  TRUE  TRUE  TRUE  TRUE\n",
       "[133]  TRUE  TRUE  TRUE  TRUE  TRUE  TRUE  TRUE  TRUE  TRUE  TRUE  TRUE  TRUE\n",
       "[145]  TRUE  TRUE  TRUE  TRUE  TRUE  TRUE"
      ]
     },
     "metadata": {},
     "output_type": "display_data"
    }
   ],
   "execution_count": 21
  },
  {
   "cell_type": "markdown",
   "id": "557fbfea",
   "metadata": {},
   "source": [
    "We will now use the FALSE/TRUE vector to index which lines to keep from our data frame"
   ]
  },
  {
   "cell_type": "code",
   "id": "71185448",
   "metadata": {
    "ExecuteTime": {
     "end_time": "2024-09-23T17:19:14.354815Z",
     "start_time": "2024-09-23T17:19:14.320818Z"
    }
   },
   "source": [
    "myData [  myData[,5]==\"Iris_virginica\" ,   ]"
   ],
   "outputs": [
    {
     "data": {
      "text/html": [
       "<table class=\"dataframe\">\n",
       "<caption>A data.frame: 50 × 5</caption>\n",
       "<thead>\n",
       "\t<tr><th></th><th scope=col>sepal_length</th><th scope=col>sepal_width</th><th scope=col>petal_length</th><th scope=col>petal_width</th><th scope=col>type.</th></tr>\n",
       "\t<tr><th></th><th scope=col>&lt;dbl&gt;</th><th scope=col>&lt;dbl&gt;</th><th scope=col>&lt;dbl&gt;</th><th scope=col>&lt;dbl&gt;</th><th scope=col>&lt;chr&gt;</th></tr>\n",
       "</thead>\n",
       "<tbody>\n",
       "\t<tr><th scope=row>101</th><td>6.3</td><td>3.3</td><td>6.0</td><td>2.5</td><td>Iris_virginica</td></tr>\n",
       "\t<tr><th scope=row>102</th><td>5.8</td><td>2.7</td><td>5.1</td><td>1.9</td><td>Iris_virginica</td></tr>\n",
       "\t<tr><th scope=row>103</th><td>7.1</td><td>3.0</td><td>5.9</td><td>2.1</td><td>Iris_virginica</td></tr>\n",
       "\t<tr><th scope=row>104</th><td>6.3</td><td>2.9</td><td>5.6</td><td>1.8</td><td>Iris_virginica</td></tr>\n",
       "\t<tr><th scope=row>105</th><td>6.5</td><td>3.0</td><td>5.8</td><td>2.2</td><td>Iris_virginica</td></tr>\n",
       "\t<tr><th scope=row>106</th><td>7.6</td><td>3.0</td><td>6.6</td><td>2.1</td><td>Iris_virginica</td></tr>\n",
       "\t<tr><th scope=row>107</th><td>4.9</td><td>2.5</td><td>4.5</td><td>1.7</td><td>Iris_virginica</td></tr>\n",
       "\t<tr><th scope=row>108</th><td>7.3</td><td>2.9</td><td>6.3</td><td>1.8</td><td>Iris_virginica</td></tr>\n",
       "\t<tr><th scope=row>109</th><td>6.7</td><td>2.5</td><td>5.8</td><td>1.8</td><td>Iris_virginica</td></tr>\n",
       "\t<tr><th scope=row>110</th><td>7.2</td><td>3.6</td><td>6.1</td><td>2.5</td><td>Iris_virginica</td></tr>\n",
       "\t<tr><th scope=row>111</th><td>6.5</td><td>3.2</td><td>5.1</td><td>2.0</td><td>Iris_virginica</td></tr>\n",
       "\t<tr><th scope=row>112</th><td>6.4</td><td>2.7</td><td>5.3</td><td>1.9</td><td>Iris_virginica</td></tr>\n",
       "\t<tr><th scope=row>113</th><td>6.8</td><td>3.0</td><td>5.5</td><td>2.1</td><td>Iris_virginica</td></tr>\n",
       "\t<tr><th scope=row>114</th><td>5.7</td><td>2.5</td><td>5.0</td><td>2.0</td><td>Iris_virginica</td></tr>\n",
       "\t<tr><th scope=row>115</th><td>5.8</td><td>2.8</td><td>5.1</td><td>2.4</td><td>Iris_virginica</td></tr>\n",
       "\t<tr><th scope=row>116</th><td>6.4</td><td>3.2</td><td>5.3</td><td>2.3</td><td>Iris_virginica</td></tr>\n",
       "\t<tr><th scope=row>117</th><td>6.5</td><td>3.0</td><td>5.5</td><td>1.8</td><td>Iris_virginica</td></tr>\n",
       "\t<tr><th scope=row>118</th><td>7.7</td><td>3.8</td><td>6.7</td><td>2.2</td><td>Iris_virginica</td></tr>\n",
       "\t<tr><th scope=row>119</th><td>7.7</td><td>2.6</td><td>6.9</td><td>2.3</td><td>Iris_virginica</td></tr>\n",
       "\t<tr><th scope=row>120</th><td>6.0</td><td>2.2</td><td>5.0</td><td>1.5</td><td>Iris_virginica</td></tr>\n",
       "\t<tr><th scope=row>121</th><td>6.9</td><td>3.2</td><td>5.7</td><td>2.3</td><td>Iris_virginica</td></tr>\n",
       "\t<tr><th scope=row>122</th><td>5.6</td><td>2.8</td><td>4.9</td><td>2.0</td><td>Iris_virginica</td></tr>\n",
       "\t<tr><th scope=row>123</th><td>7.7</td><td>2.8</td><td>6.7</td><td>2.0</td><td>Iris_virginica</td></tr>\n",
       "\t<tr><th scope=row>124</th><td>6.3</td><td>2.7</td><td>4.9</td><td>1.8</td><td>Iris_virginica</td></tr>\n",
       "\t<tr><th scope=row>125</th><td>6.7</td><td>3.3</td><td>5.7</td><td>2.1</td><td>Iris_virginica</td></tr>\n",
       "\t<tr><th scope=row>126</th><td>7.2</td><td>3.2</td><td>6.0</td><td>1.8</td><td>Iris_virginica</td></tr>\n",
       "\t<tr><th scope=row>127</th><td>6.2</td><td>2.8</td><td>4.8</td><td>1.8</td><td>Iris_virginica</td></tr>\n",
       "\t<tr><th scope=row>128</th><td>6.1</td><td>3.0</td><td>4.9</td><td>1.8</td><td>Iris_virginica</td></tr>\n",
       "\t<tr><th scope=row>129</th><td>6.4</td><td>2.8</td><td>5.6</td><td>2.1</td><td>Iris_virginica</td></tr>\n",
       "\t<tr><th scope=row>130</th><td>7.2</td><td>3.0</td><td>5.8</td><td>1.6</td><td>Iris_virginica</td></tr>\n",
       "\t<tr><th scope=row>131</th><td>7.4</td><td>2.8</td><td>6.1</td><td>1.9</td><td>Iris_virginica</td></tr>\n",
       "\t<tr><th scope=row>132</th><td>7.9</td><td>3.8</td><td>6.4</td><td>2.0</td><td>Iris_virginica</td></tr>\n",
       "\t<tr><th scope=row>133</th><td>6.4</td><td>2.8</td><td>5.6</td><td>2.2</td><td>Iris_virginica</td></tr>\n",
       "\t<tr><th scope=row>134</th><td>6.3</td><td>2.8</td><td>5.1</td><td>1.5</td><td>Iris_virginica</td></tr>\n",
       "\t<tr><th scope=row>135</th><td>6.1</td><td>2.6</td><td>5.6</td><td>1.4</td><td>Iris_virginica</td></tr>\n",
       "\t<tr><th scope=row>136</th><td>7.7</td><td>3.0</td><td>6.1</td><td>2.3</td><td>Iris_virginica</td></tr>\n",
       "\t<tr><th scope=row>137</th><td>6.3</td><td>3.4</td><td>5.6</td><td>2.4</td><td>Iris_virginica</td></tr>\n",
       "\t<tr><th scope=row>138</th><td>6.4</td><td>3.1</td><td>5.5</td><td>1.8</td><td>Iris_virginica</td></tr>\n",
       "\t<tr><th scope=row>139</th><td>6.0</td><td>3.0</td><td>4.8</td><td>1.8</td><td>Iris_virginica</td></tr>\n",
       "\t<tr><th scope=row>140</th><td>6.9</td><td>3.1</td><td>5.4</td><td>2.1</td><td>Iris_virginica</td></tr>\n",
       "\t<tr><th scope=row>141</th><td>6.7</td><td>3.1</td><td>5.6</td><td>2.4</td><td>Iris_virginica</td></tr>\n",
       "\t<tr><th scope=row>142</th><td>6.9</td><td>3.1</td><td>5.1</td><td>2.3</td><td>Iris_virginica</td></tr>\n",
       "\t<tr><th scope=row>143</th><td>5.8</td><td>2.7</td><td>5.1</td><td>1.9</td><td>Iris_virginica</td></tr>\n",
       "\t<tr><th scope=row>144</th><td>6.8</td><td>3.2</td><td>5.9</td><td>2.3</td><td>Iris_virginica</td></tr>\n",
       "\t<tr><th scope=row>145</th><td>6.7</td><td>3.3</td><td>5.7</td><td>2.5</td><td>Iris_virginica</td></tr>\n",
       "\t<tr><th scope=row>146</th><td>6.7</td><td>3.0</td><td>5.2</td><td>2.3</td><td>Iris_virginica</td></tr>\n",
       "\t<tr><th scope=row>147</th><td>6.3</td><td>2.5</td><td>5.0</td><td>1.9</td><td>Iris_virginica</td></tr>\n",
       "\t<tr><th scope=row>148</th><td>6.5</td><td>3.0</td><td>5.2</td><td>2.0</td><td>Iris_virginica</td></tr>\n",
       "\t<tr><th scope=row>149</th><td>6.2</td><td>3.4</td><td>5.4</td><td>2.3</td><td>Iris_virginica</td></tr>\n",
       "\t<tr><th scope=row>150</th><td>5.9</td><td>3.0</td><td>5.1</td><td>1.8</td><td>Iris_virginica</td></tr>\n",
       "</tbody>\n",
       "</table>\n"
      ],
      "text/markdown": "\nA data.frame: 50 × 5\n\n| <!--/--> | sepal_length &lt;dbl&gt; | sepal_width &lt;dbl&gt; | petal_length &lt;dbl&gt; | petal_width &lt;dbl&gt; | type. &lt;chr&gt; |\n|---|---|---|---|---|---|\n| 101 | 6.3 | 3.3 | 6.0 | 2.5 | Iris_virginica |\n| 102 | 5.8 | 2.7 | 5.1 | 1.9 | Iris_virginica |\n| 103 | 7.1 | 3.0 | 5.9 | 2.1 | Iris_virginica |\n| 104 | 6.3 | 2.9 | 5.6 | 1.8 | Iris_virginica |\n| 105 | 6.5 | 3.0 | 5.8 | 2.2 | Iris_virginica |\n| 106 | 7.6 | 3.0 | 6.6 | 2.1 | Iris_virginica |\n| 107 | 4.9 | 2.5 | 4.5 | 1.7 | Iris_virginica |\n| 108 | 7.3 | 2.9 | 6.3 | 1.8 | Iris_virginica |\n| 109 | 6.7 | 2.5 | 5.8 | 1.8 | Iris_virginica |\n| 110 | 7.2 | 3.6 | 6.1 | 2.5 | Iris_virginica |\n| 111 | 6.5 | 3.2 | 5.1 | 2.0 | Iris_virginica |\n| 112 | 6.4 | 2.7 | 5.3 | 1.9 | Iris_virginica |\n| 113 | 6.8 | 3.0 | 5.5 | 2.1 | Iris_virginica |\n| 114 | 5.7 | 2.5 | 5.0 | 2.0 | Iris_virginica |\n| 115 | 5.8 | 2.8 | 5.1 | 2.4 | Iris_virginica |\n| 116 | 6.4 | 3.2 | 5.3 | 2.3 | Iris_virginica |\n| 117 | 6.5 | 3.0 | 5.5 | 1.8 | Iris_virginica |\n| 118 | 7.7 | 3.8 | 6.7 | 2.2 | Iris_virginica |\n| 119 | 7.7 | 2.6 | 6.9 | 2.3 | Iris_virginica |\n| 120 | 6.0 | 2.2 | 5.0 | 1.5 | Iris_virginica |\n| 121 | 6.9 | 3.2 | 5.7 | 2.3 | Iris_virginica |\n| 122 | 5.6 | 2.8 | 4.9 | 2.0 | Iris_virginica |\n| 123 | 7.7 | 2.8 | 6.7 | 2.0 | Iris_virginica |\n| 124 | 6.3 | 2.7 | 4.9 | 1.8 | Iris_virginica |\n| 125 | 6.7 | 3.3 | 5.7 | 2.1 | Iris_virginica |\n| 126 | 7.2 | 3.2 | 6.0 | 1.8 | Iris_virginica |\n| 127 | 6.2 | 2.8 | 4.8 | 1.8 | Iris_virginica |\n| 128 | 6.1 | 3.0 | 4.9 | 1.8 | Iris_virginica |\n| 129 | 6.4 | 2.8 | 5.6 | 2.1 | Iris_virginica |\n| 130 | 7.2 | 3.0 | 5.8 | 1.6 | Iris_virginica |\n| 131 | 7.4 | 2.8 | 6.1 | 1.9 | Iris_virginica |\n| 132 | 7.9 | 3.8 | 6.4 | 2.0 | Iris_virginica |\n| 133 | 6.4 | 2.8 | 5.6 | 2.2 | Iris_virginica |\n| 134 | 6.3 | 2.8 | 5.1 | 1.5 | Iris_virginica |\n| 135 | 6.1 | 2.6 | 5.6 | 1.4 | Iris_virginica |\n| 136 | 7.7 | 3.0 | 6.1 | 2.3 | Iris_virginica |\n| 137 | 6.3 | 3.4 | 5.6 | 2.4 | Iris_virginica |\n| 138 | 6.4 | 3.1 | 5.5 | 1.8 | Iris_virginica |\n| 139 | 6.0 | 3.0 | 4.8 | 1.8 | Iris_virginica |\n| 140 | 6.9 | 3.1 | 5.4 | 2.1 | Iris_virginica |\n| 141 | 6.7 | 3.1 | 5.6 | 2.4 | Iris_virginica |\n| 142 | 6.9 | 3.1 | 5.1 | 2.3 | Iris_virginica |\n| 143 | 5.8 | 2.7 | 5.1 | 1.9 | Iris_virginica |\n| 144 | 6.8 | 3.2 | 5.9 | 2.3 | Iris_virginica |\n| 145 | 6.7 | 3.3 | 5.7 | 2.5 | Iris_virginica |\n| 146 | 6.7 | 3.0 | 5.2 | 2.3 | Iris_virginica |\n| 147 | 6.3 | 2.5 | 5.0 | 1.9 | Iris_virginica |\n| 148 | 6.5 | 3.0 | 5.2 | 2.0 | Iris_virginica |\n| 149 | 6.2 | 3.4 | 5.4 | 2.3 | Iris_virginica |\n| 150 | 5.9 | 3.0 | 5.1 | 1.8 | Iris_virginica |\n\n",
      "text/latex": "A data.frame: 50 × 5\n\\begin{tabular}{r|lllll}\n  & sepal\\_length & sepal\\_width & petal\\_length & petal\\_width & type.\\\\\n  & <dbl> & <dbl> & <dbl> & <dbl> & <chr>\\\\\n\\hline\n\t101 & 6.3 & 3.3 & 6.0 & 2.5 & Iris\\_virginica\\\\\n\t102 & 5.8 & 2.7 & 5.1 & 1.9 & Iris\\_virginica\\\\\n\t103 & 7.1 & 3.0 & 5.9 & 2.1 & Iris\\_virginica\\\\\n\t104 & 6.3 & 2.9 & 5.6 & 1.8 & Iris\\_virginica\\\\\n\t105 & 6.5 & 3.0 & 5.8 & 2.2 & Iris\\_virginica\\\\\n\t106 & 7.6 & 3.0 & 6.6 & 2.1 & Iris\\_virginica\\\\\n\t107 & 4.9 & 2.5 & 4.5 & 1.7 & Iris\\_virginica\\\\\n\t108 & 7.3 & 2.9 & 6.3 & 1.8 & Iris\\_virginica\\\\\n\t109 & 6.7 & 2.5 & 5.8 & 1.8 & Iris\\_virginica\\\\\n\t110 & 7.2 & 3.6 & 6.1 & 2.5 & Iris\\_virginica\\\\\n\t111 & 6.5 & 3.2 & 5.1 & 2.0 & Iris\\_virginica\\\\\n\t112 & 6.4 & 2.7 & 5.3 & 1.9 & Iris\\_virginica\\\\\n\t113 & 6.8 & 3.0 & 5.5 & 2.1 & Iris\\_virginica\\\\\n\t114 & 5.7 & 2.5 & 5.0 & 2.0 & Iris\\_virginica\\\\\n\t115 & 5.8 & 2.8 & 5.1 & 2.4 & Iris\\_virginica\\\\\n\t116 & 6.4 & 3.2 & 5.3 & 2.3 & Iris\\_virginica\\\\\n\t117 & 6.5 & 3.0 & 5.5 & 1.8 & Iris\\_virginica\\\\\n\t118 & 7.7 & 3.8 & 6.7 & 2.2 & Iris\\_virginica\\\\\n\t119 & 7.7 & 2.6 & 6.9 & 2.3 & Iris\\_virginica\\\\\n\t120 & 6.0 & 2.2 & 5.0 & 1.5 & Iris\\_virginica\\\\\n\t121 & 6.9 & 3.2 & 5.7 & 2.3 & Iris\\_virginica\\\\\n\t122 & 5.6 & 2.8 & 4.9 & 2.0 & Iris\\_virginica\\\\\n\t123 & 7.7 & 2.8 & 6.7 & 2.0 & Iris\\_virginica\\\\\n\t124 & 6.3 & 2.7 & 4.9 & 1.8 & Iris\\_virginica\\\\\n\t125 & 6.7 & 3.3 & 5.7 & 2.1 & Iris\\_virginica\\\\\n\t126 & 7.2 & 3.2 & 6.0 & 1.8 & Iris\\_virginica\\\\\n\t127 & 6.2 & 2.8 & 4.8 & 1.8 & Iris\\_virginica\\\\\n\t128 & 6.1 & 3.0 & 4.9 & 1.8 & Iris\\_virginica\\\\\n\t129 & 6.4 & 2.8 & 5.6 & 2.1 & Iris\\_virginica\\\\\n\t130 & 7.2 & 3.0 & 5.8 & 1.6 & Iris\\_virginica\\\\\n\t131 & 7.4 & 2.8 & 6.1 & 1.9 & Iris\\_virginica\\\\\n\t132 & 7.9 & 3.8 & 6.4 & 2.0 & Iris\\_virginica\\\\\n\t133 & 6.4 & 2.8 & 5.6 & 2.2 & Iris\\_virginica\\\\\n\t134 & 6.3 & 2.8 & 5.1 & 1.5 & Iris\\_virginica\\\\\n\t135 & 6.1 & 2.6 & 5.6 & 1.4 & Iris\\_virginica\\\\\n\t136 & 7.7 & 3.0 & 6.1 & 2.3 & Iris\\_virginica\\\\\n\t137 & 6.3 & 3.4 & 5.6 & 2.4 & Iris\\_virginica\\\\\n\t138 & 6.4 & 3.1 & 5.5 & 1.8 & Iris\\_virginica\\\\\n\t139 & 6.0 & 3.0 & 4.8 & 1.8 & Iris\\_virginica\\\\\n\t140 & 6.9 & 3.1 & 5.4 & 2.1 & Iris\\_virginica\\\\\n\t141 & 6.7 & 3.1 & 5.6 & 2.4 & Iris\\_virginica\\\\\n\t142 & 6.9 & 3.1 & 5.1 & 2.3 & Iris\\_virginica\\\\\n\t143 & 5.8 & 2.7 & 5.1 & 1.9 & Iris\\_virginica\\\\\n\t144 & 6.8 & 3.2 & 5.9 & 2.3 & Iris\\_virginica\\\\\n\t145 & 6.7 & 3.3 & 5.7 & 2.5 & Iris\\_virginica\\\\\n\t146 & 6.7 & 3.0 & 5.2 & 2.3 & Iris\\_virginica\\\\\n\t147 & 6.3 & 2.5 & 5.0 & 1.9 & Iris\\_virginica\\\\\n\t148 & 6.5 & 3.0 & 5.2 & 2.0 & Iris\\_virginica\\\\\n\t149 & 6.2 & 3.4 & 5.4 & 2.3 & Iris\\_virginica\\\\\n\t150 & 5.9 & 3.0 & 5.1 & 1.8 & Iris\\_virginica\\\\\n\\end{tabular}\n",
      "text/plain": [
       "    sepal_length sepal_width petal_length petal_width type.         \n",
       "101 6.3          3.3         6.0          2.5         Iris_virginica\n",
       "102 5.8          2.7         5.1          1.9         Iris_virginica\n",
       "103 7.1          3.0         5.9          2.1         Iris_virginica\n",
       "104 6.3          2.9         5.6          1.8         Iris_virginica\n",
       "105 6.5          3.0         5.8          2.2         Iris_virginica\n",
       "106 7.6          3.0         6.6          2.1         Iris_virginica\n",
       "107 4.9          2.5         4.5          1.7         Iris_virginica\n",
       "108 7.3          2.9         6.3          1.8         Iris_virginica\n",
       "109 6.7          2.5         5.8          1.8         Iris_virginica\n",
       "110 7.2          3.6         6.1          2.5         Iris_virginica\n",
       "111 6.5          3.2         5.1          2.0         Iris_virginica\n",
       "112 6.4          2.7         5.3          1.9         Iris_virginica\n",
       "113 6.8          3.0         5.5          2.1         Iris_virginica\n",
       "114 5.7          2.5         5.0          2.0         Iris_virginica\n",
       "115 5.8          2.8         5.1          2.4         Iris_virginica\n",
       "116 6.4          3.2         5.3          2.3         Iris_virginica\n",
       "117 6.5          3.0         5.5          1.8         Iris_virginica\n",
       "118 7.7          3.8         6.7          2.2         Iris_virginica\n",
       "119 7.7          2.6         6.9          2.3         Iris_virginica\n",
       "120 6.0          2.2         5.0          1.5         Iris_virginica\n",
       "121 6.9          3.2         5.7          2.3         Iris_virginica\n",
       "122 5.6          2.8         4.9          2.0         Iris_virginica\n",
       "123 7.7          2.8         6.7          2.0         Iris_virginica\n",
       "124 6.3          2.7         4.9          1.8         Iris_virginica\n",
       "125 6.7          3.3         5.7          2.1         Iris_virginica\n",
       "126 7.2          3.2         6.0          1.8         Iris_virginica\n",
       "127 6.2          2.8         4.8          1.8         Iris_virginica\n",
       "128 6.1          3.0         4.9          1.8         Iris_virginica\n",
       "129 6.4          2.8         5.6          2.1         Iris_virginica\n",
       "130 7.2          3.0         5.8          1.6         Iris_virginica\n",
       "131 7.4          2.8         6.1          1.9         Iris_virginica\n",
       "132 7.9          3.8         6.4          2.0         Iris_virginica\n",
       "133 6.4          2.8         5.6          2.2         Iris_virginica\n",
       "134 6.3          2.8         5.1          1.5         Iris_virginica\n",
       "135 6.1          2.6         5.6          1.4         Iris_virginica\n",
       "136 7.7          3.0         6.1          2.3         Iris_virginica\n",
       "137 6.3          3.4         5.6          2.4         Iris_virginica\n",
       "138 6.4          3.1         5.5          1.8         Iris_virginica\n",
       "139 6.0          3.0         4.8          1.8         Iris_virginica\n",
       "140 6.9          3.1         5.4          2.1         Iris_virginica\n",
       "141 6.7          3.1         5.6          2.4         Iris_virginica\n",
       "142 6.9          3.1         5.1          2.3         Iris_virginica\n",
       "143 5.8          2.7         5.1          1.9         Iris_virginica\n",
       "144 6.8          3.2         5.9          2.3         Iris_virginica\n",
       "145 6.7          3.3         5.7          2.5         Iris_virginica\n",
       "146 6.7          3.0         5.2          2.3         Iris_virginica\n",
       "147 6.3          2.5         5.0          1.9         Iris_virginica\n",
       "148 6.5          3.0         5.2          2.0         Iris_virginica\n",
       "149 6.2          3.4         5.4          2.3         Iris_virginica\n",
       "150 5.9          3.0         5.1          1.8         Iris_virginica"
      ]
     },
     "metadata": {},
     "output_type": "display_data"
    }
   ],
   "execution_count": 22
  }
 ],
 "metadata": {
  "kernelspec": {
   "display_name": "R",
   "language": "R",
   "name": "ir"
  },
  "language_info": {
   "codemirror_mode": "r",
   "file_extension": ".r",
   "mimetype": "text/x-r-source",
   "name": "R",
   "pygments_lexer": "r",
   "version": "4.2.1"
  }
 },
 "nbformat": 4,
 "nbformat_minor": 5
}
