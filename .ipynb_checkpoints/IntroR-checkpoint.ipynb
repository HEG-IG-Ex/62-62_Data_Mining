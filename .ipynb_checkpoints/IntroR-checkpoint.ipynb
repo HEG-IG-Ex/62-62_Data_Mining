{
 "cells": [
  {
   "cell_type": "markdown",
   "id": "365801a9",
   "metadata": {},
   "source": [
    "# Introduction to R"
   ]
  },
  {
   "cell_type": "markdown",
   "id": "2cef69e7",
   "metadata": {},
   "source": [
    "We might need to install the IRkernel in R, see https://irkernel.github.io/installation/ "
   ]
  },
  {
   "cell_type": "markdown",
   "id": "2cb709e3",
   "metadata": {},
   "source": [
    "R is a programming language for statistical computing and data visualization. It has been adopted in the fields of data mining, bioinformatics, and data analysis.\n",
    "\n",
    "It is an interpreted language and it comes with a command line. You can install R or Rstudio, the latter provides a richer user experience. In the lectures I will be switching between jupyter notebooks, the R console/command line, and a file editor in which we will be writting executable scripts. \n",
    "\n",
    "Some of the most basic structures of R are:\n",
    "* vectors \n",
    "* matrices \n",
    "* data frames, typically used to store data containing mixtures of quantitative and qualitative data\n",
    "* lists\n",
    "\n",
    "Many of the operations in R are **vectorised** they can be directly performed over vectors or matrices **without the use of loops.**\n",
    "\n"
   ]
  },
  {
   "cell_type": "markdown",
   "id": "1cda62f7",
   "metadata": {},
   "source": [
    "## Vectors and matrices"
   ]
  },
  {
   "cell_type": "code",
   "execution_count": 5,
   "id": "a1b0a4d2",
   "metadata": {
    "ExecuteTime": {
     "end_time": "2024-09-23T15:54:11.874232Z",
     "start_time": "2024-09-23T15:54:11.349546Z"
    }
   },
   "outputs": [
    {
     "data": {
      "text/html": [
       "<style>\n",
       ".list-inline {list-style: none; margin:0; padding: 0}\n",
       ".list-inline>li {display: inline-block}\n",
       ".list-inline>li:not(:last-child)::after {content: \"\\00b7\"; padding: 0 .5ex}\n",
       "</style>\n",
       "<ol class=list-inline><li>1</li><li>2</li><li>3</li><li>4</li></ol>\n"
      ],
      "text/latex": [
       "\\begin{enumerate*}\n",
       "\\item 1\n",
       "\\item 2\n",
       "\\item 3\n",
       "\\item 4\n",
       "\\end{enumerate*}\n"
      ],
      "text/markdown": [
       "1. 1\n",
       "2. 2\n",
       "3. 3\n",
       "4. 4\n",
       "\n",
       "\n"
      ],
      "text/plain": [
       "[1] 1 2 3 4"
      ]
     },
     "metadata": {},
     "output_type": "display_data"
    }
   ],
   "source": [
    "#create a vector with elements: 1, 2, 3, 4\n",
    "c(1,2,3,4)"
   ]
  },
  {
   "cell_type": "code",
   "execution_count": 7,
   "id": "d6c6ff78",
   "metadata": {},
   "outputs": [
    {
     "data": {
      "text/html": [
       "<style>\n",
       ".list-inline {list-style: none; margin:0; padding: 0}\n",
       ".list-inline>li {display: inline-block}\n",
       ".list-inline>li:not(:last-child)::after {content: \"\\00b7\"; padding: 0 .5ex}\n",
       "</style>\n",
       "<ol class=list-inline><li>1</li><li>2</li><li>3</li><li>4</li></ol>\n"
      ],
      "text/latex": [
       "\\begin{enumerate*}\n",
       "\\item 1\n",
       "\\item 2\n",
       "\\item 3\n",
       "\\item 4\n",
       "\\end{enumerate*}\n"
      ],
      "text/markdown": [
       "1. 1\n",
       "2. 2\n",
       "3. 3\n",
       "4. 4\n",
       "\n",
       "\n"
      ],
      "text/plain": [
       "[1] 1 2 3 4"
      ]
     },
     "metadata": {},
     "output_type": "display_data"
    }
   ],
   "source": [
    "#a faster way to do the above is\n",
    "1:4"
   ]
  },
  {
   "cell_type": "code",
   "execution_count": 9,
   "id": "2abab2cc",
   "metadata": {},
   "outputs": [
    {
     "data": {
      "text/html": [
       "<style>\n",
       ".list-inline {list-style: none; margin:0; padding: 0}\n",
       ".list-inline>li {display: inline-block}\n",
       ".list-inline>li:not(:last-child)::after {content: \"\\00b7\"; padding: 0 .5ex}\n",
       "</style>\n",
       "<ol class=list-inline><li>'a'</li><li>'1'</li><li>'2'</li></ol>\n"
      ],
      "text/latex": [
       "\\begin{enumerate*}\n",
       "\\item 'a'\n",
       "\\item '1'\n",
       "\\item '2'\n",
       "\\end{enumerate*}\n"
      ],
      "text/markdown": [
       "1. 'a'\n",
       "2. '1'\n",
       "3. '2'\n",
       "\n",
       "\n"
      ],
      "text/plain": [
       "[1] \"a\" \"1\" \"2\""
      ]
     },
     "metadata": {},
     "output_type": "display_data"
    }
   ],
   "source": [
    "#another vector\n",
    "c(\"a\",1,2)"
   ]
  },
  {
   "cell_type": "code",
   "execution_count": 11,
   "id": "973a72a7",
   "metadata": {},
   "outputs": [
    {
     "name": "stdout",
     "output_type": "stream",
     "text": [
      "[1] 1 2 3 4\n"
     ]
    }
   ],
   "source": [
    "#store the vector in a variable \n",
    "x<-c(1,2,3,4)\n",
    "print(x)"
   ]
  },
  {
   "cell_type": "markdown",
   "id": "61c2f19d",
   "metadata": {},
   "source": [
    "So lets see what a *vectorised* operations look like"
   ]
  },
  {
   "cell_type": "code",
   "execution_count": 14,
   "id": "ba90ad5d",
   "metadata": {},
   "outputs": [
    {
     "data": {
      "text/html": [
       "<style>\n",
       ".list-inline {list-style: none; margin:0; padding: 0}\n",
       ".list-inline>li {display: inline-block}\n",
       ".list-inline>li:not(:last-child)::after {content: \"\\00b7\"; padding: 0 .5ex}\n",
       "</style>\n",
       "<ol class=list-inline><li>3</li><li>4</li><li>5</li><li>6</li></ol>\n"
      ],
      "text/latex": [
       "\\begin{enumerate*}\n",
       "\\item 3\n",
       "\\item 4\n",
       "\\item 5\n",
       "\\item 6\n",
       "\\end{enumerate*}\n"
      ],
      "text/markdown": [
       "1. 3\n",
       "2. 4\n",
       "3. 5\n",
       "4. 6\n",
       "\n",
       "\n"
      ],
      "text/plain": [
       "[1] 3 4 5 6"
      ]
     },
     "metadata": {},
     "output_type": "display_data"
    },
    {
     "data": {
      "text/html": [
       "<style>\n",
       ".list-inline {list-style: none; margin:0; padding: 0}\n",
       ".list-inline>li {display: inline-block}\n",
       ".list-inline>li:not(:last-child)::after {content: \"\\00b7\"; padding: 0 .5ex}\n",
       "</style>\n",
       "<ol class=list-inline><li>3</li><li>6</li><li>9</li><li>12</li></ol>\n"
      ],
      "text/latex": [
       "\\begin{enumerate*}\n",
       "\\item 3\n",
       "\\item 6\n",
       "\\item 9\n",
       "\\item 12\n",
       "\\end{enumerate*}\n"
      ],
      "text/markdown": [
       "1. 3\n",
       "2. 6\n",
       "3. 9\n",
       "4. 12\n",
       "\n",
       "\n"
      ],
      "text/plain": [
       "[1]  3  6  9 12"
      ]
     },
     "metadata": {},
     "output_type": "display_data"
    },
    {
     "data": {
      "text/html": [
       "<style>\n",
       ".list-inline {list-style: none; margin:0; padding: 0}\n",
       ".list-inline>li {display: inline-block}\n",
       ".list-inline>li:not(:last-child)::after {content: \"\\00b7\"; padding: 0 .5ex}\n",
       "</style>\n",
       "<ol class=list-inline><li>1</li><li>4</li><li>9</li><li>16</li></ol>\n"
      ],
      "text/latex": [
       "\\begin{enumerate*}\n",
       "\\item 1\n",
       "\\item 4\n",
       "\\item 9\n",
       "\\item 16\n",
       "\\end{enumerate*}\n"
      ],
      "text/markdown": [
       "1. 1\n",
       "2. 4\n",
       "3. 9\n",
       "4. 16\n",
       "\n",
       "\n"
      ],
      "text/plain": [
       "[1]  1  4  9 16"
      ]
     },
     "metadata": {},
     "output_type": "display_data"
    },
    {
     "data": {
      "text/html": [
       "<style>\n",
       ".list-inline {list-style: none; margin:0; padding: 0}\n",
       ".list-inline>li {display: inline-block}\n",
       ".list-inline>li:not(:last-child)::after {content: \"\\00b7\"; padding: 0 .5ex}\n",
       "</style>\n",
       "<ol class=list-inline><li>1</li><li>4</li><li>9</li><li>16</li></ol>\n"
      ],
      "text/latex": [
       "\\begin{enumerate*}\n",
       "\\item 1\n",
       "\\item 4\n",
       "\\item 9\n",
       "\\item 16\n",
       "\\end{enumerate*}\n"
      ],
      "text/markdown": [
       "1. 1\n",
       "2. 4\n",
       "3. 9\n",
       "4. 16\n",
       "\n",
       "\n"
      ],
      "text/plain": [
       "[1]  1  4  9 16"
      ]
     },
     "metadata": {},
     "output_type": "display_data"
    },
    {
     "data": {
      "text/html": [
       "<table class=\"dataframe\">\n",
       "<caption>A matrix: 1 × 1 of type dbl</caption>\n",
       "<tbody>\n",
       "\t<tr><td>30</td></tr>\n",
       "</tbody>\n",
       "</table>\n"
      ],
      "text/latex": [
       "A matrix: 1 × 1 of type dbl\n",
       "\\begin{tabular}{l}\n",
       "\t 30\\\\\n",
       "\\end{tabular}\n"
      ],
      "text/markdown": [
       "\n",
       "A matrix: 1 × 1 of type dbl\n",
       "\n",
       "| 30 |\n",
       "\n"
      ],
      "text/plain": [
       "     [,1]\n",
       "[1,] 30  "
      ]
     },
     "metadata": {},
     "output_type": "display_data"
    }
   ],
   "source": [
    "#what do you think the following commands do:\n",
    "x + 2\n",
    "x*3\n",
    "x^2\n",
    "x*x\n",
    "x%*%x"
   ]
  },
  {
   "cell_type": "markdown",
   "id": "ddfd5dcb",
   "metadata": {},
   "source": [
    "All of them operate in a vectorised manner. In a classical programming language to implement each of these operators we would need to iterate over the dimensions of the vector, i.e. create loops. Not in R and not in Python libraries such as numpy and PyTorch. This allows us to exploit parallelism both in CPUs and GPUs and execute things much faster than when we are using loops."
   ]
  },
  {
   "cell_type": "code",
   "execution_count": 17,
   "id": "2490353e",
   "metadata": {},
   "outputs": [
    {
     "name": "stdout",
     "output_type": "stream",
     "text": [
      "[1] 1 2 3 4\n",
      "[1] 1 2\n",
      "[1] 1 4 3 8\n",
      "[1] 1 2 3 4\n",
      "[1] 1 2 3\n"
     ]
    },
    {
     "name": "stderr",
     "output_type": "stream",
     "text": [
      "Warning message in x * y:\n",
      "\"longer object length is not a multiple of shorter object length\"\n"
     ]
    },
    {
     "name": "stdout",
     "output_type": "stream",
     "text": [
      "[1] 1 4 9 4\n"
     ]
    }
   ],
   "source": [
    "#how about this operation, what happens here?\n",
    "#note that our two vectors are of different length\n",
    "y <- c(1,2)\n",
    "print(x)\n",
    "print(y)\n",
    "print(x*y)\n",
    "\n",
    "y<-c(1,2,3)\n",
    "print(x)\n",
    "print(y)\n",
    "print(x*y)"
   ]
  },
  {
   "cell_type": "markdown",
   "id": "eae1a8b4",
   "metadata": {},
   "source": [
    "What we have above are examples of what we can call **recycling**. When applying an operation to two vectors that requires them to be the same length, R automatically recycles, or repeats, the shorter one, until it is long enough to match the longer one. If the length longer vector is not a multiple of the length of the shorter vector we get an error such as the above:\n",
    "\n",
    "``` “la taille d'un objet plus long n'est pas multiple de la taille d'un objet plus court” ```"
   ]
  },
  {
   "cell_type": "code",
   "execution_count": 20,
   "id": "838b385e",
   "metadata": {},
   "outputs": [
    {
     "name": "stdout",
     "output_type": "stream",
     "text": [
      "     [,1] [,2] [,3] [,4]\n",
      "[1,]    1    4    7   10\n",
      "[2,]    2    5    8   11\n",
      "[3,]    3    6    9   12\n",
      "     [,1] [,2] [,3] [,4]\n",
      "[1,]    1   16   49  100\n",
      "[2,]    4   25   64  121\n",
      "[3,]    9   36   81  144\n",
      "     [,1] [,2] [,3]\n",
      "[1,]  166  188  210\n",
      "[2,]  188  214  240\n",
      "[3,]  210  240  270\n"
     ]
    },
    {
     "data": {
      "text/html": [
       "<style>\n",
       ".list-inline {list-style: none; margin:0; padding: 0}\n",
       ".list-inline>li {display: inline-block}\n",
       ".list-inline>li:not(:last-child)::after {content: \"\\00b7\"; padding: 0 .5ex}\n",
       "</style>\n",
       "<ol class=list-inline><li>3</li><li>4</li></ol>\n"
      ],
      "text/latex": [
       "\\begin{enumerate*}\n",
       "\\item 3\n",
       "\\item 4\n",
       "\\end{enumerate*}\n"
      ],
      "text/markdown": [
       "1. 3\n",
       "2. 4\n",
       "\n",
       "\n"
      ],
      "text/plain": [
       "[1] 3 4"
      ]
     },
     "metadata": {},
     "output_type": "display_data"
    }
   ],
   "source": [
    "#Lets make a matrix now\n",
    "X <- matrix(1:12, nrow = 3, ncol = 4)\n",
    "print(X)\n",
    "print(X*X)\n",
    "print(X%*%t(X))\n",
    "dim(X) #gives the dimensions of X "
   ]
  },
  {
   "cell_type": "markdown",
   "id": "45c7de21",
   "metadata": {},
   "source": [
    "What is the difference between the two operations:\n",
    "\n",
    "``` \n",
    "X*X\n",
    "X%*%t(X) ```\n",
    "\n",
    "the first one does elementwise multiplication of $X$ with itself, while the second does **matrix multiplication** between $X$ and its transpose. \n",
    "\n",
    "Lets try now to divide the elements of each line with the sum of the elements of that line (What will this operation do to each line)?"
   ]
  },
  {
   "cell_type": "code",
   "execution_count": 23,
   "id": "fd95b2b5",
   "metadata": {},
   "outputs": [
    {
     "data": {
      "text/html": [
       "<table class=\"dataframe\">\n",
       "<caption>A matrix: 3 × 3 of type dbl</caption>\n",
       "<tbody>\n",
       "\t<tr><td>  1</td><td>  2</td><td>  3</td></tr>\n",
       "\t<tr><td> 10</td><td> 20</td><td> 30</td></tr>\n",
       "\t<tr><td>100</td><td>200</td><td>300</td></tr>\n",
       "</tbody>\n",
       "</table>\n"
      ],
      "text/latex": [
       "A matrix: 3 × 3 of type dbl\n",
       "\\begin{tabular}{lll}\n",
       "\t   1 &   2 &   3\\\\\n",
       "\t  10 &  20 &  30\\\\\n",
       "\t 100 & 200 & 300\\\\\n",
       "\\end{tabular}\n"
      ],
      "text/markdown": [
       "\n",
       "A matrix: 3 × 3 of type dbl\n",
       "\n",
       "|   1 |   2 |   3 |\n",
       "|  10 |  20 |  30 |\n",
       "| 100 | 200 | 300 |\n",
       "\n"
      ],
      "text/plain": [
       "     [,1] [,2] [,3]\n",
       "[1,]   1    2    3 \n",
       "[2,]  10   20   30 \n",
       "[3,] 100  200  300 "
      ]
     },
     "metadata": {},
     "output_type": "display_data"
    },
    {
     "data": {
      "text/html": [
       "<style>\n",
       ".list-inline {list-style: none; margin:0; padding: 0}\n",
       ".list-inline>li {display: inline-block}\n",
       ".list-inline>li:not(:last-child)::after {content: \"\\00b7\"; padding: 0 .5ex}\n",
       "</style>\n",
       "<ol class=list-inline><li>6</li><li>60</li><li>600</li></ol>\n"
      ],
      "text/latex": [
       "\\begin{enumerate*}\n",
       "\\item 6\n",
       "\\item 60\n",
       "\\item 600\n",
       "\\end{enumerate*}\n"
      ],
      "text/markdown": [
       "1. 6\n",
       "2. 60\n",
       "3. 600\n",
       "\n",
       "\n"
      ],
      "text/plain": [
       "[1]   6  60 600"
      ]
     },
     "metadata": {},
     "output_type": "display_data"
    },
    {
     "data": {
      "text/html": [
       "<table class=\"dataframe\">\n",
       "<caption>A matrix: 3 × 3 of type dbl</caption>\n",
       "<tbody>\n",
       "\t<tr><td>0.1666667</td><td>0.3333333</td><td>0.5</td></tr>\n",
       "\t<tr><td>0.1666667</td><td>0.3333333</td><td>0.5</td></tr>\n",
       "\t<tr><td>0.1666667</td><td>0.3333333</td><td>0.5</td></tr>\n",
       "</tbody>\n",
       "</table>\n"
      ],
      "text/latex": [
       "A matrix: 3 × 3 of type dbl\n",
       "\\begin{tabular}{lll}\n",
       "\t 0.1666667 & 0.3333333 & 0.5\\\\\n",
       "\t 0.1666667 & 0.3333333 & 0.5\\\\\n",
       "\t 0.1666667 & 0.3333333 & 0.5\\\\\n",
       "\\end{tabular}\n"
      ],
      "text/markdown": [
       "\n",
       "A matrix: 3 × 3 of type dbl\n",
       "\n",
       "| 0.1666667 | 0.3333333 | 0.5 |\n",
       "| 0.1666667 | 0.3333333 | 0.5 |\n",
       "| 0.1666667 | 0.3333333 | 0.5 |\n",
       "\n"
      ],
      "text/plain": [
       "     [,1]      [,2]      [,3]\n",
       "[1,] 0.1666667 0.3333333 0.5 \n",
       "[2,] 0.1666667 0.3333333 0.5 \n",
       "[3,] 0.1666667 0.3333333 0.5 "
      ]
     },
     "metadata": {},
     "output_type": "display_data"
    },
    {
     "data": {
      "text/html": [
       "<style>\n",
       ".list-inline {list-style: none; margin:0; padding: 0}\n",
       ".list-inline>li {display: inline-block}\n",
       ".list-inline>li:not(:last-child)::after {content: \"\\00b7\"; padding: 0 .5ex}\n",
       "</style>\n",
       "<ol class=list-inline><li>1</li><li>1</li><li>1</li></ol>\n"
      ],
      "text/latex": [
       "\\begin{enumerate*}\n",
       "\\item 1\n",
       "\\item 1\n",
       "\\item 1\n",
       "\\end{enumerate*}\n"
      ],
      "text/markdown": [
       "1. 1\n",
       "2. 1\n",
       "3. 1\n",
       "\n",
       "\n"
      ],
      "text/plain": [
       "[1] 1 1 1"
      ]
     },
     "metadata": {},
     "output_type": "display_data"
    }
   ],
   "source": [
    "X <- matrix(c(1,2,3,10,20,30,100,200,300), nrow = 3, ncol = 3, byrow=T)\n",
    "X\n",
    "rowSums(X)\n",
    "X/rowSums(X)\n",
    "rowSums(X/rowSums(X)) #a check to see whether we get the correct result"
   ]
  },
  {
   "cell_type": "markdown",
   "id": "2f215b1e",
   "metadata": {},
   "source": [
    "So what happens above is that the rowSums(X) vector is repeated over the columns of X, giving us the desired result. \n",
    "\n",
    "What about doing the same thing but this time we want to divide the elements of each column with the sum of the elements of that column. "
   ]
  },
  {
   "cell_type": "code",
   "execution_count": 26,
   "id": "7134ca06",
   "metadata": {},
   "outputs": [
    {
     "data": {
      "text/html": [
       "<table class=\"dataframe\">\n",
       "<caption>A matrix: 3 × 3 of type dbl</caption>\n",
       "<tbody>\n",
       "\t<tr><td>  1</td><td>  2</td><td>  3</td></tr>\n",
       "\t<tr><td> 10</td><td> 20</td><td> 30</td></tr>\n",
       "\t<tr><td>100</td><td>200</td><td>300</td></tr>\n",
       "</tbody>\n",
       "</table>\n"
      ],
      "text/latex": [
       "A matrix: 3 × 3 of type dbl\n",
       "\\begin{tabular}{lll}\n",
       "\t   1 &   2 &   3\\\\\n",
       "\t  10 &  20 &  30\\\\\n",
       "\t 100 & 200 & 300\\\\\n",
       "\\end{tabular}\n"
      ],
      "text/markdown": [
       "\n",
       "A matrix: 3 × 3 of type dbl\n",
       "\n",
       "|   1 |   2 |   3 |\n",
       "|  10 |  20 |  30 |\n",
       "| 100 | 200 | 300 |\n",
       "\n"
      ],
      "text/plain": [
       "     [,1] [,2] [,3]\n",
       "[1,]   1    2    3 \n",
       "[2,]  10   20   30 \n",
       "[3,] 100  200  300 "
      ]
     },
     "metadata": {},
     "output_type": "display_data"
    },
    {
     "data": {
      "text/html": [
       "<style>\n",
       ".list-inline {list-style: none; margin:0; padding: 0}\n",
       ".list-inline>li {display: inline-block}\n",
       ".list-inline>li:not(:last-child)::after {content: \"\\00b7\"; padding: 0 .5ex}\n",
       "</style>\n",
       "<ol class=list-inline><li>111</li><li>222</li><li>333</li></ol>\n"
      ],
      "text/latex": [
       "\\begin{enumerate*}\n",
       "\\item 111\n",
       "\\item 222\n",
       "\\item 333\n",
       "\\end{enumerate*}\n"
      ],
      "text/markdown": [
       "1. 111\n",
       "2. 222\n",
       "3. 333\n",
       "\n",
       "\n"
      ],
      "text/plain": [
       "[1] 111 222 333"
      ]
     },
     "metadata": {},
     "output_type": "display_data"
    },
    {
     "data": {
      "text/html": [
       "<table class=\"dataframe\">\n",
       "<caption>A matrix: 3 × 3 of type dbl</caption>\n",
       "<tbody>\n",
       "\t<tr><td>0.009009009</td><td>0.01801802</td><td>0.02702703</td></tr>\n",
       "\t<tr><td>0.045045045</td><td>0.09009009</td><td>0.13513514</td></tr>\n",
       "\t<tr><td>0.300300300</td><td>0.60060060</td><td>0.90090090</td></tr>\n",
       "</tbody>\n",
       "</table>\n"
      ],
      "text/latex": [
       "A matrix: 3 × 3 of type dbl\n",
       "\\begin{tabular}{lll}\n",
       "\t 0.009009009 & 0.01801802 & 0.02702703\\\\\n",
       "\t 0.045045045 & 0.09009009 & 0.13513514\\\\\n",
       "\t 0.300300300 & 0.60060060 & 0.90090090\\\\\n",
       "\\end{tabular}\n"
      ],
      "text/markdown": [
       "\n",
       "A matrix: 3 × 3 of type dbl\n",
       "\n",
       "| 0.009009009 | 0.01801802 | 0.02702703 |\n",
       "| 0.045045045 | 0.09009009 | 0.13513514 |\n",
       "| 0.300300300 | 0.60060060 | 0.90090090 |\n",
       "\n"
      ],
      "text/plain": [
       "     [,1]        [,2]       [,3]      \n",
       "[1,] 0.009009009 0.01801802 0.02702703\n",
       "[2,] 0.045045045 0.09009009 0.13513514\n",
       "[3,] 0.300300300 0.60060060 0.90090090"
      ]
     },
     "metadata": {},
     "output_type": "display_data"
    },
    {
     "data": {
      "text/html": [
       "<style>\n",
       ".list-inline {list-style: none; margin:0; padding: 0}\n",
       ".list-inline>li {display: inline-block}\n",
       ".list-inline>li:not(:last-child)::after {content: \"\\00b7\"; padding: 0 .5ex}\n",
       "</style>\n",
       "<ol class=list-inline><li>0.354354354354354</li><li>0.708708708708709</li><li>1.06306306306306</li></ol>\n"
      ],
      "text/latex": [
       "\\begin{enumerate*}\n",
       "\\item 0.354354354354354\n",
       "\\item 0.708708708708709\n",
       "\\item 1.06306306306306\n",
       "\\end{enumerate*}\n"
      ],
      "text/markdown": [
       "1. 0.354354354354354\n",
       "2. 0.708708708708709\n",
       "3. 1.06306306306306\n",
       "\n",
       "\n"
      ],
      "text/plain": [
       "[1] 0.3543544 0.7087087 1.0630631"
      ]
     },
     "metadata": {},
     "output_type": "display_data"
    }
   ],
   "source": [
    "X\n",
    "colSums(X)\n",
    "X/colSums(X)\n",
    "colSums(X/colSums(X)) #a check to see whether we get the correct result"
   ]
  },
  {
   "cell_type": "markdown",
   "id": "ed493984",
   "metadata": {},
   "source": [
    "As expected **this does not work**, since the vector is again moved over the columns of the matrix as it was the case in the previous example. \n",
    "\n",
    "One solution would be to take the tranpose of X repeat the process that we know that it works and then transpose the result\n"
   ]
  },
  {
   "cell_type": "code",
   "execution_count": null,
   "id": "c6385c82",
   "metadata": {},
   "outputs": [],
   "source": [
    "trX<-t(X)\n",
    "rowSums(trX)\n",
    "trX/rowSums(trX)\n",
    "t(trX/rowSums(trX))\n",
    "colSums(t(trX/rowSums(trX))) #a check to see whether we get the correct result"
   ]
  },
  {
   "cell_type": "markdown",
   "id": "e8376721",
   "metadata": {},
   "source": [
    "Another solution is to use a command, ```sweep``` that controls how the vector will be recycled over the matrix, i.e. over the lines or the columns. "
   ]
  },
  {
   "cell_type": "code",
   "execution_count": null,
   "id": "f7a627c3",
   "metadata": {},
   "outputs": [],
   "source": [
    "sweep(X,2,colSums(X),FUN=\"/\") # repeats the vector colSums(X) over the \n",
    "                              # lines of the X matrix and\n",
    "                              # applies the / operation\n",
    "                              # basically normalises columns to 1\n",
    "colSums(sweep(X,2,colSums(X),FUN=\"/\"))"
   ]
  },
  {
   "cell_type": "code",
   "execution_count": null,
   "id": "2b57603b",
   "metadata": {},
   "outputs": [],
   "source": [
    "sweep(X,1,rowSums(X),FUN=\"/\") # repeats the vector rowSums(X) over the \n",
    "                              # columns of the X matrix and\n",
    "                              # applies the / operation\n",
    "                              # basically normalises rows to 1\n",
    "rowSums(sweep(X,1,rowSums(X),FUN=\"/\"))"
   ]
  },
  {
   "cell_type": "markdown",
   "id": "b79a121f",
   "metadata": {},
   "source": [
    "These operations will become handy when we will revisit the joint and marginal probability distributions. "
   ]
  },
  {
   "cell_type": "markdown",
   "id": "fa149f64",
   "metadata": {},
   "source": [
    "## Lists ##"
   ]
  },
  {
   "cell_type": "markdown",
   "id": "e8d71c8b",
   "metadata": {},
   "source": [
    "Lists are complex objects that can contain **named elements** of arbitrary structure"
   ]
  },
  {
   "cell_type": "code",
   "execution_count": null,
   "id": "02d647f8",
   "metadata": {},
   "outputs": [],
   "source": [
    "x <- c(1,2,3)\n",
    "y <- c(\"a\",\"b\")\n",
    "z <- 1:10\n",
    "X <- matrix(c(1,2,3,10,20,30,100,200,300), nrow = 3, ncol = 3, byrow=T)\n",
    "\n",
    "aList <- list(num=x, text=y, sequence=z, matr=X)\n",
    "aList\n",
    "\n",
    "#we can access each one of the fields of the list using their names as follows\n",
    "aList$num\n",
    "aList$text\n",
    "aList$sequence\n",
    "\n",
    "#set the value of a field\n",
    "aList$num <- 4\n",
    "\n",
    "aList\n",
    "\n",
    "#access the names of the fields of the list\n",
    "attributes(aList)"
   ]
  },
  {
   "cell_type": "markdown",
   "id": "3ed98cb2",
   "metadata": {},
   "source": [
    "## Loops\n",
    "\n",
    "R provides different loop structures but for most operations involving matrices and vectors we will not use them, because such operations are typically vectorised."
   ]
  },
  {
   "cell_type": "code",
   "execution_count": null,
   "id": "fe6bc798",
   "metadata": {},
   "outputs": [],
   "source": [
    "for(i in 1:10){print(i)}\n",
    "\n",
    "for(i in c(\"a\",\"b\",\"c\")){print(i)}\n",
    "\n",
    "X <- matrix(c(1,2,3,10,20,30,100,200,300), nrow = 3, ncol = 3, byrow=T)\n",
    "print(X)\n",
    "d<-dim(X)\n",
    "#we will NOT be using such loops\n",
    "for(line in 1:d[1]){\n",
    "    for(row in 1:d[2])\n",
    "        print(X[line,row])\n",
    "}"
   ]
  },
  {
   "cell_type": "markdown",
   "id": "c167e561",
   "metadata": {},
   "source": [
    "Looping with the ```apply``` function"
   ]
  },
  {
   "cell_type": "code",
   "execution_count": null,
   "id": "7eb94af1",
   "metadata": {},
   "outputs": [],
   "source": [
    "#lets compute the maximum element per line of a matrix\n",
    "#How would you do it?\n",
    "#In R we will use a function called apply\n",
    "\n",
    "X <- matrix(c(1,2,3,10,20,30,100,200,300,1000,2000,3000), nrow = 3, ncol = 4, byrow=T)\n",
    "X\n",
    "\n",
    "apply(X,1,max) #the 1 argument indicates that the max function is applied over each row of the matrix\n",
    "\n",
    "apply(X,2,max) #the 2 argument indicates that the max function is applied over each column of the matrix\n",
    "\n",
    "apply(X,c(1,2),log) #the c(1,2) indicates that the function is applied over each element of the matrix, log computes the natural logarithm\n",
    "\n",
    "apply(X,c(1,2),log, base=2) #if the function we apply takes additional arguments we set them, \n",
    "                            #here base=2 is an argument of the log\n",
    "\n"
   ]
  },
  {
   "cell_type": "markdown",
   "id": "85758567",
   "metadata": {},
   "source": [
    "Related to the ```apply``` function are the ```sapply``` and ```lapply``` which work over vectors and lists. "
   ]
  },
  {
   "cell_type": "markdown",
   "id": "f6bc3b6f",
   "metadata": {},
   "source": [
    "## Functions "
   ]
  },
  {
   "cell_type": "markdown",
   "id": "5d93e74a",
   "metadata": {},
   "source": [
    "Lets write a simple function that computes the power of x to y, x^y"
   ]
  },
  {
   "cell_type": "code",
   "execution_count": null,
   "id": "b2d2f9ce",
   "metadata": {},
   "outputs": [],
   "source": [
    "myPower <- function(x,y){\n",
    "    x^y #we could also write return(x^y) but it is not necessary. R returns the last evaluated expression\n",
    "}\n",
    "\n",
    "myPower(2,3)"
   ]
  },
  {
   "cell_type": "markdown",
   "id": "e39c9823",
   "metadata": {},
   "source": [
    "Most of the times we will be raising at the power of 2, it would nice to have a default value of 2 for y. R allows for default values."
   ]
  },
  {
   "cell_type": "code",
   "execution_count": null,
   "id": "c2b87222",
   "metadata": {},
   "outputs": [],
   "source": [
    "myPower <- function(x,y=2){\n",
    "    x^y\n",
    "}\n",
    "\n",
    "myPower(3) #if we do not pass y it uses the default\n",
    "\n",
    "myPower(3,3) #when we pass y it uses the value we pass\n",
    "\n",
    "myPower(y=2,x=3) #what will be the result here?\n",
    "                 #In R if we name the arguments we can pass them in any order we want. "
   ]
  },
  {
   "cell_type": "code",
   "execution_count": null,
   "id": "d0018f61",
   "metadata": {},
   "outputs": [],
   "source": [
    "myPower <- function(x=2,y=2){\n",
    "    x^y\n",
    "}\n",
    "\n",
    "myPower() #we can call it without any arguments if every argument has a default value"
   ]
  },
  {
   "cell_type": "markdown",
   "id": "a1a33d8f",
   "metadata": {},
   "source": [
    "**Exercise:** \n",
    "* create a 3 x 4 matrix with elements 1 to 12 organised by rows\n",
    "* compute the maximum per row\n",
    "* compute the maximum per column\n",
    "* normalise the elements of every row by the maximum element of the row\n",
    "* do the same for the columns\n",
    "* write a function that takes as input a matrix and returns by default the above row normalised matrix, unless we specify that we want the column normalised. "
   ]
  },
  {
   "cell_type": "markdown",
   "id": "b2e6cccc",
   "metadata": {},
   "source": [
    "## Reading datasets and working with data frames ##"
   ]
  },
  {
   "cell_type": "code",
   "execution_count": null,
   "id": "14e3df4a",
   "metadata": {},
   "outputs": [],
   "source": [
    "getwd()"
   ]
  },
  {
   "cell_type": "markdown",
   "id": "111739cf",
   "metadata": {},
   "source": [
    "lets go where the data are"
   ]
  },
  {
   "cell_type": "code",
   "execution_count": null,
   "id": "298edc9e",
   "metadata": {},
   "outputs": [],
   "source": [
    "#give your working directory\n",
    "setwd(\"/Users/kalousis/switchdrive/WorkSpace/Courses/HESGE/HEG-Courses-2024-2025/winter/62-62-DM/Courses/2-TP-StatsReminder-Intro-R/dataAndCode/\")\n"
   ]
  },
  {
   "cell_type": "markdown",
   "id": "04815b79",
   "metadata": {},
   "source": [
    "Lets read the data, and store it in an object of type *data frame*.\n",
    "A data frame is a table that can store both quantitative and qualitative values\t\n",
    "\n"
   ]
  },
  {
   "cell_type": "code",
   "execution_count": null,
   "id": "c53f96d2",
   "metadata": {},
   "outputs": [],
   "source": [
    "myData <- read.table(file=\"iris.csv\", header=T, sep = \",\")"
   ]
  },
  {
   "cell_type": "code",
   "execution_count": null,
   "id": "6c75ba9f",
   "metadata": {},
   "outputs": [],
   "source": [
    "myData"
   ]
  },
  {
   "cell_type": "code",
   "execution_count": null,
   "id": "9b76009d",
   "metadata": {},
   "outputs": [],
   "source": [
    "#and lets take a look at a summary of the data\n",
    "summary(myData)"
   ]
  },
  {
   "cell_type": "markdown",
   "id": "f8ef019f",
   "metadata": {},
   "source": [
    "lets see what are the names of the attributes"
   ]
  },
  {
   "cell_type": "code",
   "execution_count": null,
   "id": "e19e3210",
   "metadata": {},
   "outputs": [],
   "source": [
    "names(myData)\n"
   ]
  },
  {
   "cell_type": "markdown",
   "id": "00bb0d3b",
   "metadata": {},
   "source": [
    "lets see what is the dimensionality of myData the data frame that contains the data"
   ]
  },
  {
   "cell_type": "code",
   "execution_count": null,
   "id": "010ece5a",
   "metadata": {},
   "outputs": [],
   "source": [
    "dim(myData)\n"
   ]
  },
  {
   "cell_type": "markdown",
   "id": "6c693d48",
   "metadata": {},
   "source": [
    "Lets access now different elements of the myData data frame\n"
   ]
  },
  {
   "cell_type": "code",
   "execution_count": null,
   "id": "792fa10e",
   "metadata": {},
   "outputs": [],
   "source": [
    "# Lets get the first line\n",
    "myData[1,]"
   ]
  },
  {
   "cell_type": "code",
   "execution_count": null,
   "id": "3b029c9f",
   "metadata": {},
   "outputs": [],
   "source": [
    "#second column\n",
    "myData[,2]"
   ]
  },
  {
   "cell_type": "markdown",
   "id": "bdc713ff",
   "metadata": {},
   "source": [
    "how to get lines 1 to 5 and 10 to 15\n"
   ]
  },
  {
   "cell_type": "code",
   "execution_count": null,
   "id": "c47c3b9c",
   "metadata": {},
   "outputs": [],
   "source": [
    "myData[ c(1:5,10:15), ]"
   ]
  },
  {
   "cell_type": "markdown",
   "id": "a9569f01",
   "metadata": {},
   "source": [
    "In general which rows to get is specified before the \",\" and which columns after the \",\"\n",
    "\n",
    "``` myData[line(s), column(s)] ```"
   ]
  },
  {
   "cell_type": "markdown",
   "id": "d7b2b8eb",
   "metadata": {},
   "source": [
    "So now lets get a more elaborate filter, lets retrieve all instances\n",
    "of type **Iris_virginica** and all columns\n",
    "\n",
    "```myData[,5]==\"Iris_virginica\"``` : returns a vector of TRUE/FALSE of the\n",
    "same length as the number of lines/instances in myData and we can use\n",
    "it to index the lines that we want to keep (TRUE) as follows"
   ]
  },
  {
   "cell_type": "code",
   "execution_count": null,
   "id": "79b95242",
   "metadata": {},
   "outputs": [],
   "source": [
    "myData[,5]==\"Iris_virginica\""
   ]
  },
  {
   "cell_type": "markdown",
   "id": "557fbfea",
   "metadata": {},
   "source": [
    "We will now use the FALSE/TRUE vector to index which lines to keep from our data frame"
   ]
  },
  {
   "cell_type": "code",
   "execution_count": null,
   "id": "71185448",
   "metadata": {},
   "outputs": [],
   "source": [
    "myData [  myData[,5]==\"Iris_virginica\" ,   ]"
   ]
  },
  {
   "cell_type": "code",
   "execution_count": null,
   "id": "f5ed8ca4",
   "metadata": {},
   "outputs": [],
   "source": []
  }
 ],
 "metadata": {
  "kernelspec": {
   "display_name": "R",
   "language": "R",
   "name": "ir"
  },
  "language_info": {
   "codemirror_mode": "r",
   "file_extension": ".r",
   "mimetype": "text/x-r-source",
   "name": "R",
   "pygments_lexer": "r",
   "version": "4.1.3"
  }
 },
 "nbformat": 4,
 "nbformat_minor": 5
}
