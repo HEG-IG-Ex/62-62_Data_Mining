{
 "cells": [
  {
   "cell_type": "code",
   "execution_count": 45,
   "id": "179c3b00175515e6",
   "metadata": {
    "ExecuteTime": {
     "end_time": "2024-10-26T10:06:18.266418Z",
     "start_time": "2024-10-26T10:06:18.239002Z"
    }
   },
   "outputs": [],
   "source": [
    "setwd(\"../datasets/\")\n",
    "data <- read.table (file=\"HR_prediction-all.csv\",sep=\",\", header=T)"
   ]
  },
  {
   "cell_type": "code",
   "execution_count": 279,
   "id": "54917cea-b17f-40ec-9444-f6e3e21efcf0",
   "metadata": {},
   "outputs": [],
   "source": [
    "nb_instances <- nrow(data)\n",
    "nb_attributes <- ncol(data)\n",
    "\n",
    "qualitatives_attributes_col_idx <- c(7,9,10,11)\n",
    "target_variables_idx <- 8"
   ]
  },
  {
   "cell_type": "code",
   "execution_count": 137,
   "id": "f5ea816f-d960-479b-8eb1-24ef33753f45",
   "metadata": {},
   "outputs": [
    {
     "data": {
      "text/html": [
       "10000"
      ],
      "text/latex": [
       "10000"
      ],
      "text/markdown": [
       "10000"
      ],
      "text/plain": [
       "[1] 10000"
      ]
     },
     "metadata": {},
     "output_type": "display_data"
    },
    {
     "data": {
      "text/html": [
       "11"
      ],
      "text/latex": [
       "11"
      ],
      "text/markdown": [
       "11"
      ],
      "text/plain": [
       "[1] 11"
      ]
     },
     "metadata": {},
     "output_type": "display_data"
    }
   ],
   "source": [
    "nb_instances\n",
    "nb_attributes"
   ]
  },
  {
   "cell_type": "code",
   "execution_count": 51,
   "id": "c61c594f-1642-4bf7-9df8-6f3269ac8ac6",
   "metadata": {},
   "outputs": [
    {
     "data": {
      "text/plain": [
       "       Id        satisfaction_level last_evaluation  number_project \n",
       " Min.   :    3   Min.   :0.090      Min.   :0.3600   Min.   :2.000  \n",
       " 1st Qu.: 3728   1st Qu.:0.440      1st Qu.:0.5600   1st Qu.:3.000  \n",
       " Median : 7434   Median :0.640      Median :0.7200   Median :4.000  \n",
       " Mean   : 7471   Mean   :0.614      Mean   :0.7176   Mean   :3.799  \n",
       " 3rd Qu.:11243   3rd Qu.:0.820      3rd Qu.:0.8700   3rd Qu.:5.000  \n",
       " Max.   :14999   Max.   :1.000      Max.   :1.0000   Max.   :7.000  \n",
       " average_montly_hours time_spend_company Work_accident         left       \n",
       " Min.   : 96.0        Min.   : 2.000     Min.   :0.0000   Min.   :0.0000  \n",
       " 1st Qu.:156.0        1st Qu.: 3.000     1st Qu.:0.0000   1st Qu.:0.0000  \n",
       " Median :199.0        Median : 3.000     Median :0.0000   Median :0.0000  \n",
       " Mean   :200.7        Mean   : 3.494     Mean   :0.1459   Mean   :0.2381  \n",
       " 3rd Qu.:245.0        3rd Qu.: 4.000     3rd Qu.:0.0000   3rd Qu.:0.0000  \n",
       " Max.   :310.0        Max.   :10.000     Max.   :1.0000   Max.   :1.0000  \n",
       " promotion_last_5years  department           salary         \n",
       " Min.   :0.0000        Length:10000       Length:10000      \n",
       " 1st Qu.:0.0000        Class :character   Class :character  \n",
       " Median :0.0000        Mode  :character   Mode  :character  \n",
       " Mean   :0.0211                                             \n",
       " 3rd Qu.:0.0000                                             \n",
       " Max.   :1.0000                                             "
      ]
     },
     "metadata": {},
     "output_type": "display_data"
    }
   ],
   "source": [
    "summary(data)"
   ]
  },
  {
   "cell_type": "code",
   "execution_count": 139,
   "id": "ac68e33c-0100-4985-9090-920c2e24a03c",
   "metadata": {},
   "outputs": [
    {
     "name": "stdout",
     "output_type": "stream",
     "text": [
      "[1] \"Position of missing values \"\n"
     ]
    },
    {
     "data": {
      "text/html": [],
      "text/latex": [],
      "text/markdown": [],
      "text/plain": [
       "integer(0)"
      ]
     },
     "metadata": {},
     "output_type": "display_data"
    },
    {
     "name": "stdout",
     "output_type": "stream",
     "text": [
      "[1] \"Count of total missing values  \"\n"
     ]
    },
    {
     "data": {
      "text/html": [
       "0"
      ],
      "text/latex": [
       "0"
      ],
      "text/markdown": [
       "0"
      ],
      "text/plain": [
       "[1] 0"
      ]
     },
     "metadata": {},
     "output_type": "display_data"
    },
    {
     "data": {
      "text/html": [
       "<table class=\"dataframe\">\n",
       "<caption>A data.frame: 0 × 11</caption>\n",
       "<thead>\n",
       "\t<tr><th scope=col>Id</th><th scope=col>satisfaction_level</th><th scope=col>last_evaluation</th><th scope=col>number_project</th><th scope=col>average_montly_hours</th><th scope=col>time_spend_company</th><th scope=col>Work_accident</th><th scope=col>left</th><th scope=col>promotion_last_5years</th><th scope=col>department</th><th scope=col>salary</th></tr>\n",
       "\t<tr><th scope=col>&lt;int&gt;</th><th scope=col>&lt;dbl&gt;</th><th scope=col>&lt;dbl&gt;</th><th scope=col>&lt;int&gt;</th><th scope=col>&lt;int&gt;</th><th scope=col>&lt;int&gt;</th><th scope=col>&lt;int&gt;</th><th scope=col>&lt;int&gt;</th><th scope=col>&lt;int&gt;</th><th scope=col>&lt;chr&gt;</th><th scope=col>&lt;chr&gt;</th></tr>\n",
       "</thead>\n",
       "<tbody>\n",
       "</tbody>\n",
       "</table>\n"
      ],
      "text/latex": [
       "A data.frame: 0 × 11\n",
       "\\begin{tabular}{lllllllllll}\n",
       " Id & satisfaction\\_level & last\\_evaluation & number\\_project & average\\_montly\\_hours & time\\_spend\\_company & Work\\_accident & left & promotion\\_last\\_5years & department & salary\\\\\n",
       " <int> & <dbl> & <dbl> & <int> & <int> & <int> & <int> & <int> & <int> & <chr> & <chr>\\\\\n",
       "\\hline\n",
       "\\end{tabular}\n"
      ],
      "text/markdown": [
       "\n",
       "A data.frame: 0 × 11\n",
       "\n",
       "| Id &lt;int&gt; | satisfaction_level &lt;dbl&gt; | last_evaluation &lt;dbl&gt; | number_project &lt;int&gt; | average_montly_hours &lt;int&gt; | time_spend_company &lt;int&gt; | Work_accident &lt;int&gt; | left &lt;int&gt; | promotion_last_5years &lt;int&gt; | department &lt;chr&gt; | salary &lt;chr&gt; |\n",
       "|---|---|---|---|---|---|---|---|---|---|---|\n",
       "\n"
      ],
      "text/plain": [
       "     Id satisfaction_level last_evaluation number_project average_montly_hours\n",
       "     time_spend_company Work_accident left promotion_last_5years department\n",
       "     salary"
      ]
     },
     "metadata": {},
     "output_type": "display_data"
    }
   ],
   "source": [
    "# SRC :https://www.geeksforgeeks.org/how-to-find-and-count-missing-values-in-r-dataframe/\n",
    "# find location of missing values\n",
    "print(\"Position of missing values \")\n",
    "which(is.na(data))\n",
    " \n",
    "# count total missing values \n",
    "print(\"Count of total missing values  \")\n",
    "sum(is.na(data))\n",
    "\n",
    "#SRC : https://www.datacamp.com/doc/r/missingdata\n",
    "# list rows of data that have missing values\n",
    "data[!complete.cases(data),]"
   ]
  },
  {
   "cell_type": "code",
   "execution_count": 141,
   "id": "45ff26a4-4c1b-4c52-96f0-a05e26ec4566",
   "metadata": {},
   "outputs": [
    {
     "data": {
      "text/html": [
       "<dl>\n",
       "\t<dt>$Work_accident</dt>\n",
       "\t\t<dd><style>\n",
       ".list-inline {list-style: none; margin:0; padding: 0}\n",
       ".list-inline>li {display: inline-block}\n",
       ".list-inline>li:not(:last-child)::after {content: \"\\00b7\"; padding: 0 .5ex}\n",
       "</style>\n",
       "<ol class=list-inline><li>0</li><li>1</li></ol>\n",
       "</dd>\n",
       "\t<dt>$left</dt>\n",
       "\t\t<dd><style>\n",
       ".list-inline {list-style: none; margin:0; padding: 0}\n",
       ".list-inline>li {display: inline-block}\n",
       ".list-inline>li:not(:last-child)::after {content: \"\\00b7\"; padding: 0 .5ex}\n",
       "</style>\n",
       "<ol class=list-inline><li>0</li><li>1</li></ol>\n",
       "</dd>\n",
       "\t<dt>$promotion_last_5years</dt>\n",
       "\t\t<dd><style>\n",
       ".list-inline {list-style: none; margin:0; padding: 0}\n",
       ".list-inline>li {display: inline-block}\n",
       ".list-inline>li:not(:last-child)::after {content: \"\\00b7\"; padding: 0 .5ex}\n",
       "</style>\n",
       "<ol class=list-inline><li>0</li><li>1</li></ol>\n",
       "</dd>\n",
       "\t<dt>$department</dt>\n",
       "\t\t<dd><style>\n",
       ".list-inline {list-style: none; margin:0; padding: 0}\n",
       ".list-inline>li {display: inline-block}\n",
       ".list-inline>li:not(:last-child)::after {content: \"\\00b7\"; padding: 0 .5ex}\n",
       "</style>\n",
       "<ol class=list-inline><li>'marketing'</li><li>'sales'</li><li>'accounting'</li><li>'product_mng'</li><li>'support'</li><li>'technical'</li><li>'IT'</li><li>'management'</li><li>'hr'</li><li>'RandD'</li></ol>\n",
       "</dd>\n",
       "\t<dt>$salary</dt>\n",
       "\t\t<dd><style>\n",
       ".list-inline {list-style: none; margin:0; padding: 0}\n",
       ".list-inline>li {display: inline-block}\n",
       ".list-inline>li:not(:last-child)::after {content: \"\\00b7\"; padding: 0 .5ex}\n",
       "</style>\n",
       "<ol class=list-inline><li>'medium'</li><li>'low'</li><li>'high'</li></ol>\n",
       "</dd>\n",
       "</dl>\n"
      ],
      "text/latex": [
       "\\begin{description}\n",
       "\\item[\\$Work\\_accident] \\begin{enumerate*}\n",
       "\\item 0\n",
       "\\item 1\n",
       "\\end{enumerate*}\n",
       "\n",
       "\\item[\\$left] \\begin{enumerate*}\n",
       "\\item 0\n",
       "\\item 1\n",
       "\\end{enumerate*}\n",
       "\n",
       "\\item[\\$promotion\\_last\\_5years] \\begin{enumerate*}\n",
       "\\item 0\n",
       "\\item 1\n",
       "\\end{enumerate*}\n",
       "\n",
       "\\item[\\$department] \\begin{enumerate*}\n",
       "\\item 'marketing'\n",
       "\\item 'sales'\n",
       "\\item 'accounting'\n",
       "\\item 'product\\_mng'\n",
       "\\item 'support'\n",
       "\\item 'technical'\n",
       "\\item 'IT'\n",
       "\\item 'management'\n",
       "\\item 'hr'\n",
       "\\item 'RandD'\n",
       "\\end{enumerate*}\n",
       "\n",
       "\\item[\\$salary] \\begin{enumerate*}\n",
       "\\item 'medium'\n",
       "\\item 'low'\n",
       "\\item 'high'\n",
       "\\end{enumerate*}\n",
       "\n",
       "\\end{description}\n"
      ],
      "text/markdown": [
       "$Work_accident\n",
       ":   1. 0\n",
       "2. 1\n",
       "\n",
       "\n",
       "\n",
       "$left\n",
       ":   1. 0\n",
       "2. 1\n",
       "\n",
       "\n",
       "\n",
       "$promotion_last_5years\n",
       ":   1. 0\n",
       "2. 1\n",
       "\n",
       "\n",
       "\n",
       "$department\n",
       ":   1. 'marketing'\n",
       "2. 'sales'\n",
       "3. 'accounting'\n",
       "4. 'product_mng'\n",
       "5. 'support'\n",
       "6. 'technical'\n",
       "7. 'IT'\n",
       "8. 'management'\n",
       "9. 'hr'\n",
       "10. 'RandD'\n",
       "\n",
       "\n",
       "\n",
       "$salary\n",
       ":   1. 'medium'\n",
       "2. 'low'\n",
       "3. 'high'\n",
       "\n",
       "\n",
       "\n",
       "\n",
       "\n"
      ],
      "text/plain": [
       "$Work_accident\n",
       "[1] 0 1\n",
       "\n",
       "$left\n",
       "[1] 0 1\n",
       "\n",
       "$promotion_last_5years\n",
       "[1] 0 1\n",
       "\n",
       "$department\n",
       " [1] \"marketing\"   \"sales\"       \"accounting\"  \"product_mng\" \"support\"    \n",
       " [6] \"technical\"   \"IT\"          \"management\"  \"hr\"          \"RandD\"      \n",
       "\n",
       "$salary\n",
       "[1] \"medium\" \"low\"    \"high\"  \n"
      ]
     },
     "metadata": {},
     "output_type": "display_data"
    },
    {
     "name": "stdout",
     "output_type": "stream",
     "text": [
      "[1] 0 1\n",
      "[1] 0 1\n",
      "[1] 0 1\n",
      " [1] \"marketing\"   \"sales\"       \"accounting\"  \"product_mng\" \"support\"    \n",
      " [6] \"technical\"   \"IT\"          \"management\"  \"hr\"          \"RandD\"      \n",
      "[1] \"medium\" \"low\"    \"high\"  \n"
     ]
    }
   ],
   "source": [
    "# SRC :https://stat.ethz.ch/R-manual/R-devel/library/base/html/unique.html\n",
    "#SRC https://www.statology.org/r-loop-through-data-frame-columns/\n",
    "# Methods 1\n",
    "sapply(data[, qualitatives_attributes_col_idx], unique)"
   ]
  },
  {
   "cell_type": "code",
   "execution_count": 355,
   "id": "e6584341-48fc-472e-b842-1bfa9c864ecb",
   "metadata": {},
   "outputs": [
    {
     "data": {
      "image/png": "[encoded data removed]",
      "text/plain": [
       "Plot with title \"Distribution of variable class left\""
      ]
     },
     "metadata": {
      "image/png": {
       "height": 420,
       "width": 420
      }
     },
     "output_type": "display_data"
    },
    {
     "data": {
      "image/png": "[encoded data removed]",
      "text/plain": [
       "Plot with title \"Probability distribution of variable class, P(left)\""
      ]
     },
     "metadata": {
      "image/png": {
       "height": 420,
       "width": 420
      }
     },
     "output_type": "display_data"
    }
   ],
   "source": [
    "target.counts <- table(data[, target_variables_idx])\n",
    "P.target <- prop.table(left.counts)\n",
    "barplot(target.counts, main=paste0(\"Distribution of variable class \", colnames(data)[target_variables_idx]))\n",
    "barplot(P.target, main=paste0(\"Probability distribution of variable class, P(\", colnames(data)[target_variables_idx], \")\"))\n"
   ]
  },
  {
   "cell_type": "code",
   "execution_count": 395,
   "id": "7fdb73d0-75e6-42a8-97cd-26757dd68ff5",
   "metadata": {},
   "outputs": [],
   "source": [
    "# Define the function\n",
    "plot_probabilities <- function(data, variable_idx, target_idx) {\n",
    "    \n",
    "    # Get the names of the variable and target variable\n",
    "    var_name <- colnames(data)[variable_idx]\n",
    "    target_name <- colnames(data)[target_idx]\n",
    "    \n",
    "    # Calculate the probability distribution P(variable)\n",
    "    P_var <- prop.table(table(data[, variable_idx]))\n",
    "    print(P_var)  # Display the probability distribution\n",
    "        \n",
    "    # Calculate the conditional probability P(target|variable)\n",
    "    # Observing employe who left the company among the employe who had a work accident instance\n",
    "    # P(left=1 | work_accident = 1)\n",
    "    P_target_given_var <- prop.table(table(data[, c(target_idx, variable_idx)]), margin = 2)\n",
    "    print(P_target_given_var)  # Display the conditional probability\n",
    "    \n",
    "    # Visualize the probability distribution P(variable)\n",
    "    barplot(P_var, \n",
    "            main = paste0(\"Probability Distribution P(\", var_name, \")\"), \n",
    "            xlab = paste0(\"Category of \", var_name), \n",
    "            ylab = \"Probability\", \n",
    "            legend = TRUE)\n",
    "    \n",
    "    # Visualize the conditional probability P(target|variable)\n",
    "    barplot(P_target_given_var, \n",
    "            beside = TRUE,  # Separate bars for each target category\n",
    "            main = paste0(\"Conditional Probability P(\", target_name, \"|\", var_name, \")\"), \n",
    "            xlab = paste0(\"Category of \", var_name), \n",
    "            ylab = \"Conditional Probability\", \n",
    "            legend.text = rownames(P_target_given_var))\n",
    "    \n",
    "}"
   ]
  },
  {
   "cell_type": "code",
   "execution_count": 399,
   "id": "ba568c11-a993-465f-80a1-fb19a945115b",
   "metadata": {},
   "outputs": [
    {
     "name": "stdout",
     "output_type": "stream",
     "text": [
      "\n",
      "     0      1 \n",
      "0.8541 0.1459 \n",
      "    Work_accident\n",
      "left          0          1\n",
      "   0 0.73492565 0.91980809\n",
      "   1 0.26507435 0.08019191\n",
      "\n",
      "     0      1 \n",
      "0.9789 0.0211 \n",
      "    promotion_last_5years\n",
      "left          0          1\n",
      "   0 0.75799367 0.94312796\n",
      "   1 0.24200633 0.05687204\n",
      "\n",
      " accounting          hr          IT  management   marketing product_mng \n",
      "     0.0517      0.0503      0.0825      0.0420      0.0551      0.0608 \n",
      "      RandD       sales     support   technical \n",
      "     0.0524      0.2790      0.1481      0.1781 \n",
      "    department\n",
      "left accounting        hr        IT management marketing product_mng     RandD\n",
      "   0  0.7272727 0.7335984 0.7793939  0.8452381 0.7676951   0.7976974 0.8587786\n",
      "   1  0.2727273 0.2664016 0.2206061  0.1547619 0.2323049   0.2023026 0.1412214\n",
      "    department\n",
      "left     sales   support technical\n",
      "   0 0.7494624 0.7461175 0.7422796\n",
      "   1 0.2505376 0.2538825 0.2577204\n",
      "\n",
      "  high    low medium \n",
      "0.0790 0.4885 0.4325 \n",
      "    salary\n",
      "left       high        low     medium\n",
      "   0 0.93924051 0.70030706 0.79907514\n",
      "   1 0.06075949 0.29969294 0.20092486\n"
     ]
    },
    {
     "data": {
      "image/png": "[encoded data removed]",
      "text/plain": [
       "Plot with title \"Conditional Probability P(left|promotion_last_5years)\""
      ]
     },
     "metadata": {
      "image/png": {
       "height": 420,
       "width": 420
      }
     },
     "output_type": "display_data"
    },
    {
     "data": {
      "image/png": "[encoded data removed]",
      "text/plain": [
       "Plot with title \"Conditional Probability P(left|salary)\""
      ]
     },
     "metadata": {
      "image/png": {
       "height": 420,
       "width": 420
      }
     },
     "output_type": "display_data"
    }
   ],
   "source": [
    "# Define the index of the variable and target variable\n",
    "# Set up a 3x2 plot matrix\n",
    "par(mfrow = c(2, 2))\n",
    "for (i in qualitatives_attributes_col_idx) {\n",
    "    plot_probabilities(data, i, target_variables_idx)\n",
    "}"
   ]
  },
  {
   "cell_type": "code",
   "execution_count": 427,
   "id": "699d9203-0c9c-481b-a949-12e60c9ee0d2",
   "metadata": {},
   "outputs": [],
   "source": [
    "QualitativeAttrsTheory <- function(data, variable_idx, target_idx) {\n",
    "        \n",
    "    var_name <- colnames(data)[variable_idx]\n",
    "    target_name <- colnames(data)[target_idx]\n",
    "\n",
    "    # Calculate the probability distribution P(variable)\n",
    "    P_var_target <- prop.table(table(data[,c(variable_idx,target_idx)]))\n",
    "    print(P_var_target)\n",
    "\n",
    "    title <- paste(\"P(\",names(data)[variable_idx],\",\",names(data)[target_idx],\")\")\n",
    "    barplot(P_var_target, main=title, legend=T)\n",
    "}"
   ]
  },
  {
   "cell_type": "code",
   "execution_count": 429,
   "id": "fceee30b-b65d-4fc9-9201-27fa620ee3e0",
   "metadata": {},
   "outputs": [
    {
     "name": "stdout",
     "output_type": "stream",
     "text": [
      "             left\n",
      "Work_accident      0      1\n",
      "            0 0.6277 0.2264\n",
      "            1 0.1342 0.0117\n"
     ]
    },
    {
     "data": {
      "image/png": "[encoded data removed]",
      "text/plain": [
       "Plot with title \"P( Work_accident , left )\""
      ]
     },
     "metadata": {
      "image/png": {
       "height": 420,
       "width": 420
      }
     },
     "output_type": "display_data"
    }
   ],
   "source": [
    "QualitativeAttrsTheory(data, 7,target_variables_idx)"
   ]
  },
  {
   "cell_type": "code",
   "execution_count": null,
   "id": "a808fe88-7538-43d3-8f2d-622663e3e19c",
   "metadata": {},
   "outputs": [],
   "source": []
  }
 ],
 "metadata": {
  "kernelspec": {
   "display_name": "R",
   "language": "R",
   "name": "ir"
  },
  "language_info": {
   "codemirror_mode": "r",
   "file_extension": ".r",
   "mimetype": "text/x-r-source",
   "name": "R",
   "pygments_lexer": "r",
   "version": "4.4.1"
  }
 },
 "nbformat": 4,
 "nbformat_minor": 5
}
