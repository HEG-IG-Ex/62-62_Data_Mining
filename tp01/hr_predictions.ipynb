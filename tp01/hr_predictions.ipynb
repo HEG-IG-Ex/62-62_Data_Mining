{
 "cells": [
  {
   "metadata": {},
   "cell_type": "markdown",
   "source": "# Initialisation",
   "id": "d0a50c8a041458a6"
  },
  {
   "metadata": {
    "ExecuteTime": {
     "end_time": "2024-11-25T16:41:43.170319Z",
     "start_time": "2024-11-25T16:41:43.108824Z"
    }
   },
   "cell_type": "code",
   "source": [
    "qualitatives_attributes_col_idx <- c(4,6,7,9,10,11)\n",
    "discretized_quantitatives_attributes_col_idx <- c(4,6)\n",
    "quantitatives_attributes_col_idx <- c(2,3,5)\n",
    "target_variables_idx <- 8\n",
    "datasets_directory <- \"../datasets/\"\n",
    "dataset_filename <- \"HR_prediction-all.csv\"\n",
    "output_folder <- \"output\"\n",
    "working_directory <- \"C:/Users/huniv/jnotebook/data-mining/62-62_Data_Mining/tp01/\""
   ],
   "id": "7b2f1b86a5066e72",
   "outputs": [],
   "execution_count": 1
  },
  {
   "metadata": {
    "ExecuteTime": {
     "end_time": "2024-11-25T16:41:46.711508Z",
     "start_time": "2024-11-25T16:41:43.183320Z"
    }
   },
   "cell_type": "code",
   "source": [
    "# Install packages if not already installed\n",
    "if (!requireNamespace(\"gridExtra\", quietly = TRUE)) {\n",
    "  install.packages(\"gridExtra\")\n",
    "}\n",
    "if (!requireNamespace(\"png\", quietly = TRUE)) {\n",
    "  install.packages(\"png\")\n",
    "}\n",
    "if (!requireNamespace(\"latex2exp\", quietly=TRUE)) {\n",
    "  install.packages(\"latex2exp\")\n",
    "}\n",
    "if (!requireNamespace(\"corrplot\", quietly = TRUE)) {\n",
    "  install.packages(\"corrplot\")\n",
    "}\n",
    "if (!require(\"arules\", quietly = TRUE)) {\n",
    "  install.packages(\"arules\")\n",
    "}\n",
    "\n",
    "# Load required libraries\n",
    "library(gridExtra)\n",
    "library(grid)\n",
    "library(latex2exp)\n",
    "library(corrplot)\n",
    "library(arules)"
   ],
   "id": "efcc906922991003",
   "outputs": [
    {
     "name": "stderr",
     "output_type": "stream",
     "text": [
      "\n",
      "Attaching package: 'arules'\n",
      "\n",
      "\n",
      "The following objects are masked from 'package:base':\n",
      "\n",
      "    abbreviate, write\n",
      "\n",
      "\n",
      "corrplot 0.95 loaded\n",
      "\n"
     ]
    }
   ],
   "execution_count": 2
  },
  {
   "metadata": {
    "ExecuteTime": {
     "end_time": "2024-11-25T16:41:46.758816Z",
     "start_time": "2024-11-25T16:41:46.739801Z"
    }
   },
   "cell_type": "code",
   "source": [
    "# Function to create an output directory if it doesn't exist\n",
    "ensure_output_directory <- function(wd, folder_name) {\n",
    "  output_dir <- file.path(wd, folder_name)\n",
    "  if (!dir.exists(output_dir)) {\n",
    "    dir.create(output_dir, recursive = TRUE)\n",
    "  }\n",
    "  return(output_dir)\n",
    "}"
   ],
   "id": "62a5cc11cce8a0b7",
   "outputs": [],
   "execution_count": 3
  },
  {
   "metadata": {
    "ExecuteTime": {
     "end_time": "2024-11-25T16:41:46.885916Z",
     "start_time": "2024-11-25T16:41:46.837358Z"
    }
   },
   "cell_type": "code",
   "source": [
    "setwd(datasets_directory)\n",
    "data <- read.table (file=dataset_filename,sep=\",\", header=T)"
   ],
   "id": "179c3b00175515e6",
   "outputs": [],
   "execution_count": 4
  },
  {
   "metadata": {},
   "cell_type": "markdown",
   "source": "# Preliminary Analysis",
   "id": "a2bc1754fb98322e"
  },
  {
   "cell_type": "code",
   "id": "f5ea816f-d960-479b-8eb1-24ef33753f45",
   "metadata": {
    "ExecuteTime": {
     "end_time": "2024-11-25T16:41:47.002506Z",
     "start_time": "2024-11-25T16:41:46.971440Z"
    }
   },
   "source": [
    "nb_instances <- nrow(data)\n",
    "nb_attributes <- ncol(data)\n",
    "\n",
    "print(paste(\"Number of instances : \", nb_instances))\n",
    "print(\"#####\")\n",
    "print(paste(\"Number of attributes : \", nb_attributes))"
   ],
   "outputs": [
    {
     "name": "stdout",
     "output_type": "stream",
     "text": [
      "[1] \"Number of instances :  10000\"\n",
      "[1] \"#####\"\n",
      "[1] \"Number of attributes :  11\"\n"
     ]
    }
   ],
   "execution_count": 5
  },
  {
   "cell_type": "code",
   "id": "c61c594f-1642-4bf7-9df8-6f3269ac8ac6",
   "metadata": {
    "ExecuteTime": {
     "end_time": "2024-11-25T16:41:47.112920Z",
     "start_time": "2024-11-25T16:41:47.082914Z"
    }
   },
   "source": [
    "summary(data)"
   ],
   "outputs": [
    {
     "data": {
      "text/plain": [
       "       Id        satisfaction_level last_evaluation  number_project \n",
       " Min.   :    3   Min.   :0.090      Min.   :0.3600   Min.   :2.000  \n",
       " 1st Qu.: 3728   1st Qu.:0.440      1st Qu.:0.5600   1st Qu.:3.000  \n",
       " Median : 7434   Median :0.640      Median :0.7200   Median :4.000  \n",
       " Mean   : 7471   Mean   :0.614      Mean   :0.7176   Mean   :3.799  \n",
       " 3rd Qu.:11243   3rd Qu.:0.820      3rd Qu.:0.8700   3rd Qu.:5.000  \n",
       " Max.   :14999   Max.   :1.000      Max.   :1.0000   Max.   :7.000  \n",
       " average_montly_hours time_spend_company Work_accident         left       \n",
       " Min.   : 96.0        Min.   : 2.000     Min.   :0.0000   Min.   :0.0000  \n",
       " 1st Qu.:156.0        1st Qu.: 3.000     1st Qu.:0.0000   1st Qu.:0.0000  \n",
       " Median :199.0        Median : 3.000     Median :0.0000   Median :0.0000  \n",
       " Mean   :200.7        Mean   : 3.494     Mean   :0.1459   Mean   :0.2381  \n",
       " 3rd Qu.:245.0        3rd Qu.: 4.000     3rd Qu.:0.0000   3rd Qu.:0.0000  \n",
       " Max.   :310.0        Max.   :10.000     Max.   :1.0000   Max.   :1.0000  \n",
       " promotion_last_5years  department           salary         \n",
       " Min.   :0.0000        Length:10000       Length:10000      \n",
       " 1st Qu.:0.0000        Class :character   Class :character  \n",
       " Median :0.0000        Mode  :character   Mode  :character  \n",
       " Mean   :0.0211                                             \n",
       " 3rd Qu.:0.0000                                             \n",
       " Max.   :1.0000                                             "
      ]
     },
     "metadata": {},
     "output_type": "display_data"
    }
   ],
   "execution_count": 6
  },
  {
   "metadata": {
    "ExecuteTime": {
     "end_time": "2024-11-25T18:00:51.155941Z",
     "start_time": "2024-11-25T18:00:51.135942Z"
    }
   },
   "cell_type": "code",
   "source": [
    "# Function to analyze the target variable\n",
    "analyzeTargetVariable <- function(data, target_idx) {\n",
    "  \n",
    "  # Calculate distribution and probability of target variable\n",
    "  target_counts <- table(data[, target_idx])\n",
    "  print(target_counts)\n",
    "\n",
    "  mode_value <- names(which.max(target_counts))\n",
    "  print(paste(\"Mode of Target Variable:\", mode_value))\n",
    "\n",
    "  # Plot the distribution of the target variable\n",
    "  barplot(target_counts,\n",
    "          main = paste(\"Distribution of variable\", colnames(data)[target_idx]),\n",
    "          xlab = colnames(data)[target_idx],\n",
    "          ylab = \"Count\")\n",
    "\n",
    "  # Calculate and print the probability distribution of the target variable\n",
    "  P_target <- prop.table(target_counts)\n",
    "  print(P_target)\n",
    "\n",
    "  # Plot the probability distribution of the target variable\n",
    "  barplot(P_target,\n",
    "          main = paste0(\"Probability distribution of variable P(\", colnames(data)[target_idx], \")\"),\n",
    "          xlab = colnames(data)[target_idx],\n",
    "          ylab = \"Probability\")\n",
    "  \n",
    "}"
   ],
   "id": "71050a65d569da29",
   "outputs": [],
   "execution_count": 55
  },
  {
   "metadata": {
    "ExecuteTime": {
     "end_time": "2024-11-25T18:00:53.384371Z",
     "start_time": "2024-11-25T18:00:53.196238Z"
    }
   },
   "cell_type": "code",
   "source": "    analyzeTargetVariable(data, target_variables_idx)",
   "id": "a1c78e129ea6b4be",
   "outputs": [
    {
     "name": "stdout",
     "output_type": "stream",
     "text": [
      "\n",
      "   0    1 \n",
      "7619 2381 \n",
      "[1] \"Mode of Target Variable: 0\"\n",
      "\n",
      "     0      1 \n",
      "0.7619 0.2381 \n"
     ]
    },
    {
     "data": {
      "text/plain": [
       "Plot with title \"Distribution of variable left\""
      ],
      "image/png": "[encoded data removed]"
     },
     "metadata": {
      "image/png": {
       "width": 420,
       "height": 420
      }
     },
     "output_type": "display_data"
    },
    {
     "data": {
      "text/plain": [
       "Plot with title \"Probability distribution of variable P(left)\""
      ],
      "image/png": "[encoded data removed]"
     },
     "metadata": {
      "image/png": {
       "width": 420,
       "height": 420
      }
     },
     "output_type": "display_data"
    }
   ],
   "execution_count": 56
  },
  {
   "cell_type": "code",
   "id": "ac68e33c-0100-4985-9090-920c2e24a03c",
   "metadata": {
    "ExecuteTime": {
     "end_time": "2024-11-25T16:41:47.548463Z",
     "start_time": "2024-11-25T16:41:47.529467Z"
    }
   },
   "source": [
    "# Function to analyze missing values in a dataset\n",
    "analyzeDataQuality <- function(data) {\n",
    "\n",
    "  # Find and count duplicate rows\n",
    "  duplicates <- data[duplicated(data), ]\n",
    "  print(paste(\"Number of duplicate rows:\", nrow(duplicates)))\n",
    "  if (nrow(duplicates) > 0) {\n",
    "    print(\"Duplicate rows:\")\n",
    "    print(duplicates)\n",
    "  }\n",
    "  \n",
    "  # SRC :https://www.geeksforgeeks.org/how-to-find-and-count-missing-values-in-r-dataframe/\n",
    "  # Print the position of missing values\n",
    "  cat(\"Position of missing values:\\n\")\n",
    "  missing_positions <- which(is.na(data))\n",
    "  print(missing_positions)\n",
    "\n",
    "  # Count total missing values\n",
    "  total_missing_values <- sum(is.na(data))\n",
    "  cat(\"\\nCount of total missing values:\\n\", total_missing_values, \"\\n\")\n",
    "\n",
    "  #SRC : https://www.datacamp.com/doc/r/missingdata\n",
    "  # List rows of data that have missing values\n",
    "  cat(\"\\nRows with missing values:\\n\")\n",
    "  rows_with_missing <- data[!complete.cases(data), ]\n",
    "  print(rows_with_missing)\n",
    "\n",
    "  return(list(\n",
    "    missing_positions = missing_positions,\n",
    "    total_missing_values = total_missing_values,\n",
    "    rows_with_missing = rows_with_missing\n",
    "  ))\n",
    "}"
   ],
   "outputs": [],
   "execution_count": 9
  },
  {
   "metadata": {
    "ExecuteTime": {
     "end_time": "2024-11-25T16:41:47.694267Z",
     "start_time": "2024-11-25T16:41:47.598061Z"
    }
   },
   "cell_type": "code",
   "source": "analyzeDataQuality(data)",
   "id": "4eb3718fb2d5485e",
   "outputs": [
    {
     "name": "stdout",
     "output_type": "stream",
     "text": [
      "[1] \"Number of duplicate rows: 0\"\n",
      "Position of missing values:\n",
      "integer(0)\n",
      "\n",
      "Count of total missing values:\n",
      " 0 \n",
      "\n",
      "Rows with missing values:\n",
      " [1] Id                    satisfaction_level    last_evaluation      \n",
      " [4] number_project        average_montly_hours  time_spend_company   \n",
      " [7] Work_accident         left                  promotion_last_5years\n",
      "[10] department            salary               \n",
      "<0 rows> (or 0-length row.names)\n"
     ]
    },
    {
     "data": {
      "text/html": [
       "<dl>\n",
       "\t<dt>$missing_positions</dt>\n",
       "\t\t<dd></dd>\n",
       "\t<dt>$total_missing_values</dt>\n",
       "\t\t<dd>0</dd>\n",
       "\t<dt>$rows_with_missing</dt>\n",
       "\t\t<dd><table class=\"dataframe\">\n",
       "<caption>A data.frame: 0 × 11</caption>\n",
       "<thead>\n",
       "\t<tr><th scope=col>Id</th><th scope=col>satisfaction_level</th><th scope=col>last_evaluation</th><th scope=col>number_project</th><th scope=col>average_montly_hours</th><th scope=col>time_spend_company</th><th scope=col>Work_accident</th><th scope=col>left</th><th scope=col>promotion_last_5years</th><th scope=col>department</th><th scope=col>salary</th></tr>\n",
       "\t<tr><th scope=col>&lt;int&gt;</th><th scope=col>&lt;dbl&gt;</th><th scope=col>&lt;dbl&gt;</th><th scope=col>&lt;int&gt;</th><th scope=col>&lt;int&gt;</th><th scope=col>&lt;int&gt;</th><th scope=col>&lt;int&gt;</th><th scope=col>&lt;int&gt;</th><th scope=col>&lt;int&gt;</th><th scope=col>&lt;chr&gt;</th><th scope=col>&lt;chr&gt;</th></tr>\n",
       "</thead>\n",
       "<tbody>\n",
       "</tbody>\n",
       "</table>\n",
       "</dd>\n",
       "</dl>\n"
      ],
      "text/markdown": "$missing_positions\n:   \n$total_missing_values\n:   0\n$rows_with_missing\n:   \nA data.frame: 0 × 11\n\n| Id &lt;int&gt; | satisfaction_level &lt;dbl&gt; | last_evaluation &lt;dbl&gt; | number_project &lt;int&gt; | average_montly_hours &lt;int&gt; | time_spend_company &lt;int&gt; | Work_accident &lt;int&gt; | left &lt;int&gt; | promotion_last_5years &lt;int&gt; | department &lt;chr&gt; | salary &lt;chr&gt; |\n|---|---|---|---|---|---|---|---|---|---|---|\n\n\n\n\n",
      "text/latex": "\\begin{description}\n\\item[\\$missing\\_positions] \n\\item[\\$total\\_missing\\_values] 0\n\\item[\\$rows\\_with\\_missing] A data.frame: 0 × 11\n\\begin{tabular}{lllllllllll}\n Id & satisfaction\\_level & last\\_evaluation & number\\_project & average\\_montly\\_hours & time\\_spend\\_company & Work\\_accident & left & promotion\\_last\\_5years & department & salary\\\\\n <int> & <dbl> & <dbl> & <int> & <int> & <int> & <int> & <int> & <int> & <chr> & <chr>\\\\\n\\hline\n\\end{tabular}\n\n\\end{description}\n",
      "text/plain": [
       "$missing_positions\n",
       "integer(0)\n",
       "\n",
       "$total_missing_values\n",
       "[1] 0\n",
       "\n",
       "$rows_with_missing\n",
       " [1] Id                    satisfaction_level    last_evaluation      \n",
       " [4] number_project        average_montly_hours  time_spend_company   \n",
       " [7] Work_accident         left                  promotion_last_5years\n",
       "[10] department            salary               \n",
       "<0 rows> (or 0-length row.names)\n"
      ]
     },
     "metadata": {},
     "output_type": "display_data"
    }
   ],
   "execution_count": 10
  },
  {
   "metadata": {},
   "cell_type": "markdown",
   "source": "# Qualitatives Attributes",
   "id": "dd35fb8c821bc31c"
  },
  {
   "cell_type": "code",
   "id": "45ff26a4-4c1b-4c52-96f0-a05e26ec4566",
   "metadata": {
    "ExecuteTime": {
     "end_time": "2024-11-25T16:41:47.797472Z",
     "start_time": "2024-11-25T16:41:47.774701Z"
    }
   },
   "source": [
    "# SRC :https://stat.ethz.ch/R-manual/R-devel/library/base/html/unique.html\n",
    "#SRC https://www.statology.org/r-loop-through-data-frame-columns/\n",
    "# Methods 1\n",
    "sapply(data[, qualitatives_attributes_col_idx], unique)"
   ],
   "outputs": [
    {
     "data": {
      "text/html": [
       "<dl>\n",
       "\t<dt>$number_project</dt>\n",
       "\t\t<dd><style>\n",
       ".list-inline {list-style: none; margin:0; padding: 0}\n",
       ".list-inline>li {display: inline-block}\n",
       ".list-inline>li:not(:last-child)::after {content: \"\\00b7\"; padding: 0 .5ex}\n",
       "</style>\n",
       "<ol class=list-inline><li>4</li><li>2</li><li>3</li><li>5</li><li>6</li><li>7</li></ol>\n",
       "</dd>\n",
       "\t<dt>$time_spend_company</dt>\n",
       "\t\t<dd><style>\n",
       ".list-inline {list-style: none; margin:0; padding: 0}\n",
       ".list-inline>li {display: inline-block}\n",
       ".list-inline>li:not(:last-child)::after {content: \"\\00b7\"; padding: 0 .5ex}\n",
       "</style>\n",
       "<ol class=list-inline><li>4</li><li>5</li><li>2</li><li>3</li><li>6</li><li>7</li><li>8</li><li>10</li></ol>\n",
       "</dd>\n",
       "\t<dt>$Work_accident</dt>\n",
       "\t\t<dd><style>\n",
       ".list-inline {list-style: none; margin:0; padding: 0}\n",
       ".list-inline>li {display: inline-block}\n",
       ".list-inline>li:not(:last-child)::after {content: \"\\00b7\"; padding: 0 .5ex}\n",
       "</style>\n",
       "<ol class=list-inline><li>0</li><li>1</li></ol>\n",
       "</dd>\n",
       "\t<dt>$promotion_last_5years</dt>\n",
       "\t\t<dd><style>\n",
       ".list-inline {list-style: none; margin:0; padding: 0}\n",
       ".list-inline>li {display: inline-block}\n",
       ".list-inline>li:not(:last-child)::after {content: \"\\00b7\"; padding: 0 .5ex}\n",
       "</style>\n",
       "<ol class=list-inline><li>0</li><li>1</li></ol>\n",
       "</dd>\n",
       "\t<dt>$department</dt>\n",
       "\t\t<dd><style>\n",
       ".list-inline {list-style: none; margin:0; padding: 0}\n",
       ".list-inline>li {display: inline-block}\n",
       ".list-inline>li:not(:last-child)::after {content: \"\\00b7\"; padding: 0 .5ex}\n",
       "</style>\n",
       "<ol class=list-inline><li>'marketing'</li><li>'sales'</li><li>'accounting'</li><li>'product_mng'</li><li>'support'</li><li>'technical'</li><li>'IT'</li><li>'management'</li><li>'hr'</li><li>'RandD'</li></ol>\n",
       "</dd>\n",
       "\t<dt>$salary</dt>\n",
       "\t\t<dd><style>\n",
       ".list-inline {list-style: none; margin:0; padding: 0}\n",
       ".list-inline>li {display: inline-block}\n",
       ".list-inline>li:not(:last-child)::after {content: \"\\00b7\"; padding: 0 .5ex}\n",
       "</style>\n",
       "<ol class=list-inline><li>'medium'</li><li>'low'</li><li>'high'</li></ol>\n",
       "</dd>\n",
       "</dl>\n"
      ],
      "text/markdown": "$number_project\n:   1. 4\n2. 2\n3. 3\n4. 5\n5. 6\n6. 7\n\n\n\n$time_spend_company\n:   1. 4\n2. 5\n3. 2\n4. 3\n5. 6\n6. 7\n7. 8\n8. 10\n\n\n\n$Work_accident\n:   1. 0\n2. 1\n\n\n\n$promotion_last_5years\n:   1. 0\n2. 1\n\n\n\n$department\n:   1. 'marketing'\n2. 'sales'\n3. 'accounting'\n4. 'product_mng'\n5. 'support'\n6. 'technical'\n7. 'IT'\n8. 'management'\n9. 'hr'\n10. 'RandD'\n\n\n\n$salary\n:   1. 'medium'\n2. 'low'\n3. 'high'\n\n\n\n\n\n",
      "text/latex": "\\begin{description}\n\\item[\\$number\\_project] \\begin{enumerate*}\n\\item 4\n\\item 2\n\\item 3\n\\item 5\n\\item 6\n\\item 7\n\\end{enumerate*}\n\n\\item[\\$time\\_spend\\_company] \\begin{enumerate*}\n\\item 4\n\\item 5\n\\item 2\n\\item 3\n\\item 6\n\\item 7\n\\item 8\n\\item 10\n\\end{enumerate*}\n\n\\item[\\$Work\\_accident] \\begin{enumerate*}\n\\item 0\n\\item 1\n\\end{enumerate*}\n\n\\item[\\$promotion\\_last\\_5years] \\begin{enumerate*}\n\\item 0\n\\item 1\n\\end{enumerate*}\n\n\\item[\\$department] \\begin{enumerate*}\n\\item 'marketing'\n\\item 'sales'\n\\item 'accounting'\n\\item 'product\\_mng'\n\\item 'support'\n\\item 'technical'\n\\item 'IT'\n\\item 'management'\n\\item 'hr'\n\\item 'RandD'\n\\end{enumerate*}\n\n\\item[\\$salary] \\begin{enumerate*}\n\\item 'medium'\n\\item 'low'\n\\item 'high'\n\\end{enumerate*}\n\n\\end{description}\n",
      "text/plain": [
       "$number_project\n",
       "[1] 4 2 3 5 6 7\n",
       "\n",
       "$time_spend_company\n",
       "[1]  4  5  2  3  6  7  8 10\n",
       "\n",
       "$Work_accident\n",
       "[1] 0 1\n",
       "\n",
       "$promotion_last_5years\n",
       "[1] 0 1\n",
       "\n",
       "$department\n",
       " [1] \"marketing\"   \"sales\"       \"accounting\"  \"product_mng\" \"support\"    \n",
       " [6] \"technical\"   \"IT\"          \"management\"  \"hr\"          \"RandD\"      \n",
       "\n",
       "$salary\n",
       "[1] \"medium\" \"low\"    \"high\"  \n"
      ]
     },
     "metadata": {},
     "output_type": "display_data"
    }
   ],
   "execution_count": 11
  },
  {
   "metadata": {
    "ExecuteTime": {
     "end_time": "2024-11-25T16:41:48.100018Z",
     "start_time": "2024-11-25T16:41:48.080014Z"
    }
   },
   "cell_type": "code",
   "source": [
    "# Function to plot and save probability distributions\n",
    "plot_and_save_probabilities <- function(output_dir, var_name, P_var, P_target_given_var, target_name, discretized = FALSE) {\n",
    "  \n",
    "  # Create the full path for the PDF file\n",
    "  file_suffix <- ifelse(discretized, \"_discretized\", \"\")\n",
    "  full_pdf_path <- file.path(output_dir, paste0(var_name, file_suffix, \".pdf\"))\n",
    "\n",
    "  # Open a PDF to save the plots\n",
    "  pdf(file = full_pdf_path, width = 12, height = 6)\n",
    "\n",
    "  # Set up a 1-row, 2-column layout for the plots\n",
    "  par(mfrow = c(1, 2), mar = c(7, 4, 4, 2) + 0.1)\n",
    "\n",
    "  # Visualize the probability distribution P(variable)\n",
    "\n",
    "  #Use las = 2 to Rotate x-axis labels for better visibility\n",
    "  #Use cex.names = 0.6 to Reduce the label size slightly to fit\n",
    "  barplot(P_var,\n",
    "          main = paste0(\"Probability Distribution P(\", var_name, \")\"),\n",
    "          xlab = paste0(\"Category of \", var_name),\n",
    "          ylab = \"Probability\")\n",
    "  \n",
    "\n",
    "\n",
    "  # Visualize the conditional probability P(target | variable)\n",
    "  barplot(P_target_given_var,\n",
    "          beside = FALSE,\n",
    "          main = paste0(\"Conditional Probability P(\", target_name, \" | \", var_name, \")\"),\n",
    "          xlab = paste0(\"Category of \", var_name),\n",
    "          ylab = \"Conditional Probability\",\n",
    "          legend.text = rownames(P_target_given_var),\n",
    "          args.legend = list(x = \"topright\", inset = c(-0.1, 0), bty = \"n\"))\n",
    "\n",
    "  # Close the PDF device\n",
    "  dev.off()\n",
    "  \n",
    "}\n",
    "\n",
    "\n",
    "# Function to analyze qualitative attributes without discretization\n",
    "plot_probabilities <- function(wd, folder_name, data, variable_idx, target_idx) {\n",
    "  # Get the names of the variable and target variable\n",
    "  var_name <- tolower(trimws(colnames(data)[variable_idx]))\n",
    "  target_name <- tolower(trimws(colnames(data)[target_idx]))\n",
    "\n",
    "  # Ensure output directory exists\n",
    "  output_dir <- ensure_output_directory(wd, folder_name)\n",
    "\n",
    "  # Calculate the probability distribution P(variable)\n",
    "  P_var <- prop.table(table(data[, variable_idx]))\n",
    "  print(P_var)  # Display the probability distribution\n",
    "\n",
    "  # Calculate the conditional probability P(target|variable)\n",
    "  # Example : Observing employe who left the company among the employe who had a work accident instance\n",
    "  # P(left=1 | work_accident = 1)\n",
    "  P_target_given_var <- prop.table(table(data[, c(target_idx, variable_idx)]), margin = 2)\n",
    "  print(P_target_given_var)  # Display the conditional probability\n",
    "\n",
    "  # Plot and save the probabilities\n",
    "  plot_and_save_probabilities(output_dir, var_name, P_var, P_target_given_var, target_name)\n",
    "}\n",
    "\n",
    "# Function to analyze qualitative attributes using discretization (with the arules package)\n",
    "plot_probabilities_with_discretize <- function(wd, folder_name, data, variable_idx, target_idx, num_buckets = 3) {\n",
    "  # Get the names of the variable and target variable\n",
    "  var_name <- tolower(trimws(colnames(data)[variable_idx]))\n",
    "  target_name <- tolower(trimws(colnames(data)[target_idx]))\n",
    "\n",
    "  # Discretize the variable into the specified number of buckets\n",
    "  binned_variable <- discretize(data[, variable_idx], method = \"frequency\", breaks = num_buckets)\n",
    "\n",
    "  # Convert the binned variable to a factor\n",
    "  binned_variable <- as.factor(binned_variable)\n",
    "\n",
    "  # Ensure output directory exists\n",
    "  output_dir <- ensure_output_directory(wd, folder_name)\n",
    "\n",
    "  # Calculate probabilities\n",
    "  # Calculate the probability distribution P(variable in buckets)\n",
    "  P_var <- prop.table(table(binned_variable))\n",
    "  print(P_var)  # Display the probability distribution\n",
    "\n",
    "  # Calculate the conditional probability P(target | variable in buckets)\n",
    "  P_target_given_var <- prop.table(table(data[, target_idx], binned_variable), margin = 2)\n",
    "  print(P_target_given_var)  # Display the conditional probability\n",
    "\n",
    "  # Plot and save the probabilities with discretized suffix\n",
    "  plot_and_save_probabilities(output_dir, var_name, P_var, P_target_given_var, target_name, discretized = TRUE)\n",
    "}"
   ],
   "id": "7fdb73d0-75e6-42a8-97cd-26757dd68ff5",
   "outputs": [],
   "execution_count": 12
  },
  {
   "cell_type": "code",
   "id": "ba568c11-a993-465f-80a1-fb19a945115b",
   "metadata": {
    "ExecuteTime": {
     "end_time": "2024-11-25T16:41:48.443784Z",
     "start_time": "2024-11-25T16:41:48.233572Z"
    }
   },
   "source": [
    "# Define the index of the variable and target variable\n",
    "for (i in qualitatives_attributes_col_idx) {\n",
    "  plot_probabilities(working_directory, output_folder, data, i, target_variables_idx)\n",
    "}"
   ],
   "outputs": [
    {
     "name": "stdout",
     "output_type": "stream",
     "text": [
      "\n",
      "     2      3      4      5      6      7 \n",
      "0.1613 0.2670 0.2942 0.1828 0.0783 0.0164 \n",
      "    number_project\n",
      "left          2          3          4          5          6          7\n",
      "   0 0.34779913 0.98314607 0.90992522 0.76641138 0.45338442 0.00000000\n",
      "   1 0.65220087 0.01685393 0.09007478 0.23358862 0.54661558 1.00000000\n",
      "\n",
      "     2      3      4      5      6      7      8     10 \n",
      "0.2171 0.4325 0.1666 0.0984 0.0480 0.0126 0.0102 0.0146 \n",
      "    time_spend_company\n",
      "left          2          3          4          5          6          7\n",
      "   0 0.98341778 0.75445087 0.65006002 0.43394309 0.70208333 1.00000000\n",
      "   1 0.01658222 0.24554913 0.34993998 0.56605691 0.29791667 0.00000000\n",
      "    time_spend_company\n",
      "left          8         10\n",
      "   0 1.00000000 1.00000000\n",
      "   1 0.00000000 0.00000000\n",
      "\n",
      "     0      1 \n",
      "0.8541 0.1459 \n",
      "    Work_accident\n",
      "left          0          1\n",
      "   0 0.73492565 0.91980809\n",
      "   1 0.26507435 0.08019191\n",
      "\n",
      "     0      1 \n",
      "0.9789 0.0211 \n",
      "    promotion_last_5years\n",
      "left          0          1\n",
      "   0 0.75799367 0.94312796\n",
      "   1 0.24200633 0.05687204\n",
      "\n",
      "         IT       RandD  accounting          hr  management   marketing \n",
      "     0.0825      0.0524      0.0517      0.0503      0.0420      0.0551 \n",
      "product_mng       sales     support   technical \n",
      "     0.0608      0.2790      0.1481      0.1781 \n",
      "    department\n",
      "left        IT     RandD accounting        hr management marketing product_mng\n",
      "   0 0.7793939 0.8587786  0.7272727 0.7335984  0.8452381 0.7676951   0.7976974\n",
      "   1 0.2206061 0.1412214  0.2727273 0.2664016  0.1547619 0.2323049   0.2023026\n",
      "    department\n",
      "left     sales   support technical\n",
      "   0 0.7494624 0.7461175 0.7422796\n",
      "   1 0.2505376 0.2538825 0.2577204\n",
      "\n",
      "  high    low medium \n",
      "0.0790 0.4885 0.4325 \n",
      "    salary\n",
      "left       high        low     medium\n",
      "   0 0.93924051 0.70030706 0.79907514\n",
      "   1 0.06075949 0.29969294 0.20092486\n"
     ]
    }
   ],
   "execution_count": 13
  },
  {
   "metadata": {
    "ExecuteTime": {
     "end_time": "2024-11-25T16:41:48.657138Z",
     "start_time": "2024-11-25T16:41:48.609095Z"
    }
   },
   "cell_type": "code",
   "source": [
    "# Define the index of the variable and target variable\n",
    "for (i in discretized_quantitatives_attributes_col_idx) {\n",
    "  plot_probabilities_with_discretize(working_directory, output_folder, data, i, target_variables_idx, 3)\n",
    "}"
   ],
   "id": "e3038f93cbd85138",
   "outputs": [
    {
     "name": "stdout",
     "output_type": "stream",
     "text": [
      "binned_variable\n",
      " [2,3)  [3,4)  [4,7] \n",
      "0.1613 0.2670 0.5717 \n",
      "   binned_variable\n",
      "         [2,3)      [3,4)      [4,7]\n",
      "  0 0.34779913 0.98314607 0.77540668\n",
      "  1 0.65220087 0.01685393 0.22459332\n",
      "binned_variable\n",
      " [2,3)  [3,4) [4,10] \n",
      "0.2171 0.4325 0.3504 \n",
      "   binned_variable\n",
      "         [2,3)      [3,4)     [4,10]\n",
      "  0 0.98341778 0.75445087 0.63384703\n",
      "  1 0.01658222 0.24554913 0.36615297\n"
     ]
    }
   ],
   "execution_count": 14
  },
  {
   "cell_type": "code",
   "id": "699d9203-0c9c-481b-a949-12e60c9ee0d2",
   "metadata": {
    "ExecuteTime": {
     "end_time": "2024-11-25T16:41:48.738682Z",
     "start_time": "2024-11-25T16:41:48.718682Z"
    }
   },
   "source": [
    "QualitativeAttrsTheory <- function(data, variable_idx, target_idx) {\n",
    "        \n",
    "    var_name <- trimws(colnames(data)[variable_idx])\n",
    "    target_name <- trimws(colnames(data)[target_idx])\n",
    "    \n",
    "    # Calculate the joint probability distribution\n",
    "    title <- paste(\"P(\",var_name,\",\",target_name,\")\")\n",
    "    P.var.target <- prop.table(table(data[,c(variable_idx,target_idx)]))\n",
    "    barplot(P.var.target, main=title, legend=T)\n",
    "  \n",
    "    print(\"P(target, var):\")\n",
    "    print(P.var.target)\n",
    "    print(\"########################\")\n",
    "    \n",
    "    # Caculate marginale distribution P(Target)\n",
    "    print(\"P(target):\")\n",
    "    P.target <- colSums(P.var.target)\n",
    "    print(\"Check:\")\n",
    "    print(prop.table(table(data[,target_idx])))\n",
    "    print(P.target)\n",
    "    print(\"########################\")\n",
    "\n",
    "    # Caculate marginale distribution P(Variable)\n",
    "    print(\"P(var):\")\n",
    "    P.var <- rowSums(P.var.target)\n",
    "    print(\"Check:\")\n",
    "    print(prop.table(table(data[,variable_idx])))\n",
    "    print(P.var)\n",
    "    print(\"########################\")\n",
    "    \n",
    "    P.target.given.var <- sweep(P.var.target,1,P.var, FUN=\"/\")\n",
    "    print(\"P(target|var):\")\n",
    "    print(P.target.given.var)\n",
    "    print(\"Check:\")\n",
    "    print(rowSums(P.target.given.var))\n",
    "    print(\"########################\")\n",
    "\n",
    "    P.var.given.target <- sweep(P.var.target,2,P.target, FUN=\"/\")\n",
    "    print(\"P(var|target):\")\n",
    "    print(P.var.given.target)\n",
    "    print(\"Check:\")\n",
    "    print(colSums(P.var.given.target))\n",
    "    print(\"########################\")\n",
    "}"
   ],
   "outputs": [],
   "execution_count": 15
  },
  {
   "cell_type": "code",
   "id": "fceee30b-b65d-4fc9-9201-27fa620ee3e0",
   "metadata": {
    "ExecuteTime": {
     "end_time": "2024-11-25T16:41:49.189313Z",
     "start_time": "2024-11-25T16:41:48.771697Z"
    }
   },
   "source": [
    "for (i in qualitatives_attributes_col_idx) {\n",
    "  QualitativeAttrsTheory(data, i,target_variables_idx)\n",
    "}"
   ],
   "outputs": [
    {
     "name": "stdout",
     "output_type": "stream",
     "text": [
      "[1] \"P(target, var):\"\n",
      "              left\n",
      "number_project      0      1\n",
      "             2 0.0561 0.1052\n",
      "             3 0.2625 0.0045\n",
      "             4 0.2677 0.0265\n",
      "             5 0.1401 0.0427\n",
      "             6 0.0355 0.0428\n",
      "             7 0.0000 0.0164\n",
      "[1] \"########################\"\n",
      "[1] \"P(target):\"\n",
      "[1] \"Check:\"\n",
      "\n",
      "     0      1 \n",
      "0.7619 0.2381 \n",
      "     0      1 \n",
      "0.7619 0.2381 \n",
      "[1] \"########################\"\n",
      "[1] \"P(var):\"\n",
      "[1] \"Check:\"\n",
      "\n",
      "     2      3      4      5      6      7 \n",
      "0.1613 0.2670 0.2942 0.1828 0.0783 0.0164 \n",
      "     2      3      4      5      6      7 \n",
      "0.1613 0.2670 0.2942 0.1828 0.0783 0.0164 \n",
      "[1] \"########################\"\n",
      "[1] \"P(target|var):\"\n",
      "              left\n",
      "number_project          0          1\n",
      "             2 0.34779913 0.65220087\n",
      "             3 0.98314607 0.01685393\n",
      "             4 0.90992522 0.09007478\n",
      "             5 0.76641138 0.23358862\n",
      "             6 0.45338442 0.54661558\n",
      "             7 0.00000000 1.00000000\n",
      "[1] \"Check:\"\n",
      "2 3 4 5 6 7 \n",
      "1 1 1 1 1 1 \n",
      "[1] \"########################\"\n",
      "[1] \"P(var|target):\"\n",
      "              left\n",
      "number_project          0          1\n",
      "             2 0.07363171 0.44183116\n",
      "             3 0.34453340 0.01889962\n",
      "             4 0.35135845 0.11129777\n",
      "             5 0.18388240 0.17933641\n",
      "             6 0.04659404 0.17975640\n",
      "             7 0.00000000 0.06887862\n",
      "[1] \"Check:\"\n",
      "0 1 \n",
      "1 1 \n",
      "[1] \"########################\"\n"
     ]
    },
    {
     "data": {
      "text/plain": [
       "Plot with title \"P( number_project , left )\""
      ],
      "image/png": "[encoded data removed]"
     },
     "metadata": {
      "image/png": {
       "width": 420,
       "height": 420
      }
     },
     "output_type": "display_data"
    },
    {
     "name": "stdout",
     "output_type": "stream",
     "text": [
      "[1] \"P(target, var):\"\n",
      "                  left\n",
      "time_spend_company      0      1\n",
      "                2  0.2135 0.0036\n",
      "                3  0.3263 0.1062\n",
      "                4  0.1083 0.0583\n",
      "                5  0.0427 0.0557\n",
      "                6  0.0337 0.0143\n",
      "                7  0.0126 0.0000\n",
      "                8  0.0102 0.0000\n",
      "                10 0.0146 0.0000\n",
      "[1] \"########################\"\n",
      "[1] \"P(target):\"\n",
      "[1] \"Check:\"\n",
      "\n",
      "     0      1 \n",
      "0.7619 0.2381 \n",
      "     0      1 \n",
      "0.7619 0.2381 \n",
      "[1] \"########################\"\n",
      "[1] \"P(var):\"\n",
      "[1] \"Check:\"\n",
      "\n",
      "     2      3      4      5      6      7      8     10 \n",
      "0.2171 0.4325 0.1666 0.0984 0.0480 0.0126 0.0102 0.0146 \n",
      "     2      3      4      5      6      7      8     10 \n",
      "0.2171 0.4325 0.1666 0.0984 0.0480 0.0126 0.0102 0.0146 \n",
      "[1] \"########################\"\n",
      "[1] \"P(target|var):\"\n",
      "                  left\n",
      "time_spend_company          0          1\n",
      "                2  0.98341778 0.01658222\n",
      "                3  0.75445087 0.24554913\n",
      "                4  0.65006002 0.34993998\n",
      "                5  0.43394309 0.56605691\n",
      "                6  0.70208333 0.29791667\n",
      "                7  1.00000000 0.00000000\n",
      "                8  1.00000000 0.00000000\n",
      "                10 1.00000000 0.00000000\n",
      "[1] \"Check:\"\n",
      " 2  3  4  5  6  7  8 10 \n",
      " 1  1  1  1  1  1  1  1 \n",
      "[1] \"########################\"\n",
      "[1] \"P(var|target):\"\n",
      "                  left\n",
      "time_spend_company          0          1\n",
      "                2  0.28022050 0.01511970\n",
      "                3  0.42827143 0.44603108\n",
      "                4  0.14214464 0.24485510\n",
      "                5  0.05604410 0.23393532\n",
      "                6  0.04423153 0.06005880\n",
      "                7  0.01653760 0.00000000\n",
      "                8  0.01338758 0.00000000\n",
      "                10 0.01916262 0.00000000\n",
      "[1] \"Check:\"\n",
      "0 1 \n",
      "1 1 \n",
      "[1] \"########################\"\n"
     ]
    },
    {
     "data": {
      "text/plain": [
       "Plot with title \"P( time_spend_company , left )\""
      ],
      "image/png": "[encoded data removed]"
     },
     "metadata": {
      "image/png": {
       "width": 420,
       "height": 420
      }
     },
     "output_type": "display_data"
    },
    {
     "name": "stdout",
     "output_type": "stream",
     "text": [
      "[1] \"P(target, var):\"\n",
      "             left\n",
      "Work_accident      0      1\n",
      "            0 0.6277 0.2264\n",
      "            1 0.1342 0.0117\n",
      "[1] \"########################\"\n",
      "[1] \"P(target):\"\n",
      "[1] \"Check:\"\n",
      "\n",
      "     0      1 \n",
      "0.7619 0.2381 \n",
      "     0      1 \n",
      "0.7619 0.2381 \n",
      "[1] \"########################\"\n",
      "[1] \"P(var):\"\n",
      "[1] \"Check:\"\n",
      "\n",
      "     0      1 \n",
      "0.8541 0.1459 \n",
      "     0      1 \n",
      "0.8541 0.1459 \n",
      "[1] \"########################\"\n",
      "[1] \"P(target|var):\"\n",
      "             left\n",
      "Work_accident          0          1\n",
      "            0 0.73492565 0.26507435\n",
      "            1 0.91980809 0.08019191\n",
      "[1] \"Check:\"\n",
      "0 1 \n",
      "1 1 \n",
      "[1] \"########################\"\n",
      "[1] \"P(var|target):\"\n",
      "             left\n",
      "Work_accident          0          1\n",
      "            0 0.82386140 0.95086098\n",
      "            1 0.17613860 0.04913902\n",
      "[1] \"Check:\"\n",
      "0 1 \n",
      "1 1 \n",
      "[1] \"########################\"\n"
     ]
    },
    {
     "data": {
      "text/plain": [
       "Plot with title \"P( Work_accident , left )\""
      ],
      "image/png": "[encoded data removed]"
     },
     "metadata": {
      "image/png": {
       "width": 420,
       "height": 420
      }
     },
     "output_type": "display_data"
    },
    {
     "name": "stdout",
     "output_type": "stream",
     "text": [
      "[1] \"P(target, var):\"\n",
      "                     left\n",
      "promotion_last_5years      0      1\n",
      "                    0 0.7420 0.2369\n",
      "                    1 0.0199 0.0012\n",
      "[1] \"########################\"\n",
      "[1] \"P(target):\"\n",
      "[1] \"Check:\"\n",
      "\n",
      "     0      1 \n",
      "0.7619 0.2381 \n",
      "     0      1 \n",
      "0.7619 0.2381 \n",
      "[1] \"########################\"\n",
      "[1] \"P(var):\"\n",
      "[1] \"Check:\"\n",
      "\n",
      "     0      1 \n",
      "0.9789 0.0211 \n",
      "     0      1 \n",
      "0.9789 0.0211 \n",
      "[1] \"########################\"\n",
      "[1] \"P(target|var):\"\n",
      "                     left\n",
      "promotion_last_5years          0          1\n",
      "                    0 0.75799367 0.24200633\n",
      "                    1 0.94312796 0.05687204\n",
      "[1] \"Check:\"\n",
      "0 1 \n",
      "1 1 \n",
      "[1] \"########################\"\n",
      "[1] \"P(var|target):\"\n",
      "                     left\n",
      "promotion_last_5years           0           1\n",
      "                    0 0.973881087 0.994960101\n",
      "                    1 0.026118913 0.005039899\n",
      "[1] \"Check:\"\n",
      "0 1 \n",
      "1 1 \n",
      "[1] \"########################\"\n"
     ]
    },
    {
     "data": {
      "text/plain": [
       "Plot with title \"P( promotion_last_5years , left )\""
      ],
      "image/png": "[encoded data removed]"
     },
     "metadata": {
      "image/png": {
       "width": 420,
       "height": 420
      }
     },
     "output_type": "display_data"
    },
    {
     "name": "stdout",
     "output_type": "stream",
     "text": [
      "[1] \"P(target, var):\"\n",
      "             left\n",
      "department         0      1\n",
      "  IT          0.0643 0.0182\n",
      "  RandD       0.0450 0.0074\n",
      "  accounting  0.0376 0.0141\n",
      "  hr          0.0369 0.0134\n",
      "  management  0.0355 0.0065\n",
      "  marketing   0.0423 0.0128\n",
      "  product_mng 0.0485 0.0123\n",
      "  sales       0.2091 0.0699\n",
      "  support     0.1105 0.0376\n",
      "  technical   0.1322 0.0459\n",
      "[1] \"########################\"\n",
      "[1] \"P(target):\"\n",
      "[1] \"Check:\"\n",
      "\n",
      "     0      1 \n",
      "0.7619 0.2381 \n",
      "     0      1 \n",
      "0.7619 0.2381 \n",
      "[1] \"########################\"\n",
      "[1] \"P(var):\"\n",
      "[1] \"Check:\"\n",
      "\n",
      "         IT       RandD  accounting          hr  management   marketing \n",
      "     0.0825      0.0524      0.0517      0.0503      0.0420      0.0551 \n",
      "product_mng       sales     support   technical \n",
      "     0.0608      0.2790      0.1481      0.1781 \n",
      "         IT       RandD  accounting          hr  management   marketing \n",
      "     0.0825      0.0524      0.0517      0.0503      0.0420      0.0551 \n",
      "product_mng       sales     support   technical \n",
      "     0.0608      0.2790      0.1481      0.1781 \n",
      "[1] \"########################\"\n",
      "[1] \"P(target|var):\"\n",
      "             left\n",
      "department            0         1\n",
      "  IT          0.7793939 0.2206061\n",
      "  RandD       0.8587786 0.1412214\n",
      "  accounting  0.7272727 0.2727273\n",
      "  hr          0.7335984 0.2664016\n",
      "  management  0.8452381 0.1547619\n",
      "  marketing   0.7676951 0.2323049\n",
      "  product_mng 0.7976974 0.2023026\n",
      "  sales       0.7494624 0.2505376\n",
      "  support     0.7461175 0.2538825\n",
      "  technical   0.7422796 0.2577204\n",
      "[1] \"Check:\"\n",
      "         IT       RandD  accounting          hr  management   marketing \n",
      "          1           1           1           1           1           1 \n",
      "product_mng       sales     support   technical \n",
      "          1           1           1           1 \n",
      "[1] \"########################\"\n",
      "[1] \"P(var|target):\"\n",
      "             left\n",
      "department             0          1\n",
      "  IT          0.08439428 0.07643847\n",
      "  RandD       0.05906287 0.03107938\n",
      "  accounting  0.04935031 0.05921882\n",
      "  hr          0.04843155 0.05627887\n",
      "  management  0.04659404 0.02729945\n",
      "  marketing   0.05551910 0.05375892\n",
      "  product_mng 0.06365665 0.05165897\n",
      "  sales       0.27444547 0.29357413\n",
      "  support     0.14503216 0.15791684\n",
      "  technical   0.17351358 0.19277614\n",
      "[1] \"Check:\"\n",
      "0 1 \n",
      "1 1 \n",
      "[1] \"########################\"\n"
     ]
    },
    {
     "data": {
      "text/plain": [
       "Plot with title \"P( department , left )\""
      ],
      "image/png": "[encoded data removed]"
     },
     "metadata": {
      "image/png": {
       "width": 420,
       "height": 420
      }
     },
     "output_type": "display_data"
    },
    {
     "name": "stdout",
     "output_type": "stream",
     "text": [
      "[1] \"P(target, var):\"\n",
      "        left\n",
      "salary        0      1\n",
      "  high   0.0742 0.0048\n",
      "  low    0.3421 0.1464\n",
      "  medium 0.3456 0.0869\n",
      "[1] \"########################\"\n",
      "[1] \"P(target):\"\n",
      "[1] \"Check:\"\n",
      "\n",
      "     0      1 \n",
      "0.7619 0.2381 \n",
      "     0      1 \n",
      "0.7619 0.2381 \n",
      "[1] \"########################\"\n",
      "[1] \"P(var):\"\n",
      "[1] \"Check:\"\n",
      "\n",
      "  high    low medium \n",
      "0.0790 0.4885 0.4325 \n",
      "  high    low medium \n",
      "0.0790 0.4885 0.4325 \n",
      "[1] \"########################\"\n",
      "[1] \"P(target|var):\"\n",
      "        left\n",
      "salary            0          1\n",
      "  high   0.93924051 0.06075949\n",
      "  low    0.70030706 0.29969294\n",
      "  medium 0.79907514 0.20092486\n",
      "[1] \"Check:\"\n",
      "  high    low medium \n",
      "     1      1      1 \n",
      "[1] \"########################\"\n",
      "[1] \"P(var|target):\"\n",
      "        left\n",
      "salary            0          1\n",
      "  high   0.09738811 0.02015960\n",
      "  low    0.44900906 0.61486770\n",
      "  medium 0.45360284 0.36497270\n",
      "[1] \"Check:\"\n",
      "0 1 \n",
      "1 1 \n",
      "[1] \"########################\"\n"
     ]
    },
    {
     "data": {
      "text/plain": [
       "Plot with title \"P( salary , left )\""
      ],
      "image/png": "[encoded data removed]"
     },
     "metadata": {
      "image/png": {
       "width": 420,
       "height": 420
      }
     },
     "output_type": "display_data"
    }
   ],
   "execution_count": 16
  },
  {
   "metadata": {},
   "cell_type": "markdown",
   "source": "# Quantitatives Attributes",
   "id": "7411069029c411d2"
  },
  {
   "metadata": {
    "ExecuteTime": {
     "end_time": "2024-11-25T16:41:49.492208Z",
     "start_time": "2024-11-25T16:41:49.379623Z"
    }
   },
   "cell_type": "code",
   "source": [
    "# Calculate correlation matrix for quantitative attributes\n",
    "correlation_matrix <- cor(data[, quantitatives_attributes_col_idx])\n",
    "print(\"Correlation Matrix:\")\n",
    "print(correlation_matrix)\n",
    "corrplot(correlation_matrix, method = \"circle\")"
   ],
   "id": "20b93383f08f7d79",
   "outputs": [
    {
     "name": "stdout",
     "output_type": "stream",
     "text": [
      "[1] \"Correlation Matrix:\"\n",
      "                     satisfaction_level last_evaluation average_montly_hours\n",
      "satisfaction_level           1.00000000       0.1083785          -0.01512616\n",
      "last_evaluation              0.10837846       1.0000000           0.33678408\n",
      "average_montly_hours        -0.01512616       0.3367841           1.00000000\n"
     ]
    },
    {
     "data": {
      "text/plain": [
       "Plot with title \"\""
      ],
      "image/png": "[encoded data removed]"
     },
     "metadata": {
      "image/png": {
       "width": 420,
       "height": 420
      }
     },
     "output_type": "display_data"
    }
   ],
   "execution_count": 17
  },
  {
   "metadata": {
    "ExecuteTime": {
     "end_time": "2024-11-25T16:41:49.555210Z",
     "start_time": "2024-11-25T16:41:49.537213Z"
    }
   },
   "cell_type": "code",
   "source": [
    "generateQuantitativeAttributesAnalysisSummary <- function(data, target_variables_idx, quantitatives_attributes_col_idx){\n",
    "  #Calculate means\n",
    "  overallMeans <- round(colMeans(data[, quantitatives_attributes_col_idx, drop=FALSE]),2)\n",
    "\n",
    "  #Calculate variances \n",
    "  overallVar <- round(apply(data[, quantitatives_attributes_col_idx, drop=FALSE], 2, var),2)\n",
    "  \n",
    "  # TODO : Generalize this part to loop on the Target Value and generate each conditional means\n",
    "  #Calculate conditional means P(f|left=0)\n",
    "  condMeansStay <- round(colMeans(data[data[,target_variables_idx ]==0,quantitatives_attributes_col_idx, drop=FALSE]),2)\n",
    "\n",
    "  covMatrixStay <- var(data[data[, target_variables_idx] == 0, quantitatives_attributes_col_idx, drop = FALSE])\n",
    "  condStdDevStay <- round(sqrt(diag(covMatrixStay)),2)\n",
    "\n",
    "  #Calculate conditional Means P(f|left=1)\n",
    "  condMeansLeft <- round(colMeans(data[data[,target_variables_idx]==1,quantitatives_attributes_col_idx, drop=FALSE]),2)\n",
    "  covMatrixLeft <- var(data[data[, target_variables_idx] == 1, quantitatives_attributes_col_idx, drop = FALSE])\n",
    "  condStdDevLeft <- round(sqrt(diag(covMatrixLeft)),2)\n",
    "\n",
    "  #Calculate Standard deviations\n",
    "  stdDevs <- round(sqrt(diag(var(data[,quantitatives_attributes_col_idx, drop=FALSE]))),2)\n",
    "\n",
    "  attributesScore<-round(abs(condMeansLeft-condMeansStay)/stdDevs,2)\n",
    "\n",
    "  summary <- data.frame(\n",
    "    Mean = overallMeans,\n",
    "    Variance = overallVar,\n",
    "    Std_Dev = stdDevs,\n",
    "    Mean_Stay = condMeansStay,\n",
    "    Std_Dev_Stay = condStdDevStay,\n",
    "    Mean_Left = condMeansLeft,\n",
    "    Std_Dev_Left = condStdDevLeft,\n",
    "    Importance_Score = attributesScore\n",
    "  )\n",
    "  \n",
    "  sorted_summary <- summary[order(-summary$Importance_Score), ]  # Sort by Importance Score descending\n",
    "\n",
    "  return(sorted_summary)\n",
    "}"
   ],
   "id": "645184397d5d300b",
   "outputs": [],
   "execution_count": 18
  },
  {
   "metadata": {
    "ExecuteTime": {
     "end_time": "2024-11-25T16:41:49.607821Z",
     "start_time": "2024-11-25T16:41:49.591769Z"
    }
   },
   "cell_type": "code",
   "source": [
    "saveQuantitativeAttributesAnalysisSummary <- function(wd, folder_name, file_name, summary){\n",
    "  # Set working directory to the folder of the script\n",
    "  setwd(wd)\n",
    "\n",
    "  # Ensure output directory exists\n",
    "  output_dir <- file.path(wd, folder_name)\n",
    "  if (!dir.exists(output_dir)) {\n",
    "    dir.create(output_dir, recursive = TRUE)\n",
    "  }\n",
    "\n",
    "  # Construct full file path for saving the PNG\n",
    "  full_file_path <- file.path(output_dir, paste0(file_name, \".png\"))\n",
    "\n",
    "  # Save the table as a PNG\n",
    "  png(full_file_path, width = 1200, height = 500)\n",
    "  grid.table(summary)\n",
    "  dev.off()\n",
    "}"
   ],
   "id": "70b3c61697f329aa",
   "outputs": [],
   "execution_count": 19
  },
  {
   "metadata": {
    "ExecuteTime": {
     "end_time": "2024-11-25T16:41:49.810100Z",
     "start_time": "2024-11-25T16:41:49.625825Z"
    }
   },
   "cell_type": "code",
   "source": [
    "summary <- generateQuantitativeAttributesAnalysisSummary(\n",
    "  data, \n",
    "  target_variables_idx, \n",
    "  quantitatives_attributes_col_idx\n",
    ")\n",
    "print(summary)\n",
    "saveQuantitativeAttributesAnalysisSummary(\n",
    "  working_directory, \n",
    "  output_folder, \n",
    "  \"quantitative_attributes_summary_table\",\n",
    "  summary\n",
    ")\n"
   ],
   "id": "f99010ac5a9aac75",
   "outputs": [
    {
     "name": "stdout",
     "output_type": "stream",
     "text": [
      "                       Mean Variance Std_Dev Mean_Stay Std_Dev_Stay Mean_Left\n",
      "satisfaction_level     0.61     0.06    0.25      0.67         0.22      0.44\n",
      "average_montly_hours 200.69  2484.20   49.84    198.77        45.70    206.83\n",
      "last_evaluation        0.72     0.03    0.17      0.72         0.16      0.72\n",
      "                     Std_Dev_Left Importance_Score\n",
      "satisfaction_level           0.26             0.92\n",
      "average_montly_hours        60.85             0.16\n",
      "last_evaluation              0.20             0.00\n"
     ]
    },
    {
     "data": {
      "text/html": [
       "<strong>png:</strong> 2"
      ],
      "text/markdown": "**png:** 2",
      "text/latex": "\\textbf{png:} 2",
      "text/plain": [
       "png \n",
       "  2 "
      ]
     },
     "metadata": {},
     "output_type": "display_data"
    }
   ],
   "execution_count": 20
  },
  {
   "metadata": {
    "ExecuteTime": {
     "end_time": "2024-11-25T16:41:49.844016Z",
     "start_time": "2024-11-25T16:41:49.824094Z"
    }
   },
   "cell_type": "code",
   "source": [
    "# Function to visualize the empirical distribution of a quantitative attribute\n",
    "visualizeEmpiricalDistributionOfQuantitativeAttribute <- function(wd, folder_name, data, idx) {\n",
    "\n",
    "\n",
    "  # Ensure output directory exists\n",
    "  output_dir <- ensure_output_directory(wd, folder_name)\n",
    "  \n",
    "  # get variable names\n",
    "  var_name <- names(data)[idx]\n",
    "\n",
    "  # Create the full path for the PDF file\n",
    "  full_pdf_path <- file.path(output_dir, paste0(var_name,\"_empirical\", \".pdf\"))\n",
    "\n",
    "  # Open a PDF to save the plots\n",
    "  pdf(file = full_pdf_path, width = 12, height = 6)\n",
    "\n",
    "  # Set up a 1-row, 1-column layout for the plots\n",
    "  par(mfrow = c(1, 1), mar = c(7, 4, 4, 2) + 0.1)\n",
    "\n",
    "  # Calculate summary statistics for the attribute\n",
    "  avg <- mean(data[, idx])\n",
    "  var <- var(data[, idx])\n",
    "  std_dev <- sqrt(var)\n",
    "\n",
    "  # Create the histogram and save its output\n",
    "  hist_output <- hist(data[, idx],\n",
    "                      main = paste(\"Empirical distribution of \", var_name),\n",
    "                      xlab = var_name,\n",
    "                      breaks = 20)\n",
    "\n",
    "  # Draw a vertical line for the mean\n",
    "  abline(v = avg, col = \"red\")\n",
    "\n",
    "  # Extract the maximum frequency from the histogram output\n",
    "  max_frequency <- max(hist_output$counts)\n",
    "\n",
    "  # Set the y value for text labels and lines relative to the histogram height\n",
    "  y_line <- max_frequency * 0.1       # Set line height at 10% of the max frequency for visibility\n",
    "  y_text_sd <- max_frequency * 0.15   # Set text height slightly above the line\n",
    "  y_text_34 <- max_frequency * 0.5    # Set \"34% of data\" labels around 50% of the max frequency for better visibility\n",
    "\n",
    "  #######################################################\n",
    "  # Draw a line representing the standard deviation range\n",
    "  # This region theoretically contains 68% of the data on each side around the mean if the attribute is normally distributed\n",
    "  points(x = c(avg - std_dev, avg + std_dev), y = c(y_line, y_line), type = \"l\", col = \"darkgreen\")\n",
    "\n",
    "  # Add labels for μ - σ and μ + σ\n",
    "  text(x = avg - std_dev, y = y_text_sd, labels = TeX(\"$\\\\mu_X-\\\\sigma_X$\"), col = \"blue\", cex = 1)\n",
    "  text(x = avg + std_dev, y = y_text_sd, labels = TeX(\"$\\\\mu_X+\\\\sigma_X$\"), col = \"blue\", cex = 1)\n",
    "\n",
    "  # Draw vertical lines at μ - σ and μ + σ\n",
    "  abline(v = avg - std_dev, col = \"darkgreen\")\n",
    "  abline(v = avg + std_dev, col = \"darkgreen\")\n",
    "\n",
    "  # Add labels indicating \"34% of data\" on either side of the mean\n",
    "  text(x = avg - 0.5 * std_dev, y = y_text_34, labels = \"34% of data\", col = \"blue\", cex = 1)\n",
    "  text(x = avg + 0.5 * std_dev, y = y_text_34, labels = \"34% of data\", col = \"blue\", cex = 1)\n",
    "  #######################################################\n",
    "\n",
    "  # Close the PDF device\n",
    "  dev.off()\n",
    "}\n"
   ],
   "id": "ff5f0d0980c06924",
   "outputs": [],
   "execution_count": 21
  },
  {
   "metadata": {
    "ExecuteTime": {
     "end_time": "2024-11-25T16:41:49.875576Z",
     "start_time": "2024-11-25T16:41:49.852016Z"
    }
   },
   "cell_type": "code",
   "source": [
    "# Function to visualize conditional distributions of an attribute for two groups and save the output\n",
    "visualizeConditionalDistribution <- function(wd, folder_name, data, idx, target_idx) {\n",
    "\n",
    "  # Ensure output directory exists\n",
    "  output_dir <- ensure_output_directory(wd, folder_name)\n",
    "\n",
    "  # get variable names\n",
    "  var_name <- names(data)[idx]\n",
    "\n",
    "  # Create the full path for the PDF file\n",
    "  full_pdf_path <- file.path(output_dir, paste0(var_name,\"_conditional\", \".pdf\"))\n",
    "\n",
    "  # Open a PDF to save the plots\n",
    "  pdf(file = full_pdf_path, width = 12, height = 6)\n",
    "\n",
    "  # Set up a 1-row, 2-column layout for the plots\n",
    "  par(mfrow = c(1, 1), mar = c(7, 4, 4, 2) + 0.1)\n",
    "\n",
    "  # Calculate the range for the bins\n",
    "  min_x <- min(data[, idx])\n",
    "  max_x <- max(data[, idx])\n",
    "  breaks <- seq(from = min_x, to = max_x, length.out = 20)\n",
    "\n",
    "  # Create the histogram for people who left (target variable = 1)\n",
    "  hist(\n",
    "          data[data[, target_idx] == 1, idx],\n",
    "          col = rgb(red = 1, green = 0, blue = 0, alpha = 0.5),\n",
    "          xlab = var_name,\n",
    "          main = paste(\"Density of\", var_name, \"for P(\", var_name, \"| left=1), P(\", var_name, \"| left=0)\"),\n",
    "          breaks = breaks,\n",
    "          freq = FALSE\n",
    "  )\n",
    "\n",
    "  # Add the histogram for people who stayed (target variable = 0)\n",
    "  hist(\n",
    "          data[data[, target_idx] == 0, idx],\n",
    "          col = rgb(red = 0, green = 1, blue = 0, alpha = 0.5),\n",
    "          breaks = breaks,\n",
    "          freq = FALSE,\n",
    "          add = TRUE\n",
    "  )\n",
    "\n",
    "  # Add a legend to the plot\n",
    "  legend(\"topright\",\n",
    "         legend = c(\"left=0\", \"left=1\"),\n",
    "         fill = c(rgb(red = 0, green = 1, blue = 0, alpha = 0.5),\n",
    "                  rgb(red = 1, green = 0, blue = 0, alpha = 0.5)))\n",
    "\n",
    "  # Close the PDF device\n",
    "  dev.off()\n",
    "}\n"
   ],
   "id": "289b13d4a591a68f",
   "outputs": [],
   "execution_count": 22
  },
  {
   "metadata": {
    "ExecuteTime": {
     "end_time": "2024-11-25T17:42:06.665507Z",
     "start_time": "2024-11-25T17:42:06.554291Z"
    }
   },
   "cell_type": "code",
   "source": [
    "# Define the index of the variable and target variable\n",
    "for (i in quantitatives_attributes_col_idx) {\n",
    "  visualizeEmpiricalDistributionOfQuantitativeAttribute(\n",
    "          working_directory, \n",
    "          output_folder, \n",
    "          data, \n",
    "          i\n",
    "  )\n",
    "}"
   ],
   "id": "6a8a1a7a0bb0883c",
   "outputs": [],
   "execution_count": 33
  },
  {
   "metadata": {
    "ExecuteTime": {
     "end_time": "2024-11-25T17:41:59.025456Z",
     "start_time": "2024-11-25T17:41:58.961402Z"
    }
   },
   "cell_type": "code",
   "source": [
    "# Define the index of the variable and target variable\n",
    "for (i in quantitatives_attributes_col_idx) {\n",
    "  visualizeConditionalDistribution(\n",
    "          working_directory, \n",
    "          output_folder, \n",
    "          data, \n",
    "          i, \n",
    "          target_variables_idx\n",
    "  )\n",
    "}"
   ],
   "id": "4570861ac66b6065",
   "outputs": [],
   "execution_count": 32
  },
  {
   "metadata": {
    "ExecuteTime": {
     "end_time": "2024-11-25T18:42:30.296452Z",
     "start_time": "2024-11-25T18:42:30.262046Z"
    }
   },
   "cell_type": "code",
   "source": [
    "# Helper Function to calculate conditional probability P(target = 1 | lower_threshold <= quantitative column <= upper_threshold)\n",
    "# This function is used to calculate the probabilities present in the report conclusion\n",
    "calculate_conditional_probability_interval_by_index <- function(data, column_idx, target_idx, lower_threshold, upper_threshold, target_value) {\n",
    "\n",
    "  # Extract the column and target variables using the provided indices\n",
    "  column <- data[, column_idx]\n",
    "\n",
    "  # Filter the rows where the specified column is within the interval\n",
    "  filtered_data <- data[column >= lower_threshold & column < upper_threshold, ]\n",
    "\n",
    "  # Check if the filtered data is not empty to avoid division by zero\n",
    "  if (nrow(filtered_data) == 0) {\n",
    "    warning(\"No data points in the specified interval\")\n",
    "    return(NA)\n",
    "  }\n",
    "\n",
    "  # Calculate the conditional probability P(target = target_value | lower_threshold <= column <= upper_threshold)\n",
    "  count_target_given_interval <- nrow(filtered_data[filtered_data[, target_idx] == target_value, ])\n",
    "  prob_target_given_interval <- count_target_given_interval / nrow(filtered_data)\n",
    "\n",
    "  # Return the result\n",
    "  return(prob_target_given_interval)\n",
    "}\n",
    "\n",
    "# Example usage\n",
    "lower_threshold_value <- 240\n",
    "upper_threshold_value <- 270\n",
    "column_index <- 5  # For 'average_montly_hours'\n",
    "target_value <- 1 \n",
    "\n",
    "conditional_probability_interval <- calculate_conditional_probability_interval_by_index(data, column_index, target_variables_idx, lower_threshold_value, upper_threshold_value, target_value)\n",
    "\n",
    "# Print the result\n",
    "print(conditional_probability_interval)\n"
   ],
   "id": "84331ef4ec27d884",
   "outputs": [
    {
     "name": "stdout",
     "output_type": "stream",
     "text": [
      "[1] 0.283871\n"
     ]
    }
   ],
   "execution_count": 62
  },
  {
   "metadata": {
    "ExecuteTime": {
     "end_time": "2024-11-25T16:41:50.105992Z",
     "start_time": "2024-11-25T16:41:50.089488Z"
    }
   },
   "cell_type": "code",
   "source": [
    "# Function to create a scatter plot for the top two most important quantitative attributes\n",
    "scatterPlotTopTwoAttributes <- function(wd, folder_name, data, quantitatives_attributes_col_idx, target_variables_idx) {\n",
    "\n",
    "  # Ensure output directory exists\n",
    "  output_dir <- ensure_output_directory(wd, folder_name)\n",
    "  \n",
    "\n",
    "  # Generate summary of quantitative attributes\n",
    "  summary <- generateQuantitativeAttributesAnalysisSummary(data, target_variables_idx, quantitatives_attributes_col_idx)\n",
    "  \n",
    "  most_important_attributes_names <- row.names(summary)[1:2]\n",
    "  x_idx <- which(names(data)== most_important_attributes_names[1])\n",
    "  y_idx <- which(names(data)== most_important_attributes_names[2])\n",
    "\n",
    "  # Create the full path for the PDF file\n",
    "  full_pdf_path <- file.path(output_dir, paste0(most_important_attributes_names[1], \"_\",most_important_attributes_names[2],\"_scatter\", \".pdf\"))\n",
    "\n",
    "  # Open a PDF to save the plots\n",
    "  pdf(file = full_pdf_path, width = 12, height = 6)\n",
    "\n",
    "  # Set up a 1-row, 2-column layout for the plots\n",
    "  par(mfrow = c(1, 1), mar = c(7, 4, 4, 2) + 0.1)\n",
    "\n",
    "  # Print the names of the two most important attributes\n",
    "  print(paste(\"Top two most important attributes:\", colnames(data)[c(x_idx,y_idx)]))\n",
    "\n",
    "  # Extract the columns for the top two attributes\n",
    "  x <- data[, x_idx]\n",
    "  y <- data[, y_idx]\n",
    "  target <- factor(data[, target_variables_idx])\n",
    "\n",
    "  # Create the scatter plot\n",
    "  plot(\n",
    "    x, y,\n",
    "    col = target,\n",
    "    pch = as.numeric(target),\n",
    "    xlab = colnames(data)[x_idx],\n",
    "    ylab = colnames(data)[y_idx],\n",
    "    main = \"Scatter Plot of Top 2 Attributes Left status\"\n",
    "  )\n",
    "\n",
    "  # Add a legend to the plot\n",
    "  legend(\"topright\",\n",
    "         legend = levels(target),\n",
    "         col = 1:length(levels(target)),\n",
    "         pch = 1:length(levels(target)),\n",
    "         title = \"Left status\")\n",
    "\n",
    "  # Close the PDF device\n",
    "  dev.off()\n",
    "}\n",
    "\n"
   ],
   "id": "820030635738097f",
   "outputs": [],
   "execution_count": 25
  },
  {
   "metadata": {
    "ExecuteTime": {
     "end_time": "2024-11-25T16:41:50.481245Z",
     "start_time": "2024-11-25T16:41:50.120991Z"
    }
   },
   "cell_type": "code",
   "source": [
    "# Example usage\n",
    "scatterPlotTopTwoAttributes(working_directory, output_folder, data, quantitatives_attributes_col_idx, target_variables_idx)"
   ],
   "id": "801c205338dbc730",
   "outputs": [
    {
     "name": "stdout",
     "output_type": "stream",
     "text": [
      "[1] \"Top two most important attributes: satisfaction_level\"  \n",
      "[2] \"Top two most important attributes: average_montly_hours\"\n"
     ]
    },
    {
     "data": {
      "text/html": [
       "<strong>png:</strong> 2"
      ],
      "text/markdown": "**png:** 2",
      "text/latex": "\\textbf{png:} 2",
      "text/plain": [
       "png \n",
       "  2 "
      ]
     },
     "metadata": {},
     "output_type": "display_data"
    }
   ],
   "execution_count": 26
  },
  {
   "metadata": {
    "ExecuteTime": {
     "end_time": "2024-11-25T16:41:50.957552Z",
     "start_time": "2024-11-25T16:41:50.522294Z"
    }
   },
   "cell_type": "code",
   "source": [
    "# Extract the columns for the top two attributes\n",
    "x <- data[, 2]\n",
    "y <- data[, 3]\n",
    "target <- factor(data[, target_variables_idx])\n",
    "\n",
    "# Create the scatter plot\n",
    "plot(\n",
    "  x, y,\n",
    "  col = target,\n",
    "  pch = as.numeric(target),\n",
    "  xlab = colnames(data)[2],\n",
    "  ylab = colnames(data)[3],\n",
    "  main = \"Scatter Plot of Top 2 Attributes by Class Label\"\n",
    ")\n",
    "\n",
    "# Add a legend to the plot\n",
    "legend(\"topright\",\n",
    "       legend = levels(target),\n",
    "       col = 1:length(levels(target)),\n",
    "       pch = 1:length(levels(target)),\n",
    "       title = \"Class Labels\")\n"
   ],
   "id": "4153b6d315250a5d",
   "outputs": [
    {
     "data": {
      "text/plain": [
       "Plot with title \"Scatter Plot of Top 2 Attributes by Class Label\""
      ],
      "image/png": "[encoded data removed]"
     },
     "metadata": {
      "image/png": {
       "width": 420,
       "height": 420
      }
     },
     "output_type": "display_data"
    }
   ],
   "execution_count": 27
  },
  {
   "metadata": {
    "ExecuteTime": {
     "end_time": "2024-11-25T16:41:51.469208Z",
     "start_time": "2024-11-25T16:41:51.026444Z"
    }
   },
   "cell_type": "code",
   "source": [
    "# Extract the columns for the top two attributes\n",
    "x <- data[, 2]\n",
    "y <- data[, 3]\n",
    "target <- factor(data[, target_variables_idx])\n",
    "\n",
    "# Create the scatter plot\n",
    "plot(\n",
    "  x, y,\n",
    "  col = target,\n",
    "  pch = as.numeric(target),\n",
    "  xlab = colnames(data)[2],\n",
    "  ylab = colnames(data)[3],\n",
    "  main = \"Scatter Plot of Top 2 Attributes by Class Label\"\n",
    ")\n",
    "\n",
    "# Add a legend to the plot\n",
    "legend(\"topright\",\n",
    "       legend = levels(target),\n",
    "       col = 1:length(levels(target)),\n",
    "       pch = 1:length(levels(target)),\n",
    "       title = \"Class Labels\")\n"
   ],
   "id": "fd20627be3fea919",
   "outputs": [
    {
     "data": {
      "text/plain": [
       "Plot with title \"Scatter Plot of Top 2 Attributes by Class Label\""
      ],
      "image/png": "[encoded data removed]"
     },
     "metadata": {
      "image/png": {
       "width": 420,
       "height": 420
      }
     },
     "output_type": "display_data"
    }
   ],
   "execution_count": 28
  },
  {
   "metadata": {
    "ExecuteTime": {
     "end_time": "2024-11-25T16:41:51.965084Z",
     "start_time": "2024-11-25T16:41:51.492744Z"
    }
   },
   "cell_type": "code",
   "source": [
    "# Extract the columns for the top two attributes\n",
    "x <- data[, 3]\n",
    "y <- data[, 5]\n",
    "target <- factor(data[, target_variables_idx])\n",
    "\n",
    "# Create the scatter plot\n",
    "plot(\n",
    "  x, y,\n",
    "  col = target,\n",
    "  pch = as.numeric(target),\n",
    "  xlab = colnames(data)[3],\n",
    "  ylab = colnames(data)[5],\n",
    "  main = \"Scatter Plot of Top 2 Attributes by Class Label\"\n",
    ")\n",
    "\n",
    "# Add a legend to the plot\n",
    "legend(\"topright\",\n",
    "       legend = levels(target),\n",
    "       col = 1:length(levels(target)),\n",
    "       pch = 1:length(levels(target)),\n",
    "       title = \"Class Labels\")\n"
   ],
   "id": "9bfed164e7725929",
   "outputs": [
    {
     "data": {
      "text/plain": [
       "Plot with title \"Scatter Plot of Top 2 Attributes by Class Label\""
      ],
      "image/png": "[encoded data removed]"
     },
     "metadata": {
      "image/png": {
       "width": 420,
       "height": 420
      }
     },
     "output_type": "display_data"
    }
   ],
   "execution_count": 29
  },
  {
   "metadata": {
    "ExecuteTime": {
     "end_time": "2024-11-25T16:41:58.576535Z",
     "start_time": "2024-11-25T16:41:58.556535Z"
    }
   },
   "cell_type": "code",
   "source": [
    "# Function to visualize normal distribution and compare with empirical histograms\n",
    "QuantitativeAttrsTheory <- function(data, variable_idx, target_idx) {\n",
    "  \n",
    "  # Extract the selected variable and target variable\n",
    "  var_name <- colnames(data)[variable_idx]\n",
    "  #target_name <- colnames(data)[target_idx]\n",
    "\n",
    "  # Extract the summary from the generateQuantitativeAttributesAnalysisSummary function\n",
    "  summary <- generateQuantitativeAttributesAnalysisSummary(data, target_idx, c(variable_idx))\n",
    "  print(summary)\n",
    "  \n",
    "  overall_mean <- summary$Mean\n",
    "  overall_std <- summary$Std_Dev\n",
    "  \n",
    "  mean_target_0 <- summary$Mean_Stay\n",
    "  std_target_0 <- summary$Std_Dev_Stay\n",
    "\n",
    "  mean_target_1 <- summary$Mean_Left\n",
    "  std_target_1 <- summary$Std_Dev_Left\n",
    "\n",
    "  # Plot the empirical histogram of the selected variable\n",
    "  hist(data[, variable_idx],\n",
    "       probability = TRUE,\n",
    "       breaks = 20,\n",
    "       main = paste(\"Empirical vs Normal Distribution for\", var_name),\n",
    "       xlab = var_name,\n",
    "       col = rgb(0.8, 0.8, 0.8, 0.5))\n",
    "\n",
    "  # Add the overall normal distribution curve\n",
    "  curve(dnorm(x, mean = overall_mean, sd = overall_std),\n",
    "        col = \"blue\", lwd = 2, add = TRUE,\n",
    "        ylab = \"Density\")\n",
    "\n",
    "  # Add normal distribution for P(f | y = 0)\n",
    "  curve(dnorm(x, mean = mean_target_0, sd = std_target_0),\n",
    "        col = \"red\", lwd = 2, add = TRUE, lty = 2)\n",
    "\n",
    "  # Add normal distribution for P(f | y = 1)\n",
    "  curve(dnorm(x, mean = mean_target_1, sd = std_target_1),\n",
    "        col = \"green\", lwd = 2, add = TRUE, lty = 3)\n",
    "\n",
    "  # Add legend\n",
    "  legend(\"topright\",\n",
    "         legend = c(\"P(f)\", \"P(f | y = 0)\", \"P(f | y = 1)\"),\n",
    "         col = c(\"blue\", \"red\", \"green\"),\n",
    "         lty = c(1, 2, 3),\n",
    "         lwd = 2)\n",
    "}"
   ],
   "id": "1f2e017231bc8c4e",
   "outputs": [],
   "execution_count": 30
  },
  {
   "metadata": {
    "ExecuteTime": {
     "end_time": "2024-11-25T16:42:01.905277Z",
     "start_time": "2024-11-25T16:42:01.644414Z"
    }
   },
   "cell_type": "code",
   "source": [
    "for (i in quantitatives_attributes_col_idx) {\n",
    "  QuantitativeAttrsTheory(data, i, target_variables_idx)\n",
    "}"
   ],
   "id": "583312ff3952668f",
   "outputs": [
    {
     "name": "stdout",
     "output_type": "stream",
     "text": [
      "                   Mean Variance Std_Dev Mean_Stay Std_Dev_Stay Mean_Left\n",
      "satisfaction_level 0.61     0.06    0.25      0.67         0.22      0.44\n",
      "                   Std_Dev_Left Importance_Score\n",
      "satisfaction_level         0.26             0.92\n",
      "                Mean Variance Std_Dev Mean_Stay Std_Dev_Stay Mean_Left\n",
      "last_evaluation 0.72     0.03    0.17      0.72         0.16      0.72\n",
      "                Std_Dev_Left Importance_Score\n",
      "last_evaluation          0.2                0\n"
     ]
    },
    {
     "data": {
      "text/plain": [
       "Plot with title \"Empirical vs Normal Distribution for satisfaction_level\""
      ],
      "image/png": "[encoded data removed]"
     },
     "metadata": {
      "image/png": {
       "width": 420,
       "height": 420
      }
     },
     "output_type": "display_data"
    },
    {
     "name": "stdout",
     "output_type": "stream",
     "text": [
      "                       Mean Variance Std_Dev Mean_Stay Std_Dev_Stay Mean_Left\n",
      "average_montly_hours 200.69   2484.2   49.84    198.77         45.7    206.83\n",
      "                     Std_Dev_Left Importance_Score\n",
      "average_montly_hours        60.85             0.16\n"
     ]
    },
    {
     "data": {
      "text/plain": [
       "Plot with title \"Empirical vs Normal Distribution for last_evaluation\""
      ],
      "image/png": "[encoded data removed]"
     },
     "metadata": {
      "image/png": {
       "width": 420,
       "height": 420
      }
     },
     "output_type": "display_data"
    },
    {
     "data": {
      "text/plain": [
       "Plot with title \"Empirical vs Normal Distribution for average_montly_hours\""
      ],
      "image/png": "[encoded data removed]"
     },
     "metadata": {
      "image/png": {
       "width": 420,
       "height": 420
      }
     },
     "output_type": "display_data"
    }
   ],
   "execution_count": 31
  }
 ],
 "metadata": {
  "kernelspec": {
   "display_name": "R",
   "language": "R",
   "name": "ir"
  },
  "language_info": {
   "codemirror_mode": "r",
   "file_extension": ".r",
   "mimetype": "text/x-r-source",
   "name": "R",
   "pygments_lexer": "r",
   "version": "4.4.1"
  }
 },
 "nbformat": 4,
 "nbformat_minor": 5
}
