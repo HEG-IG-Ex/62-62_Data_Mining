{
 "cells": [
  {
   "cell_type": "code",
   "id": "6c0b3aaf-d56f-4cd8-8a8d-b42c23c4d830",
   "metadata": {
    "ExecuteTime": {
     "end_time": "2024-12-15T17:14:49.295981Z",
     "start_time": "2024-12-15T17:14:49.276906Z"
    }
   },
   "source": [
    "qualitatives_attributes_col_idx <- c(4,6,7,9,10,11)\n",
    "discretized_quantitatives_attributes_col_idx <- c(4,6)\n",
    "quantitatives_attributes_col_idx <- c(2,3,5)\n",
    "target_variables_idx <- 8\n",
    "datasets_directory <- \"../datasets/\"\n",
    "dataset_filename <- \"HR_prediction-all.csv\"\n",
    "output_folder <- \"output\"\n",
    "working_directory <- \"C:/Users/huniv/jnotebook/data-mining/62-62_Data_Mining/tp02/\""
   ],
   "outputs": [],
   "execution_count": 127
  },
  {
   "cell_type": "code",
   "id": "204f95b8-ba8f-4851-8d5e-0608580c6097",
   "metadata": {
    "ExecuteTime": {
     "end_time": "2024-12-15T17:14:49.319905Z",
     "start_time": "2024-12-15T17:14:49.300906Z"
    }
   },
   "source": [
    "#mettre le paquet Naive Bayes à disposition\n",
    "if (!requireNamespace(\"e1071\", quietly = TRUE)) {\n",
    "  install.packages(\"e1071\")\n",
    "}\n",
    "\n",
    "\n",
    "#for latex parsing of equations\n",
    "if (!requireNamespace(\"latex2exp\", quietly = TRUE)) {\n",
    "  install.packages(\"latex2exp\")\n",
    "}\n",
    "\n",
    "# Check if the package is installed\n",
    "if (!require(\"colorspace\", quietly = TRUE)) {\n",
    "  install.packages(\"colorspace\")\n",
    "}\n",
    "\n",
    "library(e1071)\n",
    "library(latex2exp)\n",
    "library(colorspace)"
   ],
   "outputs": [],
   "execution_count": 128
  },
  {
   "metadata": {
    "ExecuteTime": {
     "end_time": "2024-12-15T17:15:07.544006Z",
     "start_time": "2024-12-15T17:15:07.515944Z"
    }
   },
   "cell_type": "code",
   "source": [
    "#read data\n",
    "# avec colClasses, nous contrôlons explicitement les types des différentes variables, \n",
    "# les valeurs qui nous intéressent le plus sont \n",
    "# factor: variables qualitatives\n",
    "# numeric: pour les variables quantitatives\n",
    "myData <- read.table(\n",
    "        \"../datasets/HR_prediction-all.csv\",\n",
    "        header = TRUE,\n",
    "        sep = \",\",\n",
    "        colClasses = c(\n",
    "                \"NULL\",     # Id - Treat it as a factor to prevent numeric misinterpretation\n",
    "                \"numeric\",    # satisfaction_level\n",
    "                \"numeric\",    # last_evaluation\n",
    "                \"factor\",    # number_project\n",
    "                \"integer\",    # average_montly_hours\n",
    "                \"factor\",    # time_spend_company\n",
    "                \"factor\",     # Work_accident (categorical: 0 or 1)\n",
    "                \"factor\",     # left (target variable: 0 or 1)\n",
    "                \"factor\",     # promotion_last_5years (categorical: 0 or 1)\n",
    "                \"factor\",     # department\n",
    "                \"factor\"      # salary\n",
    "        )\n",
    ")\n",
    "\n",
    "# Remove the 'Id' column\n",
    "# myData <- myData[, -1]"
   ],
   "id": "c1cd28efb7662623",
   "outputs": [],
   "execution_count": 135
  },
  {
   "metadata": {
    "ExecuteTime": {
     "end_time": "2024-12-15T17:15:09.356977Z",
     "start_time": "2024-12-15T17:15:09.335962Z"
    }
   },
   "cell_type": "code",
   "source": [
    "# Ensures reproducibility\n",
    "# set.seed(42)\n",
    "# Extract the target variable name\n",
    "target_name <- colnames(myData)[target_variables_idx]\n",
    "\n",
    "# Step 2: Split data into training and testing sets\n",
    "train_idx <- sample(1:nrow(myData), size = floor(2/3 * nrow(myData)))\n",
    "train_data <- myData[train_idx, ]\n",
    "test_data <- myData[-train_idx, ]"
   ],
   "id": "9bce6b37bbfdc87",
   "outputs": [],
   "execution_count": 136
  },
  {
   "metadata": {
    "ExecuteTime": {
     "end_time": "2024-12-15T17:15:10.880306Z",
     "start_time": "2024-12-15T17:15:10.854306Z"
    }
   },
   "cell_type": "code",
   "source": [
    "print(\"Train data\")\n",
    "head(train_data)\n",
    "dim(train_data)"
   ],
   "id": "9e76bc728f211ca0",
   "outputs": [
    {
     "name": "stdout",
     "output_type": "stream",
     "text": [
      "[1] \"Train data\"\n"
     ]
    },
    {
     "data": {
      "text/html": [
       "<table class=\"dataframe\">\n",
       "<caption>A data.frame: 6 × 10</caption>\n",
       "<thead>\n",
       "\t<tr><th></th><th scope=col>satisfaction_level</th><th scope=col>last_evaluation</th><th scope=col>number_project</th><th scope=col>average_montly_hours</th><th scope=col>time_spend_company</th><th scope=col>Work_accident</th><th scope=col>left</th><th scope=col>promotion_last_5years</th><th scope=col>department</th><th scope=col>salary</th></tr>\n",
       "\t<tr><th></th><th scope=col>&lt;dbl&gt;</th><th scope=col>&lt;dbl&gt;</th><th scope=col>&lt;fct&gt;</th><th scope=col>&lt;int&gt;</th><th scope=col>&lt;fct&gt;</th><th scope=col>&lt;fct&gt;</th><th scope=col>&lt;fct&gt;</th><th scope=col>&lt;fct&gt;</th><th scope=col>&lt;fct&gt;</th><th scope=col>&lt;fct&gt;</th></tr>\n",
       "</thead>\n",
       "<tbody>\n",
       "\t<tr><th scope=row>9064</th><td>0.51</td><td>0.95</td><td>4</td><td>169</td><td>3</td><td>1</td><td>0</td><td>0</td><td>sales     </td><td>low</td></tr>\n",
       "\t<tr><th scope=row>18</th><td>0.98</td><td>0.60</td><td>4</td><td>160</td><td>3</td><td>0</td><td>0</td><td>0</td><td>technical </td><td>low</td></tr>\n",
       "\t<tr><th scope=row>2436</th><td>0.67</td><td>0.57</td><td>2</td><td>234</td><td>4</td><td>0</td><td>0</td><td>0</td><td>management</td><td>low</td></tr>\n",
       "\t<tr><th scope=row>5940</th><td>0.86</td><td>0.51</td><td>4</td><td>211</td><td>2</td><td>1</td><td>0</td><td>0</td><td>technical </td><td>low</td></tr>\n",
       "\t<tr><th scope=row>5277</th><td>0.44</td><td>0.49</td><td>2</td><td>145</td><td>3</td><td>0</td><td>1</td><td>0</td><td>sales     </td><td>low</td></tr>\n",
       "\t<tr><th scope=row>6760</th><td>0.50</td><td>0.51</td><td>3</td><td>169</td><td>4</td><td>0</td><td>0</td><td>0</td><td>marketing </td><td>low</td></tr>\n",
       "</tbody>\n",
       "</table>\n"
      ],
      "text/markdown": "\nA data.frame: 6 × 10\n\n| <!--/--> | satisfaction_level &lt;dbl&gt; | last_evaluation &lt;dbl&gt; | number_project &lt;fct&gt; | average_montly_hours &lt;int&gt; | time_spend_company &lt;fct&gt; | Work_accident &lt;fct&gt; | left &lt;fct&gt; | promotion_last_5years &lt;fct&gt; | department &lt;fct&gt; | salary &lt;fct&gt; |\n|---|---|---|---|---|---|---|---|---|---|---|\n| 9064 | 0.51 | 0.95 | 4 | 169 | 3 | 1 | 0 | 0 | sales      | low |\n| 18 | 0.98 | 0.60 | 4 | 160 | 3 | 0 | 0 | 0 | technical  | low |\n| 2436 | 0.67 | 0.57 | 2 | 234 | 4 | 0 | 0 | 0 | management | low |\n| 5940 | 0.86 | 0.51 | 4 | 211 | 2 | 1 | 0 | 0 | technical  | low |\n| 5277 | 0.44 | 0.49 | 2 | 145 | 3 | 0 | 1 | 0 | sales      | low |\n| 6760 | 0.50 | 0.51 | 3 | 169 | 4 | 0 | 0 | 0 | marketing  | low |\n\n",
      "text/latex": "A data.frame: 6 × 10\n\\begin{tabular}{r|llllllllll}\n  & satisfaction\\_level & last\\_evaluation & number\\_project & average\\_montly\\_hours & time\\_spend\\_company & Work\\_accident & left & promotion\\_last\\_5years & department & salary\\\\\n  & <dbl> & <dbl> & <fct> & <int> & <fct> & <fct> & <fct> & <fct> & <fct> & <fct>\\\\\n\\hline\n\t9064 & 0.51 & 0.95 & 4 & 169 & 3 & 1 & 0 & 0 & sales      & low\\\\\n\t18 & 0.98 & 0.60 & 4 & 160 & 3 & 0 & 0 & 0 & technical  & low\\\\\n\t2436 & 0.67 & 0.57 & 2 & 234 & 4 & 0 & 0 & 0 & management & low\\\\\n\t5940 & 0.86 & 0.51 & 4 & 211 & 2 & 1 & 0 & 0 & technical  & low\\\\\n\t5277 & 0.44 & 0.49 & 2 & 145 & 3 & 0 & 1 & 0 & sales      & low\\\\\n\t6760 & 0.50 & 0.51 & 3 & 169 & 4 & 0 & 0 & 0 & marketing  & low\\\\\n\\end{tabular}\n",
      "text/plain": [
       "     satisfaction_level last_evaluation number_project average_montly_hours\n",
       "9064 0.51               0.95            4              169                 \n",
       "18   0.98               0.60            4              160                 \n",
       "2436 0.67               0.57            2              234                 \n",
       "5940 0.86               0.51            4              211                 \n",
       "5277 0.44               0.49            2              145                 \n",
       "6760 0.50               0.51            3              169                 \n",
       "     time_spend_company Work_accident left promotion_last_5years department\n",
       "9064 3                  1             0    0                     sales     \n",
       "18   3                  0             0    0                     technical \n",
       "2436 4                  0             0    0                     management\n",
       "5940 2                  1             0    0                     technical \n",
       "5277 3                  0             1    0                     sales     \n",
       "6760 4                  0             0    0                     marketing \n",
       "     salary\n",
       "9064 low   \n",
       "18   low   \n",
       "2436 low   \n",
       "5940 low   \n",
       "5277 low   \n",
       "6760 low   "
      ]
     },
     "metadata": {},
     "output_type": "display_data"
    },
    {
     "data": {
      "text/html": [
       "<style>\n",
       ".list-inline {list-style: none; margin:0; padding: 0}\n",
       ".list-inline>li {display: inline-block}\n",
       ".list-inline>li:not(:last-child)::after {content: \"\\00b7\"; padding: 0 .5ex}\n",
       "</style>\n",
       "<ol class=list-inline><li>6666</li><li>10</li></ol>\n"
      ],
      "text/markdown": "1. 6666\n2. 10\n\n\n",
      "text/latex": "\\begin{enumerate*}\n\\item 6666\n\\item 10\n\\end{enumerate*}\n",
      "text/plain": [
       "[1] 6666   10"
      ]
     },
     "metadata": {},
     "output_type": "display_data"
    }
   ],
   "execution_count": 137
  },
  {
   "cell_type": "code",
   "id": "3cc583ba-c4bf-4d2f-acca-3770f8a61e4a",
   "metadata": {
    "ExecuteTime": {
     "end_time": "2024-12-15T17:15:13.970318Z",
     "start_time": "2024-12-15T17:15:13.943234Z"
    }
   },
   "source": [
    "print(\"Test data\")\n",
    "head(test_data)\n",
    "dim(test_data)"
   ],
   "outputs": [
    {
     "name": "stdout",
     "output_type": "stream",
     "text": [
      "[1] \"Test data\"\n"
     ]
    },
    {
     "data": {
      "text/html": [
       "<table class=\"dataframe\">\n",
       "<caption>A data.frame: 6 × 10</caption>\n",
       "<thead>\n",
       "\t<tr><th></th><th scope=col>satisfaction_level</th><th scope=col>last_evaluation</th><th scope=col>number_project</th><th scope=col>average_montly_hours</th><th scope=col>time_spend_company</th><th scope=col>Work_accident</th><th scope=col>left</th><th scope=col>promotion_last_5years</th><th scope=col>department</th><th scope=col>salary</th></tr>\n",
       "\t<tr><th></th><th scope=col>&lt;dbl&gt;</th><th scope=col>&lt;dbl&gt;</th><th scope=col>&lt;fct&gt;</th><th scope=col>&lt;int&gt;</th><th scope=col>&lt;fct&gt;</th><th scope=col>&lt;fct&gt;</th><th scope=col>&lt;fct&gt;</th><th scope=col>&lt;fct&gt;</th><th scope=col>&lt;fct&gt;</th><th scope=col>&lt;fct&gt;</th></tr>\n",
       "</thead>\n",
       "<tbody>\n",
       "\t<tr><th scope=row>1</th><td>0.83</td><td>0.80</td><td>4</td><td>158</td><td>4</td><td>0</td><td>0</td><td>0</td><td>marketing  </td><td>medium</td></tr>\n",
       "\t<tr><th scope=row>3</th><td>0.97</td><td>0.91</td><td>3</td><td>246</td><td>2</td><td>0</td><td>0</td><td>0</td><td>accounting </td><td>low   </td></tr>\n",
       "\t<tr><th scope=row>6</th><td>0.51</td><td>0.71</td><td>2</td><td>180</td><td>3</td><td>0</td><td>0</td><td>0</td><td>product_mng</td><td>low   </td></tr>\n",
       "\t<tr><th scope=row>8</th><td>0.79</td><td>0.86</td><td>5</td><td>235</td><td>5</td><td>0</td><td>1</td><td>0</td><td>support    </td><td>medium</td></tr>\n",
       "\t<tr><th scope=row>10</th><td>0.74</td><td>0.37</td><td>2</td><td>171</td><td>4</td><td>0</td><td>0</td><td>0</td><td>support    </td><td>low   </td></tr>\n",
       "\t<tr><th scope=row>15</th><td>0.63</td><td>0.79</td><td>5</td><td>215</td><td>2</td><td>1</td><td>0</td><td>0</td><td>accounting </td><td>medium</td></tr>\n",
       "</tbody>\n",
       "</table>\n"
      ],
      "text/markdown": "\nA data.frame: 6 × 10\n\n| <!--/--> | satisfaction_level &lt;dbl&gt; | last_evaluation &lt;dbl&gt; | number_project &lt;fct&gt; | average_montly_hours &lt;int&gt; | time_spend_company &lt;fct&gt; | Work_accident &lt;fct&gt; | left &lt;fct&gt; | promotion_last_5years &lt;fct&gt; | department &lt;fct&gt; | salary &lt;fct&gt; |\n|---|---|---|---|---|---|---|---|---|---|---|\n| 1 | 0.83 | 0.80 | 4 | 158 | 4 | 0 | 0 | 0 | marketing   | medium |\n| 3 | 0.97 | 0.91 | 3 | 246 | 2 | 0 | 0 | 0 | accounting  | low    |\n| 6 | 0.51 | 0.71 | 2 | 180 | 3 | 0 | 0 | 0 | product_mng | low    |\n| 8 | 0.79 | 0.86 | 5 | 235 | 5 | 0 | 1 | 0 | support     | medium |\n| 10 | 0.74 | 0.37 | 2 | 171 | 4 | 0 | 0 | 0 | support     | low    |\n| 15 | 0.63 | 0.79 | 5 | 215 | 2 | 1 | 0 | 0 | accounting  | medium |\n\n",
      "text/latex": "A data.frame: 6 × 10\n\\begin{tabular}{r|llllllllll}\n  & satisfaction\\_level & last\\_evaluation & number\\_project & average\\_montly\\_hours & time\\_spend\\_company & Work\\_accident & left & promotion\\_last\\_5years & department & salary\\\\\n  & <dbl> & <dbl> & <fct> & <int> & <fct> & <fct> & <fct> & <fct> & <fct> & <fct>\\\\\n\\hline\n\t1 & 0.83 & 0.80 & 4 & 158 & 4 & 0 & 0 & 0 & marketing   & medium\\\\\n\t3 & 0.97 & 0.91 & 3 & 246 & 2 & 0 & 0 & 0 & accounting  & low   \\\\\n\t6 & 0.51 & 0.71 & 2 & 180 & 3 & 0 & 0 & 0 & product\\_mng & low   \\\\\n\t8 & 0.79 & 0.86 & 5 & 235 & 5 & 0 & 1 & 0 & support     & medium\\\\\n\t10 & 0.74 & 0.37 & 2 & 171 & 4 & 0 & 0 & 0 & support     & low   \\\\\n\t15 & 0.63 & 0.79 & 5 & 215 & 2 & 1 & 0 & 0 & accounting  & medium\\\\\n\\end{tabular}\n",
      "text/plain": [
       "   satisfaction_level last_evaluation number_project average_montly_hours\n",
       "1  0.83               0.80            4              158                 \n",
       "3  0.97               0.91            3              246                 \n",
       "6  0.51               0.71            2              180                 \n",
       "8  0.79               0.86            5              235                 \n",
       "10 0.74               0.37            2              171                 \n",
       "15 0.63               0.79            5              215                 \n",
       "   time_spend_company Work_accident left promotion_last_5years department \n",
       "1  4                  0             0    0                     marketing  \n",
       "3  2                  0             0    0                     accounting \n",
       "6  3                  0             0    0                     product_mng\n",
       "8  5                  0             1    0                     support    \n",
       "10 4                  0             0    0                     support    \n",
       "15 2                  1             0    0                     accounting \n",
       "   salary\n",
       "1  medium\n",
       "3  low   \n",
       "6  low   \n",
       "8  medium\n",
       "10 low   \n",
       "15 medium"
      ]
     },
     "metadata": {},
     "output_type": "display_data"
    },
    {
     "data": {
      "text/html": [
       "<style>\n",
       ".list-inline {list-style: none; margin:0; padding: 0}\n",
       ".list-inline>li {display: inline-block}\n",
       ".list-inline>li:not(:last-child)::after {content: \"\\00b7\"; padding: 0 .5ex}\n",
       "</style>\n",
       "<ol class=list-inline><li>3334</li><li>10</li></ol>\n"
      ],
      "text/markdown": "1. 3334\n2. 10\n\n\n",
      "text/latex": "\\begin{enumerate*}\n\\item 3334\n\\item 10\n\\end{enumerate*}\n",
      "text/plain": [
       "[1] 3334   10"
      ]
     },
     "metadata": {},
     "output_type": "display_data"
    }
   ],
   "execution_count": 138
  },
  {
   "cell_type": "code",
   "id": "4d51c0a3-842a-4e56-b29c-8c567f9bd786",
   "metadata": {
    "ExecuteTime": {
     "end_time": "2024-12-15T17:15:15.581428Z",
     "start_time": "2024-12-15T17:15:15.549433Z"
    }
   },
   "source": [
    "#Train a Naive Bayes on myData.\n",
    "#The parameter:\n",
    "# formula=left~.\n",
    "#sets the target/class variable to be the left.\n",
    "#and use as predictive variables all the others\n",
    "#Entraîner un Naive Bayes sur myData.\n",
    "#Le paramètre :\n",
    "# formula=left~.\n",
    "#définit la variable cible/classe comme étant le result\n",
    "#et utilise comme variables prédictives toutes les autres variables\n",
    "nb_model <- naiveBayes(formula = left~ ., data = train_data)\n",
    "#Voyons ce que nous avons dans le modèle\n",
    "nb_model"
   ],
   "outputs": [
    {
     "data": {
      "text/plain": [
       "\n",
       "Naive Bayes Classifier for Discrete Predictors\n",
       "\n",
       "Call:\n",
       "naiveBayes.default(x = X, y = Y, laplace = laplace)\n",
       "\n",
       "A-priori probabilities:\n",
       "Y\n",
       "        0         1 \n",
       "0.7650765 0.2349235 \n",
       "\n",
       "Conditional probabilities:\n",
       "   satisfaction_level\n",
       "Y        [,1]      [,2]\n",
       "  0 0.6689824 0.2159486\n",
       "  1 0.4404151 0.2620707\n",
       "\n",
       "   last_evaluation\n",
       "Y        [,1]      [,2]\n",
       "  0 0.7179412 0.1624121\n",
       "  1 0.7145466 0.1990714\n",
       "\n",
       "   number_project\n",
       "Y            2          3          4          5          6          7\n",
       "  0 0.07529412 0.34725490 0.34705882 0.18490196 0.04549020 0.00000000\n",
       "  1 0.45274585 0.01724138 0.10791826 0.17369093 0.17879949 0.06960409\n",
       "\n",
       "   average_montly_hours\n",
       "Y       [,1]     [,2]\n",
       "  0 198.9867 45.40391\n",
       "  1 205.2063 60.37473\n",
       "\n",
       "   time_spend_company\n",
       "Y           10          2          3          4          5          6\n",
       "  0 0.01882353 0.28294118 0.42960784 0.14039216 0.05509804 0.04352941\n",
       "  1 0.00000000 0.01660281 0.45593870 0.24457216 0.22413793 0.05874840\n",
       "   time_spend_company\n",
       "Y            7          8\n",
       "  0 0.01588235 0.01372549\n",
       "  1 0.00000000 0.00000000\n",
       "\n",
       "   Work_accident\n",
       "Y            0          1\n",
       "  0 0.81784314 0.18215686\n",
       "  1 0.94827586 0.05172414\n",
       "\n",
       "   promotion_last_5years\n",
       "Y             0           1\n",
       "  0 0.974705882 0.025294118\n",
       "  1 0.996807152 0.003192848\n",
       "\n",
       "   department\n",
       "Y           IT      RandD accounting         hr management  marketing\n",
       "  0 0.08843137 0.06117647 0.04686275 0.04803922 0.04686275 0.05509804\n",
       "  1 0.07343550 0.03128991 0.05683269 0.05491699 0.02745849 0.05236271\n",
       "   department\n",
       "Y   product_mng      sales    support  technical\n",
       "  0  0.05980392 0.27490196 0.14666667 0.17215686\n",
       "  1  0.04916986 0.29438059 0.16155811 0.19859515\n",
       "\n",
       "   salary\n",
       "Y         high        low     medium\n",
       "  0 0.09941176 0.45000000 0.45058824\n",
       "  1 0.02234994 0.60727969 0.37037037\n"
      ]
     },
     "metadata": {},
     "output_type": "display_data"
    }
   ],
   "execution_count": 139
  },
  {
   "metadata": {
    "ExecuteTime": {
     "end_time": "2024-12-15T17:15:23.330343Z",
     "start_time": "2024-12-15T17:15:22.951288Z"
    }
   },
   "cell_type": "code",
   "source": [
    "# Predict on test data\n",
    "predictions <- predict(nb_model, test_data)\n",
    "# Calculate accuracy\n",
    "accuracy <- sum(predictions == test_data[[target_name]]) / nrow(test_data)\n",
    "accuracy"
   ],
   "id": "cb0bd9499e35c7a5",
   "outputs": [
    {
     "data": {
      "text/html": [
       "0.738452309538092"
      ],
      "text/markdown": "0.738452309538092",
      "text/latex": "0.738452309538092",
      "text/plain": [
       "[1] 0.7384523"
      ]
     },
     "metadata": {},
     "output_type": "display_data"
    }
   ],
   "execution_count": 142
  },
  {
   "metadata": {
    "ExecuteTime": {
     "end_time": "2024-12-15T17:14:50.423246100Z",
     "start_time": "2024-12-15T17:14:23.458816Z"
    }
   },
   "cell_type": "code",
   "source": "",
   "id": "259aa256dcc872b3",
   "outputs": [],
   "execution_count": null
  }
 ],
 "metadata": {
  "kernelspec": {
   "display_name": "R",
   "language": "R",
   "name": "ir"
  },
  "language_info": {
   "codemirror_mode": "r",
   "file_extension": ".r",
   "mimetype": "text/x-r-source",
   "name": "R",
   "pygments_lexer": "r",
   "version": "4.1.3"
  }
 },
 "nbformat": 4,
 "nbformat_minor": 5
}
