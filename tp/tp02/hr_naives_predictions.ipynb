{
 "cells": [
  {
   "cell_type": "code",
   "id": "6c0b3aaf-d56f-4cd8-8a8d-b42c23c4d830",
   "metadata": {
    "ExecuteTime": {
     "end_time": "2024-12-16T18:16:59.146502Z",
     "start_time": "2024-12-16T18:16:59.114048Z"
    }
   },
   "source": [
    "qualitatives_attributes_col_idx <- c(3,5,6,8,9,10)\n",
    "discretized_quantitatives_attributes_col_idx <- c(3,5)\n",
    "quantitatives_attributes_col_idx <- c(1,2,4)\n",
    "target_variables_idx <- 7\n",
    "datasets_directory <- \"../datasets/\"\n",
    "dataset_filename <- \"HR_prediction-all.csv\"\n",
    "output_folder <- \"output\"\n",
    "working_directory <- \"C:/Users/huniv/jnotebook/data-mining/62-62_Data_Mining/tp/tp02\" "
   ],
   "outputs": [],
   "execution_count": 195
  },
  {
   "metadata": {
    "ExecuteTime": {
     "end_time": "2024-12-16T18:16:59.199816Z",
     "start_time": "2024-12-16T18:16:59.172823Z"
    }
   },
   "cell_type": "code",
   "source": [
    "# Print all column names with their indices\n",
    "for (i in seq_along(colnames(myData))) {\n",
    "\tcat(\"Index:\", i, \"-> Column Name:\", colnames(myData)[i], \"\\n\")\n",
    "}\n"
   ],
   "id": "1b216d7423821c3e",
   "outputs": [
    {
     "name": "stdout",
     "output_type": "stream",
     "text": [
      "Index: 1 -> Column Name: satisfaction_level \n",
      "Index: 2 -> Column Name: last_evaluation \n",
      "Index: 3 -> Column Name: number_project \n",
      "Index: 4 -> Column Name: average_montly_hours \n",
      "Index: 5 -> Column Name: time_spend_company \n",
      "Index: 6 -> Column Name: Work_accident \n",
      "Index: 7 -> Column Name: left \n",
      "Index: 8 -> Column Name: promotion_last_5years \n",
      "Index: 9 -> Column Name: department \n",
      "Index: 10 -> Column Name: salary \n"
     ]
    }
   ],
   "execution_count": 196
  },
  {
   "cell_type": "code",
   "id": "204f95b8-ba8f-4851-8d5e-0608580c6097",
   "metadata": {
    "ExecuteTime": {
     "end_time": "2024-12-16T18:16:59.267492Z",
     "start_time": "2024-12-16T18:16:59.234847Z"
    }
   },
   "source": [
    "#mettre le paquet Naive Bayes à disposition\n",
    "if (!requireNamespace(\"e1071\", quietly = TRUE)) { \n",
    "  install.packages(\"e1071\")\n",
    "}\n",
    "\n",
    "#for latex parsing of equations\n",
    "if (!requireNamespace(\"latex2exp\", quietly = TRUE)) { \n",
    "  install.packages(\"latex2exp\")\n",
    "}\n",
    "\n",
    "# Check if the package is installed\n",
    "if (!require(\"colorspace\", quietly = TRUE)) { \n",
    "  install.packages(\"colorspace\")\n",
    "}\n",
    "\n",
    "library(e1071)\n",
    "library(latex2exp)\n",
    "library(colorspace)"
   ],
   "outputs": [],
   "execution_count": 197
  },
  {
   "metadata": {
    "ExecuteTime": {
     "end_time": "2024-12-16T18:16:59.320146Z",
     "start_time": "2024-12-16T18:16:59.299156Z"
    }
   },
   "cell_type": "code",
   "source": [
    "library(arules)\n",
    "# Function to create an output directory if it doesn't exist\n",
    "ensure_output_directory <- function(wd, folder_name) {\n",
    "\toutput_dir <- file.path(wd, folder_name)\n",
    "\tif (!dir.exists(output_dir)) {\n",
    "\t\tdir.create(output_dir, recursive = TRUE)\n",
    "\t}\n",
    "\treturn(output_dir)\n",
    "}"
   ],
   "id": "b3f73d5ff3ba323d",
   "outputs": [],
   "execution_count": 198
  },
  {
   "cell_type": "code",
   "id": "c1cd28efb7662623",
   "metadata": {
    "ExecuteTime": {
     "end_time": "2024-12-16T18:16:59.361922Z",
     "start_time": "2024-12-16T18:16:59.326186Z"
    }
   },
   "source": [
    "setwd(working_directory)\n",
    "#read data\n",
    "# avec colClasses, nous contrôlons explicitement les types des différentes variables, \n",
    "# les valeurs qui nous intéressent le plus sont \n",
    "# factor: variables qualitatives\n",
    "# numeric: pour les variables quantitatives\n",
    "myData <- read.table(\n",
    "  \"../datasets/HR_prediction-all.csv\",\n",
    "  header = TRUE,\n",
    "  sep = \",\",\n",
    "  colClasses = c(\n",
    "    \"NULL\",         # Id - Remove   \n",
    "    \"numeric\",      # satisfaction_level\n",
    "    \"numeric\",      # last_evaluation\n",
    "    \"factor\",       # number_project\n",
    "    \"integer\",      # average_montly_hours\n",
    "    \"factor\",       # time_spend_company\n",
    "    \"factor\",       # Work_accident (categorical: 0 or 1)\n",
    "    \"factor\",       # left (target variable: 0 or 1)\n",
    "    \"factor\",       # promotion_last_5years (categorical: 0 or 1)\n",
    "    \"factor\",       # department\n",
    "    \"factor\"        # salary\n",
    "  )\n",
    ")"
   ],
   "outputs": [],
   "execution_count": 199
  },
  {
   "cell_type": "code",
   "id": "a7b22f5b5823fa5f",
   "metadata": {
    "ExecuteTime": {
     "end_time": "2024-12-16T18:16:59.409849Z",
     "start_time": "2024-12-16T18:16:59.379929Z"
    }
   },
   "source": [
    "head(myData)"
   ],
   "outputs": [
    {
     "data": {
      "text/html": [
       "<table class=\"dataframe\">\n",
       "<caption>A data.frame: 6 × 10</caption>\n",
       "<thead>\n",
       "\t<tr><th></th><th scope=col>satisfaction_level</th><th scope=col>last_evaluation</th><th scope=col>number_project</th><th scope=col>average_montly_hours</th><th scope=col>time_spend_company</th><th scope=col>Work_accident</th><th scope=col>left</th><th scope=col>promotion_last_5years</th><th scope=col>department</th><th scope=col>salary</th></tr>\n",
       "\t<tr><th></th><th scope=col>&lt;dbl&gt;</th><th scope=col>&lt;dbl&gt;</th><th scope=col>&lt;fct&gt;</th><th scope=col>&lt;int&gt;</th><th scope=col>&lt;fct&gt;</th><th scope=col>&lt;fct&gt;</th><th scope=col>&lt;fct&gt;</th><th scope=col>&lt;fct&gt;</th><th scope=col>&lt;fct&gt;</th><th scope=col>&lt;fct&gt;</th></tr>\n",
       "</thead>\n",
       "<tbody>\n",
       "\t<tr><th scope=row>1</th><td>0.83</td><td>0.80</td><td>4</td><td>158</td><td>4</td><td>0</td><td>0</td><td>0</td><td>marketing  </td><td>medium</td></tr>\n",
       "\t<tr><th scope=row>2</th><td>1.00</td><td>0.39</td><td>2</td><td>210</td><td>5</td><td>0</td><td>0</td><td>0</td><td>sales      </td><td>low   </td></tr>\n",
       "\t<tr><th scope=row>3</th><td>0.97</td><td>0.91</td><td>3</td><td>246</td><td>2</td><td>0</td><td>0</td><td>0</td><td>accounting </td><td>low   </td></tr>\n",
       "\t<tr><th scope=row>4</th><td>0.68</td><td>0.65</td><td>3</td><td>173</td><td>3</td><td>1</td><td>0</td><td>0</td><td>marketing  </td><td>high  </td></tr>\n",
       "\t<tr><th scope=row>5</th><td>0.77</td><td>0.55</td><td>3</td><td>225</td><td>3</td><td>0</td><td>0</td><td>0</td><td>sales      </td><td>medium</td></tr>\n",
       "\t<tr><th scope=row>6</th><td>0.51</td><td>0.71</td><td>2</td><td>180</td><td>3</td><td>0</td><td>0</td><td>0</td><td>product_mng</td><td>low   </td></tr>\n",
       "</tbody>\n",
       "</table>\n"
      ],
      "text/markdown": "\nA data.frame: 6 × 10\n\n| <!--/--> | satisfaction_level &lt;dbl&gt; | last_evaluation &lt;dbl&gt; | number_project &lt;fct&gt; | average_montly_hours &lt;int&gt; | time_spend_company &lt;fct&gt; | Work_accident &lt;fct&gt; | left &lt;fct&gt; | promotion_last_5years &lt;fct&gt; | department &lt;fct&gt; | salary &lt;fct&gt; |\n|---|---|---|---|---|---|---|---|---|---|---|\n| 1 | 0.83 | 0.80 | 4 | 158 | 4 | 0 | 0 | 0 | marketing   | medium |\n| 2 | 1.00 | 0.39 | 2 | 210 | 5 | 0 | 0 | 0 | sales       | low    |\n| 3 | 0.97 | 0.91 | 3 | 246 | 2 | 0 | 0 | 0 | accounting  | low    |\n| 4 | 0.68 | 0.65 | 3 | 173 | 3 | 1 | 0 | 0 | marketing   | high   |\n| 5 | 0.77 | 0.55 | 3 | 225 | 3 | 0 | 0 | 0 | sales       | medium |\n| 6 | 0.51 | 0.71 | 2 | 180 | 3 | 0 | 0 | 0 | product_mng | low    |\n\n",
      "text/latex": "A data.frame: 6 × 10\n\\begin{tabular}{r|llllllllll}\n  & satisfaction\\_level & last\\_evaluation & number\\_project & average\\_montly\\_hours & time\\_spend\\_company & Work\\_accident & left & promotion\\_last\\_5years & department & salary\\\\\n  & <dbl> & <dbl> & <fct> & <int> & <fct> & <fct> & <fct> & <fct> & <fct> & <fct>\\\\\n\\hline\n\t1 & 0.83 & 0.80 & 4 & 158 & 4 & 0 & 0 & 0 & marketing   & medium\\\\\n\t2 & 1.00 & 0.39 & 2 & 210 & 5 & 0 & 0 & 0 & sales       & low   \\\\\n\t3 & 0.97 & 0.91 & 3 & 246 & 2 & 0 & 0 & 0 & accounting  & low   \\\\\n\t4 & 0.68 & 0.65 & 3 & 173 & 3 & 1 & 0 & 0 & marketing   & high  \\\\\n\t5 & 0.77 & 0.55 & 3 & 225 & 3 & 0 & 0 & 0 & sales       & medium\\\\\n\t6 & 0.51 & 0.71 & 2 & 180 & 3 & 0 & 0 & 0 & product\\_mng & low   \\\\\n\\end{tabular}\n",
      "text/plain": [
       "  satisfaction_level last_evaluation number_project average_montly_hours\n",
       "1 0.83               0.80            4              158                 \n",
       "2 1.00               0.39            2              210                 \n",
       "3 0.97               0.91            3              246                 \n",
       "4 0.68               0.65            3              173                 \n",
       "5 0.77               0.55            3              225                 \n",
       "6 0.51               0.71            2              180                 \n",
       "  time_spend_company Work_accident left promotion_last_5years department \n",
       "1 4                  0             0    0                     marketing  \n",
       "2 5                  0             0    0                     sales      \n",
       "3 2                  0             0    0                     accounting \n",
       "4 3                  1             0    0                     marketing  \n",
       "5 3                  0             0    0                     sales      \n",
       "6 3                  0             0    0                     product_mng\n",
       "  salary\n",
       "1 medium\n",
       "2 low   \n",
       "3 low   \n",
       "4 high  \n",
       "5 medium\n",
       "6 low   "
      ]
     },
     "metadata": {},
     "output_type": "display_data"
    }
   ],
   "execution_count": 200
  },
  {
   "cell_type": "code",
   "id": "783919e6a8b663ab",
   "metadata": {
    "ExecuteTime": {
     "end_time": "2024-12-16T18:16:59.566337Z",
     "start_time": "2024-12-16T18:16:59.548697Z"
    }
   },
   "source": [
    "evaluate_classification_model <- function(\n",
    "  data, \n",
    "  target_col_idx, \n",
    "  n_iter, \n",
    "  shouldBeReproductible = TRUE, \n",
    "  model_function, \n",
    "  predict_function\n",
    ") {\n",
    "    # Ensures reproductibility\n",
    "    if(shouldBeReproductible) {\n",
    "        set.seed(42)\n",
    "    }\n",
    "    \n",
    "    # Extract the target variable name\n",
    "    target_name <- colnames(data)[target_col_idx]\n",
    "    \n",
    "    # Initialize a vector to store accuracies\n",
    "    accuracies <- numeric(n_iter)\n",
    "  \n",
    "\t# Initialize a variable to store the trained model\n",
    "\tfinal_model <- NULL\n",
    "    \n",
    "    for (i in 1:n_iter) {\n",
    "        # Split data into training and testing sets\n",
    "        train_idx <- sample(1:nrow(data), size = floor(2/3 * nrow(data)))\n",
    "        train_data <- data[train_idx, ]\n",
    "        test_data <- data[-train_idx, ]\n",
    "        \n",
    "        # Train a Naive Bayes on data.\n",
    "        # The parameter:\n",
    "        #   formula=left~.\n",
    "        # sets the target/class variable to be the left and use as predictive variables all the others\n",
    "        \n",
    "        # Build dynamic formula\n",
    "        formula <- as.formula(paste(target_name, \"~ .\"))\n",
    "        \n",
    "        # Train the model using the input model function\n",
    "        model <- model_function(formula, train_data)\n",
    "        \n",
    "        # Predict on test data using the input predict function\n",
    "        predictions <- predict_function(model, test_data)\n",
    "        \n",
    "        # Calculate accuracy\n",
    "        accuracy <- sum(predictions == test_data[[target_name]]) / nrow(test_data)\n",
    "        accuracies[i] <- accuracy\n",
    "        \n",
    "        cat(\"Accuracy for iteration\", i, \":\", round(accuracy, 4), \"\\n\")\n",
    "\t    \n",
    "\t    # Update the final model\n",
    "\t    final_model <- model\n",
    "    }\n",
    "    \n",
    "    # Report the average accuracy\n",
    "    avg_accuracy <- mean(accuracies)\n",
    "    cat(\"\\nAverage Accuracy over\", n_iter, \"splits:\", round(avg_accuracy, 4), \"\\n\")\n",
    "\t\n",
    "\t# Return the average accuracy and the last trained model\n",
    "\treturn(list(\n",
    "\t\taverage_accuracy = avg_accuracy,\n",
    "\t\ttrained_model = final_model\n",
    "\t))\n",
    "}"
   ],
   "outputs": [],
   "execution_count": 201
  },
  {
   "cell_type": "code",
   "id": "71cce57070d1021f",
   "metadata": {
    "ExecuteTime": {
     "end_time": "2024-12-16T18:16:59.730226Z",
     "start_time": "2024-12-16T18:16:59.710232Z"
    }
   },
   "source": [
    "# Function to train the default classifier\n",
    "trainDefaultClassifier <- function(train_data, target_idx) {\n",
    "\t# Extract the target column\n",
    "\ttarget_column <- train_data[,target_idx]\n",
    "\t\n",
    "\t# Find the majority class using a frequency table\n",
    "\tmajority_class <- names(which.max(table(target_column)))\n",
    "\t\n",
    "\t# Return the majority class\n",
    "\treturn(majority_class)\n",
    "}\n",
    "\n",
    "# Function to predict using the default classifier\n",
    "predictDefaultClassifier <- function(test_data, majority_class) {\n",
    "\t# Create a vector of predictions with the majority class\n",
    "\t# Basically repeat the majority class for the number of rows in the test data\n",
    "\tpredictions <- rep(majority_class, nrow(test_data))\n",
    "\t\n",
    "\t# Return the predictions\n",
    "\treturn(predictions)\n",
    "}"
   ],
   "outputs": [],
   "execution_count": 202
  },
  {
   "cell_type": "code",
   "id": "259aa256dcc872b3",
   "metadata": {
    "ExecuteTime": {
     "end_time": "2024-12-16T18:16:59.818737Z",
     "start_time": "2024-12-16T18:16:59.781318Z"
    }
   },
   "source": [
    "# Split the data into train and test sets\n",
    "set.seed(42)\n",
    "\n",
    "train_idx <- sample(1:nrow(myData), size = floor(2/3 * nrow(myData)))\n",
    "train_data <- myData[train_idx, ]\n",
    "test_data <- myData[-train_idx, ]\n",
    "\n",
    "# Train the default classifier to find the majority class\n",
    "majority_class <- trainDefaultClassifier(train_data, target_variables_idx)\n",
    "cat(\"\")\n",
    "cat(\"Majority class identified:\", majority_class, \"\\n\")\n",
    "\n",
    "# Use the default classifier to make predictions on the test set\n",
    "predictions <- predictDefaultClassifier(test_data, majority_class)\n",
    "\n",
    "# Evaluate the accuracy of the default classifier\n",
    "accuracy <- sum(predictions == test_data[[target_variables_idx]]) / nrow(test_data)\n",
    "cat(\"Default Classifier Accuracy:\", round(accuracy, 4), \"\\n\")"
   ],
   "outputs": [
    {
     "name": "stdout",
     "output_type": "stream",
     "text": [
      "Majority class identified: 0 \n",
      "Default Classifier Accuracy: 0.7618 \n"
     ]
    }
   ],
   "execution_count": 203
  },
  {
   "cell_type": "code",
   "id": "a76f40ac991390b4",
   "metadata": {
    "ExecuteTime": {
     "end_time": "2024-12-16T18:17:01.035610Z",
     "start_time": "2024-12-16T18:16:59.860397Z"
    }
   },
   "source": [
    "# Single split\n",
    "set.seed(1)\n",
    "train_idx <- sample(1:nrow(myData), size = floor(2/3 * nrow(myData)))\n",
    "train_data <- myData[train_idx, ]\n",
    "test_data <- myData[-train_idx, ]\n",
    "model <- naiveBayes(left ~ ., data = train_data)\n",
    "# Calculate training accuracy\n",
    "train_predictions <- predict(model, train_data)\n",
    "train_accuracy <- sum(train_predictions == train_data[[\"left\"]]) / nrow(train_data)\n",
    "cat(\"Training Accuracy:\", round(train_accuracy, 4), \"\\n\")\n",
    "# Test accuracy\n",
    "test_accuracy <- sum(predictions == test_data[[\"left\"]]) / nrow(test_data)\n",
    "cat(paste(\"Test Accuracy:\", round(test_accuracy, 4), \"\\n\"))\n",
    "\n",
    "model"
   ],
   "outputs": [
    {
     "name": "stdout",
     "output_type": "stream",
     "text": [
      "Training Accuracy: 0.8608 \n",
      "Test Accuracy: 0.7642 \n"
     ]
    },
    {
     "data": {
      "text/plain": [
       "\n",
       "Naive Bayes Classifier for Discrete Predictors\n",
       "\n",
       "Call:\n",
       "naiveBayes.default(x = X, y = Y, laplace = laplace)\n",
       "\n",
       "A-priori probabilities:\n",
       "Y\n",
       "        0         1 \n",
       "0.7607261 0.2392739 \n",
       "\n",
       "Conditional probabilities:\n",
       "   satisfaction_level\n",
       "Y        [,1]      [,2]\n",
       "  0 0.6673634 0.2171659\n",
       "  1 0.4404514 0.2643050\n",
       "\n",
       "   last_evaluation\n",
       "Y        [,1]      [,2]\n",
       "  0 0.7161014 0.1631721\n",
       "  1 0.7173229 0.1976392\n",
       "\n",
       "   number_project\n",
       "Y            2          3          4          5          6          7\n",
       "  0 0.07533031 0.34450799 0.35062118 0.18181818 0.04772234 0.00000000\n",
       "  1 0.44263323 0.01880878 0.10219436 0.18181818 0.18307210 0.07147335\n",
       "\n",
       "   average_montly_hours\n",
       "Y       [,1]     [,2]\n",
       "  0 198.8878 45.64708\n",
       "  1 206.1718 60.87805\n",
       "\n",
       "   time_spend_company\n",
       "Y           10          2          3          4          5          6\n",
       "  0 0.01853678 0.28081246 0.42535989 0.14415303 0.05580753 0.04397555\n",
       "  1 0.00000000 0.01065831 0.44890282 0.24514107 0.24137931 0.05391850\n",
       "   time_spend_company\n",
       "Y            7          8\n",
       "  0 0.01735358 0.01400118\n",
       "  1 0.00000000 0.00000000\n",
       "\n",
       "   Work_accident\n",
       "Y            0          1\n",
       "  0 0.82330901 0.17669099\n",
       "  1 0.94796238 0.05203762\n",
       "\n",
       "   promotion_last_5years\n",
       "Y             0           1\n",
       "  0 0.972983632 0.027016368\n",
       "  1 0.993730408 0.006269592\n",
       "\n",
       "   department\n",
       "Y           IT      RandD accounting         hr management  marketing\n",
       "  0 0.08814829 0.06014593 0.04791954 0.04693354 0.04713074 0.05422993\n",
       "  1 0.06771160 0.02884013 0.05893417 0.05517241 0.03134796 0.05203762\n",
       "   department\n",
       "Y   product_mng      sales    support  technical\n",
       "  0  0.06211793 0.27529087 0.14553343 0.17254979\n",
       "  1  0.05705329 0.28777429 0.16175549 0.19937304\n",
       "\n",
       "   salary\n",
       "Y         high        low     medium\n",
       "  0 0.09741668 0.45572865 0.44685466\n",
       "  1 0.02068966 0.61442006 0.36489028\n"
      ]
     },
     "metadata": {},
     "output_type": "display_data"
    }
   ],
   "execution_count": 204
  },
  {
   "cell_type": "code",
   "id": "ee636380f1069639",
   "metadata": {
    "ExecuteTime": {
     "end_time": "2024-12-16T18:17:03.428482Z",
     "start_time": "2024-12-16T18:17:01.080185Z"
    }
   },
   "source": [
    "results <- evaluate_classification_model(\n",
    "\tmyData,\n",
    "\ttarget_variables_idx,\n",
    "\t5,\n",
    "\tTRUE,\n",
    "\tnaiveBayes,\n",
    "\tpredict\n",
    ")\n",
    "\n",
    "# Extract results\n",
    "avg_accuracy <- results$average_accuracy\n",
    "trained_model <- results$trained_model\n",
    "\n",
    "# Print the average accuracy\n",
    "cat(\"Final Average Accuracy:\", avg_accuracy, \"\\n\")\n",
    "\n",
    "# Inspect the final trained model\n",
    "print(trained_model)"
   ],
   "outputs": [
    {
     "name": "stdout",
     "output_type": "stream",
     "text": [
      "Accuracy for iteration 1 : 0.8605 \n",
      "Accuracy for iteration 2 : 0.8692 \n",
      "Accuracy for iteration 3 : 0.8587 \n",
      "Accuracy for iteration 4 : 0.8599 \n",
      "Accuracy for iteration 5 : 0.8542 \n",
      "\n",
      "Average Accuracy over 5 splits: 0.8605 \n",
      "Final Average Accuracy: 0.8605279 \n",
      "\n",
      "Naive Bayes Classifier for Discrete Predictors\n",
      "\n",
      "Call:\n",
      "naiveBayes.default(x = X, y = Y, laplace = laplace)\n",
      "\n",
      "A-priori probabilities:\n",
      "Y\n",
      "       0        1 \n",
      "0.759976 0.240024 \n",
      "\n",
      "Conditional probabilities:\n",
      "   satisfaction_level\n",
      "Y        [,1]      [,2]\n",
      "  0 0.6680083 0.2156065\n",
      "  1 0.4400875 0.2643933\n",
      "\n",
      "   last_evaluation\n",
      "Y        [,1]      [,2]\n",
      "  0 0.7181958 0.1629576\n",
      "  1 0.7199313 0.1989800\n",
      "\n",
      "   number_project\n",
      "Y            2          3          4          5          6          7\n",
      "  0 0.07165417 0.34958547 0.35136202 0.17962890 0.04776944 0.00000000\n",
      "  1 0.43687500 0.01875000 0.11250000 0.17687500 0.18875000 0.06625000\n",
      "\n",
      "   average_montly_hours\n",
      "Y       [,1]     [,2]\n",
      "  0 198.4820 45.83999\n",
      "  1 207.1481 60.86994\n",
      "\n",
      "   time_spend_company\n",
      "Y           10          2          3          4          5          6\n",
      "  0 0.01993683 0.27615476 0.43031978 0.14271615 0.05783656 0.04382156\n",
      "  1 0.00000000 0.01312500 0.44562500 0.25312500 0.22750000 0.06062500\n",
      "   time_spend_company\n",
      "Y            7          8\n",
      "  0 0.01638373 0.01283064\n",
      "  1 0.00000000 0.00000000\n",
      "\n",
      "   Work_accident\n",
      "Y           0         1\n",
      "  0 0.8247138 0.1752862\n",
      "  1 0.9518750 0.0481250\n",
      "\n",
      "   promotion_last_5years\n",
      "Y            0          1\n",
      "  0 0.97572049 0.02427951\n",
      "  1 0.99375000 0.00625000\n",
      "\n",
      "   department\n",
      "Y           IT      RandD accounting         hr management  marketing\n",
      "  0 0.08685353 0.05704698 0.05033557 0.04599289 0.04776944 0.05527043\n",
      "  1 0.07187500 0.02562500 0.05812500 0.06625000 0.02750000 0.05437500\n",
      "   department\n",
      "Y   product_mng      sales    support  technical\n",
      "  0  0.06217923 0.27793131 0.14271615 0.17390446\n",
      "  1  0.05000000 0.29437500 0.15687500 0.19500000\n",
      "\n",
      "   salary\n",
      "Y         high        low     medium\n",
      "  0 0.09889459 0.44453218 0.45657323\n",
      "  1 0.01937500 0.61687500 0.36375000\n",
      "\n"
     ]
    }
   ],
   "execution_count": 205
  },
  {
   "metadata": {
    "ExecuteTime": {
     "end_time": "2024-12-16T18:17:03.513370Z",
     "start_time": "2024-12-16T18:17:03.488787Z"
    }
   },
   "cell_type": "code",
   "source": [
    "# Function to plot and save probability distributions\n",
    "plot_and_save_probabilities <- function(output_dir, attribute_name, P_target, P_attribute_given_target, target_name, discretized = FALSE) {\n",
    "\t\n",
    "\t# Create the full path for the PDF file\n",
    "\tfile_suffix <- ifelse(discretized, \"_discretized\", \"\")\n",
    "\tfull_pdf_path <- file.path(output_dir, paste0(attribute_name, file_suffix, \".pdf\"))\n",
    "\t\n",
    "\t# Open a PDF to save the plots\n",
    "\tpdf(file = full_pdf_path, width = 12, height = 6)\n",
    "\t\n",
    "\t# Set up a 1-row, 2-column layout for the plots\n",
    "\tpar(mfrow = c(1, 2), mar = c(7, 4, 4, 2) + 0.1)\n",
    "\t\n",
    "\t# Visualize the probability distribution P(target)\n",
    "\tbarplot(P_target,\n",
    "\t        main = paste(\"Probability Distribution P(\", target_name, \")\"),\n",
    "\t        xlab = paste(\"Category of \", target_name),\n",
    "\t        ylab = \"Probability\")\n",
    "\t\n",
    "\t\n",
    "\t\n",
    "\t# Visualize the conditional probability P(variable | target)\n",
    "\tbarplot(P_attribute_given_target,\n",
    "\t        beside = FALSE,\n",
    "\t        main = paste0(\"Conditional Probability P(\", attribute_name, \" | \", target_name, \")\"),\n",
    "\t        xlab = paste0(\"Category of \", attribute_name),\n",
    "\t        ylab = \"Conditional Probability\",\n",
    "\t        legend.text = rownames(P_attribute_given_target),\n",
    "\t        args.legend = list(x = \"topright\", inset = c(-0.1, 0), bty = \"n\"))\n",
    "\t\n",
    "\t# Close the PDF device\n",
    "\tdev.off()\n",
    "\t\n",
    "}\n",
    "\n",
    "# Function to analyze qualitative attributes\n",
    "plot_probabilities_from_model_result <- function(wd, folder_name, model, data, variable_idx, target_idx) {\n",
    "\t\n",
    "\t# Ensure output directory exists\n",
    "\toutput_dir <- ensure_output_directory(wd, folder_name)\n",
    "\t\n",
    "\t# Calculate the probability distribution P(variable)\n",
    "\ttarget_name <- colnames(data)[target_idx]\n",
    "\tP_target <- model$apriori\n",
    "\tprint(P_target)  # Display the probability distribution\n",
    "\t\n",
    "\t# Calculate the conditional probability P(variable|target)\n",
    "\t# Example : Observing employe who had a work accident among the employe who left the company \n",
    "\t# P (work_accident = 1 | left=1)\n",
    "\tattribute_name <- colnames(data)[variable_idx]\n",
    "\tP_attribute_given_target <- model$tables[[attribute_name]]\n",
    "\t# Display the conditional probability\n",
    "\tprint(P_attribute_given_target)\n",
    "\t\n",
    "\t# Plot and save the probabilities\n",
    "\tplot_and_save_probabilities(output_dir, attribute_name, P_target, P_attribute_given_target, target_name)\n",
    "}\n"
   ],
   "id": "38a8d70acc303a9b",
   "outputs": [],
   "execution_count": 206
  },
  {
   "metadata": {
    "ExecuteTime": {
     "end_time": "2024-12-16T18:17:03.611634Z",
     "start_time": "2024-12-16T18:17:03.540381Z"
    }
   },
   "cell_type": "code",
   "source": [
    "for (i in qualitatives_attributes_col_idx) {\n",
    "\tplot_probabilities_from_model_result(\n",
    "\t\t\twd = working_directory,\n",
    "\t\t\tfolder_name = output_folder,\n",
    "\t\t\tmodel = trained_model,\n",
    "\t\t\tdata = myData,\n",
    "\t\t\tvariable_idx = i,\n",
    "\t\t\ttarget_idx = target_variables_idx\n",
    "\t)\n",
    "}\n"
   ],
   "id": "9d6d92130979152f",
   "outputs": [
    {
     "name": "stdout",
     "output_type": "stream",
     "text": [
      "Y\n",
      "   0    1 \n",
      "5066 1600 \n",
      "   number_project\n",
      "Y            2          3          4          5          6          7\n",
      "  0 0.07165417 0.34958547 0.35136202 0.17962890 0.04776944 0.00000000\n",
      "  1 0.43687500 0.01875000 0.11250000 0.17687500 0.18875000 0.06625000\n",
      "Y\n",
      "   0    1 \n",
      "5066 1600 \n",
      "   time_spend_company\n",
      "Y           10          2          3          4          5          6\n",
      "  0 0.01993683 0.27615476 0.43031978 0.14271615 0.05783656 0.04382156\n",
      "  1 0.00000000 0.01312500 0.44562500 0.25312500 0.22750000 0.06062500\n",
      "   time_spend_company\n",
      "Y            7          8\n",
      "  0 0.01638373 0.01283064\n",
      "  1 0.00000000 0.00000000\n",
      "Y\n",
      "   0    1 \n",
      "5066 1600 \n",
      "   Work_accident\n",
      "Y           0         1\n",
      "  0 0.8247138 0.1752862\n",
      "  1 0.9518750 0.0481250\n",
      "Y\n",
      "   0    1 \n",
      "5066 1600 \n",
      "   promotion_last_5years\n",
      "Y            0          1\n",
      "  0 0.97572049 0.02427951\n",
      "  1 0.99375000 0.00625000\n",
      "Y\n",
      "   0    1 \n",
      "5066 1600 \n",
      "   department\n",
      "Y           IT      RandD accounting         hr management  marketing\n",
      "  0 0.08685353 0.05704698 0.05033557 0.04599289 0.04776944 0.05527043\n",
      "  1 0.07187500 0.02562500 0.05812500 0.06625000 0.02750000 0.05437500\n",
      "   department\n",
      "Y   product_mng      sales    support  technical\n",
      "  0  0.06217923 0.27793131 0.14271615 0.17390446\n",
      "  1  0.05000000 0.29437500 0.15687500 0.19500000\n",
      "Y\n",
      "   0    1 \n",
      "5066 1600 \n",
      "   salary\n",
      "Y         high        low     medium\n",
      "  0 0.09889459 0.44453218 0.45657323\n",
      "  1 0.01937500 0.61687500 0.36375000\n"
     ]
    }
   ],
   "execution_count": 207
  },
  {
   "metadata": {
    "ExecuteTime": {
     "end_time": "2024-12-16T18:17:03.635552Z",
     "start_time": "2024-12-16T18:17:03.620634Z"
    }
   },
   "cell_type": "code",
   "source": "",
   "id": "e79dd1737bd53ad1",
   "outputs": [],
   "execution_count": null
  }
 ],
 "metadata": {
  "kernelspec": {
   "display_name": "R [conda env:base] *",
   "language": "R",
   "name": "conda-base-r"
  },
  "language_info": {
   "codemirror_mode": "r",
   "file_extension": ".r",
   "mimetype": "text/x-r-source",
   "name": "R",
   "pygments_lexer": "r",
   "version": "4.1.3"
  }
 },
 "nbformat": 4,
 "nbformat_minor": 5
}
