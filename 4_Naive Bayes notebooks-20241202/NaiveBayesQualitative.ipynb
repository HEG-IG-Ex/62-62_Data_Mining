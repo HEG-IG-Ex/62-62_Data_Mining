{
 "cells": [
  {
   "cell_type": "markdown",
   "id": "27d3130d",
   "metadata": {},
   "source": [
    "# Naive Bayes: a probabilistic classification algorithm"
   ]
  },
  {
   "cell_type": "markdown",
   "id": "496cc9b4",
   "metadata": {},
   "source": [
    "* Naive Bayes est un algorithme de classification probabiliste.\n",
    "* Étant donné une instance $\\mathbf x=[x_1,\\dots x_d]$ et un ensemble de valeurs cibles $y_1, \\dots, y_k$, \n",
    "* Il calculera toutes les probabilités conditionnelles :\n",
    "$$P(y_i|\\mathbf x), y_i \\in \\{y_1, \\dots y_k\\}$$\n",
    "* et prédit la valeur cible $y_i$ qui a la plus grande probabilité $P(y_i|\\mathbf x)$.\n",
    "\n"
   ]
  },
  {
   "cell_type": "markdown",
   "id": "089dcb3b",
   "metadata": {},
   "source": [
    "*  Pour calculer $P(y_i|\\mathbf x)$ il utilise le théorème de Bayes \n",
    "$$\n",
    " P(y_i|\\mathbf x) =\\frac{P(\\mathbf x|y_i) p(y_i)}{P(\\mathbf x)} \n",
    "$$\n",
    "et une hypothèse simplificatrice qui permet de calculer facilement $P(\\mathbf x|y_i)$ comme suit :\n",
    "$$\n",
    "P(\\mathbf x|y_i) = P(x_1|y_i) P(x_2|y_i) \\dots P(x_d|y_i)\n",
    "$$\n",
    "* Le **modèle** de Naive Bayes est constitué de \n",
    "  * toutes les probabilités conditionnelles:  $$ \\{ P(x_1 |y_i), \\dots, P(x_d |y_i) \\}, y_i \\in \\{y_1, \\dots y_k \\} $$\n",
    "  * et des probabilités de classe apiori: $$ \\{ p(y_i) \\},  y_i \\in \\{y_1, \\dots y_k \\} $$\n",
    "* Le **modèle** de Naive Bayes nous permet de calculer les probabilités cibles pour n'importe quelle instance d'apprentissage"
   ]
  },
  {
   "cell_type": "markdown",
   "id": "331438f0",
   "metadata": {},
   "source": [
    "**Naive bayes exemple Titanic**"
   ]
  },
  {
   "cell_type": "markdown",
   "id": "3e8861d4",
   "metadata": {},
   "source": [
    "Prenons l'exemple de Titanic: \n",
    "* La variable cible est le **result** et prend des valeurs dans  $\\{ \\text{mort, surv} \\}$\n",
    "* Une instance $\\mathbf x$ a trois attributs prédictifs $\\mathbf x = [\\text{class, sex, age}]$\n",
    "* Naive Bayes calculera: \n",
    "  * $P(\\text{result} =\\text{mort} | \\mathbf x)$\n",
    "  * $P(\\text{result} =\\text{surv} | \\mathbf x)$\n",
    "  \n",
    "  Voyons comment Naive Bayes procède à l'aide d'un exemple"
   ]
  },
  {
   "cell_type": "markdown",
   "id": "68e1437e",
   "metadata": {},
   "source": [
    "* Pour déterminer la valeur cible d'une instance donnée, par exemple $\\mathbf x = [\\text{first, female, enf}]$,  naive Bayes calculera :\n",
    "\n",
    "\\begin{align*}\n",
    "P(\\text{mort}|\\text{first, female, enf}) &= \\frac{P(\\text{first, female, enf|mort})P(\\text{mort})}{P(\\text{first, female, enf})} \\\\\n",
    "                                         &= \\frac{P(\\text{first|mort})P(\\text{female|mort}) P(\\text{enf|mort})P(\\text{mort})}{P(\\text{first, female, enf})} \\\\\n",
    "\\text{ and } \\\\\n",
    "P(\\text{surv}|\\text{first, female, enf}) &= \\frac{P(\\text{first, female, enf|surv})P(\\text{surv})}{P(\\text{first, female, enf})} \\\\\n",
    "                                         &= \\frac{P(\\text{first|surv})P(\\text{female|surv}) P(\\text{enf|surv})P(\\text{surv})}{P(\\text{first, female, enf})}\n",
    "\\end{align*}\n",
    "\n",
    "et sélectionnera la valeur cible ayant la plus grande probabilité. \n",
    "* Nous savons déjà, grâce au TP1, comment calculer tous les  $P(\\text{first|surv}), P(\\text{female|surv}), P(\\text{enf|surv}), P(\\text{surv})$\n",
    "* pour trouver la valeur cible ayant la plus grande probabilité, il n'est même pas nécessaire de calculer le denominateur $P(\\text{first, female, enf})$, pourquoi?\n",
    "* En principe, nous pourrions déjà mettre en œuvre Naive Bayes avec tout ce que nous avons vu jusqu'à présent dans le TP -1\n"
   ]
  },
  {
   "cell_type": "markdown",
   "id": "93529a42",
   "metadata": {},
   "source": [
    "Quelles sont donc toutes les probabilités que Naive Bayes doit calculer pour son **modèle** ?\n",
    "* probabilités conditionnelles:\n",
    "\\begin{align}\n",
    "  P(\\text{class} | \\text { surv }  ) & = \\{ P(\\text{class} = first | \\text { surv }), \\dots,  P(\\text{class} = \\text{crew} | \\text { surv }) \\} \\\\\n",
    "  P(\\text{class} | \\text { mort }  ) & = \\{ P(\\text{class} = first | \\text { mort }), \\dots,  P(\\text{class} = \\text{crew} | \\text { mort }) \\} \\\\\n",
    "  \\\\\n",
    "  P(\\text{age} | \\text { surv }  ) & = \\{ P(\\text{age} = enf | \\text { surv }), P(\\text{age} = \\text{adu} | \\text { surv }) \\} \\\\\n",
    " P(\\text{age} | \\text { mort }  ) & = \\{ P(\\text{age} = enf | \\text { mort }),  P(\\text{age} = \\text{adu} | \\text { mort }) \\} \\\\\n",
    " \\\\\n",
    "   P(\\text{sex} | \\text { surv }  ) & = \\{ P(\\text{sex} = female | \\text { surv }), P(\\text{sex} = \\text{male} | \\text { surv }) \\} \\\\\n",
    " P(\\text{sex} | \\text { mort }  ) & = \\{ P(\\text{sex} = female | \\text { mort }),  P(\\text{sex} = \\text{male} | \\text { mort }) \\}\n",
    " \\end{align}\n",
    "* probabilités apriori\n",
    "$$ P(\\text{result}) = \\{ P(\\text{mort}), P(\\text{surv}) \\}$$\n",
    "\n",
    "Comment ces probabilités sont-elles calculées ?\n",
    "* nous les calculons à partir de ce que nous appelons un **ensemble d' apprentissage**\n",
    "* comment sait-on que le modèle appris est de qualité ? "
   ]
  },
  {
   "cell_type": "markdown",
   "id": "2558bb7c",
   "metadata": {},
   "source": [
    "# Comment évaluer les modèles de classification ?"
   ]
  },
  {
   "cell_type": "markdown",
   "id": "65464852",
   "metadata": {},
   "source": [
    "* Nous pouvons considérer un modèle de classification comme un programme qui, à partir d'une entrée, produit une sortie.\n",
    "* Nous contrôlons l'exactitude des programmes/codes classiques :\n",
    "  * en examinant le code\n",
    "  * en vérifiant si leurs résultats sont corrects compte tenu de certaines entrées pour lesquelles nous connaissons le résultat attendu (par exemple, les tests unitaires)\n",
    "* L'examen de code ne se conduit pas à des modèles de classification, qui sont très souvent *impénétrables*.\n",
    "* Cependant, nous pouvons toujours vérifier les résultats (prédictions) qu'ils produisent à partir d'entrées (instances) pour lesquelles nous connaissons la valeur correcte de la variable cible. \n",
    "* nous effectuons cette vérification à l'aide de ce que nous appelons un ensemble de test\n",
    "  * L'ensemble de test est un ensemble d'instances pour lesquelles nous connaissons déjà la valeur de la variable cible\n",
    "  * *attention* l'ensemble d'apprentissage doit être *différent* de l'ensemble de test"
   ]
  },
  {
   "cell_type": "markdown",
   "id": "3d910919",
   "metadata": {},
   "source": [
    "## Comment entraîner et évaluer un modèle ?"
   ]
  },
  {
   "cell_type": "markdown",
   "id": "b501e4e3",
   "metadata": {},
   "source": [
    "Étant donné un ensemble de données, nous le diviserons en deux parties \n",
    "* un ensemble d'entraînement qui est utilisé... pour l' *entraînement* du modèle\n",
    "* et un ensemble de test qui est utilisé... pour *tester* le modèle.\n",
    "\n",
    "la division sera typiquement aléatoire, 50%-50%, 75%-25%\n",
    "\n",
    "<img src=\"trn_tst.png\" alt=\"Model evaluation\">\n",
    "\n",
    "si notre algorithme a des paramètres qui contrôlent son comportement (ce qui n'est pas le cas de Naive Bayes), nous devons évaluer différentes valeurs de paramètres à l'aide d'un ensemble de validation. \n",
    "\n",
    "<img src=\"trn_val_tst.png\" alt=\"Model evaluation\">\n",
    "\n",
    "Nous pouvons répéter l'évaluation (différentes séparations train/test) et indiquer la performance moyenne sur les différentes séparations\n"
   ]
  },
  {
   "cell_type": "markdown",
   "id": "444f6550",
   "metadata": {},
   "source": [
    "### Evaluation measure"
   ]
  },
  {
   "cell_type": "markdown",
   "id": "8e9b83cd",
   "metadata": {},
   "source": [
    "Dans les problèmes de classification, nous utiliserons le:\n",
    "* Taux de bien classés (TBC):\n",
    "$$ \\text{TBC} = \\frac{\\text{nombre d' instances bien classés}}{\\text{nombre total d' instances}} $$\n",
    "en anglais: accuracy. \n",
    "* On peut aussi utiliser l' erreur:\n",
    "$$ \\text{erreur} = 1 - \\text{TBC}$$"
   ]
  },
  {
   "cell_type": "markdown",
   "id": "10052390",
   "metadata": {},
   "source": [
    "# Entraînement et évaluation de Naive Bayes (avec des attributs prédictifs qualitatifs)"
   ]
  },
  {
   "cell_type": "markdown",
   "id": "bfb2c538",
   "metadata": {},
   "source": [
    "Comme d'habitude, nous travaillerons avec l'ensemble de données titanic\n",
    "\n",
    "Nous devons installer le package de Naive Bayes"
   ]
  },
  {
   "cell_type": "code",
   "execution_count": null,
   "id": "614ed1f4",
   "metadata": {},
   "outputs": [],
   "source": [
    "#cette opération ne doit être effectuée qu'une seule fois, elle installe le package Naive Bayes\n",
    "#install.packages(\"e1071\")\n",
    "\n",
    "#mettre le paquet à disposition\n",
    "library(\"e1071\")\n",
    "\n",
    "#for latex parsing of equations\n",
    "library(\"latex2exp\")"
   ]
  },
  {
   "cell_type": "markdown",
   "id": "bd14fef7",
   "metadata": {},
   "source": [
    "* Nous disposons d'un ensemble de données d'apprentissage\n",
    "* Nous appliquons l'algorithme de Naive Bayes sur celui-ci\n",
    "* et nous obtenons un modèle de Naive Bayes comme résultat"
   ]
  },
  {
   "cell_type": "code",
   "id": "59ae0cb6",
   "metadata": {
    "ExecuteTime": {
     "end_time": "2024-12-15T16:56:15.692939Z",
     "start_time": "2024-12-15T16:56:15.639900Z"
    }
   },
   "source": [
    "#read data\n",
    "# avec colClasses, nous contrôlons explicitement les types des différentes variables, \n",
    "# les valeurs qui nous intéressent le plus sont \n",
    "# factor: variables qualitatives\n",
    "# numeric: pour les variables quantitatives\n",
    "myData<- read.table(\"titanic.csv\",header=T,sep=\",\",colClasses=c(\"factor\", \"factor\", \"factor\", \"factor\"))"
   ],
   "outputs": [],
   "execution_count": 2
  },
  {
   "cell_type": "code",
   "id": "1b484529",
   "metadata": {
    "ExecuteTime": {
     "end_time": "2024-12-15T16:56:18.583698Z",
     "start_time": "2024-12-15T16:56:18.553071Z"
    }
   },
   "source": [
    "head(myData)\n",
    "dim(myData)"
   ],
   "outputs": [
    {
     "data": {
      "text/html": [
       "<table class=\"dataframe\">\n",
       "<caption>A data.frame: 6 × 11</caption>\n",
       "<thead>\n",
       "\t<tr><th></th><th scope=col>Id</th><th scope=col>satisfaction_level</th><th scope=col>last_evaluation</th><th scope=col>number_project</th><th scope=col>average_montly_hours</th><th scope=col>time_spend_company</th><th scope=col>Work_accident</th><th scope=col>left</th><th scope=col>promotion_last_5years</th><th scope=col>department</th><th scope=col>salary</th></tr>\n",
       "\t<tr><th></th><th scope=col>&lt;fct&gt;</th><th scope=col>&lt;dbl&gt;</th><th scope=col>&lt;dbl&gt;</th><th scope=col>&lt;int&gt;</th><th scope=col>&lt;int&gt;</th><th scope=col>&lt;int&gt;</th><th scope=col>&lt;fct&gt;</th><th scope=col>&lt;fct&gt;</th><th scope=col>&lt;fct&gt;</th><th scope=col>&lt;fct&gt;</th><th scope=col>&lt;fct&gt;</th></tr>\n",
       "</thead>\n",
       "<tbody>\n",
       "\t<tr><th scope=row>1</th><td>10522</td><td>0.83</td><td>0.80</td><td>4</td><td>158</td><td>4</td><td>0</td><td>0</td><td>0</td><td>marketing  </td><td>medium</td></tr>\n",
       "\t<tr><th scope=row>2</th><td>1783 </td><td>1.00</td><td>0.39</td><td>2</td><td>210</td><td>5</td><td>0</td><td>0</td><td>0</td><td>sales      </td><td>low   </td></tr>\n",
       "\t<tr><th scope=row>3</th><td>11982</td><td>0.97</td><td>0.91</td><td>3</td><td>246</td><td>2</td><td>0</td><td>0</td><td>0</td><td>accounting </td><td>low   </td></tr>\n",
       "\t<tr><th scope=row>4</th><td>10854</td><td>0.68</td><td>0.65</td><td>3</td><td>173</td><td>3</td><td>1</td><td>0</td><td>0</td><td>marketing  </td><td>high  </td></tr>\n",
       "\t<tr><th scope=row>5</th><td>12152</td><td>0.77</td><td>0.55</td><td>3</td><td>225</td><td>3</td><td>0</td><td>0</td><td>0</td><td>sales      </td><td>medium</td></tr>\n",
       "\t<tr><th scope=row>6</th><td>12851</td><td>0.51</td><td>0.71</td><td>2</td><td>180</td><td>3</td><td>0</td><td>0</td><td>0</td><td>product_mng</td><td>low   </td></tr>\n",
       "</tbody>\n",
       "</table>\n"
      ],
      "text/markdown": "\nA data.frame: 6 × 11\n\n| <!--/--> | Id &lt;fct&gt; | satisfaction_level &lt;dbl&gt; | last_evaluation &lt;dbl&gt; | number_project &lt;int&gt; | average_montly_hours &lt;int&gt; | time_spend_company &lt;int&gt; | Work_accident &lt;fct&gt; | left &lt;fct&gt; | promotion_last_5years &lt;fct&gt; | department &lt;fct&gt; | salary &lt;fct&gt; |\n|---|---|---|---|---|---|---|---|---|---|---|---|\n| 1 | 10522 | 0.83 | 0.80 | 4 | 158 | 4 | 0 | 0 | 0 | marketing   | medium |\n| 2 | 1783  | 1.00 | 0.39 | 2 | 210 | 5 | 0 | 0 | 0 | sales       | low    |\n| 3 | 11982 | 0.97 | 0.91 | 3 | 246 | 2 | 0 | 0 | 0 | accounting  | low    |\n| 4 | 10854 | 0.68 | 0.65 | 3 | 173 | 3 | 1 | 0 | 0 | marketing   | high   |\n| 5 | 12152 | 0.77 | 0.55 | 3 | 225 | 3 | 0 | 0 | 0 | sales       | medium |\n| 6 | 12851 | 0.51 | 0.71 | 2 | 180 | 3 | 0 | 0 | 0 | product_mng | low    |\n\n",
      "text/latex": "A data.frame: 6 × 11\n\\begin{tabular}{r|lllllllllll}\n  & Id & satisfaction\\_level & last\\_evaluation & number\\_project & average\\_montly\\_hours & time\\_spend\\_company & Work\\_accident & left & promotion\\_last\\_5years & department & salary\\\\\n  & <fct> & <dbl> & <dbl> & <int> & <int> & <int> & <fct> & <fct> & <fct> & <fct> & <fct>\\\\\n\\hline\n\t1 & 10522 & 0.83 & 0.80 & 4 & 158 & 4 & 0 & 0 & 0 & marketing   & medium\\\\\n\t2 & 1783  & 1.00 & 0.39 & 2 & 210 & 5 & 0 & 0 & 0 & sales       & low   \\\\\n\t3 & 11982 & 0.97 & 0.91 & 3 & 246 & 2 & 0 & 0 & 0 & accounting  & low   \\\\\n\t4 & 10854 & 0.68 & 0.65 & 3 & 173 & 3 & 1 & 0 & 0 & marketing   & high  \\\\\n\t5 & 12152 & 0.77 & 0.55 & 3 & 225 & 3 & 0 & 0 & 0 & sales       & medium\\\\\n\t6 & 12851 & 0.51 & 0.71 & 2 & 180 & 3 & 0 & 0 & 0 & product\\_mng & low   \\\\\n\\end{tabular}\n",
      "text/plain": [
       "  Id    satisfaction_level last_evaluation number_project average_montly_hours\n",
       "1 10522 0.83               0.80            4              158                 \n",
       "2 1783  1.00               0.39            2              210                 \n",
       "3 11982 0.97               0.91            3              246                 \n",
       "4 10854 0.68               0.65            3              173                 \n",
       "5 12152 0.77               0.55            3              225                 \n",
       "6 12851 0.51               0.71            2              180                 \n",
       "  time_spend_company Work_accident left promotion_last_5years department \n",
       "1 4                  0             0    0                     marketing  \n",
       "2 5                  0             0    0                     sales      \n",
       "3 2                  0             0    0                     accounting \n",
       "4 3                  1             0    0                     marketing  \n",
       "5 3                  0             0    0                     sales      \n",
       "6 3                  0             0    0                     product_mng\n",
       "  salary\n",
       "1 medium\n",
       "2 low   \n",
       "3 low   \n",
       "4 high  \n",
       "5 medium\n",
       "6 low   "
      ]
     },
     "metadata": {},
     "output_type": "display_data"
    },
    {
     "data": {
      "text/html": [
       "<style>\n",
       ".list-inline {list-style: none; margin:0; padding: 0}\n",
       ".list-inline>li {display: inline-block}\n",
       ".list-inline>li:not(:last-child)::after {content: \"\\00b7\"; padding: 0 .5ex}\n",
       "</style>\n",
       "<ol class=list-inline><li>10000</li><li>11</li></ol>\n"
      ],
      "text/markdown": "1. 10000\n2. 11\n\n\n",
      "text/latex": "\\begin{enumerate*}\n\\item 10000\n\\item 11\n\\end{enumerate*}\n",
      "text/plain": [
       "[1] 10000    11"
      ]
     },
     "metadata": {},
     "output_type": "display_data"
    }
   ],
   "execution_count": 3
  },
  {
   "cell_type": "code",
   "id": "4cc333fd",
   "metadata": {
    "ExecuteTime": {
     "end_time": "2024-12-15T16:56:22.416244Z",
     "start_time": "2024-12-15T16:56:22.368963Z"
    }
   },
   "source": [
    "#créons l'ensemble de données d'apprentissage\n",
    "#utilizons 50% des données pour la apprentissage\n",
    "set.seed(1) #controlled randomness\n",
    "trainIndex <- sample(1:dim(myData)[1],size=0.5*dim(myData)[1])\n",
    "trainData <- myData[trainIndex,]\n",
    "print(\"Train data\")\n",
    "head(trainData)\n",
    "dim(trainData)\n",
    "\n",
    "#et utilisons les restantes pour créer l'ensemble de test\n",
    "testData <- myData[-trainIndex,]\n",
    "print(\"Test data\")\n",
    "head(testData)\n",
    "dim(testData)"
   ],
   "outputs": [
    {
     "name": "stdout",
     "output_type": "stream",
     "text": [
      "[1] \"Train data\"\n"
     ]
    },
    {
     "data": {
      "text/html": [
       "<table class=\"dataframe\">\n",
       "<caption>A data.frame: 6 × 11</caption>\n",
       "<thead>\n",
       "\t<tr><th></th><th scope=col>Id</th><th scope=col>satisfaction_level</th><th scope=col>last_evaluation</th><th scope=col>number_project</th><th scope=col>average_montly_hours</th><th scope=col>time_spend_company</th><th scope=col>Work_accident</th><th scope=col>left</th><th scope=col>promotion_last_5years</th><th scope=col>department</th><th scope=col>salary</th></tr>\n",
       "\t<tr><th></th><th scope=col>&lt;fct&gt;</th><th scope=col>&lt;dbl&gt;</th><th scope=col>&lt;dbl&gt;</th><th scope=col>&lt;int&gt;</th><th scope=col>&lt;int&gt;</th><th scope=col>&lt;int&gt;</th><th scope=col>&lt;fct&gt;</th><th scope=col>&lt;fct&gt;</th><th scope=col>&lt;fct&gt;</th><th scope=col>&lt;fct&gt;</th><th scope=col>&lt;fct&gt;</th></tr>\n",
       "</thead>\n",
       "<tbody>\n",
       "\t<tr><th scope=row>1017</th><td>12790</td><td>0.92</td><td>0.94</td><td>2</td><td>224</td><td>2</td><td>0</td><td>0</td><td>0</td><td>sales     </td><td>low   </td></tr>\n",
       "\t<tr><th scope=row>8004</th><td>13613</td><td>0.38</td><td>0.55</td><td>2</td><td>147</td><td>3</td><td>0</td><td>1</td><td>0</td><td>sales     </td><td>low   </td></tr>\n",
       "\t<tr><th scope=row>4775</th><td>1302 </td><td>0.54</td><td>0.61</td><td>3</td><td>182</td><td>2</td><td>0</td><td>0</td><td>0</td><td>sales     </td><td>low   </td></tr>\n",
       "\t<tr><th scope=row>9725</th><td>527  </td><td>0.92</td><td>0.68</td><td>4</td><td>138</td><td>7</td><td>0</td><td>0</td><td>0</td><td>sales     </td><td>medium</td></tr>\n",
       "\t<tr><th scope=row>8462</th><td>10081</td><td>0.75</td><td>0.59</td><td>5</td><td>149</td><td>4</td><td>0</td><td>0</td><td>0</td><td>sales     </td><td>medium</td></tr>\n",
       "\t<tr><th scope=row>4050</th><td>8242 </td><td>0.97</td><td>0.66</td><td>4</td><td>149</td><td>2</td><td>0</td><td>0</td><td>0</td><td>accounting</td><td>low   </td></tr>\n",
       "</tbody>\n",
       "</table>\n"
      ],
      "text/markdown": "\nA data.frame: 6 × 11\n\n| <!--/--> | Id &lt;fct&gt; | satisfaction_level &lt;dbl&gt; | last_evaluation &lt;dbl&gt; | number_project &lt;int&gt; | average_montly_hours &lt;int&gt; | time_spend_company &lt;int&gt; | Work_accident &lt;fct&gt; | left &lt;fct&gt; | promotion_last_5years &lt;fct&gt; | department &lt;fct&gt; | salary &lt;fct&gt; |\n|---|---|---|---|---|---|---|---|---|---|---|---|\n| 1017 | 12790 | 0.92 | 0.94 | 2 | 224 | 2 | 0 | 0 | 0 | sales      | low    |\n| 8004 | 13613 | 0.38 | 0.55 | 2 | 147 | 3 | 0 | 1 | 0 | sales      | low    |\n| 4775 | 1302  | 0.54 | 0.61 | 3 | 182 | 2 | 0 | 0 | 0 | sales      | low    |\n| 9725 | 527   | 0.92 | 0.68 | 4 | 138 | 7 | 0 | 0 | 0 | sales      | medium |\n| 8462 | 10081 | 0.75 | 0.59 | 5 | 149 | 4 | 0 | 0 | 0 | sales      | medium |\n| 4050 | 8242  | 0.97 | 0.66 | 4 | 149 | 2 | 0 | 0 | 0 | accounting | low    |\n\n",
      "text/latex": "A data.frame: 6 × 11\n\\begin{tabular}{r|lllllllllll}\n  & Id & satisfaction\\_level & last\\_evaluation & number\\_project & average\\_montly\\_hours & time\\_spend\\_company & Work\\_accident & left & promotion\\_last\\_5years & department & salary\\\\\n  & <fct> & <dbl> & <dbl> & <int> & <int> & <int> & <fct> & <fct> & <fct> & <fct> & <fct>\\\\\n\\hline\n\t1017 & 12790 & 0.92 & 0.94 & 2 & 224 & 2 & 0 & 0 & 0 & sales      & low   \\\\\n\t8004 & 13613 & 0.38 & 0.55 & 2 & 147 & 3 & 0 & 1 & 0 & sales      & low   \\\\\n\t4775 & 1302  & 0.54 & 0.61 & 3 & 182 & 2 & 0 & 0 & 0 & sales      & low   \\\\\n\t9725 & 527   & 0.92 & 0.68 & 4 & 138 & 7 & 0 & 0 & 0 & sales      & medium\\\\\n\t8462 & 10081 & 0.75 & 0.59 & 5 & 149 & 4 & 0 & 0 & 0 & sales      & medium\\\\\n\t4050 & 8242  & 0.97 & 0.66 & 4 & 149 & 2 & 0 & 0 & 0 & accounting & low   \\\\\n\\end{tabular}\n",
      "text/plain": [
       "     Id    satisfaction_level last_evaluation number_project\n",
       "1017 12790 0.92               0.94            2             \n",
       "8004 13613 0.38               0.55            2             \n",
       "4775 1302  0.54               0.61            3             \n",
       "9725 527   0.92               0.68            4             \n",
       "8462 10081 0.75               0.59            5             \n",
       "4050 8242  0.97               0.66            4             \n",
       "     average_montly_hours time_spend_company Work_accident left\n",
       "1017 224                  2                  0             0   \n",
       "8004 147                  3                  0             1   \n",
       "4775 182                  2                  0             0   \n",
       "9725 138                  7                  0             0   \n",
       "8462 149                  4                  0             0   \n",
       "4050 149                  2                  0             0   \n",
       "     promotion_last_5years department salary\n",
       "1017 0                     sales      low   \n",
       "8004 0                     sales      low   \n",
       "4775 0                     sales      low   \n",
       "9725 0                     sales      medium\n",
       "8462 0                     sales      medium\n",
       "4050 0                     accounting low   "
      ]
     },
     "metadata": {},
     "output_type": "display_data"
    },
    {
     "data": {
      "text/html": [
       "<style>\n",
       ".list-inline {list-style: none; margin:0; padding: 0}\n",
       ".list-inline>li {display: inline-block}\n",
       ".list-inline>li:not(:last-child)::after {content: \"\\00b7\"; padding: 0 .5ex}\n",
       "</style>\n",
       "<ol class=list-inline><li>5000</li><li>11</li></ol>\n"
      ],
      "text/markdown": "1. 5000\n2. 11\n\n\n",
      "text/latex": "\\begin{enumerate*}\n\\item 5000\n\\item 11\n\\end{enumerate*}\n",
      "text/plain": [
       "[1] 5000   11"
      ]
     },
     "metadata": {},
     "output_type": "display_data"
    },
    {
     "name": "stdout",
     "output_type": "stream",
     "text": [
      "[1] \"Test data\"\n"
     ]
    },
    {
     "data": {
      "text/html": [
       "<table class=\"dataframe\">\n",
       "<caption>A data.frame: 6 × 11</caption>\n",
       "<thead>\n",
       "\t<tr><th></th><th scope=col>Id</th><th scope=col>satisfaction_level</th><th scope=col>last_evaluation</th><th scope=col>number_project</th><th scope=col>average_montly_hours</th><th scope=col>time_spend_company</th><th scope=col>Work_accident</th><th scope=col>left</th><th scope=col>promotion_last_5years</th><th scope=col>department</th><th scope=col>salary</th></tr>\n",
       "\t<tr><th></th><th scope=col>&lt;fct&gt;</th><th scope=col>&lt;dbl&gt;</th><th scope=col>&lt;dbl&gt;</th><th scope=col>&lt;int&gt;</th><th scope=col>&lt;int&gt;</th><th scope=col>&lt;int&gt;</th><th scope=col>&lt;fct&gt;</th><th scope=col>&lt;fct&gt;</th><th scope=col>&lt;fct&gt;</th><th scope=col>&lt;fct&gt;</th><th scope=col>&lt;fct&gt;</th></tr>\n",
       "</thead>\n",
       "<tbody>\n",
       "\t<tr><th scope=row>1</th><td>10522</td><td>0.83</td><td>0.80</td><td>4</td><td>158</td><td>4</td><td>0</td><td>0</td><td>0</td><td>marketing </td><td>medium</td></tr>\n",
       "\t<tr><th scope=row>2</th><td>1783 </td><td>1.00</td><td>0.39</td><td>2</td><td>210</td><td>5</td><td>0</td><td>0</td><td>0</td><td>sales     </td><td>low   </td></tr>\n",
       "\t<tr><th scope=row>3</th><td>11982</td><td>0.97</td><td>0.91</td><td>3</td><td>246</td><td>2</td><td>0</td><td>0</td><td>0</td><td>accounting</td><td>low   </td></tr>\n",
       "\t<tr><th scope=row>5</th><td>12152</td><td>0.77</td><td>0.55</td><td>3</td><td>225</td><td>3</td><td>0</td><td>0</td><td>0</td><td>sales     </td><td>medium</td></tr>\n",
       "\t<tr><th scope=row>8</th><td>3639 </td><td>0.79</td><td>0.86</td><td>5</td><td>235</td><td>5</td><td>0</td><td>1</td><td>0</td><td>support   </td><td>medium</td></tr>\n",
       "\t<tr><th scope=row>9</th><td>14926</td><td>0.70</td><td>0.54</td><td>5</td><td>263</td><td>3</td><td>0</td><td>0</td><td>0</td><td>technical </td><td>low   </td></tr>\n",
       "</tbody>\n",
       "</table>\n"
      ],
      "text/markdown": "\nA data.frame: 6 × 11\n\n| <!--/--> | Id &lt;fct&gt; | satisfaction_level &lt;dbl&gt; | last_evaluation &lt;dbl&gt; | number_project &lt;int&gt; | average_montly_hours &lt;int&gt; | time_spend_company &lt;int&gt; | Work_accident &lt;fct&gt; | left &lt;fct&gt; | promotion_last_5years &lt;fct&gt; | department &lt;fct&gt; | salary &lt;fct&gt; |\n|---|---|---|---|---|---|---|---|---|---|---|---|\n| 1 | 10522 | 0.83 | 0.80 | 4 | 158 | 4 | 0 | 0 | 0 | marketing  | medium |\n| 2 | 1783  | 1.00 | 0.39 | 2 | 210 | 5 | 0 | 0 | 0 | sales      | low    |\n| 3 | 11982 | 0.97 | 0.91 | 3 | 246 | 2 | 0 | 0 | 0 | accounting | low    |\n| 5 | 12152 | 0.77 | 0.55 | 3 | 225 | 3 | 0 | 0 | 0 | sales      | medium |\n| 8 | 3639  | 0.79 | 0.86 | 5 | 235 | 5 | 0 | 1 | 0 | support    | medium |\n| 9 | 14926 | 0.70 | 0.54 | 5 | 263 | 3 | 0 | 0 | 0 | technical  | low    |\n\n",
      "text/latex": "A data.frame: 6 × 11\n\\begin{tabular}{r|lllllllllll}\n  & Id & satisfaction\\_level & last\\_evaluation & number\\_project & average\\_montly\\_hours & time\\_spend\\_company & Work\\_accident & left & promotion\\_last\\_5years & department & salary\\\\\n  & <fct> & <dbl> & <dbl> & <int> & <int> & <int> & <fct> & <fct> & <fct> & <fct> & <fct>\\\\\n\\hline\n\t1 & 10522 & 0.83 & 0.80 & 4 & 158 & 4 & 0 & 0 & 0 & marketing  & medium\\\\\n\t2 & 1783  & 1.00 & 0.39 & 2 & 210 & 5 & 0 & 0 & 0 & sales      & low   \\\\\n\t3 & 11982 & 0.97 & 0.91 & 3 & 246 & 2 & 0 & 0 & 0 & accounting & low   \\\\\n\t5 & 12152 & 0.77 & 0.55 & 3 & 225 & 3 & 0 & 0 & 0 & sales      & medium\\\\\n\t8 & 3639  & 0.79 & 0.86 & 5 & 235 & 5 & 0 & 1 & 0 & support    & medium\\\\\n\t9 & 14926 & 0.70 & 0.54 & 5 & 263 & 3 & 0 & 0 & 0 & technical  & low   \\\\\n\\end{tabular}\n",
      "text/plain": [
       "  Id    satisfaction_level last_evaluation number_project average_montly_hours\n",
       "1 10522 0.83               0.80            4              158                 \n",
       "2 1783  1.00               0.39            2              210                 \n",
       "3 11982 0.97               0.91            3              246                 \n",
       "5 12152 0.77               0.55            3              225                 \n",
       "8 3639  0.79               0.86            5              235                 \n",
       "9 14926 0.70               0.54            5              263                 \n",
       "  time_spend_company Work_accident left promotion_last_5years department salary\n",
       "1 4                  0             0    0                     marketing  medium\n",
       "2 5                  0             0    0                     sales      low   \n",
       "3 2                  0             0    0                     accounting low   \n",
       "5 3                  0             0    0                     sales      medium\n",
       "8 5                  0             1    0                     support    medium\n",
       "9 3                  0             0    0                     technical  low   "
      ]
     },
     "metadata": {},
     "output_type": "display_data"
    },
    {
     "data": {
      "text/html": [
       "<style>\n",
       ".list-inline {list-style: none; margin:0; padding: 0}\n",
       ".list-inline>li {display: inline-block}\n",
       ".list-inline>li:not(:last-child)::after {content: \"\\00b7\"; padding: 0 .5ex}\n",
       "</style>\n",
       "<ol class=list-inline><li>5000</li><li>11</li></ol>\n"
      ],
      "text/markdown": "1. 5000\n2. 11\n\n\n",
      "text/latex": "\\begin{enumerate*}\n\\item 5000\n\\item 11\n\\end{enumerate*}\n",
      "text/plain": [
       "[1] 5000   11"
      ]
     },
     "metadata": {},
     "output_type": "display_data"
    }
   ],
   "execution_count": 4
  },
  {
   "cell_type": "code",
   "id": "d87eb850",
   "metadata": {
    "ExecuteTime": {
     "end_time": "2024-12-15T16:56:26.978816Z",
     "start_time": "2024-12-15T16:56:26.957817Z"
    }
   },
   "source": [
    "#Train a Naive Bayes on myData.\n",
    "#The parameter:\n",
    "# formula=result~.\n",
    "#sets the target/class variable to be the type.\n",
    "#and use as predictive variables all the others\n",
    "#Entraîner un Naive Bayes sur myData.\n",
    "#Le paramètre :\n",
    "# formula=result~.\n",
    "#définit la variable cible/classe comme étant le result\n",
    "#et utilise comme variables prédictives toutes les autres variables\n",
    "nb<-naiveBayes(formula=result~.,data=trainData)"
   ],
   "outputs": [
    {
     "ename": "ERROR",
     "evalue": "Error in naiveBayes(formula = result ~ ., data = trainData): could not find function \"naiveBayes\"\n",
     "output_type": "error",
     "traceback": [
      "Error in naiveBayes(formula = result ~ ., data = trainData): could not find function \"naiveBayes\"\nTraceback:\n"
     ]
    }
   ],
   "execution_count": 5
  },
  {
   "cell_type": "code",
   "execution_count": null,
   "id": "967c932c",
   "metadata": {},
   "outputs": [],
   "source": [
    "#Voyons ce que nous avons dans le modèle\n",
    "nb"
   ]
  },
  {
   "cell_type": "markdown",
   "id": "f50c8d81",
   "metadata": {},
   "source": [
    "========================================================================\n",
    "\n",
    "Les composantes du modèle ont la signification/interprétation suivante :\n",
    "\n",
    "========================================================================\n",
    "\n",
    "```A-priori probabilities:\n",
    "Y                                                    => Y=result, la variable cible\n",
    "     mort      surv                                  => P(result) = {P(mort),P(surv)}\n",
    "0.6563636 0.3436364 \n",
    "\n",
    "Conditional probabilities:                           => P(class| result)\n",
    "      class\n",
    "Y            crew      first     second      third\n",
    "  mort 0.44875346 0.09279778 0.11080332 0.34764543   => P(crew|mort), P(first|mort), ..., P(third|mort)\n",
    "  surv 0.29365079 0.29629630 0.15873016 0.25132275   => P(crew|surv), P(first|surv), ..., P(third|surv)\n",
    "\n",
    "      age\n",
    "Y             adu        enf                         => P(age|result) \n",
    "  mort 0.96675900 0.03324100                         => P(adu|mort), P(enf|mort)\n",
    "  surv 0.90740741 0.09259259                         => P(adu|surv), P(enf|surv)\n",
    "\n",
    "      sex\n",
    "Y               f          m                         => P(sex|result)   \n",
    "  mort 0.07202216 0.92797784                         => P(f|mort), P(m|mort)\n",
    "  surv 0.45238095 0.54761905                         => P(f|surv), P(m|surv)\n",
    "  ```"
   ]
  },
  {
   "cell_type": "markdown",
   "id": "e31cb93a",
   "metadata": {},
   "source": [
    "Nous pouvons récupérer les différentes parties du modèle comme suit"
   ]
  },
  {
   "cell_type": "code",
   "execution_count": null,
   "id": "58665452",
   "metadata": {},
   "outputs": [],
   "source": [
    "#récupérer les comptes de la variable cible\n",
    "nb$apriori"
   ]
  },
  {
   "cell_type": "code",
   "execution_count": null,
   "id": "473b8035",
   "metadata": {},
   "outputs": [],
   "source": [
    "#récupérer les propabilités conditionnelles étant donné la variable cible, P(x|y)\n",
    "# * propabilités conditionnelles pour les attributs qualitatifs (titanic)\n",
    "# * moyennes et écarts types conditionnels de classe pour les attributs quantitatifs (iris)\n",
    "\n",
    "nb$tables"
   ]
  },
  {
   "cell_type": "code",
   "execution_count": null,
   "id": "aaebb559",
   "metadata": {},
   "outputs": [],
   "source": [
    "#Nous pouvons accéder aux éléments de la liste nb$tables soit par leur nom,\n",
    "#par exemple, les probabilités conditionnelles de la variable âge sachant la variable cible, P(age|result)\n",
    "nb$tables$age"
   ]
  },
  {
   "cell_type": "code",
   "execution_count": null,
   "id": "ad5c854d",
   "metadata": {},
   "outputs": [],
   "source": [
    "#ou par leur index\n",
    "#e.g. même chose que ci-dessus mais avec l'index au lieu du nom\n",
    "nb$tables[[2]]"
   ]
  },
  {
   "cell_type": "code",
   "execution_count": null,
   "id": "0e9b7dc1",
   "metadata": {},
   "outputs": [],
   "source": [
    "# nous pouvons évidemment visualiser n'importe laquelle des distributions ci-dessus, e.g. P(age|result)\n",
    "# à l'aide de barplots\n",
    "barplot(t(nb$tables[[2]]), main=\"P(age|result)\")\n",
    "# pourquoi avons-nous pris la transposition ? \n",
    "# parce que la variable de conditionnement (ici le result) doit correspondre aux barres du diagramme à barres"
   ]
  },
  {
   "cell_type": "markdown",
   "id": "7213352a",
   "metadata": {},
   "source": [
    "## évaluation du modèle"
   ]
  },
  {
   "cell_type": "code",
   "execution_count": null,
   "id": "863ab49f",
   "metadata": {},
   "outputs": [],
   "source": [
    "#testons le modèle entraîné sur l'ensemble de test que nous avons créé\n",
    "#predict prend en entrée :\n",
    "# * le modèle (nb)\n",
    "# * l'ensemble de test (testData)\n",
    "#et produit une prédiction pour chaque instance de test\n",
    "predictions <- predict(nb, testData)\n",
    "predictions"
   ]
  },
  {
   "cell_type": "code",
   "execution_count": null,
   "id": "6a1a507e",
   "metadata": {},
   "outputs": [],
   "source": [
    "#lets check whether we have one prediction/instance\n",
    "length(predictions)\n",
    "nrow(testData)"
   ]
  },
  {
   "cell_type": "code",
   "execution_count": null,
   "id": "523bda60",
   "metadata": {},
   "outputs": [],
   "source": [
    "#Si nous le souhaitons, nous pouvons produire les probabilités pour chaque valeur cible, \n",
    "#au lieu de la prédiction, mais dans le TP, nous nous intéressons principalement aux prédictions.\n",
    "predictionsWithProbs<-predict(nb, testData, type=\"raw\")\n",
    "head(predictionsWithProbs)"
   ]
  },
  {
   "cell_type": "markdown",
   "id": "c13c8ec6",
   "metadata": {},
   "source": [
    "Comment vérifier la qualité de notre modèle ? Comment calculer son taux de bien classées (accuracy) ?\n",
    "* comparons simplement les prédictions avec les valeurs réelles"
   ]
  },
  {
   "cell_type": "code",
   "execution_count": null,
   "id": "107f4511",
   "metadata": {},
   "outputs": [],
   "source": [
    "testData[,4]==predictions"
   ]
  },
  {
   "cell_type": "code",
   "execution_count": null,
   "id": "8a0f957b",
   "metadata": {},
   "outputs": [],
   "source": [
    "#et calculons le nombre de prédictions correctes\n",
    "numCorrect <- length(which(testData[,4]==predictions))\n",
    "numCorrect "
   ]
  },
  {
   "cell_type": "code",
   "execution_count": null,
   "id": "87a6ec5b",
   "metadata": {},
   "outputs": [],
   "source": [
    "#ainsi que le taux de bien classes\n",
    "TBC <- numCorrect/nrow(testData)\n",
    "TBC"
   ]
  },
  {
   "cell_type": "code",
   "execution_count": null,
   "id": "193262dc",
   "metadata": {},
   "outputs": [],
   "source": [
    "#Nous pourrions également procéder comme suit pour obtenir le TBC\n",
    "table(testData[,4],predictions)"
   ]
  },
  {
   "cell_type": "code",
   "execution_count": null,
   "id": "e4dea398",
   "metadata": {},
   "outputs": [],
   "source": [
    "numCorrect <- sum(diag(table(testData[,4],predictions)))"
   ]
  },
  {
   "cell_type": "code",
   "execution_count": null,
   "id": "6c28e25e",
   "metadata": {},
   "outputs": [],
   "source": [
    "TBC <- numCorrect/nrow(testData)\n",
    "TBC"
   ]
  },
  {
   "cell_type": "markdown",
   "id": "e01cddbb",
   "metadata": {},
   "source": [
    "### Partie théorique de Naive Bayes : comprendre comment le modèle classifie/calcule les probabilités"
   ]
  },
  {
   "cell_type": "code",
   "execution_count": null,
   "id": "0f7dbbd7",
   "metadata": {},
   "outputs": [],
   "source": [
    "#Examinons un instance de test particulier, par exemple le premier\n",
    "testData[1,]\n",
    "#et les probabilités prédites de mort et de surv\n",
    "pred1 <- predict(nb, testData[1,],type = \"raw\")\n",
    "pred1"
   ]
  },
  {
   "cell_type": "code",
   "execution_count": null,
   "id": "7ebc0736",
   "metadata": {},
   "outputs": [],
   "source": [
    "#visualison la distribution des probabilites de result sachant l' instance: first, adu, m\n",
    "#cad la distribution a posteriori: de P(result|first, adu, m)\n",
    "barplot(pred1, main=\"P(result|first, adu, m)\")"
   ]
  },
  {
   "cell_type": "markdown",
   "id": "298050e3",
   "metadata": {},
   "source": [
    "et voyons comment Naive Bayes utilise les différentes  distributions qu'il a calculées, cad: \n",
    "$$ P(\\text{class}|\\text{result}), P(\\text{sex}|\\text{result}), P(\\text{age}|\\text{result}), P(\\text{result}) $$\n",
    "pour calculer ces deux probabilités, cad pour calculer:\n",
    "$$P(\\text{result}|\\mathbf x) = \\{ P(\\text{result}=\\text{mort} |\\mathbf x), P(\\text{result}=\\text{surv} |\\mathbf x) \\}$$\n",
    "pour notre $\\mathbf x = (\\text{first}, \\text{adu}, \\text{m})$"
   ]
  },
  {
   "cell_type": "markdown",
   "id": "6ae9b110",
   "metadata": {},
   "source": [
    "**Rappel**, Naive Bayes calcule $P(y_i|\\mathbf x), \\forall y_i$, cad ici\n",
    "\n",
    "$$ P(\\text{result}=\\text{mort} |\\text{first}, \\text{adu}, \\text{m}), P(\\text{result}=\\text{surv} |\\text{first}, \\text{adu}, \\text{m}) $$\n",
    "\n",
    "avec l' aide du *théorème de Bayes* \n",
    "$$\n",
    " P(y_i|\\mathbf x) =\\frac{P(\\mathbf x|y_i) P(y_i)}{P(\\mathbf x)}, \\forall y_i \n",
    "$$\n",
    "qui, pour notre instance, est instanciée comme :\n",
    "\n",
    "\\begin{align}\n",
    " P(\\text{mort} |\\text{first}, \\text{adu}, \\text{m}) & =\\frac{P(\\text{first}, \\text{adu}, \\text{m}|\\text{mort}) P(\\text{mort})}{P(\\text{first}, \\text{adu}, \\text{m})} \\\\ \n",
    " P(\\text{surv} |\\text{first}, \\text{adu}, \\text{m}) & =\\frac{P(\\text{first}, \\text{adu}, \\text{m}|\\text{surv}) P(\\text{surv})}{P(\\text{first}, \\text{adu}, \\text{m})}\n",
    "\\end{align}\n",
    "\n",
    "alors le modele de Naive Bayes doit calculer:\n",
    "\n",
    "1.  $P(\\text{first}, \\text{adu}, \\text{m}|\\text{mort}), P(\\text{first}, \\text{adu}, \\text{m}|\\text{surv})$\n",
    "2.  $P(\\text{mort})$, $P(\\text{surv})$\n",
    "3.  $P(\\text{first}, \\text{adu}, \\text{m})$ \n",
    "\n",
    "Nous allons donc examiner chacun d'entre eux et voir où ils se trouvent dans le modèle nb que nous avons entraîné. "
   ]
  },
  {
   "cell_type": "markdown",
   "id": "7a284077",
   "metadata": {},
   "source": [
    "2. Les plus simples sont les $P(\\text{mort})$, $P(\\text{surv})$ qui sont appelés les probabilités apriori de variable cible. \n",
    "\n",
    "Question: D'ailleurs, si nous oublions pour un instant le NB, comment pourrions-nous calculer ces probabilités par nous-mêmes ?"
   ]
  },
  {
   "cell_type": "code",
   "execution_count": null,
   "id": "3af7ace7",
   "metadata": {},
   "outputs": [],
   "source": [
    "#Get $P(\\text{mort})$, $P(\\text{surv})$ from the NB model \n",
    "#\n",
    "#1) récupérer les comptes de la variable cible\n",
    "nb$apriori\n",
    "#2) à partir de celui-ci, vous devriez pouvoir obtenir les probabilités\n",
    "classPrior <- prop.table(nb$apriori)\n",
    "classPrior"
   ]
  },
  {
   "cell_type": "markdown",
   "id": "ce5ed2fc",
   "metadata": {},
   "source": [
    "Voyons maintenant comment calculer les autres probabilités qui apparaissent dans le nominateur\n",
    "\n",
    "1. $P(\\text{first}, \\text{adu}, \\text{m}|\\text{mort}), P(\\text{first}, \\text{adu}, \\text{m}|\\text{surv})$\n",
    "\n",
    "Pour calculer ces probabilités, Naive Bayes utilise l'hypothèse d'indépendance conditionnelle qui permet de calculer facilement $P(\\mathbf x|y_i)$ comme suit :\n",
    "$$\n",
    "P(\\mathbf x|y_i) = P(x_1|y_i) P(x_2|y_i) \\dots P(x_d|y_i)\n",
    "$$\n",
    "l'hypothèse d'indépendance dans notre cas donnera:\n",
    "\n",
    "\\begin{align}\n",
    "P(\\text{first}, \\text{adu}, \\text{m}|\\text{mort}) &= P(\\text{first}|\\text{mort}) P(\\text{adu}|\\text{mort}) P(\\text{m}|\\text{mort}) \\\\\n",
    "P(\\text{first}, \\text{adu}, \\text{m}|\\text{surv}) &= P(\\text{first}|\\text{surv}) P(\\text{adu}|\\text{surv}) P(\\text{m}|\\text{surv})\\\\\n",
    "\\end{align}\n",
    "alors où trouver: \n",
    "$$P(\\text{first}|\\text{mort}), P(\\text{adu}|\\text{mort}), P(\\text{m}|\\text{mort})$$ et \n",
    "$$P(\\text{first}|\\text{surv}) P(\\text{adu}|\\text{surv}) P(\\text{m}|\\text{surv})$$ dans le modèle NB?  ou plus généralement de quelles distributions proviennent ces probabilités ?\n",
    "\n",
    "Question: comme précédemment, seriez-vous en mesure de calculer ces probabilités par vous-même, cad sans NB ?\n",
    "\n",
    "* $P(\\text{first}|\\text{mort}), P(\\text{first}|\\text{surv})$ Ces deux probabilités conditionnelles proviennent donc de la distribution conditionnelle  $P(\\text{class}| \\text{result})$  \n",
    "* $P(\\text{adu}|\\text{mort}), P(\\text{adu}|\\text{surv})$ Ces deux probabilités conditionnelles proviennent donc de la distribution conditionnelle  $P(\\text{age}| \\text{result})$ \n",
    "* $P(\\text{m}|\\text{mort}), P(\\text{m}|\\text{surv})$ Ces deux probabilités conditionnelles proviennent donc de la distribution conditionnelle  $P(\\text{sex}| \\text{result})$\n",
    "\n",
    "Voyons donc où nous les trouvons dans le modèle de la NB:"
   ]
  },
  {
   "cell_type": "code",
   "execution_count": null,
   "id": "0f68beef",
   "metadata": {},
   "outputs": [],
   "source": [
    "#P(class|result)\n",
    "nb$tables$class"
   ]
  },
  {
   "cell_type": "markdown",
   "id": "8475293c",
   "metadata": {},
   "source": [
    "\n",
    "Nous avons besoin de $P(\\text{first}|\\text{mort}), P(\\text{first}|\\text{surv})$ que nous pouvons directement extraire par le models de la NB comme suit"
   ]
  },
  {
   "cell_type": "code",
   "execution_count": null,
   "id": "a685dc10",
   "metadata": {},
   "outputs": [],
   "source": [
    "#P(first|mort)\n",
    "nb$tables$class[1,2]\n",
    "\n",
    "#P(first|surv)\n",
    "\n",
    "nb$tables$class[2,2]\n"
   ]
  },
  {
   "cell_type": "markdown",
   "id": "6ac134c7",
   "metadata": {},
   "source": [
    "De la même manière, nous pouvons récupérer les probabilités conditionnelles restantes qui sont utilisées dans le nominateur\n",
    "\n",
    "La dernière chose qui nous manque est donc le dénominateur, cad $P(first, adu, m)$\n",
    "\n",
    "3. $P(first, adu, m)$\n",
    "\n",
    "Rappel : Voyons un instant comment nous pourrions calculer la distribution marginale à partir des jointures/conditionnalités, avec ce que nous avons fait dans le TP1. \n",
    "\n",
    "Nous savons que:\n",
    "$$P(\\mathbf{x}|y) = \\frac{p(\\mathbf{x},y)} {p(y)}$$  \n",
    "et il est facile de s'en rendre compte :\n",
    "$$P(\\mathbf{x}|y) {p(y)} = {p(\\mathbf{x},y)} \\text{ le nominateur dans NB }$$  \n",
    "\n",
    "Nous savons également, toujours d'après le TP1, que nous pouvons passer de la joint à la marginal de la manière suivante :\n",
    "$$ P(\\mathbf{x}) = P(\\mathbf{x},y_1) + P(\\mathbf{x}, y_2) + \\dots + P(\\mathbf{x},y_K)$$ \n",
    "c'est-à-dire en additionnant toutes les probabilités joints pour les différentes valeurs de $y$.\n",
    "\n",
    "\n",
    "Et on peut reecrire:\n",
    "\n",
    "$$P(\\mathbf{x},y_1) + P(\\mathbf{x}, y_2) + \\dots + P(\\mathbf{x},y_K)=P(\\mathbf{x}|y_1) {p(y_1)} + P(\\mathbf{x}|y_2) {p(y_2)} + \\dots + P(\\mathbf{x}|y_K) {p(y_K)}.$$ \n",
    "\n",
    "Comme on a deja remarqué les terms:\n",
    "\n",
    "$$P(\\mathbf{x}|y_1) {p(y_1)}, P(\\mathbf{x}|y_2) {p(y_2)}, \\dots, P(\\mathbf{x}|y_K) {p(y_K)}$$\n",
    "\n",
    "sont celles qui apparaissent dans les nominateurs lorsque nous calculons les probabilités des différentes classes $y_i$."
   ]
  },
  {
   "cell_type": "markdown",
   "id": "45af887f",
   "metadata": {},
   "source": [
    "Voyons donc ce que cela donne dans notre cas où $\\mathbf x = (\\text{first}, \\text{adu}, \\text{m})$ and $y \\in \\{\\text{mort}, \\text{surv} \\}$\n",
    "\n",
    "\\begin{align}\n",
    "P(\\text{first}, \\text{adu}, \\text{m}) & = P(\\text{first}, \\text{adu}, \\text{m}|\\text{mort}) P(\\text{mort}) + P(\\text{first}, \\text{adu}, \\text{m}|\\text{surv}) p(\\text{surv})\n",
    "\\end{align}\n",
    "\n",
    "En se basant sur l'hypothèse d'indépendance de ΝB, nous avons:\n",
    "\n",
    "\\begin{align}\n",
    "P(\\text{first}, \\text{adu}, \\text{m}|\\text{mort}) P(\\text{mort}) + P(\\text{first}, \\text{adu}, \\text{m}|\\text{surv}) p(\\text{surv}) \n",
    "= &   \n",
    "P(\\text{first} |\\text{mort}) P(\\text{adu} |\\text{mort})  P(\\text{m} |\\text{mort})   P(\\text{mort}) + \\\\\n",
    "& P(\\text{first} |\\text{surv}) P(\\text{adu} |\\text{surv})  P(\\text{m} |\\text{surv})   P(\\text{surv})\n",
    "\\end{align}\n",
    "\n",
    "So\n",
    "\\begin{align}\n",
    "P(\\text{first}, \\text{adu}, \\text{m})  = & P(\\text{first} |\\text{mort}) P(\\text{adu} |\\text{mort})  P(\\text{m} |\\text{mort})   P(\\text{mort}) + \\\\\n",
    "& P(\\text{first} |\\text{surv}) P(\\text{adu} |\\text{surv})  P(\\text{m} |\\text{surv})   P(\\text{surv})\n",
    "\\end{align}\n",
    "\n",
    "le dénominateur est donc la somme de tous les nominateurs. \n",
    "\n",
    "Comme nous avons déjà vu comment calculer les nominateurs, il n'est pas trivial de calculer le dénominateur.  "
   ]
  },
  {
   "cell_type": "markdown",
   "id": "b4299a2c",
   "metadata": {},
   "source": [
    "Nous allons donc créer de jolis graphiques qui rassembleront tous les éléments mentionnés ci-dessus et qui apparaîtront dans le calcul suivant:\n",
    "\n",
    "\\begin{align}\n",
    " P(\\text{mort} |\\text{first}, \\text{adu}, \\text{m}) & =\\frac{P(\\text{first}, \\text{adu}, \\text{m}|\\text{mort}) P(\\text{mort})}{P(\\text{first}, \\text{adu}, \\text{m})} \\\\\n",
    " & = \\frac{P(\\text{first}|\\text{mort}) P(\\text{adu}|\\text{mort}) P(\\text{m}|\\text{mort}) P(\\text{mort})} {P(\\text{first}, \\text{adu}, \\text{m})}\n",
    " \\end{align}\n"
   ]
  },
  {
   "cell_type": "code",
   "execution_count": null,
   "id": "178c5e9b",
   "metadata": {},
   "outputs": [],
   "source": [
    "#P(mort|first, adu, m)\n",
    "\n",
    "#Examinons un instance de test particulier, par exemple le premier\n",
    "testData[1,]\n",
    "#et les probabilités prédites de mort et de surv\n",
    "pred1 <- predict(nb, testData[1,],type = \"raw\")\n",
    "pred1\n",
    "\n",
    "barplot(pred1, main=\"P(result|first, adu, m)\")\n",
    "\n",
    "points(x=c(1.25,1.25), y=c(0,pred1[1]), type=\"l\",col=\"darkred\")      #vertical line to indicate the probability of P(mort|first, adu, m)\n",
    "text(x=1.6,y=pred1[1]-0.02, labels=\"P(mort|first, adu, m)\",col=\"darkred\")   \n",
    "                                                                     \n"
   ]
  },
  {
   "cell_type": "code",
   "execution_count": null,
   "id": "f465f634",
   "metadata": {},
   "outputs": [],
   "source": [
    "##P(class|result)\n",
    "nb$tables$class\n",
    "paste(\"P(first|mort):\", nb$tables$class[1,2])\n",
    "barplot(t(nb$tables$class),  main=\"P(class|result)\", legend=T)\n",
    "\n",
    "points(x=c(1.25,1.25), y=c(nb$tables$class[1,1],nb$tables$class[1,1]+nb$tables$class[1,2]), type=\"l\",col=\"darkred\")      #vertical line to indicate the probability of P(first|mort)\n",
    "text(x=1.45,y=nb$tables$class[1,1]+0.05, labels=\"P(first|mort)\",col=\"darkred\")   \n",
    " \n"
   ]
  },
  {
   "cell_type": "code",
   "execution_count": null,
   "id": "92b5fbf4",
   "metadata": {},
   "outputs": [],
   "source": [
    "##P(age|result)\n",
    "nb$tables$age\n",
    "paste(\"P(adu|mort):\", nb$tables$age[1,1])\n",
    "barplot(t(nb$tables$age),  main=\"P(age|result)\", legend=T)\n",
    "\n",
    "points(x=c(1.25,1.25), y=c(0,nb$tables$age[1,1]), type=\"l\",col=\"darkred\")      #vertical line to indicate the probability of P(adu|mort)\n",
    "text(x=1.45,y=0.4323570+0.05, labels=\"P(adu|mort)\",col=\"darkred\")   \n",
    " "
   ]
  },
  {
   "cell_type": "code",
   "execution_count": null,
   "id": "05d3abde",
   "metadata": {},
   "outputs": [],
   "source": [
    "##P(sex|result)\n",
    "nb$tables$sex\n",
    "paste(\"P(m|mort):\", nb$tables$sex[1,2])\n",
    "barplot(t(nb$tables$sex), main=\"P(sex|result)\",legend=T)\n",
    "\n",
    "points(x=c(1.25,1.25), y=c(nb$tables$sex[1,1],nb$tables$sex[1,1]+nb$tables$sex[1,2]), type=\"l\",col=\"darkred\")      #vertical line to indicate the probability of P(m|mort)\n",
    "text(x=1.45,y=0.4323570+0.05, labels=\"P(m|mort)\",col=\"darkred\")   \n",
    "\n"
   ]
  },
  {
   "cell_type": "code",
   "execution_count": null,
   "id": "1e43c4cf",
   "metadata": {},
   "outputs": [],
   "source": [
    "##P(result)\n",
    "barplot(prop.table(nb$apriori), main=\"P(result)\")\n",
    "\n",
    "points(x=c(1.25,1.25), y=c(0,prop.table(nb$apriori)[1]), type=\"l\",col=\"darkred\")      #vertical line to indicate the probability of P(mort)\n",
    "text(x=1.45,y=0.4323570+0.05, labels=\"P(mort)\")   \n"
   ]
  },
  {
   "cell_type": "code",
   "execution_count": null,
   "id": "5748ff55",
   "metadata": {},
   "outputs": [],
   "source": [
    "#so lets look at everything together\n",
    "\n",
    "#lets facilitate our lives and put them next to each other\n",
    "#par(mfrow = c(1, 5))\n",
    "\n",
    "layout_matrix <- matrix(c(1, 0, 2, 3, 4, 5), nrow=1)  \n",
    "layout(layout_matrix,widths=c(1.1,1.1,1.1,1.1,1.1))  \n",
    "\n",
    "\n",
    "#P(mort|first, adu, m) predicted probability\n",
    "#barplot(pred1, main=\"P(result|first, adu, m)\", ylim=c(0,1))\n",
    "barplot(pred1, main=\"P(result|first, adu, m)\", ylim=c(0,1))\n",
    "\n",
    "points(x=c(1.25,1.25), y=c(0,pred1[1]), type=\"l\",col=\"darkred\")      #vertical line to indicate the probability of P(mort|first, adu, m)\n",
    "text(x=1.6,y=pred1[1]-0.02, labels=\"P(mort|first, adu, m)\",col=\"darkred\")\n",
    "\n",
    "##P(class|result)\n",
    "nb$tables$class\n",
    "paste(\"P(first|mort):\", nb$tables$class[1,2])\n",
    "barplot(t(nb$tables$class),  main=\"P(class|result)\", legend=T, ylim=c(0,1))\n",
    "\n",
    "points(x=c(1.25,1.25), y=c(nb$tables$class[1,1],nb$tables$class[1,1]+nb$tables$class[1,2]), type=\"l\",col=\"darkred\")      #vertical line to indicate the probability of P(first|mort)\n",
    "text(x=1.45,y=nb$tables$class[1,1]+0.05, labels=\"P(first|mort)\",col=\"darkred\")   \n",
    " \n",
    "\n",
    "##P(age|result)\n",
    "nb$tables$age\n",
    "paste(\"P(adu|mort):\", nb$tables$age[1,1])\n",
    "barplot(t(nb$tables$age),  main=\"P(age|result)\", legend=T, ylim=c(0,1))\n",
    "\n",
    "points(x=c(1.25,1.25), y=c(0,nb$tables$age[1,1]), type=\"l\",col=\"darkred\")      #vertical line to indicate the probability of P(adu|mort)\n",
    "text(x=1.45,y=0.4323570+0.05, labels=\"P(adu|mort)\",col=\"darkred\")   \n",
    " \n",
    "##P(sex|result)\n",
    "nb$tables$sex\n",
    "paste(\"P(m|mort):\", nb$tables$sex[1,2])\n",
    "barplot(t(nb$tables$sex), main=\"P(sex|result)\",legend=T,ylim=c(0,1))\n",
    "\n",
    "points(x=c(1.25,1.25), y=c(nb$tables$sex[1,1],nb$tables$sex[1,1]+nb$tables$sex[1,2]), type=\"l\",col=\"darkred\")      #vertical line to indicate the probability of P(m|mort)\n",
    "text(x=1.45,y=0.4323570+0.05, labels=\"P(m|mort)\",col=\"darkred\")   \n",
    "\n",
    "##P(result)\n",
    "prop.table(nb$apriori)\n",
    "barplot(prop.table(nb$apriori), main=\"P(result)\", ylim=c(0,1))\n",
    "points(x=c(1.25,1.25), y=c(0,prop.table(nb$apriori)[1]), type=\"l\",col=\"darkred\")      #vertical line to indicate the probability of P(mort)\n",
    "text(x=1.45,y=0.4323570+0.05, labels=\"P(mort)\")   \n"
   ]
  },
  {
   "cell_type": "markdown",
   "id": "7e7f73ee",
   "metadata": {},
   "source": [
    "In the above graph we basically demonstrate: \n",
    "$$ P(\\text{mort} | \\text{first, adu, m}) \\propto {P(\\text{first}|\\text{mort}) P(\\text{adu}|\\text{mort}) P(\\text{m}|\\text{mort}) P(\\text{mort})}$$\n",
    "i.e. we do not show the computation of the denominator."
   ]
  },
  {
   "cell_type": "markdown",
   "id": "88a51007",
   "metadata": {},
   "source": [
    "## Some exercises"
   ]
  },
  {
   "cell_type": "markdown",
   "id": "6f130b1e",
   "metadata": {},
   "source": [
    "**Exercise** Train a naive bayes model on 70% of the titanic dataset. Extract and visualise from the model the following distributions\n",
    "* P(result)\n",
    "* P(age|result)\n",
    "* P(sex|result)\n",
    "* P(class|result)\n",
    "\n",
    "Use the above distributions to explain how the Naive Bayes model will compute the probability of mort and surv for the instance $\\mathbf x = (\\text{third}, \\text{enf}, \\text{f})$. "
   ]
  },
  {
   "cell_type": "code",
   "execution_count": null,
   "id": "c4e3ceee",
   "metadata": {},
   "outputs": [],
   "source": [
    "#code and comments here"
   ]
  },
  {
   "cell_type": "markdown",
   "id": "1391ad01",
   "metadata": {},
   "source": [
    "**Exercise** Create a function that will receive a dataset (dataframe), the class index, a number of repetitions, and will do a train and test evaluation of naive bayes as many times indicated by the number of repetitions variable. The function should return the average of the estimated accuracies. Test your function on titanic and iris."
   ]
  },
  {
   "cell_type": "code",
   "execution_count": null,
   "id": "a8df352e",
   "metadata": {},
   "outputs": [],
   "source": [
    "#code here\n",
    "#input:\n",
    "# dataset:        a data frame with your data\n",
    "# classIndex:     the index of the class attribute\n",
    "# numRepetitions: how many times should we do the train and testing\n",
    "#output: average TBC (Taux de biens classes)\n",
    "evaluateNB <- function(dataset, classIndex, numRepetitions){\n",
    "    \n",
    "    #...\n",
    "    \n",
    "    TBC\n",
    "}"
   ]
  }
 ],
 "metadata": {
  "kernelspec": {
   "display_name": "R",
   "language": "R",
   "name": "ir"
  },
  "language_info": {
   "codemirror_mode": "r",
   "file_extension": ".r",
   "mimetype": "text/x-r-source",
   "name": "R",
   "pygments_lexer": "r",
   "version": "4.2.1"
  }
 },
 "nbformat": 4,
 "nbformat_minor": 5
}
