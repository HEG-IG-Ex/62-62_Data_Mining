{
 "cells": [
  {
   "cell_type": "markdown",
   "id": "27d3130d",
   "metadata": {},
   "source": [
    "# Naive Bayes: a probabilistic classification algorithm"
   ]
  },
  {
   "cell_type": "markdown",
   "id": "496cc9b4",
   "metadata": {},
   "source": [
    "* Naive Bayes est un algorithme de classification probabiliste.\n",
    "* Étant donné une instance $\\mathbf x=[x_1,\\dots x_d]$ et un ensemble de valeurs cibles $y_1, \\dots, y_k$, \n",
    "* Il calculera toutes les probabilités conditionnelles :\n",
    "$$P(y_i|\\mathbf x), y_i \\in \\{y_1, \\dots y_k\\}$$\n",
    "* et prédit la valeur cible $y_i$ qui a la plus grande probabilité $P(y_i|\\mathbf x)$.\n",
    "\n"
   ]
  },
  {
   "cell_type": "markdown",
   "id": "089dcb3b",
   "metadata": {},
   "source": [
    "*  Pour calculer $P(y_i|\\mathbf x)$ il utilise le théorème de Bayes \n",
    "$$\n",
    " P(y_i|\\mathbf x) =\\frac{P(\\mathbf x|y_i) p(y_i)}{P(\\mathbf x)} \n",
    "$$\n",
    "et une hypothèse simplificatrice qui permet de calculer facilement $P(\\mathbf x|y_i)$ comme suit :\n",
    "$$\n",
    "P(\\mathbf x|y_i) = P(x_1|y_i) P(x_2|y_i) \\dots P(x_d|y_i)\n",
    "$$\n",
    "* Le **modèle** de Naive Bayes est constitué de \n",
    "  * toutes les probabilités conditionnelles:  $$ \\{ P(x_1 |y_i), \\dots, P(x_d |y_i) \\}, y_i \\in \\{y_1, \\dots y_k \\} $$\n",
    "  * et des probabilités de classe apiori: $$ \\{ p(y_i) \\},  y_i \\in \\{y_1, \\dots y_k \\} $$\n",
    "* Le **modèle** de Naive Bayes nous permet de calculer les probabilités cibles pour n'importe quelle instance d'apprentissage"
   ]
  },
  {
   "cell_type": "markdown",
   "id": "331438f0",
   "metadata": {},
   "source": [
    "**Naive bayes exemple Titanic**"
   ]
  },
  {
   "cell_type": "markdown",
   "id": "3e8861d4",
   "metadata": {},
   "source": [
    "Prenons l'exemple de Titanic: \n",
    "* La variable cible est le **result** et prend des valeurs dans  $\\{ \\text{mort, surv} \\}$\n",
    "* Une instance $\\mathbf x$ a trois attributs prédictifs $\\mathbf x = [\\text{class, sex, age}]$\n",
    "* Naive Bayes calculera: \n",
    "  * $P(\\text{result} =\\text{mort} | \\mathbf x)$\n",
    "  * $P(\\text{result} =\\text{surv} | \\mathbf x)$\n",
    "  \n",
    "  Voyons comment Naive Bayes procède à l'aide d'un exemple"
   ]
  },
  {
   "cell_type": "markdown",
   "id": "68e1437e",
   "metadata": {},
   "source": [
    "* Pour déterminer la valeur cible d'une instance donnée, par exemple $\\mathbf x = [\\text{first, female, enf}]$,  naive Bayes calculera :\n",
    "\n",
    "\\begin{align*}\n",
    "P(\\text{mort}|\\text{first, female, enf}) &= \\frac{P(\\text{first, female, enf|mort})P(\\text{mort})}{P(\\text{first, female, enf})} \\\\\n",
    "                                         &= \\frac{P(\\text{first|mort})P(\\text{female|mort}) P(\\text{enf|mort})P(\\text{mort})}{P(\\text{first, female, enf})} \\\\\n",
    "\\text{ and } \\\\\n",
    "P(\\text{surv}|\\text{first, female, enf}) &= \\frac{P(\\text{first, female, enf|surv})P(\\text{surv})}{P(\\text{first, female, enf})} \\\\\n",
    "                                         &= \\frac{P(\\text{first|surv})P(\\text{female|surv}) P(\\text{enf|surv})P(\\text{surv})}{P(\\text{first, female, enf})}\n",
    "\\end{align*}\n",
    "\n",
    "et sélectionnera la valeur cible ayant la plus grande probabilité. \n",
    "* Nous savons déjà, grâce au TP1, comment calculer tous les  $P(\\text{first|surv}), P(\\text{female|surv}), P(\\text{enf|surv}), P(\\text{surv})$\n",
    "* pour trouver la valeur cible ayant la plus grande probabilité, il n'est même pas nécessaire de calculer le denominateur $P(\\text{first, female, enf})$, pourquoi?\n",
    "* En principe, nous pourrions déjà mettre en œuvre Naive Bayes avec tout ce que nous avons vu jusqu'à présent dans le TP -1\n"
   ]
  },
  {
   "cell_type": "markdown",
   "id": "93529a42",
   "metadata": {},
   "source": [
    "Quelles sont donc toutes les probabilités que Naive Bayes doit calculer pour son **modèle** ?\n",
    "* probabilités conditionnelles:\n",
    "\\begin{align}\n",
    "  P(\\text{class} | \\text { surv }  ) & = \\{ P(\\text{class} = first | \\text { surv }), \\dots,  P(\\text{class} = \\text{crew} | \\text { surv }) \\} \\\\\n",
    "  P(\\text{class} | \\text { mort }  ) & = \\{ P(\\text{class} = first | \\text { mort }), \\dots,  P(\\text{class} = \\text{crew} | \\text { mort }) \\} \\\\\n",
    "  \\\\\n",
    "  P(\\text{age} | \\text { surv }  ) & = \\{ P(\\text{age} = enf | \\text { surv }), P(\\text{age} = \\text{adu} | \\text { surv }) \\} \\\\\n",
    " P(\\text{age} | \\text { mort }  ) & = \\{ P(\\text{age} = enf | \\text { mort }),  P(\\text{age} = \\text{adu} | \\text { mort }) \\} \\\\\n",
    " \\\\\n",
    "   P(\\text{sex} | \\text { surv }  ) & = \\{ P(\\text{sex} = female | \\text { surv }), P(\\text{sex} = \\text{male} | \\text { surv }) \\} \\\\\n",
    " P(\\text{sex} | \\text { mort }  ) & = \\{ P(\\text{sex} = female | \\text { mort }),  P(\\text{sex} = \\text{male} | \\text { mort }) \\}\n",
    " \\end{align}\n",
    "* probabilités apriori\n",
    "$$ P(\\text{result}) = \\{ P(\\text{mort}), P(\\text{surv}) \\}$$\n",
    "\n",
    "Comment ces probabilités sont-elles calculées ?\n",
    "* nous les calculons à partir de ce que nous appelons un **ensemble d' apprentissage**\n",
    "* comment sait-on que le modèle appris est de qualité ? "
   ]
  },
  {
   "cell_type": "markdown",
   "id": "2558bb7c",
   "metadata": {},
   "source": [
    "# Comment évaluer les modèles de classification ?"
   ]
  },
  {
   "cell_type": "markdown",
   "id": "65464852",
   "metadata": {},
   "source": [
    "* Nous pouvons considérer un modèle de classification comme un programme qui, à partir d'une entrée, produit une sortie.\n",
    "* Nous contrôlons l'exactitude des programmes/codes classiques :\n",
    "  * en examinant le code\n",
    "  * en vérifiant si leurs résultats sont corrects compte tenu de certaines entrées pour lesquelles nous connaissons le résultat attendu (par exemple, les tests unitaires)\n",
    "* L'examen de code ne se conduit pas à des modèles de classification, qui sont très souvent *impénétrables*.\n",
    "* Cependant, nous pouvons toujours vérifier les résultats (prédictions) qu'ils produisent à partir d'entrées (instances) pour lesquelles nous connaissons la valeur correcte de la variable cible. \n",
    "* nous effectuons cette vérification à l'aide de ce que nous appelons un ensemble de test\n",
    "  * L'ensemble de test est un ensemble d'instances pour lesquelles nous connaissons déjà la valeur de la variable cible\n",
    "  * *attention* l'ensemble d'apprentissage doit être *différent* de l'ensemble de test"
   ]
  },
  {
   "cell_type": "markdown",
   "id": "3d910919",
   "metadata": {},
   "source": [
    "## Comment entraîner et évaluer un modèle ?"
   ]
  },
  {
   "cell_type": "markdown",
   "id": "b501e4e3",
   "metadata": {},
   "source": [
    "Étant donné un ensemble de données, nous le diviserons en deux parties \n",
    "* un ensemble d'entraînement qui est utilisé... pour l' *entraînement* du modèle\n",
    "* et un ensemble de test qui est utilisé... pour *tester* le modèle.\n",
    "\n",
    "la division sera typiquement aléatoire, 50%-50%, 75%-25%\n",
    "\n",
    "<img src=\"trn_tst.png\" alt=\"Model evaluation\">\n",
    "\n",
    "si notre algorithme a des paramètres qui contrôlent son comportement (ce qui n'est pas le cas de Naive Bayes), nous devons évaluer différentes valeurs de paramètres à l'aide d'un ensemble de validation. \n",
    "\n",
    "<img src=\"trn_val_tst.png\" alt=\"Model evaluation\">\n",
    "\n",
    "Nous pouvons répéter l'évaluation (différentes séparations train/test) et indiquer la performance moyenne sur les différentes séparations\n"
   ]
  },
  {
   "cell_type": "markdown",
   "id": "444f6550",
   "metadata": {},
   "source": [
    "### Evaluation measure"
   ]
  },
  {
   "cell_type": "markdown",
   "id": "8e9b83cd",
   "metadata": {},
   "source": [
    "Dans les problèmes de classification, nous utiliserons le:\n",
    "* Taux de bien classés (TBC):\n",
    "$$ \\text{TBC} = \\frac{\\text{nombre d' instances bien classés}}{\\text{nombre total d' instances}} $$\n",
    "en anglais: accuracy. \n",
    "* On peut aussi utiliser l' erreur:\n",
    "$$ \\text{erreur} = 1 - \\text{TBC}$$"
   ]
  },
  {
   "cell_type": "markdown",
   "id": "10052390",
   "metadata": {},
   "source": [
    "# Entraînement et évaluation de Naive Bayes (avec des attributs prédictifs qualitatifs)"
   ]
  },
  {
   "cell_type": "markdown",
   "id": "bfb2c538",
   "metadata": {},
   "source": [
    "Comme d'habitude, nous travaillerons avec l'ensemble de données titanic\n",
    "\n",
    "Nous devons installer le package de Naive Bayes"
   ]
  },
  {
   "cell_type": "code",
   "id": "614ed1f4",
   "metadata": {
    "ExecuteTime": {
     "end_time": "2024-12-16T14:10:48.824143Z",
     "start_time": "2024-12-16T14:10:47.056624Z"
    }
   },
   "source": [
    "#cette opération ne doit être effectuée qu'une seule fois, elle installe le package Naive Bayes\n",
    "#install.packages(\"e1071\")\n",
    "\n",
    "#mettre le paquet à disposition\n",
    "library(\"e1071\")\n",
    "\n",
    "#for latex parsing of equations\n",
    "library(\"latex2exp\")"
   ],
   "outputs": [],
   "execution_count": 1
  },
  {
   "cell_type": "markdown",
   "id": "bd14fef7",
   "metadata": {},
   "source": [
    "* Nous disposons d'un ensemble de données d'apprentissage\n",
    "* Nous appliquons l'algorithme de Naive Bayes sur celui-ci\n",
    "* et nous obtenons un modèle de Naive Bayes comme résultat"
   ]
  },
  {
   "cell_type": "code",
   "id": "59ae0cb6",
   "metadata": {
    "ExecuteTime": {
     "end_time": "2024-12-16T14:10:48.866769Z",
     "start_time": "2024-12-16T14:10:48.832783Z"
    }
   },
   "source": [
    "#read data\n",
    "# avec colClasses, nous contrôlons explicitement les types des différentes variables, \n",
    "# les valeurs qui nous intéressent le plus sont \n",
    "# factor: variables qualitatives\n",
    "# numeric: pour les variables quantitatives\n",
    "myData<- read.table(\"titanic.csv\",header=T,sep=\",\",colClasses=c(\"factor\", \"factor\", \"factor\", \"factor\"))"
   ],
   "outputs": [],
   "execution_count": 2
  },
  {
   "cell_type": "code",
   "id": "1b484529",
   "metadata": {
    "ExecuteTime": {
     "end_time": "2024-12-16T14:10:48.910684Z",
     "start_time": "2024-12-16T14:10:48.885687Z"
    }
   },
   "source": [
    "head(myData)\n",
    "dim(myData)"
   ],
   "outputs": [
    {
     "data": {
      "text/html": [
       "<table class=\"dataframe\">\n",
       "<caption>A data.frame: 6 × 4</caption>\n",
       "<thead>\n",
       "\t<tr><th></th><th scope=col>class</th><th scope=col>age</th><th scope=col>sex</th><th scope=col>result</th></tr>\n",
       "\t<tr><th></th><th scope=col>&lt;fct&gt;</th><th scope=col>&lt;fct&gt;</th><th scope=col>&lt;fct&gt;</th><th scope=col>&lt;fct&gt;</th></tr>\n",
       "</thead>\n",
       "<tbody>\n",
       "\t<tr><th scope=row>1</th><td>first</td><td>adu</td><td>m</td><td>surv</td></tr>\n",
       "\t<tr><th scope=row>2</th><td>first</td><td>adu</td><td>m</td><td>surv</td></tr>\n",
       "\t<tr><th scope=row>3</th><td>first</td><td>adu</td><td>m</td><td>surv</td></tr>\n",
       "\t<tr><th scope=row>4</th><td>first</td><td>adu</td><td>m</td><td>surv</td></tr>\n",
       "\t<tr><th scope=row>5</th><td>first</td><td>adu</td><td>m</td><td>surv</td></tr>\n",
       "\t<tr><th scope=row>6</th><td>first</td><td>adu</td><td>m</td><td>surv</td></tr>\n",
       "</tbody>\n",
       "</table>\n"
      ],
      "text/markdown": "\nA data.frame: 6 × 4\n\n| <!--/--> | class &lt;fct&gt; | age &lt;fct&gt; | sex &lt;fct&gt; | result &lt;fct&gt; |\n|---|---|---|---|---|\n| 1 | first | adu | m | surv |\n| 2 | first | adu | m | surv |\n| 3 | first | adu | m | surv |\n| 4 | first | adu | m | surv |\n| 5 | first | adu | m | surv |\n| 6 | first | adu | m | surv |\n\n",
      "text/latex": "A data.frame: 6 × 4\n\\begin{tabular}{r|llll}\n  & class & age & sex & result\\\\\n  & <fct> & <fct> & <fct> & <fct>\\\\\n\\hline\n\t1 & first & adu & m & surv\\\\\n\t2 & first & adu & m & surv\\\\\n\t3 & first & adu & m & surv\\\\\n\t4 & first & adu & m & surv\\\\\n\t5 & first & adu & m & surv\\\\\n\t6 & first & adu & m & surv\\\\\n\\end{tabular}\n",
      "text/plain": [
       "  class age sex result\n",
       "1 first adu m   surv  \n",
       "2 first adu m   surv  \n",
       "3 first adu m   surv  \n",
       "4 first adu m   surv  \n",
       "5 first adu m   surv  \n",
       "6 first adu m   surv  "
      ]
     },
     "metadata": {},
     "output_type": "display_data"
    },
    {
     "data": {
      "text/html": [
       "<style>\n",
       ".list-inline {list-style: none; margin:0; padding: 0}\n",
       ".list-inline>li {display: inline-block}\n",
       ".list-inline>li:not(:last-child)::after {content: \"\\00b7\"; padding: 0 .5ex}\n",
       "</style>\n",
       "<ol class=list-inline><li>2201</li><li>4</li></ol>\n"
      ],
      "text/markdown": "1. 2201\n2. 4\n\n\n",
      "text/latex": "\\begin{enumerate*}\n\\item 2201\n\\item 4\n\\end{enumerate*}\n",
      "text/plain": [
       "[1] 2201    4"
      ]
     },
     "metadata": {},
     "output_type": "display_data"
    }
   ],
   "execution_count": 3
  },
  {
   "cell_type": "code",
   "id": "4cc333fd",
   "metadata": {
    "ExecuteTime": {
     "end_time": "2024-12-16T14:10:49.040976Z",
     "start_time": "2024-12-16T14:10:49.003372Z"
    }
   },
   "source": [
    "#créons l'ensemble de données d'apprentissage\n",
    "#utilizons 50% des données pour la apprentissage\n",
    "set.seed(1) #controlled randomness\n",
    "trainIndex <- sample(1:dim(myData)[1],size=0.5*dim(myData)[1])\n",
    "trainData <- myData[trainIndex,]\n",
    "print(\"Train data\")\n",
    "head(trainData)\n",
    "dim(trainData)\n",
    "\n",
    "#et utilisons les restantes pour créer l'ensemble de test\n",
    "testData <- myData[-trainIndex,]\n",
    "print(\"Test data\")\n",
    "head(testData)\n",
    "dim(testData)"
   ],
   "outputs": [
    {
     "name": "stdout",
     "output_type": "stream",
     "text": [
      "[1] \"Train data\"\n"
     ]
    },
    {
     "data": {
      "text/html": [
       "<table class=\"dataframe\">\n",
       "<caption>A data.frame: 6 × 4</caption>\n",
       "<thead>\n",
       "\t<tr><th></th><th scope=col>class</th><th scope=col>age</th><th scope=col>sex</th><th scope=col>result</th></tr>\n",
       "\t<tr><th></th><th scope=col>&lt;fct&gt;</th><th scope=col>&lt;fct&gt;</th><th scope=col>&lt;fct&gt;</th><th scope=col>&lt;fct&gt;</th></tr>\n",
       "</thead>\n",
       "<tbody>\n",
       "\t<tr><th scope=row>1017</th><td>third</td><td>enf</td><td>m</td><td>mort</td></tr>\n",
       "\t<tr><th scope=row>679</th><td>third</td><td>adu</td><td>m</td><td>mort</td></tr>\n",
       "\t<tr><th scope=row>2177</th><td>crew </td><td>adu</td><td>m</td><td>mort</td></tr>\n",
       "\t<tr><th scope=row>930</th><td>third</td><td>adu</td><td>m</td><td>mort</td></tr>\n",
       "\t<tr><th scope=row>1533</th><td>first</td><td>adu</td><td>f</td><td>surv</td></tr>\n",
       "\t<tr><th scope=row>471</th><td>crew </td><td>adu</td><td>f</td><td>surv</td></tr>\n",
       "</tbody>\n",
       "</table>\n"
      ],
      "text/markdown": "\nA data.frame: 6 × 4\n\n| <!--/--> | class &lt;fct&gt; | age &lt;fct&gt; | sex &lt;fct&gt; | result &lt;fct&gt; |\n|---|---|---|---|---|\n| 1017 | third | enf | m | mort |\n| 679 | third | adu | m | mort |\n| 2177 | crew  | adu | m | mort |\n| 930 | third | adu | m | mort |\n| 1533 | first | adu | f | surv |\n| 471 | crew  | adu | f | surv |\n\n",
      "text/latex": "A data.frame: 6 × 4\n\\begin{tabular}{r|llll}\n  & class & age & sex & result\\\\\n  & <fct> & <fct> & <fct> & <fct>\\\\\n\\hline\n\t1017 & third & enf & m & mort\\\\\n\t679 & third & adu & m & mort\\\\\n\t2177 & crew  & adu & m & mort\\\\\n\t930 & third & adu & m & mort\\\\\n\t1533 & first & adu & f & surv\\\\\n\t471 & crew  & adu & f & surv\\\\\n\\end{tabular}\n",
      "text/plain": [
       "     class age sex result\n",
       "1017 third enf m   mort  \n",
       "679  third adu m   mort  \n",
       "2177 crew  adu m   mort  \n",
       "930  third adu m   mort  \n",
       "1533 first adu f   surv  \n",
       "471  crew  adu f   surv  "
      ]
     },
     "metadata": {},
     "output_type": "display_data"
    },
    {
     "data": {
      "text/html": [
       "<style>\n",
       ".list-inline {list-style: none; margin:0; padding: 0}\n",
       ".list-inline>li {display: inline-block}\n",
       ".list-inline>li:not(:last-child)::after {content: \"\\00b7\"; padding: 0 .5ex}\n",
       "</style>\n",
       "<ol class=list-inline><li>1100</li><li>4</li></ol>\n"
      ],
      "text/markdown": "1. 1100\n2. 4\n\n\n",
      "text/latex": "\\begin{enumerate*}\n\\item 1100\n\\item 4\n\\end{enumerate*}\n",
      "text/plain": [
       "[1] 1100    4"
      ]
     },
     "metadata": {},
     "output_type": "display_data"
    },
    {
     "name": "stdout",
     "output_type": "stream",
     "text": [
      "[1] \"Test data\"\n"
     ]
    },
    {
     "data": {
      "text/html": [
       "<table class=\"dataframe\">\n",
       "<caption>A data.frame: 6 × 4</caption>\n",
       "<thead>\n",
       "\t<tr><th></th><th scope=col>class</th><th scope=col>age</th><th scope=col>sex</th><th scope=col>result</th></tr>\n",
       "\t<tr><th></th><th scope=col>&lt;fct&gt;</th><th scope=col>&lt;fct&gt;</th><th scope=col>&lt;fct&gt;</th><th scope=col>&lt;fct&gt;</th></tr>\n",
       "</thead>\n",
       "<tbody>\n",
       "\t<tr><th scope=row>2</th><td>first</td><td>adu</td><td>m</td><td>surv</td></tr>\n",
       "\t<tr><th scope=row>3</th><td>first</td><td>adu</td><td>m</td><td>surv</td></tr>\n",
       "\t<tr><th scope=row>4</th><td>first</td><td>adu</td><td>m</td><td>surv</td></tr>\n",
       "\t<tr><th scope=row>6</th><td>first</td><td>adu</td><td>m</td><td>surv</td></tr>\n",
       "\t<tr><th scope=row>7</th><td>first</td><td>adu</td><td>m</td><td>surv</td></tr>\n",
       "\t<tr><th scope=row>10</th><td>first</td><td>adu</td><td>m</td><td>surv</td></tr>\n",
       "</tbody>\n",
       "</table>\n"
      ],
      "text/markdown": "\nA data.frame: 6 × 4\n\n| <!--/--> | class &lt;fct&gt; | age &lt;fct&gt; | sex &lt;fct&gt; | result &lt;fct&gt; |\n|---|---|---|---|---|\n| 2 | first | adu | m | surv |\n| 3 | first | adu | m | surv |\n| 4 | first | adu | m | surv |\n| 6 | first | adu | m | surv |\n| 7 | first | adu | m | surv |\n| 10 | first | adu | m | surv |\n\n",
      "text/latex": "A data.frame: 6 × 4\n\\begin{tabular}{r|llll}\n  & class & age & sex & result\\\\\n  & <fct> & <fct> & <fct> & <fct>\\\\\n\\hline\n\t2 & first & adu & m & surv\\\\\n\t3 & first & adu & m & surv\\\\\n\t4 & first & adu & m & surv\\\\\n\t6 & first & adu & m & surv\\\\\n\t7 & first & adu & m & surv\\\\\n\t10 & first & adu & m & surv\\\\\n\\end{tabular}\n",
      "text/plain": [
       "   class age sex result\n",
       "2  first adu m   surv  \n",
       "3  first adu m   surv  \n",
       "4  first adu m   surv  \n",
       "6  first adu m   surv  \n",
       "7  first adu m   surv  \n",
       "10 first adu m   surv  "
      ]
     },
     "metadata": {},
     "output_type": "display_data"
    },
    {
     "data": {
      "text/html": [
       "<style>\n",
       ".list-inline {list-style: none; margin:0; padding: 0}\n",
       ".list-inline>li {display: inline-block}\n",
       ".list-inline>li:not(:last-child)::after {content: \"\\00b7\"; padding: 0 .5ex}\n",
       "</style>\n",
       "<ol class=list-inline><li>1101</li><li>4</li></ol>\n"
      ],
      "text/markdown": "1. 1101\n2. 4\n\n\n",
      "text/latex": "\\begin{enumerate*}\n\\item 1101\n\\item 4\n\\end{enumerate*}\n",
      "text/plain": [
       "[1] 1101    4"
      ]
     },
     "metadata": {},
     "output_type": "display_data"
    }
   ],
   "execution_count": 4
  },
  {
   "cell_type": "code",
   "id": "d87eb850",
   "metadata": {
    "ExecuteTime": {
     "end_time": "2024-12-16T14:10:49.377991Z",
     "start_time": "2024-12-16T14:10:49.361284Z"
    }
   },
   "source": [
    "#Train a Naive Bayes on myData.\n",
    "#The parameter:\n",
    "# formula=result~.\n",
    "#sets the target/class variable to be the type.\n",
    "#and use as predictive variables all the others\n",
    "#Entraîner un Naive Bayes sur myData.\n",
    "#Le paramètre :\n",
    "# formula=result~.\n",
    "#définit la variable cible/classe comme étant le result\n",
    "#et utilise comme variables prédictives toutes les autres variables\n",
    "nb<-naiveBayes(formula=result~.,data=trainData)"
   ],
   "outputs": [],
   "execution_count": 5
  },
  {
   "cell_type": "code",
   "id": "967c932c",
   "metadata": {
    "ExecuteTime": {
     "end_time": "2024-12-16T14:10:49.478924Z",
     "start_time": "2024-12-16T14:10:49.463896Z"
    }
   },
   "source": [
    "#Voyons ce que nous avons dans le modèle\n",
    "nb"
   ],
   "outputs": [
    {
     "data": {
      "text/plain": [
       "\n",
       "Naive Bayes Classifier for Discrete Predictors\n",
       "\n",
       "Call:\n",
       "naiveBayes.default(x = X, y = Y, laplace = laplace)\n",
       "\n",
       "A-priori probabilities:\n",
       "Y\n",
       "     mort      surv \n",
       "0.6518182 0.3481818 \n",
       "\n",
       "Conditional probabilities:\n",
       "      class\n",
       "Y           crew     first    second     third\n",
       "  mort 0.4323570 0.1018131 0.1073919 0.3584379\n",
       "  surv 0.3185379 0.2924282 0.1409922 0.2480418\n",
       "\n",
       "      age\n",
       "Y             adu        enf\n",
       "  mort 0.96513250 0.03486750\n",
       "  surv 0.92428198 0.07571802\n",
       "\n",
       "      sex\n",
       "Y               f          m\n",
       "  mort 0.07670851 0.92329149\n",
       "  surv 0.49347258 0.50652742\n"
      ]
     },
     "metadata": {},
     "output_type": "display_data"
    }
   ],
   "execution_count": 6
  },
  {
   "cell_type": "markdown",
   "id": "f50c8d81",
   "metadata": {},
   "source": [
    "========================================================================\n",
    "\n",
    "Les composantes du modèle ont la signification/interprétation suivante :\n",
    "\n",
    "========================================================================\n",
    "\n",
    "```A-priori probabilities:\n",
    "Y                                                    => Y=result, la variable cible\n",
    "     mort      surv                                  => P(result) = {P(mort),P(surv)}\n",
    "0.6563636 0.3436364 \n",
    "\n",
    "Conditional probabilities:                           => P(class| result)\n",
    "      class\n",
    "Y            crew      first     second      third\n",
    "  mort 0.44875346 0.09279778 0.11080332 0.34764543   => P(crew|mort), P(first|mort), ..., P(third|mort)\n",
    "  surv 0.29365079 0.29629630 0.15873016 0.25132275   => P(crew|surv), P(first|surv), ..., P(third|surv)\n",
    "\n",
    "      age\n",
    "Y             adu        enf                         => P(age|result) \n",
    "  mort 0.96675900 0.03324100                         => P(adu|mort), P(enf|mort)\n",
    "  surv 0.90740741 0.09259259                         => P(adu|surv), P(enf|surv)\n",
    "\n",
    "      sex\n",
    "Y               f          m                         => P(sex|result)   \n",
    "  mort 0.07202216 0.92797784                         => P(f|mort), P(m|mort)\n",
    "  surv 0.45238095 0.54761905                         => P(f|surv), P(m|surv)\n",
    "  ```"
   ]
  },
  {
   "cell_type": "markdown",
   "id": "e31cb93a",
   "metadata": {},
   "source": [
    "Nous pouvons récupérer les différentes parties du modèle comme suit"
   ]
  },
  {
   "cell_type": "code",
   "id": "58665452",
   "metadata": {
    "ExecuteTime": {
     "end_time": "2024-12-16T14:10:49.819581Z",
     "start_time": "2024-12-16T14:10:49.803569Z"
    }
   },
   "source": [
    "#récupérer les comptes de la variable cible\n",
    "nb$apriori"
   ],
   "outputs": [
    {
     "data": {
      "text/plain": [
       "Y\n",
       "mort surv \n",
       " 717  383 "
      ]
     },
     "metadata": {},
     "output_type": "display_data"
    }
   ],
   "execution_count": 7
  },
  {
   "cell_type": "code",
   "id": "473b8035",
   "metadata": {
    "ExecuteTime": {
     "end_time": "2024-12-16T14:10:50.048053Z",
     "start_time": "2024-12-16T14:10:50.029457Z"
    }
   },
   "source": [
    "#récupérer les propabilités conditionnelles étant donné la variable cible, P(x|y)\n",
    "# * propabilités conditionnelles pour les attributs qualitatifs (titanic)\n",
    "# * moyennes et écarts types conditionnels de classe pour les attributs quantitatifs (iris)\n",
    "\n",
    "nb$tables"
   ],
   "outputs": [
    {
     "data": {
      "text/plain": [
       "$class\n",
       "      class\n",
       "Y           crew     first    second     third\n",
       "  mort 0.4323570 0.1018131 0.1073919 0.3584379\n",
       "  surv 0.3185379 0.2924282 0.1409922 0.2480418\n",
       "\n",
       "$age\n",
       "      age\n",
       "Y             adu        enf\n",
       "  mort 0.96513250 0.03486750\n",
       "  surv 0.92428198 0.07571802\n",
       "\n",
       "$sex\n",
       "      sex\n",
       "Y               f          m\n",
       "  mort 0.07670851 0.92329149\n",
       "  surv 0.49347258 0.50652742\n"
      ]
     },
     "metadata": {},
     "output_type": "display_data"
    }
   ],
   "execution_count": 8
  },
  {
   "cell_type": "code",
   "id": "aaebb559",
   "metadata": {
    "ExecuteTime": {
     "end_time": "2024-12-16T14:10:50.111641Z",
     "start_time": "2024-12-16T14:10:50.096559Z"
    }
   },
   "source": [
    "#Nous pouvons accéder aux éléments de la liste nb$tables soit par leur nom,\n",
    "#par exemple, les probabilités conditionnelles de la variable âge sachant la variable cible, P(age|result)\n",
    "nb$tables$age"
   ],
   "outputs": [
    {
     "data": {
      "text/plain": [
       "      age\n",
       "Y             adu        enf\n",
       "  mort 0.96513250 0.03486750\n",
       "  surv 0.92428198 0.07571802"
      ]
     },
     "metadata": {},
     "output_type": "display_data"
    }
   ],
   "execution_count": 9
  },
  {
   "cell_type": "code",
   "id": "ad5c854d",
   "metadata": {
    "ExecuteTime": {
     "end_time": "2024-12-16T14:10:50.205841Z",
     "start_time": "2024-12-16T14:10:50.189842Z"
    }
   },
   "source": [
    "#ou par leur index\n",
    "#e.g. même chose que ci-dessus mais avec l'index au lieu du nom\n",
    "nb$tables[[2]]"
   ],
   "outputs": [
    {
     "data": {
      "text/plain": [
       "      age\n",
       "Y             adu        enf\n",
       "  mort 0.96513250 0.03486750\n",
       "  surv 0.92428198 0.07571802"
      ]
     },
     "metadata": {},
     "output_type": "display_data"
    }
   ],
   "execution_count": 10
  },
  {
   "cell_type": "code",
   "id": "0e9b7dc1",
   "metadata": {
    "ExecuteTime": {
     "end_time": "2024-12-16T14:10:50.288903Z",
     "start_time": "2024-12-16T14:10:50.236372Z"
    }
   },
   "source": [
    "# nous pouvons évidemment visualiser n'importe laquelle des distributions ci-dessus, e.g. P(age|result)\n",
    "# à l'aide de barplots\n",
    "barplot(t(nb$tables[[2]]), main=\"P(age|result)\")\n",
    "# pourquoi avons-nous pris la transposition ? \n",
    "# parce que la variable de conditionnement (ici le result) doit correspondre aux barres du diagramme à barres"
   ],
   "outputs": [
    {
     "data": {
      "text/plain": [
       "Plot with title \"P(age|result)\""
      ],
      "image/png": "[encoded data removed]"
     },
     "metadata": {
      "image/png": {
       "width": 420,
       "height": 420
      }
     },
     "output_type": "display_data"
    }
   ],
   "execution_count": 11
  },
  {
   "cell_type": "markdown",
   "id": "7213352a",
   "metadata": {},
   "source": [
    "## évaluation du modèle"
   ]
  },
  {
   "cell_type": "code",
   "id": "863ab49f",
   "metadata": {
    "ExecuteTime": {
     "end_time": "2024-12-16T14:10:50.380564Z",
     "start_time": "2024-12-16T14:10:50.305989Z"
    }
   },
   "source": [
    "#testons le modèle entraîné sur l'ensemble de test que nous avons créé\n",
    "#predict prend en entrée :\n",
    "# * le modèle (nb)\n",
    "# * l'ensemble de test (testData)\n",
    "#et produit une prédiction pour chaque instance de test\n",
    "predictions <- predict(nb, testData)\n",
    "predictions"
   ],
   "outputs": [
    {
     "data": {
      "text/html": [
       "<style>\n",
       ".list-inline {list-style: none; margin:0; padding: 0}\n",
       ".list-inline>li {display: inline-block}\n",
       ".list-inline>li:not(:last-child)::after {content: \"\\00b7\"; padding: 0 .5ex}\n",
       "</style>\n",
       "<ol class=list-inline><li>mort</li><li>mort</li><li>mort</li><li>mort</li><li>mort</li><li>mort</li><li>mort</li><li>mort</li><li>mort</li><li>mort</li><li>mort</li><li>mort</li><li>mort</li><li>mort</li><li>mort</li><li>mort</li><li>mort</li><li>mort</li><li>mort</li><li>mort</li><li>mort</li><li>surv</li><li>surv</li><li>surv</li><li>surv</li><li>surv</li><li>surv</li><li>surv</li><li>surv</li><li>surv</li><li>surv</li><li>surv</li><li>surv</li><li>surv</li><li>surv</li><li>surv</li><li>surv</li><li>surv</li><li>surv</li><li>surv</li><li>surv</li><li>surv</li><li>surv</li><li>surv</li><li>surv</li><li>surv</li><li>surv</li><li>surv</li><li>surv</li><li>surv</li><li>surv</li><li>surv</li><li>surv</li><li>surv</li><li>surv</li><li>surv</li><li>surv</li><li>surv</li><li>mort</li><li>mort</li><li>mort</li><li>mort</li><li>mort</li><li>mort</li><li>mort</li><li>surv</li><li>surv</li><li>surv</li><li>surv</li><li>surv</li><li>surv</li><li>surv</li><li>surv</li><li>surv</li><li>surv</li><li>surv</li><li>surv</li><li>surv</li><li>surv</li><li>surv</li><li>surv</li><li>surv</li><li>surv</li><li>surv</li><li>surv</li><li>surv</li><li>surv</li><li>surv</li><li>surv</li><li>surv</li><li>surv</li><li>surv</li><li>surv</li><li>surv</li><li>mort</li><li>mort</li><li>mort</li><li>mort</li><li>surv</li><li>surv</li><li>surv</li><li>surv</li><li>surv</li><li>surv</li><li>surv</li><li>surv</li><li>surv</li><li>mort</li><li>mort</li><li>mort</li><li>mort</li><li>mort</li><li>mort</li><li>mort</li><li>mort</li><li>mort</li><li>mort</li><li>mort</li><li>mort</li><li>mort</li><li>mort</li><li>mort</li><li>mort</li><li>mort</li><li>mort</li><li>mort</li><li>mort</li><li>mort</li><li>mort</li><li>mort</li><li>mort</li><li>mort</li><li>mort</li><li>mort</li><li>surv</li><li>surv</li><li>surv</li><li>surv</li><li>surv</li><li>surv</li><li>surv</li><li>surv</li><li>surv</li><li>surv</li><li>surv</li><li>surv</li><li>surv</li><li>surv</li><li>surv</li><li>surv</li><li>surv</li><li>mort</li><li>mort</li><li>mort</li><li>mort</li><li>mort</li><li>surv</li><li>surv</li><li>mort</li><li>mort</li><li>mort</li><li>mort</li><li>mort</li><li>mort</li><li>mort</li><li>mort</li><li>mort</li><li>mort</li><li>mort</li><li>mort</li><li>mort</li><li>mort</li><li>mort</li><li>mort</li><li>mort</li><li>mort</li><li>mort</li><li>mort</li><li>mort</li><li>mort</li><li>mort</li><li>mort</li><li>mort</li><li>mort</li><li>mort</li><li>mort</li><li>mort</li><li>mort</li><li>mort</li><li>mort</li><li>mort</li><li>mort</li><li>mort</li><li>mort</li><li>mort</li><li>mort</li><li>mort</li><li>mort</li><li>mort</li><li>mort</li><li>...</li><li>mort</li><li>mort</li><li>mort</li><li>mort</li><li>mort</li><li>mort</li><li>mort</li><li>mort</li><li>mort</li><li>mort</li><li>mort</li><li>mort</li><li>mort</li><li>mort</li><li>mort</li><li>mort</li><li>mort</li><li>mort</li><li>mort</li><li>mort</li><li>mort</li><li>mort</li><li>mort</li><li>mort</li><li>mort</li><li>mort</li><li>mort</li><li>mort</li><li>mort</li><li>mort</li><li>mort</li><li>mort</li><li>mort</li><li>mort</li><li>mort</li><li>mort</li><li>mort</li><li>mort</li><li>mort</li><li>mort</li><li>mort</li><li>mort</li><li>mort</li><li>mort</li><li>mort</li><li>mort</li><li>surv</li><li>surv</li><li>surv</li><li>surv</li><li>surv</li><li>surv</li><li>surv</li><li>surv</li><li>surv</li><li>surv</li><li>surv</li><li>surv</li><li>mort</li><li>mort</li><li>mort</li><li>mort</li><li>mort</li><li>mort</li><li>mort</li><li>mort</li><li>surv</li><li>surv</li><li>surv</li><li>surv</li><li>surv</li><li>mort</li><li>mort</li><li>mort</li><li>mort</li><li>mort</li><li>mort</li><li>mort</li><li>mort</li><li>mort</li><li>mort</li><li>mort</li><li>mort</li><li>mort</li><li>mort</li><li>mort</li><li>mort</li><li>mort</li><li>mort</li><li>mort</li><li>mort</li><li>mort</li><li>mort</li><li>mort</li><li>mort</li><li>mort</li><li>mort</li><li>mort</li><li>mort</li><li>mort</li><li>mort</li><li>mort</li><li>mort</li><li>mort</li><li>mort</li><li>mort</li><li>mort</li><li>mort</li><li>mort</li><li>mort</li><li>mort</li><li>mort</li><li>mort</li><li>mort</li><li>mort</li><li>mort</li><li>mort</li><li>mort</li><li>mort</li><li>mort</li><li>mort</li><li>mort</li><li>mort</li><li>mort</li><li>mort</li><li>mort</li><li>mort</li><li>mort</li><li>mort</li><li>mort</li><li>mort</li><li>mort</li><li>mort</li><li>mort</li><li>mort</li><li>mort</li><li>mort</li><li>mort</li><li>mort</li><li>mort</li><li>mort</li><li>mort</li><li>mort</li><li>mort</li><li>mort</li><li>mort</li><li>mort</li><li>mort</li><li>mort</li><li>mort</li><li>mort</li><li>mort</li><li>mort</li><li>mort</li><li>mort</li><li>mort</li><li>mort</li><li>mort</li><li>mort</li><li>mort</li><li>mort</li><li>mort</li><li>mort</li><li>mort</li><li>mort</li><li>mort</li><li>mort</li><li>mort</li><li>mort</li><li>mort</li><li>mort</li><li>mort</li><li>mort</li><li>mort</li><li>mort</li><li>mort</li><li>mort</li><li>mort</li><li>mort</li><li>mort</li><li>mort</li><li>mort</li><li>mort</li><li>mort</li><li>mort</li><li>mort</li><li>mort</li><li>mort</li><li>mort</li><li>mort</li><li>mort</li><li>mort</li><li>mort</li><li>mort</li><li>mort</li><li>mort</li><li>mort</li><li>mort</li><li>mort</li><li>mort</li></ol>\n",
       "\n",
       "<details>\n",
       "\t<summary style=display:list-item;cursor:pointer>\n",
       "\t\t<strong>Levels</strong>:\n",
       "\t</summary>\n",
       "\t<style>\n",
       "\t.list-inline {list-style: none; margin:0; padding: 0}\n",
       "\t.list-inline>li {display: inline-block}\n",
       "\t.list-inline>li:not(:last-child)::after {content: \"\\00b7\"; padding: 0 .5ex}\n",
       "\t</style>\n",
       "\t<ol class=list-inline><li>'mort'</li><li>'surv'</li></ol>\n",
       "</details>"
      ],
      "text/markdown": "1. mort\n2. mort\n3. mort\n4. mort\n5. mort\n6. mort\n7. mort\n8. mort\n9. mort\n10. mort\n11. mort\n12. mort\n13. mort\n14. mort\n15. mort\n16. mort\n17. mort\n18. mort\n19. mort\n20. mort\n21. mort\n22. surv\n23. surv\n24. surv\n25. surv\n26. surv\n27. surv\n28. surv\n29. surv\n30. surv\n31. surv\n32. surv\n33. surv\n34. surv\n35. surv\n36. surv\n37. surv\n38. surv\n39. surv\n40. surv\n41. surv\n42. surv\n43. surv\n44. surv\n45. surv\n46. surv\n47. surv\n48. surv\n49. surv\n50. surv\n51. surv\n52. surv\n53. surv\n54. surv\n55. surv\n56. surv\n57. surv\n58. surv\n59. mort\n60. mort\n61. mort\n62. mort\n63. mort\n64. mort\n65. mort\n66. surv\n67. surv\n68. surv\n69. surv\n70. surv\n71. surv\n72. surv\n73. surv\n74. surv\n75. surv\n76. surv\n77. surv\n78. surv\n79. surv\n80. surv\n81. surv\n82. surv\n83. surv\n84. surv\n85. surv\n86. surv\n87. surv\n88. surv\n89. surv\n90. surv\n91. surv\n92. surv\n93. surv\n94. surv\n95. mort\n96. mort\n97. mort\n98. mort\n99. surv\n100. surv\n101. surv\n102. surv\n103. surv\n104. surv\n105. surv\n106. surv\n107. surv\n108. mort\n109. mort\n110. mort\n111. mort\n112. mort\n113. mort\n114. mort\n115. mort\n116. mort\n117. mort\n118. mort\n119. mort\n120. mort\n121. mort\n122. mort\n123. mort\n124. mort\n125. mort\n126. mort\n127. mort\n128. mort\n129. mort\n130. mort\n131. mort\n132. mort\n133. mort\n134. mort\n135. surv\n136. surv\n137. surv\n138. surv\n139. surv\n140. surv\n141. surv\n142. surv\n143. surv\n144. surv\n145. surv\n146. surv\n147. surv\n148. surv\n149. surv\n150. surv\n151. surv\n152. mort\n153. mort\n154. mort\n155. mort\n156. mort\n157. surv\n158. surv\n159. mort\n160. mort\n161. mort\n162. mort\n163. mort\n164. mort\n165. mort\n166. mort\n167. mort\n168. mort\n169. mort\n170. mort\n171. mort\n172. mort\n173. mort\n174. mort\n175. mort\n176. mort\n177. mort\n178. mort\n179. mort\n180. mort\n181. mort\n182. mort\n183. mort\n184. mort\n185. mort\n186. mort\n187. mort\n188. mort\n189. mort\n190. mort\n191. mort\n192. mort\n193. mort\n194. mort\n195. mort\n196. mort\n197. mort\n198. mort\n199. mort\n200. mort\n201. ...\n202. mort\n203. mort\n204. mort\n205. mort\n206. mort\n207. mort\n208. mort\n209. mort\n210. mort\n211. mort\n212. mort\n213. mort\n214. mort\n215. mort\n216. mort\n217. mort\n218. mort\n219. mort\n220. mort\n221. mort\n222. mort\n223. mort\n224. mort\n225. mort\n226. mort\n227. mort\n228. mort\n229. mort\n230. mort\n231. mort\n232. mort\n233. mort\n234. mort\n235. mort\n236. mort\n237. mort\n238. mort\n239. mort\n240. mort\n241. mort\n242. mort\n243. mort\n244. mort\n245. mort\n246. mort\n247. mort\n248. surv\n249. surv\n250. surv\n251. surv\n252. surv\n253. surv\n254. surv\n255. surv\n256. surv\n257. surv\n258. surv\n259. surv\n260. mort\n261. mort\n262. mort\n263. mort\n264. mort\n265. mort\n266. mort\n267. mort\n268. surv\n269. surv\n270. surv\n271. surv\n272. surv\n273. mort\n274. mort\n275. mort\n276. mort\n277. mort\n278. mort\n279. mort\n280. mort\n281. mort\n282. mort\n283. mort\n284. mort\n285. mort\n286. mort\n287. mort\n288. mort\n289. mort\n290. mort\n291. mort\n292. mort\n293. mort\n294. mort\n295. mort\n296. mort\n297. mort\n298. mort\n299. mort\n300. mort\n301. mort\n302. mort\n303. mort\n304. mort\n305. mort\n306. mort\n307. mort\n308. mort\n309. mort\n310. mort\n311. mort\n312. mort\n313. mort\n314. mort\n315. mort\n316. mort\n317. mort\n318. mort\n319. mort\n320. mort\n321. mort\n322. mort\n323. mort\n324. mort\n325. mort\n326. mort\n327. mort\n328. mort\n329. mort\n330. mort\n331. mort\n332. mort\n333. mort\n334. mort\n335. mort\n336. mort\n337. mort\n338. mort\n339. mort\n340. mort\n341. mort\n342. mort\n343. mort\n344. mort\n345. mort\n346. mort\n347. mort\n348. mort\n349. mort\n350. mort\n351. mort\n352. mort\n353. mort\n354. mort\n355. mort\n356. mort\n357. mort\n358. mort\n359. mort\n360. mort\n361. mort\n362. mort\n363. mort\n364. mort\n365. mort\n366. mort\n367. mort\n368. mort\n369. mort\n370. mort\n371. mort\n372. mort\n373. mort\n374. mort\n375. mort\n376. mort\n377. mort\n378. mort\n379. mort\n380. mort\n381. mort\n382. mort\n383. mort\n384. mort\n385. mort\n386. mort\n387. mort\n388. mort\n389. mort\n390. mort\n391. mort\n392. mort\n393. mort\n394. mort\n395. mort\n396. mort\n397. mort\n398. mort\n399. mort\n400. mort\n401. mort\n\n\n\n**Levels**: 1. 'mort'\n2. 'surv'\n\n\n",
      "text/latex": "\\begin{enumerate*}\n\\item mort\n\\item mort\n\\item mort\n\\item mort\n\\item mort\n\\item mort\n\\item mort\n\\item mort\n\\item mort\n\\item mort\n\\item mort\n\\item mort\n\\item mort\n\\item mort\n\\item mort\n\\item mort\n\\item mort\n\\item mort\n\\item mort\n\\item mort\n\\item mort\n\\item surv\n\\item surv\n\\item surv\n\\item surv\n\\item surv\n\\item surv\n\\item surv\n\\item surv\n\\item surv\n\\item surv\n\\item surv\n\\item surv\n\\item surv\n\\item surv\n\\item surv\n\\item surv\n\\item surv\n\\item surv\n\\item surv\n\\item surv\n\\item surv\n\\item surv\n\\item surv\n\\item surv\n\\item surv\n\\item surv\n\\item surv\n\\item surv\n\\item surv\n\\item surv\n\\item surv\n\\item surv\n\\item surv\n\\item surv\n\\item surv\n\\item surv\n\\item surv\n\\item mort\n\\item mort\n\\item mort\n\\item mort\n\\item mort\n\\item mort\n\\item mort\n\\item surv\n\\item surv\n\\item surv\n\\item surv\n\\item surv\n\\item surv\n\\item surv\n\\item surv\n\\item surv\n\\item surv\n\\item surv\n\\item surv\n\\item surv\n\\item surv\n\\item surv\n\\item surv\n\\item surv\n\\item surv\n\\item surv\n\\item surv\n\\item surv\n\\item surv\n\\item surv\n\\item surv\n\\item surv\n\\item surv\n\\item surv\n\\item surv\n\\item surv\n\\item mort\n\\item mort\n\\item mort\n\\item mort\n\\item surv\n\\item surv\n\\item surv\n\\item surv\n\\item surv\n\\item surv\n\\item surv\n\\item surv\n\\item surv\n\\item mort\n\\item mort\n\\item mort\n\\item mort\n\\item mort\n\\item mort\n\\item mort\n\\item mort\n\\item mort\n\\item mort\n\\item mort\n\\item mort\n\\item mort\n\\item mort\n\\item mort\n\\item mort\n\\item mort\n\\item mort\n\\item mort\n\\item mort\n\\item mort\n\\item mort\n\\item mort\n\\item mort\n\\item mort\n\\item mort\n\\item mort\n\\item surv\n\\item surv\n\\item surv\n\\item surv\n\\item surv\n\\item surv\n\\item surv\n\\item surv\n\\item surv\n\\item surv\n\\item surv\n\\item surv\n\\item surv\n\\item surv\n\\item surv\n\\item surv\n\\item surv\n\\item mort\n\\item mort\n\\item mort\n\\item mort\n\\item mort\n\\item surv\n\\item surv\n\\item mort\n\\item mort\n\\item mort\n\\item mort\n\\item mort\n\\item mort\n\\item mort\n\\item mort\n\\item mort\n\\item mort\n\\item mort\n\\item mort\n\\item mort\n\\item mort\n\\item mort\n\\item mort\n\\item mort\n\\item mort\n\\item mort\n\\item mort\n\\item mort\n\\item mort\n\\item mort\n\\item mort\n\\item mort\n\\item mort\n\\item mort\n\\item mort\n\\item mort\n\\item mort\n\\item mort\n\\item mort\n\\item mort\n\\item mort\n\\item mort\n\\item mort\n\\item mort\n\\item mort\n\\item mort\n\\item mort\n\\item mort\n\\item mort\n\\item ...\n\\item mort\n\\item mort\n\\item mort\n\\item mort\n\\item mort\n\\item mort\n\\item mort\n\\item mort\n\\item mort\n\\item mort\n\\item mort\n\\item mort\n\\item mort\n\\item mort\n\\item mort\n\\item mort\n\\item mort\n\\item mort\n\\item mort\n\\item mort\n\\item mort\n\\item mort\n\\item mort\n\\item mort\n\\item mort\n\\item mort\n\\item mort\n\\item mort\n\\item mort\n\\item mort\n\\item mort\n\\item mort\n\\item mort\n\\item mort\n\\item mort\n\\item mort\n\\item mort\n\\item mort\n\\item mort\n\\item mort\n\\item mort\n\\item mort\n\\item mort\n\\item mort\n\\item mort\n\\item mort\n\\item surv\n\\item surv\n\\item surv\n\\item surv\n\\item surv\n\\item surv\n\\item surv\n\\item surv\n\\item surv\n\\item surv\n\\item surv\n\\item surv\n\\item mort\n\\item mort\n\\item mort\n\\item mort\n\\item mort\n\\item mort\n\\item mort\n\\item mort\n\\item surv\n\\item surv\n\\item surv\n\\item surv\n\\item surv\n\\item mort\n\\item mort\n\\item mort\n\\item mort\n\\item mort\n\\item mort\n\\item mort\n\\item mort\n\\item mort\n\\item mort\n\\item mort\n\\item mort\n\\item mort\n\\item mort\n\\item mort\n\\item mort\n\\item mort\n\\item mort\n\\item mort\n\\item mort\n\\item mort\n\\item mort\n\\item mort\n\\item mort\n\\item mort\n\\item mort\n\\item mort\n\\item mort\n\\item mort\n\\item mort\n\\item mort\n\\item mort\n\\item mort\n\\item mort\n\\item mort\n\\item mort\n\\item mort\n\\item mort\n\\item mort\n\\item mort\n\\item mort\n\\item mort\n\\item mort\n\\item mort\n\\item mort\n\\item mort\n\\item mort\n\\item mort\n\\item mort\n\\item mort\n\\item mort\n\\item mort\n\\item mort\n\\item mort\n\\item mort\n\\item mort\n\\item mort\n\\item mort\n\\item mort\n\\item mort\n\\item mort\n\\item mort\n\\item mort\n\\item mort\n\\item mort\n\\item mort\n\\item mort\n\\item mort\n\\item mort\n\\item mort\n\\item mort\n\\item mort\n\\item mort\n\\item mort\n\\item mort\n\\item mort\n\\item mort\n\\item mort\n\\item mort\n\\item mort\n\\item mort\n\\item mort\n\\item mort\n\\item mort\n\\item mort\n\\item mort\n\\item mort\n\\item mort\n\\item mort\n\\item mort\n\\item mort\n\\item mort\n\\item mort\n\\item mort\n\\item mort\n\\item mort\n\\item mort\n\\item mort\n\\item mort\n\\item mort\n\\item mort\n\\item mort\n\\item mort\n\\item mort\n\\item mort\n\\item mort\n\\item mort\n\\item mort\n\\item mort\n\\item mort\n\\item mort\n\\item mort\n\\item mort\n\\item mort\n\\item mort\n\\item mort\n\\item mort\n\\item mort\n\\item mort\n\\item mort\n\\item mort\n\\item mort\n\\item mort\n\\item mort\n\\item mort\n\\item mort\n\\item mort\n\\item mort\n\\item mort\n\\end{enumerate*}\n\n\\emph{Levels}: \\begin{enumerate*}\n\\item 'mort'\n\\item 'surv'\n\\end{enumerate*}\n",
      "text/plain": [
       "   [1] mort mort mort mort mort mort mort mort mort mort mort mort mort mort\n",
       "  [15] mort mort mort mort mort mort mort surv surv surv surv surv surv surv\n",
       "  [29] surv surv surv surv surv surv surv surv surv surv surv surv surv surv\n",
       "  [43] surv surv surv surv surv surv surv surv surv surv surv surv surv surv\n",
       "  [57] surv surv mort mort mort mort mort mort mort surv surv surv surv surv\n",
       "  [71] surv surv surv surv surv surv surv surv surv surv surv surv surv surv\n",
       "  [85] surv surv surv surv surv surv surv surv surv surv mort mort mort mort\n",
       "  [99] surv surv surv surv surv surv surv surv surv mort mort mort mort mort\n",
       " [113] mort mort mort mort mort mort mort mort mort mort mort mort mort mort\n",
       " [127] mort mort mort mort mort mort mort mort surv surv surv surv surv surv\n",
       " [141] surv surv surv surv surv surv surv surv surv surv surv mort mort mort\n",
       " [155] mort mort surv surv mort mort mort mort mort mort mort mort mort mort\n",
       " [169] mort mort mort mort mort mort mort mort mort mort mort mort mort mort\n",
       " [183] mort mort mort mort mort mort mort mort mort mort mort mort mort mort\n",
       " [197] mort mort mort mort mort mort mort mort mort mort mort mort mort mort\n",
       " [211] mort mort mort mort mort surv surv surv surv surv mort mort mort mort\n",
       " [225] mort mort mort mort mort mort mort mort mort mort mort mort mort mort\n",
       " [239] mort mort mort mort mort mort mort mort mort mort mort mort mort mort\n",
       " [253] mort mort mort mort mort mort surv mort mort mort mort mort mort mort\n",
       " [267] mort mort mort mort mort mort mort mort mort mort mort mort mort mort\n",
       " [281] mort mort mort mort mort mort mort mort mort mort mort mort mort mort\n",
       " [295] mort mort mort mort mort mort mort mort mort mort mort mort mort mort\n",
       " [309] mort mort surv surv surv surv mort mort mort mort mort mort mort mort\n",
       " [323] mort mort mort mort mort mort mort mort mort mort mort mort mort mort\n",
       " [337] mort mort mort mort mort mort mort mort mort mort mort mort mort mort\n",
       " [351] mort mort mort mort mort mort mort mort mort mort mort mort mort mort\n",
       " [365] mort mort mort mort mort mort mort mort mort mort mort mort mort mort\n",
       " [379] mort mort mort mort mort mort mort mort mort mort mort mort mort mort\n",
       " [393] mort mort mort mort mort mort mort mort mort mort mort mort mort mort\n",
       " [407] mort mort mort mort mort mort mort mort mort mort mort mort mort mort\n",
       " [421] mort mort mort mort mort mort mort mort mort mort mort mort mort mort\n",
       " [435] mort mort mort mort mort mort mort mort mort mort mort mort mort mort\n",
       " [449] mort mort mort mort mort mort mort mort mort mort mort surv surv surv\n",
       " [463] surv surv surv surv surv surv surv surv surv surv surv surv surv surv\n",
       " [477] surv surv surv surv surv surv surv surv surv surv mort mort mort mort\n",
       " [491] mort mort mort mort mort mort mort mort mort mort mort surv surv surv\n",
       " [505] surv mort mort mort mort mort mort mort mort mort mort mort mort mort\n",
       " [519] mort mort mort mort mort mort mort mort mort mort mort mort mort mort\n",
       " [533] mort mort mort mort mort mort mort mort mort mort mort mort mort mort\n",
       " [547] mort mort mort mort mort mort mort mort mort mort mort mort mort mort\n",
       " [561] mort mort mort mort mort mort mort mort mort mort mort mort mort mort\n",
       " [575] mort mort mort mort mort mort mort mort mort mort mort mort mort mort\n",
       " [589] mort mort mort mort mort mort mort mort mort mort mort mort mort mort\n",
       " [603] mort mort mort mort mort mort mort mort mort mort mort mort mort mort\n",
       " [617] mort mort mort mort mort mort mort mort mort mort mort mort mort mort\n",
       " [631] mort mort mort mort mort mort mort mort mort mort mort mort mort mort\n",
       " [645] mort mort mort mort mort mort mort mort mort mort mort mort mort mort\n",
       " [659] mort mort mort mort mort mort mort mort mort mort mort mort mort mort\n",
       " [673] mort mort mort mort mort mort mort mort mort mort mort mort mort mort\n",
       " [687] mort mort mort mort mort mort mort mort mort mort mort mort mort mort\n",
       " [701] mort mort mort mort mort mort mort mort mort mort mort mort mort mort\n",
       " [715] mort mort mort mort mort mort mort mort mort mort mort mort mort mort\n",
       " [729] mort mort mort mort mort mort mort mort mort mort mort mort mort mort\n",
       " [743] surv surv surv surv surv surv surv surv surv surv surv surv surv surv\n",
       " [757] surv surv mort mort mort surv surv surv surv surv surv surv surv surv\n",
       " [771] surv surv surv surv surv mort mort mort surv mort mort mort mort mort\n",
       " [785] mort surv surv surv surv surv surv surv surv surv surv surv surv surv\n",
       " [799] surv surv surv surv surv mort mort mort surv surv surv mort mort mort\n",
       " [813] mort mort mort mort mort mort mort mort mort mort mort mort mort mort\n",
       " [827] mort mort mort mort mort mort mort surv surv surv mort mort mort mort\n",
       " [841] mort mort mort mort mort mort mort mort mort mort mort mort mort mort\n",
       " [855] mort surv mort mort mort mort mort mort mort mort mort mort mort mort\n",
       " [869] mort mort mort mort mort mort mort mort mort mort surv surv surv mort\n",
       " [883] mort mort mort mort mort mort mort mort mort mort mort mort mort mort\n",
       " [897] mort mort mort mort mort mort mort mort mort mort mort mort mort mort\n",
       " [911] mort mort mort mort mort mort mort mort mort mort mort mort mort mort\n",
       " [925] mort mort mort mort mort mort mort mort mort mort mort mort mort mort\n",
       " [939] mort mort mort mort mort mort mort mort mort surv surv surv surv surv\n",
       " [953] surv surv surv surv surv surv surv mort mort mort mort mort mort mort\n",
       " [967] mort surv surv surv surv surv mort mort mort mort mort mort mort mort\n",
       " [981] mort mort mort mort mort mort mort mort mort mort mort mort mort mort\n",
       " [995] mort mort mort mort mort mort mort mort mort mort mort mort mort mort\n",
       "[1009] mort mort mort mort mort mort mort mort mort mort mort mort mort mort\n",
       "[1023] mort mort mort mort mort mort mort mort mort mort mort mort mort mort\n",
       "[1037] mort mort mort mort mort mort mort mort mort mort mort mort mort mort\n",
       "[1051] mort mort mort mort mort mort mort mort mort mort mort mort mort mort\n",
       "[1065] mort mort mort mort mort mort mort mort mort mort mort mort mort mort\n",
       "[1079] mort mort mort mort mort mort mort mort mort mort mort mort mort mort\n",
       "[1093] mort mort mort mort mort mort mort mort mort\n",
       "Levels: mort surv"
      ]
     },
     "metadata": {},
     "output_type": "display_data"
    }
   ],
   "execution_count": 12
  },
  {
   "cell_type": "code",
   "id": "6a1a507e",
   "metadata": {
    "ExecuteTime": {
     "end_time": "2024-12-16T14:10:50.408565Z",
     "start_time": "2024-12-16T14:10:50.391566Z"
    }
   },
   "source": [
    "#lets check whether we have one prediction/instance\n",
    "length(predictions)\n",
    "nrow(testData)"
   ],
   "outputs": [
    {
     "data": {
      "text/html": [
       "1101"
      ],
      "text/markdown": "1101",
      "text/latex": "1101",
      "text/plain": [
       "[1] 1101"
      ]
     },
     "metadata": {},
     "output_type": "display_data"
    },
    {
     "data": {
      "text/html": [
       "1101"
      ],
      "text/markdown": "1101",
      "text/latex": "1101",
      "text/plain": [
       "[1] 1101"
      ]
     },
     "metadata": {},
     "output_type": "display_data"
    }
   ],
   "execution_count": 13
  },
  {
   "cell_type": "code",
   "id": "523bda60",
   "metadata": {
    "ExecuteTime": {
     "end_time": "2024-12-16T14:10:50.541764Z",
     "start_time": "2024-12-16T14:10:50.460958Z"
    }
   },
   "source": [
    "#Si nous le souhaitons, nous pouvons produire les probabilités pour chaque valeur cible, \n",
    "#au lieu de la prédiction, mais dans le TP, nous nous intéressons principalement aux prédictions.\n",
    "predictionsWithProbs<-predict(nb, testData, type=\"raw\")\n",
    "head(predictionsWithProbs)"
   ],
   "outputs": [
    {
     "data": {
      "text/html": [
       "<table class=\"dataframe\">\n",
       "<caption>A matrix: 6 × 2 of type dbl</caption>\n",
       "<thead>\n",
       "\t<tr><th scope=col>mort</th><th scope=col>surv</th></tr>\n",
       "</thead>\n",
       "<tbody>\n",
       "\t<tr><td>0.5536861</td><td>0.4463139</td></tr>\n",
       "\t<tr><td>0.5536861</td><td>0.4463139</td></tr>\n",
       "\t<tr><td>0.5536861</td><td>0.4463139</td></tr>\n",
       "\t<tr><td>0.5536861</td><td>0.4463139</td></tr>\n",
       "\t<tr><td>0.5536861</td><td>0.4463139</td></tr>\n",
       "\t<tr><td>0.5536861</td><td>0.4463139</td></tr>\n",
       "</tbody>\n",
       "</table>\n"
      ],
      "text/markdown": "\nA matrix: 6 × 2 of type dbl\n\n| mort | surv |\n|---|---|\n| 0.5536861 | 0.4463139 |\n| 0.5536861 | 0.4463139 |\n| 0.5536861 | 0.4463139 |\n| 0.5536861 | 0.4463139 |\n| 0.5536861 | 0.4463139 |\n| 0.5536861 | 0.4463139 |\n\n",
      "text/latex": "A matrix: 6 × 2 of type dbl\n\\begin{tabular}{ll}\n mort & surv\\\\\n\\hline\n\t 0.5536861 & 0.4463139\\\\\n\t 0.5536861 & 0.4463139\\\\\n\t 0.5536861 & 0.4463139\\\\\n\t 0.5536861 & 0.4463139\\\\\n\t 0.5536861 & 0.4463139\\\\\n\t 0.5536861 & 0.4463139\\\\\n\\end{tabular}\n",
      "text/plain": [
       "     mort      surv     \n",
       "[1,] 0.5536861 0.4463139\n",
       "[2,] 0.5536861 0.4463139\n",
       "[3,] 0.5536861 0.4463139\n",
       "[4,] 0.5536861 0.4463139\n",
       "[5,] 0.5536861 0.4463139\n",
       "[6,] 0.5536861 0.4463139"
      ]
     },
     "metadata": {},
     "output_type": "display_data"
    }
   ],
   "execution_count": 14
  },
  {
   "cell_type": "markdown",
   "id": "c13c8ec6",
   "metadata": {},
   "source": [
    "Comment vérifier la qualité de notre modèle ? Comment calculer son taux de bien classées (accuracy) ?\n",
    "* comparons simplement les prédictions avec les valeurs réelles"
   ]
  },
  {
   "cell_type": "code",
   "id": "107f4511",
   "metadata": {
    "ExecuteTime": {
     "end_time": "2024-12-16T14:10:50.603672Z",
     "start_time": "2024-12-16T14:10:50.584675Z"
    }
   },
   "source": [
    "testData[,4]==predictions"
   ],
   "outputs": [
    {
     "data": {
      "text/html": [
       "<style>\n",
       ".list-inline {list-style: none; margin:0; padding: 0}\n",
       ".list-inline>li {display: inline-block}\n",
       ".list-inline>li:not(:last-child)::after {content: \"\\00b7\"; padding: 0 .5ex}\n",
       "</style>\n",
       "<ol class=list-inline><li>FALSE</li><li>FALSE</li><li>FALSE</li><li>FALSE</li><li>FALSE</li><li>FALSE</li><li>FALSE</li><li>FALSE</li><li>FALSE</li><li>FALSE</li><li>FALSE</li><li>FALSE</li><li>FALSE</li><li>FALSE</li><li>FALSE</li><li>FALSE</li><li>FALSE</li><li>FALSE</li><li>FALSE</li><li>FALSE</li><li>FALSE</li><li>TRUE</li><li>TRUE</li><li>TRUE</li><li>TRUE</li><li>TRUE</li><li>TRUE</li><li>TRUE</li><li>TRUE</li><li>TRUE</li><li>TRUE</li><li>TRUE</li><li>TRUE</li><li>TRUE</li><li>TRUE</li><li>TRUE</li><li>TRUE</li><li>TRUE</li><li>TRUE</li><li>TRUE</li><li>TRUE</li><li>TRUE</li><li>TRUE</li><li>TRUE</li><li>TRUE</li><li>TRUE</li><li>TRUE</li><li>TRUE</li><li>TRUE</li><li>TRUE</li><li>TRUE</li><li>TRUE</li><li>TRUE</li><li>TRUE</li><li>TRUE</li><li>TRUE</li><li>TRUE</li><li>TRUE</li><li>FALSE</li><li>FALSE</li><li>FALSE</li><li>FALSE</li><li>FALSE</li><li>FALSE</li><li>FALSE</li><li>TRUE</li><li>TRUE</li><li>TRUE</li><li>TRUE</li><li>TRUE</li><li>TRUE</li><li>TRUE</li><li>TRUE</li><li>TRUE</li><li>TRUE</li><li>TRUE</li><li>TRUE</li><li>TRUE</li><li>TRUE</li><li>TRUE</li><li>TRUE</li><li>TRUE</li><li>TRUE</li><li>TRUE</li><li>TRUE</li><li>TRUE</li><li>TRUE</li><li>TRUE</li><li>TRUE</li><li>TRUE</li><li>TRUE</li><li>TRUE</li><li>TRUE</li><li>TRUE</li><li>FALSE</li><li>FALSE</li><li>FALSE</li><li>FALSE</li><li>TRUE</li><li>TRUE</li><li>TRUE</li><li>TRUE</li><li>TRUE</li><li>TRUE</li><li>TRUE</li><li>TRUE</li><li>TRUE</li><li>FALSE</li><li>FALSE</li><li>FALSE</li><li>FALSE</li><li>FALSE</li><li>FALSE</li><li>FALSE</li><li>FALSE</li><li>FALSE</li><li>FALSE</li><li>FALSE</li><li>FALSE</li><li>FALSE</li><li>FALSE</li><li>FALSE</li><li>FALSE</li><li>FALSE</li><li>FALSE</li><li>FALSE</li><li>FALSE</li><li>FALSE</li><li>FALSE</li><li>FALSE</li><li>FALSE</li><li>FALSE</li><li>FALSE</li><li>FALSE</li><li>TRUE</li><li>TRUE</li><li>TRUE</li><li>TRUE</li><li>TRUE</li><li>TRUE</li><li>TRUE</li><li>TRUE</li><li>TRUE</li><li>TRUE</li><li>TRUE</li><li>TRUE</li><li>TRUE</li><li>TRUE</li><li>TRUE</li><li>TRUE</li><li>TRUE</li><li>FALSE</li><li>FALSE</li><li>FALSE</li><li>FALSE</li><li>FALSE</li><li>TRUE</li><li>TRUE</li><li>FALSE</li><li>FALSE</li><li>FALSE</li><li>FALSE</li><li>FALSE</li><li>FALSE</li><li>FALSE</li><li>FALSE</li><li>FALSE</li><li>FALSE</li><li>FALSE</li><li>FALSE</li><li>FALSE</li><li>FALSE</li><li>FALSE</li><li>FALSE</li><li>FALSE</li><li>FALSE</li><li>FALSE</li><li>FALSE</li><li>FALSE</li><li>FALSE</li><li>FALSE</li><li>FALSE</li><li>FALSE</li><li>FALSE</li><li>FALSE</li><li>FALSE</li><li>FALSE</li><li>FALSE</li><li>FALSE</li><li>FALSE</li><li>FALSE</li><li>FALSE</li><li>FALSE</li><li>FALSE</li><li>FALSE</li><li>FALSE</li><li>FALSE</li><li>FALSE</li><li>FALSE</li><li>FALSE</li><li>...</li><li>TRUE</li><li>TRUE</li><li>TRUE</li><li>TRUE</li><li>TRUE</li><li>TRUE</li><li>TRUE</li><li>TRUE</li><li>TRUE</li><li>TRUE</li><li>TRUE</li><li>TRUE</li><li>TRUE</li><li>TRUE</li><li>TRUE</li><li>TRUE</li><li>TRUE</li><li>TRUE</li><li>TRUE</li><li>TRUE</li><li>TRUE</li><li>TRUE</li><li>TRUE</li><li>TRUE</li><li>TRUE</li><li>TRUE</li><li>TRUE</li><li>TRUE</li><li>TRUE</li><li>TRUE</li><li>TRUE</li><li>TRUE</li><li>TRUE</li><li>TRUE</li><li>TRUE</li><li>TRUE</li><li>TRUE</li><li>TRUE</li><li>TRUE</li><li>TRUE</li><li>TRUE</li><li>TRUE</li><li>TRUE</li><li>TRUE</li><li>TRUE</li><li>TRUE</li><li>FALSE</li><li>FALSE</li><li>FALSE</li><li>FALSE</li><li>FALSE</li><li>FALSE</li><li>FALSE</li><li>FALSE</li><li>FALSE</li><li>FALSE</li><li>FALSE</li><li>FALSE</li><li>TRUE</li><li>TRUE</li><li>TRUE</li><li>TRUE</li><li>TRUE</li><li>TRUE</li><li>TRUE</li><li>TRUE</li><li>FALSE</li><li>FALSE</li><li>FALSE</li><li>FALSE</li><li>FALSE</li><li>TRUE</li><li>TRUE</li><li>TRUE</li><li>TRUE</li><li>TRUE</li><li>TRUE</li><li>TRUE</li><li>TRUE</li><li>TRUE</li><li>TRUE</li><li>TRUE</li><li>TRUE</li><li>TRUE</li><li>TRUE</li><li>TRUE</li><li>TRUE</li><li>TRUE</li><li>TRUE</li><li>TRUE</li><li>TRUE</li><li>TRUE</li><li>TRUE</li><li>TRUE</li><li>TRUE</li><li>TRUE</li><li>TRUE</li><li>TRUE</li><li>TRUE</li><li>TRUE</li><li>TRUE</li><li>TRUE</li><li>TRUE</li><li>TRUE</li><li>TRUE</li><li>TRUE</li><li>TRUE</li><li>TRUE</li><li>TRUE</li><li>TRUE</li><li>TRUE</li><li>TRUE</li><li>TRUE</li><li>TRUE</li><li>TRUE</li><li>TRUE</li><li>TRUE</li><li>TRUE</li><li>TRUE</li><li>TRUE</li><li>TRUE</li><li>TRUE</li><li>TRUE</li><li>TRUE</li><li>TRUE</li><li>TRUE</li><li>TRUE</li><li>TRUE</li><li>TRUE</li><li>TRUE</li><li>TRUE</li><li>TRUE</li><li>TRUE</li><li>TRUE</li><li>TRUE</li><li>TRUE</li><li>TRUE</li><li>TRUE</li><li>TRUE</li><li>TRUE</li><li>TRUE</li><li>TRUE</li><li>TRUE</li><li>TRUE</li><li>TRUE</li><li>TRUE</li><li>TRUE</li><li>TRUE</li><li>TRUE</li><li>TRUE</li><li>TRUE</li><li>TRUE</li><li>TRUE</li><li>TRUE</li><li>TRUE</li><li>TRUE</li><li>TRUE</li><li>TRUE</li><li>TRUE</li><li>TRUE</li><li>TRUE</li><li>TRUE</li><li>TRUE</li><li>TRUE</li><li>TRUE</li><li>TRUE</li><li>TRUE</li><li>TRUE</li><li>TRUE</li><li>TRUE</li><li>TRUE</li><li>TRUE</li><li>TRUE</li><li>TRUE</li><li>TRUE</li><li>TRUE</li><li>TRUE</li><li>TRUE</li><li>TRUE</li><li>TRUE</li><li>TRUE</li><li>TRUE</li><li>TRUE</li><li>TRUE</li><li>TRUE</li><li>TRUE</li><li>TRUE</li><li>TRUE</li><li>TRUE</li><li>TRUE</li><li>TRUE</li><li>TRUE</li><li>TRUE</li><li>TRUE</li><li>TRUE</li><li>TRUE</li><li>TRUE</li><li>TRUE</li><li>TRUE</li><li>TRUE</li></ol>\n"
      ],
      "text/markdown": "1. FALSE\n2. FALSE\n3. FALSE\n4. FALSE\n5. FALSE\n6. FALSE\n7. FALSE\n8. FALSE\n9. FALSE\n10. FALSE\n11. FALSE\n12. FALSE\n13. FALSE\n14. FALSE\n15. FALSE\n16. FALSE\n17. FALSE\n18. FALSE\n19. FALSE\n20. FALSE\n21. FALSE\n22. TRUE\n23. TRUE\n24. TRUE\n25. TRUE\n26. TRUE\n27. TRUE\n28. TRUE\n29. TRUE\n30. TRUE\n31. TRUE\n32. TRUE\n33. TRUE\n34. TRUE\n35. TRUE\n36. TRUE\n37. TRUE\n38. TRUE\n39. TRUE\n40. TRUE\n41. TRUE\n42. TRUE\n43. TRUE\n44. TRUE\n45. TRUE\n46. TRUE\n47. TRUE\n48. TRUE\n49. TRUE\n50. TRUE\n51. TRUE\n52. TRUE\n53. TRUE\n54. TRUE\n55. TRUE\n56. TRUE\n57. TRUE\n58. TRUE\n59. FALSE\n60. FALSE\n61. FALSE\n62. FALSE\n63. FALSE\n64. FALSE\n65. FALSE\n66. TRUE\n67. TRUE\n68. TRUE\n69. TRUE\n70. TRUE\n71. TRUE\n72. TRUE\n73. TRUE\n74. TRUE\n75. TRUE\n76. TRUE\n77. TRUE\n78. TRUE\n79. TRUE\n80. TRUE\n81. TRUE\n82. TRUE\n83. TRUE\n84. TRUE\n85. TRUE\n86. TRUE\n87. TRUE\n88. TRUE\n89. TRUE\n90. TRUE\n91. TRUE\n92. TRUE\n93. TRUE\n94. TRUE\n95. FALSE\n96. FALSE\n97. FALSE\n98. FALSE\n99. TRUE\n100. TRUE\n101. TRUE\n102. TRUE\n103. TRUE\n104. TRUE\n105. TRUE\n106. TRUE\n107. TRUE\n108. FALSE\n109. FALSE\n110. FALSE\n111. FALSE\n112. FALSE\n113. FALSE\n114. FALSE\n115. FALSE\n116. FALSE\n117. FALSE\n118. FALSE\n119. FALSE\n120. FALSE\n121. FALSE\n122. FALSE\n123. FALSE\n124. FALSE\n125. FALSE\n126. FALSE\n127. FALSE\n128. FALSE\n129. FALSE\n130. FALSE\n131. FALSE\n132. FALSE\n133. FALSE\n134. FALSE\n135. TRUE\n136. TRUE\n137. TRUE\n138. TRUE\n139. TRUE\n140. TRUE\n141. TRUE\n142. TRUE\n143. TRUE\n144. TRUE\n145. TRUE\n146. TRUE\n147. TRUE\n148. TRUE\n149. TRUE\n150. TRUE\n151. TRUE\n152. FALSE\n153. FALSE\n154. FALSE\n155. FALSE\n156. FALSE\n157. TRUE\n158. TRUE\n159. FALSE\n160. FALSE\n161. FALSE\n162. FALSE\n163. FALSE\n164. FALSE\n165. FALSE\n166. FALSE\n167. FALSE\n168. FALSE\n169. FALSE\n170. FALSE\n171. FALSE\n172. FALSE\n173. FALSE\n174. FALSE\n175. FALSE\n176. FALSE\n177. FALSE\n178. FALSE\n179. FALSE\n180. FALSE\n181. FALSE\n182. FALSE\n183. FALSE\n184. FALSE\n185. FALSE\n186. FALSE\n187. FALSE\n188. FALSE\n189. FALSE\n190. FALSE\n191. FALSE\n192. FALSE\n193. FALSE\n194. FALSE\n195. FALSE\n196. FALSE\n197. FALSE\n198. FALSE\n199. FALSE\n200. FALSE\n201. ...\n202. TRUE\n203. TRUE\n204. TRUE\n205. TRUE\n206. TRUE\n207. TRUE\n208. TRUE\n209. TRUE\n210. TRUE\n211. TRUE\n212. TRUE\n213. TRUE\n214. TRUE\n215. TRUE\n216. TRUE\n217. TRUE\n218. TRUE\n219. TRUE\n220. TRUE\n221. TRUE\n222. TRUE\n223. TRUE\n224. TRUE\n225. TRUE\n226. TRUE\n227. TRUE\n228. TRUE\n229. TRUE\n230. TRUE\n231. TRUE\n232. TRUE\n233. TRUE\n234. TRUE\n235. TRUE\n236. TRUE\n237. TRUE\n238. TRUE\n239. TRUE\n240. TRUE\n241. TRUE\n242. TRUE\n243. TRUE\n244. TRUE\n245. TRUE\n246. TRUE\n247. TRUE\n248. FALSE\n249. FALSE\n250. FALSE\n251. FALSE\n252. FALSE\n253. FALSE\n254. FALSE\n255. FALSE\n256. FALSE\n257. FALSE\n258. FALSE\n259. FALSE\n260. TRUE\n261. TRUE\n262. TRUE\n263. TRUE\n264. TRUE\n265. TRUE\n266. TRUE\n267. TRUE\n268. FALSE\n269. FALSE\n270. FALSE\n271. FALSE\n272. FALSE\n273. TRUE\n274. TRUE\n275. TRUE\n276. TRUE\n277. TRUE\n278. TRUE\n279. TRUE\n280. TRUE\n281. TRUE\n282. TRUE\n283. TRUE\n284. TRUE\n285. TRUE\n286. TRUE\n287. TRUE\n288. TRUE\n289. TRUE\n290. TRUE\n291. TRUE\n292. TRUE\n293. TRUE\n294. TRUE\n295. TRUE\n296. TRUE\n297. TRUE\n298. TRUE\n299. TRUE\n300. TRUE\n301. TRUE\n302. TRUE\n303. TRUE\n304. TRUE\n305. TRUE\n306. TRUE\n307. TRUE\n308. TRUE\n309. TRUE\n310. TRUE\n311. TRUE\n312. TRUE\n313. TRUE\n314. TRUE\n315. TRUE\n316. TRUE\n317. TRUE\n318. TRUE\n319. TRUE\n320. TRUE\n321. TRUE\n322. TRUE\n323. TRUE\n324. TRUE\n325. TRUE\n326. TRUE\n327. TRUE\n328. TRUE\n329. TRUE\n330. TRUE\n331. TRUE\n332. TRUE\n333. TRUE\n334. TRUE\n335. TRUE\n336. TRUE\n337. TRUE\n338. TRUE\n339. TRUE\n340. TRUE\n341. TRUE\n342. TRUE\n343. TRUE\n344. TRUE\n345. TRUE\n346. TRUE\n347. TRUE\n348. TRUE\n349. TRUE\n350. TRUE\n351. TRUE\n352. TRUE\n353. TRUE\n354. TRUE\n355. TRUE\n356. TRUE\n357. TRUE\n358. TRUE\n359. TRUE\n360. TRUE\n361. TRUE\n362. TRUE\n363. TRUE\n364. TRUE\n365. TRUE\n366. TRUE\n367. TRUE\n368. TRUE\n369. TRUE\n370. TRUE\n371. TRUE\n372. TRUE\n373. TRUE\n374. TRUE\n375. TRUE\n376. TRUE\n377. TRUE\n378. TRUE\n379. TRUE\n380. TRUE\n381. TRUE\n382. TRUE\n383. TRUE\n384. TRUE\n385. TRUE\n386. TRUE\n387. TRUE\n388. TRUE\n389. TRUE\n390. TRUE\n391. TRUE\n392. TRUE\n393. TRUE\n394. TRUE\n395. TRUE\n396. TRUE\n397. TRUE\n398. TRUE\n399. TRUE\n400. TRUE\n401. TRUE\n\n\n",
      "text/latex": "\\begin{enumerate*}\n\\item FALSE\n\\item FALSE\n\\item FALSE\n\\item FALSE\n\\item FALSE\n\\item FALSE\n\\item FALSE\n\\item FALSE\n\\item FALSE\n\\item FALSE\n\\item FALSE\n\\item FALSE\n\\item FALSE\n\\item FALSE\n\\item FALSE\n\\item FALSE\n\\item FALSE\n\\item FALSE\n\\item FALSE\n\\item FALSE\n\\item FALSE\n\\item TRUE\n\\item TRUE\n\\item TRUE\n\\item TRUE\n\\item TRUE\n\\item TRUE\n\\item TRUE\n\\item TRUE\n\\item TRUE\n\\item TRUE\n\\item TRUE\n\\item TRUE\n\\item TRUE\n\\item TRUE\n\\item TRUE\n\\item TRUE\n\\item TRUE\n\\item TRUE\n\\item TRUE\n\\item TRUE\n\\item TRUE\n\\item TRUE\n\\item TRUE\n\\item TRUE\n\\item TRUE\n\\item TRUE\n\\item TRUE\n\\item TRUE\n\\item TRUE\n\\item TRUE\n\\item TRUE\n\\item TRUE\n\\item TRUE\n\\item TRUE\n\\item TRUE\n\\item TRUE\n\\item TRUE\n\\item FALSE\n\\item FALSE\n\\item FALSE\n\\item FALSE\n\\item FALSE\n\\item FALSE\n\\item FALSE\n\\item TRUE\n\\item TRUE\n\\item TRUE\n\\item TRUE\n\\item TRUE\n\\item TRUE\n\\item TRUE\n\\item TRUE\n\\item TRUE\n\\item TRUE\n\\item TRUE\n\\item TRUE\n\\item TRUE\n\\item TRUE\n\\item TRUE\n\\item TRUE\n\\item TRUE\n\\item TRUE\n\\item TRUE\n\\item TRUE\n\\item TRUE\n\\item TRUE\n\\item TRUE\n\\item TRUE\n\\item TRUE\n\\item TRUE\n\\item TRUE\n\\item TRUE\n\\item TRUE\n\\item FALSE\n\\item FALSE\n\\item FALSE\n\\item FALSE\n\\item TRUE\n\\item TRUE\n\\item TRUE\n\\item TRUE\n\\item TRUE\n\\item TRUE\n\\item TRUE\n\\item TRUE\n\\item TRUE\n\\item FALSE\n\\item FALSE\n\\item FALSE\n\\item FALSE\n\\item FALSE\n\\item FALSE\n\\item FALSE\n\\item FALSE\n\\item FALSE\n\\item FALSE\n\\item FALSE\n\\item FALSE\n\\item FALSE\n\\item FALSE\n\\item FALSE\n\\item FALSE\n\\item FALSE\n\\item FALSE\n\\item FALSE\n\\item FALSE\n\\item FALSE\n\\item FALSE\n\\item FALSE\n\\item FALSE\n\\item FALSE\n\\item FALSE\n\\item FALSE\n\\item TRUE\n\\item TRUE\n\\item TRUE\n\\item TRUE\n\\item TRUE\n\\item TRUE\n\\item TRUE\n\\item TRUE\n\\item TRUE\n\\item TRUE\n\\item TRUE\n\\item TRUE\n\\item TRUE\n\\item TRUE\n\\item TRUE\n\\item TRUE\n\\item TRUE\n\\item FALSE\n\\item FALSE\n\\item FALSE\n\\item FALSE\n\\item FALSE\n\\item TRUE\n\\item TRUE\n\\item FALSE\n\\item FALSE\n\\item FALSE\n\\item FALSE\n\\item FALSE\n\\item FALSE\n\\item FALSE\n\\item FALSE\n\\item FALSE\n\\item FALSE\n\\item FALSE\n\\item FALSE\n\\item FALSE\n\\item FALSE\n\\item FALSE\n\\item FALSE\n\\item FALSE\n\\item FALSE\n\\item FALSE\n\\item FALSE\n\\item FALSE\n\\item FALSE\n\\item FALSE\n\\item FALSE\n\\item FALSE\n\\item FALSE\n\\item FALSE\n\\item FALSE\n\\item FALSE\n\\item FALSE\n\\item FALSE\n\\item FALSE\n\\item FALSE\n\\item FALSE\n\\item FALSE\n\\item FALSE\n\\item FALSE\n\\item FALSE\n\\item FALSE\n\\item FALSE\n\\item FALSE\n\\item FALSE\n\\item ...\n\\item TRUE\n\\item TRUE\n\\item TRUE\n\\item TRUE\n\\item TRUE\n\\item TRUE\n\\item TRUE\n\\item TRUE\n\\item TRUE\n\\item TRUE\n\\item TRUE\n\\item TRUE\n\\item TRUE\n\\item TRUE\n\\item TRUE\n\\item TRUE\n\\item TRUE\n\\item TRUE\n\\item TRUE\n\\item TRUE\n\\item TRUE\n\\item TRUE\n\\item TRUE\n\\item TRUE\n\\item TRUE\n\\item TRUE\n\\item TRUE\n\\item TRUE\n\\item TRUE\n\\item TRUE\n\\item TRUE\n\\item TRUE\n\\item TRUE\n\\item TRUE\n\\item TRUE\n\\item TRUE\n\\item TRUE\n\\item TRUE\n\\item TRUE\n\\item TRUE\n\\item TRUE\n\\item TRUE\n\\item TRUE\n\\item TRUE\n\\item TRUE\n\\item TRUE\n\\item FALSE\n\\item FALSE\n\\item FALSE\n\\item FALSE\n\\item FALSE\n\\item FALSE\n\\item FALSE\n\\item FALSE\n\\item FALSE\n\\item FALSE\n\\item FALSE\n\\item FALSE\n\\item TRUE\n\\item TRUE\n\\item TRUE\n\\item TRUE\n\\item TRUE\n\\item TRUE\n\\item TRUE\n\\item TRUE\n\\item FALSE\n\\item FALSE\n\\item FALSE\n\\item FALSE\n\\item FALSE\n\\item TRUE\n\\item TRUE\n\\item TRUE\n\\item TRUE\n\\item TRUE\n\\item TRUE\n\\item TRUE\n\\item TRUE\n\\item TRUE\n\\item TRUE\n\\item TRUE\n\\item TRUE\n\\item TRUE\n\\item TRUE\n\\item TRUE\n\\item TRUE\n\\item TRUE\n\\item TRUE\n\\item TRUE\n\\item TRUE\n\\item TRUE\n\\item TRUE\n\\item TRUE\n\\item TRUE\n\\item TRUE\n\\item TRUE\n\\item TRUE\n\\item TRUE\n\\item TRUE\n\\item TRUE\n\\item TRUE\n\\item TRUE\n\\item TRUE\n\\item TRUE\n\\item TRUE\n\\item TRUE\n\\item TRUE\n\\item TRUE\n\\item TRUE\n\\item TRUE\n\\item TRUE\n\\item TRUE\n\\item TRUE\n\\item TRUE\n\\item TRUE\n\\item TRUE\n\\item TRUE\n\\item TRUE\n\\item TRUE\n\\item TRUE\n\\item TRUE\n\\item TRUE\n\\item TRUE\n\\item TRUE\n\\item TRUE\n\\item TRUE\n\\item TRUE\n\\item TRUE\n\\item TRUE\n\\item TRUE\n\\item TRUE\n\\item TRUE\n\\item TRUE\n\\item TRUE\n\\item TRUE\n\\item TRUE\n\\item TRUE\n\\item TRUE\n\\item TRUE\n\\item TRUE\n\\item TRUE\n\\item TRUE\n\\item TRUE\n\\item TRUE\n\\item TRUE\n\\item TRUE\n\\item TRUE\n\\item TRUE\n\\item TRUE\n\\item TRUE\n\\item TRUE\n\\item TRUE\n\\item TRUE\n\\item TRUE\n\\item TRUE\n\\item TRUE\n\\item TRUE\n\\item TRUE\n\\item TRUE\n\\item TRUE\n\\item TRUE\n\\item TRUE\n\\item TRUE\n\\item TRUE\n\\item TRUE\n\\item TRUE\n\\item TRUE\n\\item TRUE\n\\item TRUE\n\\item TRUE\n\\item TRUE\n\\item TRUE\n\\item TRUE\n\\item TRUE\n\\item TRUE\n\\item TRUE\n\\item TRUE\n\\item TRUE\n\\item TRUE\n\\item TRUE\n\\item TRUE\n\\item TRUE\n\\item TRUE\n\\item TRUE\n\\item TRUE\n\\item TRUE\n\\item TRUE\n\\item TRUE\n\\item TRUE\n\\item TRUE\n\\item TRUE\n\\item TRUE\n\\item TRUE\n\\item TRUE\n\\item TRUE\n\\item TRUE\n\\item TRUE\n\\item TRUE\n\\item TRUE\n\\end{enumerate*}\n",
      "text/plain": [
       "   [1] FALSE FALSE FALSE FALSE FALSE FALSE FALSE FALSE FALSE FALSE FALSE FALSE\n",
       "  [13] FALSE FALSE FALSE FALSE FALSE FALSE FALSE FALSE FALSE  TRUE  TRUE  TRUE\n",
       "  [25]  TRUE  TRUE  TRUE  TRUE  TRUE  TRUE  TRUE  TRUE  TRUE  TRUE  TRUE  TRUE\n",
       "  [37]  TRUE  TRUE  TRUE  TRUE  TRUE  TRUE  TRUE  TRUE  TRUE  TRUE  TRUE  TRUE\n",
       "  [49]  TRUE  TRUE  TRUE  TRUE  TRUE  TRUE  TRUE  TRUE  TRUE  TRUE FALSE FALSE\n",
       "  [61] FALSE FALSE FALSE FALSE FALSE  TRUE  TRUE  TRUE  TRUE  TRUE  TRUE  TRUE\n",
       "  [73]  TRUE  TRUE  TRUE  TRUE  TRUE  TRUE  TRUE  TRUE  TRUE  TRUE  TRUE  TRUE\n",
       "  [85]  TRUE  TRUE  TRUE  TRUE  TRUE  TRUE  TRUE  TRUE  TRUE  TRUE FALSE FALSE\n",
       "  [97] FALSE FALSE  TRUE  TRUE  TRUE  TRUE  TRUE  TRUE  TRUE  TRUE  TRUE FALSE\n",
       " [109] FALSE FALSE FALSE FALSE FALSE FALSE FALSE FALSE FALSE FALSE FALSE FALSE\n",
       " [121] FALSE FALSE FALSE FALSE FALSE FALSE FALSE FALSE FALSE FALSE FALSE FALSE\n",
       " [133] FALSE FALSE  TRUE  TRUE  TRUE  TRUE  TRUE  TRUE  TRUE  TRUE  TRUE  TRUE\n",
       " [145]  TRUE  TRUE  TRUE  TRUE  TRUE  TRUE  TRUE FALSE FALSE FALSE FALSE FALSE\n",
       " [157]  TRUE  TRUE FALSE FALSE FALSE FALSE FALSE FALSE FALSE FALSE FALSE FALSE\n",
       " [169] FALSE FALSE FALSE FALSE FALSE FALSE FALSE FALSE FALSE FALSE FALSE FALSE\n",
       " [181] FALSE FALSE FALSE FALSE FALSE FALSE FALSE FALSE FALSE FALSE FALSE FALSE\n",
       " [193] FALSE FALSE FALSE FALSE FALSE FALSE FALSE FALSE FALSE FALSE FALSE FALSE\n",
       " [205] FALSE FALSE FALSE FALSE FALSE FALSE FALSE FALSE FALSE FALSE FALSE  TRUE\n",
       " [217]  TRUE  TRUE  TRUE  TRUE  TRUE  TRUE  TRUE  TRUE  TRUE  TRUE  TRUE  TRUE\n",
       " [229]  TRUE  TRUE  TRUE  TRUE  TRUE  TRUE  TRUE  TRUE  TRUE  TRUE  TRUE  TRUE\n",
       " [241]  TRUE  TRUE  TRUE  TRUE  TRUE  TRUE  TRUE  TRUE  TRUE  TRUE  TRUE  TRUE\n",
       " [253]  TRUE  TRUE  TRUE  TRUE  TRUE  TRUE FALSE  TRUE  TRUE  TRUE  TRUE  TRUE\n",
       " [265]  TRUE  TRUE  TRUE  TRUE  TRUE  TRUE  TRUE  TRUE  TRUE  TRUE  TRUE  TRUE\n",
       " [277]  TRUE  TRUE  TRUE  TRUE  TRUE  TRUE  TRUE  TRUE  TRUE  TRUE  TRUE  TRUE\n",
       " [289]  TRUE  TRUE  TRUE  TRUE  TRUE  TRUE  TRUE  TRUE  TRUE  TRUE  TRUE  TRUE\n",
       " [301]  TRUE  TRUE  TRUE  TRUE  TRUE  TRUE  TRUE  TRUE  TRUE  TRUE FALSE FALSE\n",
       " [313] FALSE FALSE  TRUE  TRUE  TRUE  TRUE  TRUE  TRUE  TRUE  TRUE  TRUE  TRUE\n",
       " [325]  TRUE  TRUE  TRUE  TRUE  TRUE  TRUE  TRUE  TRUE  TRUE  TRUE  TRUE  TRUE\n",
       " [337]  TRUE  TRUE  TRUE  TRUE  TRUE  TRUE  TRUE  TRUE  TRUE  TRUE  TRUE  TRUE\n",
       " [349]  TRUE  TRUE  TRUE  TRUE  TRUE  TRUE  TRUE  TRUE  TRUE  TRUE  TRUE  TRUE\n",
       " [361]  TRUE  TRUE  TRUE  TRUE  TRUE  TRUE  TRUE  TRUE  TRUE  TRUE  TRUE  TRUE\n",
       " [373]  TRUE  TRUE  TRUE  TRUE  TRUE  TRUE  TRUE  TRUE  TRUE  TRUE  TRUE  TRUE\n",
       " [385]  TRUE  TRUE  TRUE  TRUE  TRUE  TRUE  TRUE  TRUE  TRUE  TRUE  TRUE  TRUE\n",
       " [397]  TRUE  TRUE  TRUE  TRUE  TRUE  TRUE  TRUE  TRUE  TRUE  TRUE  TRUE  TRUE\n",
       " [409]  TRUE  TRUE  TRUE  TRUE  TRUE  TRUE  TRUE  TRUE  TRUE  TRUE  TRUE  TRUE\n",
       " [421]  TRUE  TRUE  TRUE  TRUE  TRUE  TRUE  TRUE  TRUE  TRUE  TRUE  TRUE  TRUE\n",
       " [433]  TRUE  TRUE  TRUE  TRUE  TRUE  TRUE  TRUE  TRUE  TRUE  TRUE  TRUE  TRUE\n",
       " [445]  TRUE  TRUE  TRUE  TRUE  TRUE  TRUE  TRUE  TRUE  TRUE  TRUE  TRUE  TRUE\n",
       " [457]  TRUE  TRUE  TRUE FALSE FALSE FALSE FALSE FALSE FALSE FALSE FALSE FALSE\n",
       " [469] FALSE FALSE FALSE FALSE FALSE FALSE FALSE FALSE FALSE FALSE FALSE FALSE\n",
       " [481] FALSE FALSE FALSE FALSE FALSE FALSE  TRUE  TRUE  TRUE  TRUE  TRUE  TRUE\n",
       " [493]  TRUE  TRUE  TRUE  TRUE  TRUE  TRUE  TRUE  TRUE  TRUE FALSE FALSE FALSE\n",
       " [505] FALSE  TRUE  TRUE  TRUE  TRUE  TRUE  TRUE  TRUE  TRUE  TRUE  TRUE  TRUE\n",
       " [517]  TRUE  TRUE  TRUE  TRUE  TRUE  TRUE  TRUE  TRUE  TRUE  TRUE  TRUE  TRUE\n",
       " [529]  TRUE  TRUE  TRUE  TRUE  TRUE  TRUE  TRUE  TRUE  TRUE  TRUE  TRUE  TRUE\n",
       " [541]  TRUE  TRUE  TRUE  TRUE  TRUE  TRUE  TRUE  TRUE  TRUE  TRUE  TRUE  TRUE\n",
       " [553]  TRUE  TRUE  TRUE  TRUE  TRUE  TRUE  TRUE  TRUE  TRUE  TRUE  TRUE  TRUE\n",
       " [565]  TRUE  TRUE  TRUE  TRUE  TRUE  TRUE  TRUE  TRUE  TRUE  TRUE  TRUE  TRUE\n",
       " [577]  TRUE  TRUE  TRUE  TRUE  TRUE  TRUE  TRUE  TRUE  TRUE  TRUE  TRUE  TRUE\n",
       " [589]  TRUE  TRUE  TRUE  TRUE  TRUE  TRUE  TRUE  TRUE  TRUE  TRUE  TRUE  TRUE\n",
       " [601]  TRUE  TRUE  TRUE  TRUE  TRUE  TRUE  TRUE  TRUE  TRUE  TRUE  TRUE  TRUE\n",
       " [613]  TRUE  TRUE  TRUE  TRUE  TRUE  TRUE  TRUE  TRUE  TRUE  TRUE  TRUE  TRUE\n",
       " [625]  TRUE  TRUE  TRUE  TRUE  TRUE  TRUE  TRUE  TRUE  TRUE  TRUE  TRUE  TRUE\n",
       " [637]  TRUE  TRUE  TRUE  TRUE  TRUE  TRUE  TRUE  TRUE  TRUE  TRUE  TRUE  TRUE\n",
       " [649]  TRUE  TRUE  TRUE  TRUE  TRUE  TRUE  TRUE  TRUE  TRUE  TRUE  TRUE  TRUE\n",
       " [661]  TRUE  TRUE  TRUE  TRUE  TRUE  TRUE  TRUE  TRUE  TRUE  TRUE  TRUE  TRUE\n",
       " [673]  TRUE  TRUE  TRUE  TRUE  TRUE  TRUE  TRUE  TRUE  TRUE  TRUE  TRUE  TRUE\n",
       " [685]  TRUE  TRUE  TRUE  TRUE  TRUE  TRUE  TRUE  TRUE  TRUE  TRUE  TRUE  TRUE\n",
       " [697]  TRUE  TRUE  TRUE  TRUE  TRUE  TRUE  TRUE  TRUE  TRUE  TRUE  TRUE  TRUE\n",
       " [709]  TRUE  TRUE  TRUE  TRUE  TRUE  TRUE  TRUE  TRUE  TRUE  TRUE  TRUE  TRUE\n",
       " [721]  TRUE  TRUE  TRUE  TRUE  TRUE  TRUE  TRUE  TRUE FALSE FALSE FALSE FALSE\n",
       " [733] FALSE FALSE FALSE FALSE FALSE FALSE FALSE FALSE FALSE FALSE  TRUE  TRUE\n",
       " [745]  TRUE  TRUE  TRUE  TRUE  TRUE  TRUE  TRUE  TRUE  TRUE  TRUE  TRUE  TRUE\n",
       " [757]  TRUE  TRUE FALSE FALSE FALSE  TRUE  TRUE  TRUE  TRUE  TRUE  TRUE  TRUE\n",
       " [769]  TRUE  TRUE  TRUE  TRUE  TRUE  TRUE  TRUE FALSE FALSE FALSE  TRUE FALSE\n",
       " [781] FALSE FALSE FALSE FALSE FALSE  TRUE  TRUE  TRUE  TRUE  TRUE  TRUE  TRUE\n",
       " [793]  TRUE  TRUE  TRUE  TRUE  TRUE  TRUE  TRUE  TRUE  TRUE  TRUE  TRUE FALSE\n",
       " [805] FALSE FALSE  TRUE  TRUE  TRUE FALSE FALSE FALSE FALSE FALSE FALSE FALSE\n",
       " [817] FALSE FALSE FALSE FALSE FALSE FALSE FALSE FALSE FALSE FALSE FALSE FALSE\n",
       " [829] FALSE FALSE FALSE FALSE FALSE  TRUE  TRUE  TRUE  TRUE  TRUE  TRUE  TRUE\n",
       " [841]  TRUE  TRUE  TRUE  TRUE  TRUE  TRUE  TRUE  TRUE  TRUE  TRUE  TRUE  TRUE\n",
       " [853]  TRUE  TRUE  TRUE FALSE  TRUE  TRUE  TRUE  TRUE  TRUE  TRUE  TRUE  TRUE\n",
       " [865]  TRUE  TRUE  TRUE  TRUE  TRUE  TRUE  TRUE  TRUE  TRUE  TRUE  TRUE  TRUE\n",
       " [877]  TRUE  TRUE FALSE FALSE FALSE  TRUE  TRUE  TRUE  TRUE  TRUE  TRUE  TRUE\n",
       " [889]  TRUE  TRUE  TRUE  TRUE  TRUE  TRUE  TRUE  TRUE  TRUE  TRUE  TRUE  TRUE\n",
       " [901]  TRUE  TRUE  TRUE  TRUE  TRUE  TRUE  TRUE  TRUE  TRUE  TRUE  TRUE  TRUE\n",
       " [913]  TRUE  TRUE  TRUE  TRUE  TRUE  TRUE  TRUE  TRUE  TRUE  TRUE  TRUE  TRUE\n",
       " [925]  TRUE  TRUE  TRUE  TRUE  TRUE  TRUE  TRUE  TRUE  TRUE  TRUE  TRUE  TRUE\n",
       " [937]  TRUE  TRUE  TRUE  TRUE  TRUE  TRUE  TRUE  TRUE  TRUE  TRUE  TRUE FALSE\n",
       " [949] FALSE FALSE FALSE FALSE FALSE FALSE FALSE FALSE FALSE FALSE FALSE  TRUE\n",
       " [961]  TRUE  TRUE  TRUE  TRUE  TRUE  TRUE  TRUE FALSE FALSE FALSE FALSE FALSE\n",
       " [973]  TRUE  TRUE  TRUE  TRUE  TRUE  TRUE  TRUE  TRUE  TRUE  TRUE  TRUE  TRUE\n",
       " [985]  TRUE  TRUE  TRUE  TRUE  TRUE  TRUE  TRUE  TRUE  TRUE  TRUE  TRUE  TRUE\n",
       " [997]  TRUE  TRUE  TRUE  TRUE  TRUE  TRUE  TRUE  TRUE  TRUE  TRUE  TRUE  TRUE\n",
       "[1009]  TRUE  TRUE  TRUE  TRUE  TRUE  TRUE  TRUE  TRUE  TRUE  TRUE  TRUE  TRUE\n",
       "[1021]  TRUE  TRUE  TRUE  TRUE  TRUE  TRUE  TRUE  TRUE  TRUE  TRUE  TRUE  TRUE\n",
       "[1033]  TRUE  TRUE  TRUE  TRUE  TRUE  TRUE  TRUE  TRUE  TRUE  TRUE  TRUE  TRUE\n",
       "[1045]  TRUE  TRUE  TRUE  TRUE  TRUE  TRUE  TRUE  TRUE  TRUE  TRUE  TRUE  TRUE\n",
       "[1057]  TRUE  TRUE  TRUE  TRUE  TRUE  TRUE  TRUE  TRUE  TRUE  TRUE  TRUE  TRUE\n",
       "[1069]  TRUE  TRUE  TRUE  TRUE  TRUE  TRUE  TRUE  TRUE  TRUE  TRUE  TRUE  TRUE\n",
       "[1081]  TRUE  TRUE  TRUE  TRUE  TRUE  TRUE  TRUE  TRUE  TRUE  TRUE  TRUE  TRUE\n",
       "[1093]  TRUE  TRUE  TRUE  TRUE  TRUE  TRUE  TRUE  TRUE  TRUE"
      ]
     },
     "metadata": {},
     "output_type": "display_data"
    }
   ],
   "execution_count": 15
  },
  {
   "cell_type": "code",
   "id": "8a0f957b",
   "metadata": {
    "ExecuteTime": {
     "end_time": "2024-12-16T14:10:50.814903Z",
     "start_time": "2024-12-16T14:10:50.798990Z"
    }
   },
   "source": [
    "#et calculons le nombre de prédictions correctes\n",
    "numCorrect <- length(which(testData[,4]==predictions))\n",
    "numCorrect "
   ],
   "outputs": [
    {
     "data": {
      "text/html": [
       "870"
      ],
      "text/markdown": "870",
      "text/latex": "870",
      "text/plain": [
       "[1] 870"
      ]
     },
     "metadata": {},
     "output_type": "display_data"
    }
   ],
   "execution_count": 16
  },
  {
   "cell_type": "code",
   "id": "87a6ec5b",
   "metadata": {
    "ExecuteTime": {
     "end_time": "2024-12-16T14:10:50.918715Z",
     "start_time": "2024-12-16T14:10:50.902777Z"
    }
   },
   "source": [
    "#ainsi que le taux de bien classes\n",
    "TBC <- numCorrect/nrow(testData)\n",
    "TBC"
   ],
   "outputs": [
    {
     "data": {
      "text/html": [
       "0.790190735694823"
      ],
      "text/markdown": "0.790190735694823",
      "text/latex": "0.790190735694823",
      "text/plain": [
       "[1] 0.7901907"
      ]
     },
     "metadata": {},
     "output_type": "display_data"
    }
   ],
   "execution_count": 17
  },
  {
   "cell_type": "code",
   "id": "193262dc",
   "metadata": {
    "ExecuteTime": {
     "end_time": "2024-12-16T14:10:51.003840Z",
     "start_time": "2024-12-16T14:10:50.988841Z"
    }
   },
   "source": [
    "#Nous pourrions également procéder comme suit pour obtenir le TBC\n",
    "table(testData[,4],predictions)"
   ],
   "outputs": [
    {
     "data": {
      "text/plain": [
       "      predictions\n",
       "       mort surv\n",
       "  mort  716   57\n",
       "  surv  174  154"
      ]
     },
     "metadata": {},
     "output_type": "display_data"
    }
   ],
   "execution_count": 18
  },
  {
   "cell_type": "code",
   "id": "e4dea398",
   "metadata": {
    "ExecuteTime": {
     "end_time": "2024-12-16T14:10:51.134917Z",
     "start_time": "2024-12-16T14:10:51.122422Z"
    }
   },
   "source": [
    "numCorrect <- sum(diag(table(testData[,4],predictions)))"
   ],
   "outputs": [],
   "execution_count": 19
  },
  {
   "cell_type": "code",
   "id": "6c28e25e",
   "metadata": {
    "ExecuteTime": {
     "end_time": "2024-12-16T14:10:51.232733Z",
     "start_time": "2024-12-16T14:10:51.217071Z"
    }
   },
   "source": [
    "TBC <- numCorrect/nrow(testData)\n",
    "TBC"
   ],
   "outputs": [
    {
     "data": {
      "text/html": [
       "0.790190735694823"
      ],
      "text/markdown": "0.790190735694823",
      "text/latex": "0.790190735694823",
      "text/plain": [
       "[1] 0.7901907"
      ]
     },
     "metadata": {},
     "output_type": "display_data"
    }
   ],
   "execution_count": 20
  },
  {
   "cell_type": "markdown",
   "id": "e01cddbb",
   "metadata": {},
   "source": [
    "### Partie théorique de Naive Bayes : comprendre comment le modèle classifie/calcule les probabilités"
   ]
  },
  {
   "cell_type": "code",
   "id": "0f7dbbd7",
   "metadata": {
    "ExecuteTime": {
     "end_time": "2024-12-16T14:10:51.274733Z",
     "start_time": "2024-12-16T14:10:51.247648Z"
    }
   },
   "source": [
    "#Examinons un instance de test particulier, par exemple le premier\n",
    "testData[1,]\n",
    "#et les probabilités prédites de mort et de surv\n",
    "pred1 <- predict(nb, testData[1,],type = \"raw\")\n",
    "pred1"
   ],
   "outputs": [
    {
     "data": {
      "text/html": [
       "<table class=\"dataframe\">\n",
       "<caption>A data.frame: 1 × 4</caption>\n",
       "<thead>\n",
       "\t<tr><th></th><th scope=col>class</th><th scope=col>age</th><th scope=col>sex</th><th scope=col>result</th></tr>\n",
       "\t<tr><th></th><th scope=col>&lt;fct&gt;</th><th scope=col>&lt;fct&gt;</th><th scope=col>&lt;fct&gt;</th><th scope=col>&lt;fct&gt;</th></tr>\n",
       "</thead>\n",
       "<tbody>\n",
       "\t<tr><th scope=row>2</th><td>first</td><td>adu</td><td>m</td><td>surv</td></tr>\n",
       "</tbody>\n",
       "</table>\n"
      ],
      "text/markdown": "\nA data.frame: 1 × 4\n\n| <!--/--> | class &lt;fct&gt; | age &lt;fct&gt; | sex &lt;fct&gt; | result &lt;fct&gt; |\n|---|---|---|---|---|\n| 2 | first | adu | m | surv |\n\n",
      "text/latex": "A data.frame: 1 × 4\n\\begin{tabular}{r|llll}\n  & class & age & sex & result\\\\\n  & <fct> & <fct> & <fct> & <fct>\\\\\n\\hline\n\t2 & first & adu & m & surv\\\\\n\\end{tabular}\n",
      "text/plain": [
       "  class age sex result\n",
       "2 first adu m   surv  "
      ]
     },
     "metadata": {},
     "output_type": "display_data"
    },
    {
     "data": {
      "text/html": [
       "<table class=\"dataframe\">\n",
       "<caption>A matrix: 1 × 2 of type dbl</caption>\n",
       "<thead>\n",
       "\t<tr><th scope=col>mort</th><th scope=col>surv</th></tr>\n",
       "</thead>\n",
       "<tbody>\n",
       "\t<tr><td>0.5536861</td><td>0.4463139</td></tr>\n",
       "</tbody>\n",
       "</table>\n"
      ],
      "text/markdown": "\nA matrix: 1 × 2 of type dbl\n\n| mort | surv |\n|---|---|\n| 0.5536861 | 0.4463139 |\n\n",
      "text/latex": "A matrix: 1 × 2 of type dbl\n\\begin{tabular}{ll}\n mort & surv\\\\\n\\hline\n\t 0.5536861 & 0.4463139\\\\\n\\end{tabular}\n",
      "text/plain": [
       "     mort      surv     \n",
       "[1,] 0.5536861 0.4463139"
      ]
     },
     "metadata": {},
     "output_type": "display_data"
    }
   ],
   "execution_count": 21
  },
  {
   "cell_type": "code",
   "id": "7ebc0736",
   "metadata": {
    "ExecuteTime": {
     "end_time": "2024-12-16T14:10:51.373661Z",
     "start_time": "2024-12-16T14:10:51.310652Z"
    }
   },
   "source": [
    "#visualison la distribution des probabilites de result sachant l' instance: first, adu, m\n",
    "#cad la distribution a posteriori: de P(result|first, adu, m)\n",
    "barplot(pred1, main=\"P(result|first, adu, m)\")"
   ],
   "outputs": [
    {
     "data": {
      "text/plain": [
       "Plot with title \"P(result|first, adu, m)\""
      ],
      "image/png": "[encoded data removed]"
     },
     "metadata": {
      "image/png": {
       "width": 420,
       "height": 420
      }
     },
     "output_type": "display_data"
    }
   ],
   "execution_count": 22
  },
  {
   "cell_type": "markdown",
   "id": "298050e3",
   "metadata": {},
   "source": [
    "et voyons comment Naive Bayes utilise les différentes  distributions qu'il a calculées, cad: \n",
    "$$ P(\\text{class}|\\text{result}), P(\\text{sex}|\\text{result}), P(\\text{age}|\\text{result}), P(\\text{result}) $$\n",
    "pour calculer ces deux probabilités, cad pour calculer:\n",
    "$$P(\\text{result}|\\mathbf x) = \\{ P(\\text{result}=\\text{mort} |\\mathbf x), P(\\text{result}=\\text{surv} |\\mathbf x) \\}$$\n",
    "pour notre $\\mathbf x = (\\text{first}, \\text{adu}, \\text{m})$"
   ]
  },
  {
   "cell_type": "markdown",
   "id": "6ae9b110",
   "metadata": {},
   "source": [
    "**Rappel**, Naive Bayes calcule $P(y_i|\\mathbf x), \\forall y_i$, cad ici\n",
    "\n",
    "$$ P(\\text{result}=\\text{mort} |\\text{first}, \\text{adu}, \\text{m}), P(\\text{result}=\\text{surv} |\\text{first}, \\text{adu}, \\text{m}) $$\n",
    "\n",
    "avec l' aide du *théorème de Bayes* \n",
    "$$\n",
    " P(y_i|\\mathbf x) =\\frac{P(\\mathbf x|y_i) P(y_i)}{P(\\mathbf x)}, \\forall y_i \n",
    "$$\n",
    "qui, pour notre instance, est instanciée comme :\n",
    "\n",
    "\\begin{align}\n",
    " P(\\text{mort} |\\text{first}, \\text{adu}, \\text{m}) & =\\frac{P(\\text{first}, \\text{adu}, \\text{m}|\\text{mort}) P(\\text{mort})}{P(\\text{first}, \\text{adu}, \\text{m})} \\\\ \n",
    " P(\\text{surv} |\\text{first}, \\text{adu}, \\text{m}) & =\\frac{P(\\text{first}, \\text{adu}, \\text{m}|\\text{surv}) P(\\text{surv})}{P(\\text{first}, \\text{adu}, \\text{m})}\n",
    "\\end{align}\n",
    "\n",
    "alors le modele de Naive Bayes doit calculer:\n",
    "\n",
    "1.  $P(\\text{first}, \\text{adu}, \\text{m}|\\text{mort}), P(\\text{first}, \\text{adu}, \\text{m}|\\text{surv})$\n",
    "2.  $P(\\text{mort})$, $P(\\text{surv})$\n",
    "3.  $P(\\text{first}, \\text{adu}, \\text{m})$ \n",
    "\n",
    "Nous allons donc examiner chacun d'entre eux et voir où ils se trouvent dans le modèle nb que nous avons entraîné. "
   ]
  },
  {
   "cell_type": "markdown",
   "id": "7a284077",
   "metadata": {},
   "source": [
    "2. Les plus simples sont les $P(\\text{mort})$, $P(\\text{surv})$ qui sont appelés les probabilités apriori de variable cible. \n",
    "\n",
    "Question: D'ailleurs, si nous oublions pour un instant le NB, comment pourrions-nous calculer ces probabilités par nous-mêmes ?"
   ]
  },
  {
   "cell_type": "code",
   "id": "3af7ace7",
   "metadata": {
    "ExecuteTime": {
     "end_time": "2024-12-16T14:10:51.646817Z",
     "start_time": "2024-12-16T14:10:51.628164Z"
    }
   },
   "source": [
    "#Get $P(\\text{mort})$, $P(\\text{surv})$ from the NB model \n",
    "#\n",
    "#1) récupérer les comptes de la variable cible\n",
    "nb$apriori\n",
    "#2) à partir de celui-ci, vous devriez pouvoir obtenir les probabilités\n",
    "classPrior <- prop.table(nb$apriori)\n",
    "classPrior"
   ],
   "outputs": [
    {
     "data": {
      "text/plain": [
       "Y\n",
       "mort surv \n",
       " 717  383 "
      ]
     },
     "metadata": {},
     "output_type": "display_data"
    },
    {
     "data": {
      "text/plain": [
       "Y\n",
       "     mort      surv \n",
       "0.6518182 0.3481818 "
      ]
     },
     "metadata": {},
     "output_type": "display_data"
    }
   ],
   "execution_count": 23
  },
  {
   "cell_type": "markdown",
   "id": "ce5ed2fc",
   "metadata": {},
   "source": [
    "Voyons maintenant comment calculer les autres probabilités qui apparaissent dans le nominateur\n",
    "\n",
    "1. $P(\\text{first}, \\text{adu}, \\text{m}|\\text{mort}), P(\\text{first}, \\text{adu}, \\text{m}|\\text{surv})$\n",
    "\n",
    "Pour calculer ces probabilités, Naive Bayes utilise l'hypothèse d'indépendance conditionnelle qui permet de calculer facilement $P(\\mathbf x|y_i)$ comme suit :\n",
    "$$\n",
    "P(\\mathbf x|y_i) = P(x_1|y_i) P(x_2|y_i) \\dots P(x_d|y_i)\n",
    "$$\n",
    "l'hypothèse d'indépendance dans notre cas donnera:\n",
    "\n",
    "\\begin{align}\n",
    "P(\\text{first}, \\text{adu}, \\text{m}|\\text{mort}) &= P(\\text{first}|\\text{mort}) P(\\text{adu}|\\text{mort}) P(\\text{m}|\\text{mort}) \\\\\n",
    "P(\\text{first}, \\text{adu}, \\text{m}|\\text{surv}) &= P(\\text{first}|\\text{surv}) P(\\text{adu}|\\text{surv}) P(\\text{m}|\\text{surv})\\\\\n",
    "\\end{align}\n",
    "alors où trouver: \n",
    "$$P(\\text{first}|\\text{mort}), P(\\text{adu}|\\text{mort}), P(\\text{m}|\\text{mort})$$ et \n",
    "$$P(\\text{first}|\\text{surv}) P(\\text{adu}|\\text{surv}) P(\\text{m}|\\text{surv})$$ dans le modèle NB?  ou plus généralement de quelles distributions proviennent ces probabilités ?\n",
    "\n",
    "Question: comme précédemment, seriez-vous en mesure de calculer ces probabilités par vous-même, cad sans NB ?\n",
    "\n",
    "* $P(\\text{first}|\\text{mort}), P(\\text{first}|\\text{surv})$ Ces deux probabilités conditionnelles proviennent donc de la distribution conditionnelle  $P(\\text{class}| \\text{result})$  \n",
    "* $P(\\text{adu}|\\text{mort}), P(\\text{adu}|\\text{surv})$ Ces deux probabilités conditionnelles proviennent donc de la distribution conditionnelle  $P(\\text{age}| \\text{result})$ \n",
    "* $P(\\text{m}|\\text{mort}), P(\\text{m}|\\text{surv})$ Ces deux probabilités conditionnelles proviennent donc de la distribution conditionnelle  $P(\\text{sex}| \\text{result})$\n",
    "\n",
    "Voyons donc où nous les trouvons dans le modèle de la NB:"
   ]
  },
  {
   "cell_type": "code",
   "id": "0f68beef",
   "metadata": {
    "ExecuteTime": {
     "end_time": "2024-12-16T14:10:51.910147Z",
     "start_time": "2024-12-16T14:10:51.894378Z"
    }
   },
   "source": [
    "#P(class|result)\n",
    "nb$tables$class"
   ],
   "outputs": [
    {
     "data": {
      "text/plain": [
       "      class\n",
       "Y           crew     first    second     third\n",
       "  mort 0.4323570 0.1018131 0.1073919 0.3584379\n",
       "  surv 0.3185379 0.2924282 0.1409922 0.2480418"
      ]
     },
     "metadata": {},
     "output_type": "display_data"
    }
   ],
   "execution_count": 24
  },
  {
   "cell_type": "markdown",
   "id": "8475293c",
   "metadata": {},
   "source": [
    "\n",
    "Nous avons besoin de $P(\\text{first}|\\text{mort}), P(\\text{first}|\\text{surv})$ que nous pouvons directement extraire par le models de la NB comme suit"
   ]
  },
  {
   "cell_type": "code",
   "id": "a685dc10",
   "metadata": {
    "ExecuteTime": {
     "end_time": "2024-12-16T14:10:51.996907Z",
     "start_time": "2024-12-16T14:10:51.974790Z"
    }
   },
   "source": [
    "#P(first|mort)\n",
    "nb$tables$class[1,2]\n",
    "\n",
    "#P(first|surv)\n",
    "\n",
    "nb$tables$class[2,2]\n"
   ],
   "outputs": [
    {
     "data": {
      "text/html": [
       "0.101813110181311"
      ],
      "text/markdown": "0.101813110181311",
      "text/latex": "0.101813110181311",
      "text/plain": [
       "[1] 0.1018131"
      ]
     },
     "metadata": {},
     "output_type": "display_data"
    },
    {
     "data": {
      "text/html": [
       "0.29242819843342"
      ],
      "text/markdown": "0.29242819843342",
      "text/latex": "0.29242819843342",
      "text/plain": [
       "[1] 0.2924282"
      ]
     },
     "metadata": {},
     "output_type": "display_data"
    }
   ],
   "execution_count": 25
  },
  {
   "cell_type": "markdown",
   "id": "6ac134c7",
   "metadata": {},
   "source": [
    "De la même manière, nous pouvons récupérer les probabilités conditionnelles restantes qui sont utilisées dans le nominateur\n",
    "\n",
    "La dernière chose qui nous manque est donc le dénominateur, cad $P(first, adu, m)$\n",
    "\n",
    "3. $P(first, adu, m)$\n",
    "\n",
    "Rappel : Voyons un instant comment nous pourrions calculer la distribution marginale à partir des jointures/conditionnalités, avec ce que nous avons fait dans le TP1. \n",
    "\n",
    "Nous savons que:\n",
    "$$P(\\mathbf{x}|y) = \\frac{p(\\mathbf{x},y)} {p(y)}$$  \n",
    "et il est facile de s'en rendre compte :\n",
    "$$P(\\mathbf{x}|y) {p(y)} = {p(\\mathbf{x},y)} \\text{ le nominateur dans NB }$$  \n",
    "\n",
    "Nous savons également, toujours d'après le TP1, que nous pouvons passer de la joint à la marginal de la manière suivante :\n",
    "$$ P(\\mathbf{x}) = P(\\mathbf{x},y_1) + P(\\mathbf{x}, y_2) + \\dots + P(\\mathbf{x},y_K)$$ \n",
    "c'est-à-dire en additionnant toutes les probabilités joints pour les différentes valeurs de $y$.\n",
    "\n",
    "\n",
    "Et on peut reecrire:\n",
    "\n",
    "$$P(\\mathbf{x},y_1) + P(\\mathbf{x}, y_2) + \\dots + P(\\mathbf{x},y_K)=P(\\mathbf{x}|y_1) {p(y_1)} + P(\\mathbf{x}|y_2) {p(y_2)} + \\dots + P(\\mathbf{x}|y_K) {p(y_K)}.$$ \n",
    "\n",
    "Comme on a deja remarqué les terms:\n",
    "\n",
    "$$P(\\mathbf{x}|y_1) {p(y_1)}, P(\\mathbf{x}|y_2) {p(y_2)}, \\dots, P(\\mathbf{x}|y_K) {p(y_K)}$$\n",
    "\n",
    "sont celles qui apparaissent dans les nominateurs lorsque nous calculons les probabilités des différentes classes $y_i$."
   ]
  },
  {
   "cell_type": "markdown",
   "id": "45af887f",
   "metadata": {},
   "source": [
    "Voyons donc ce que cela donne dans notre cas où $\\mathbf x = (\\text{first}, \\text{adu}, \\text{m})$ and $y \\in \\{\\text{mort}, \\text{surv} \\}$\n",
    "\n",
    "\\begin{align}\n",
    "P(\\text{first}, \\text{adu}, \\text{m}) & = P(\\text{first}, \\text{adu}, \\text{m}|\\text{mort}) P(\\text{mort}) + P(\\text{first}, \\text{adu}, \\text{m}|\\text{surv}) p(\\text{surv})\n",
    "\\end{align}\n",
    "\n",
    "En se basant sur l'hypothèse d'indépendance de ΝB, nous avons:\n",
    "\n",
    "\\begin{align}\n",
    "P(\\text{first}, \\text{adu}, \\text{m}|\\text{mort}) P(\\text{mort}) + P(\\text{first}, \\text{adu}, \\text{m}|\\text{surv}) p(\\text{surv}) \n",
    "= &   \n",
    "P(\\text{first} |\\text{mort}) P(\\text{adu} |\\text{mort})  P(\\text{m} |\\text{mort})   P(\\text{mort}) + \\\\\n",
    "& P(\\text{first} |\\text{surv}) P(\\text{adu} |\\text{surv})  P(\\text{m} |\\text{surv})   P(\\text{surv})\n",
    "\\end{align}\n",
    "\n",
    "So\n",
    "\\begin{align}\n",
    "P(\\text{first}, \\text{adu}, \\text{m})  = & P(\\text{first} |\\text{mort}) P(\\text{adu} |\\text{mort})  P(\\text{m} |\\text{mort})   P(\\text{mort}) + \\\\\n",
    "& P(\\text{first} |\\text{surv}) P(\\text{adu} |\\text{surv})  P(\\text{m} |\\text{surv})   P(\\text{surv})\n",
    "\\end{align}\n",
    "\n",
    "le dénominateur est donc la somme de tous les nominateurs. \n",
    "\n",
    "Comme nous avons déjà vu comment calculer les nominateurs, il n'est pas trivial de calculer le dénominateur.  "
   ]
  },
  {
   "cell_type": "markdown",
   "id": "b4299a2c",
   "metadata": {},
   "source": [
    "Nous allons donc créer de jolis graphiques qui rassembleront tous les éléments mentionnés ci-dessus et qui apparaîtront dans le calcul suivant:\n",
    "\n",
    "\\begin{align}\n",
    " P(\\text{mort} |\\text{first}, \\text{adu}, \\text{m}) & =\\frac{P(\\text{first}, \\text{adu}, \\text{m}|\\text{mort}) P(\\text{mort})}{P(\\text{first}, \\text{adu}, \\text{m})} \\\\\n",
    " & = \\frac{P(\\text{first}|\\text{mort}) P(\\text{adu}|\\text{mort}) P(\\text{m}|\\text{mort}) P(\\text{mort})} {P(\\text{first}, \\text{adu}, \\text{m})}\n",
    " \\end{align}\n"
   ]
  },
  {
   "cell_type": "code",
   "id": "178c5e9b",
   "metadata": {
    "ExecuteTime": {
     "end_time": "2024-12-16T14:10:52.200932Z",
     "start_time": "2024-12-16T14:10:52.128516Z"
    }
   },
   "source": [
    "#P(mort|first, adu, m)\n",
    "\n",
    "#Examinons un instance de test particulier, par exemple le premier\n",
    "testData[1,]\n",
    "#et les probabilités prédites de mort et de surv\n",
    "pred1 <- predict(nb, testData[1,],type = \"raw\")\n",
    "pred1\n",
    "\n",
    "barplot(pred1, main=\"P(result|first, adu, m)\")\n",
    "\n",
    "points(x=c(1.25,1.25), y=c(0,pred1[1]), type=\"l\",col=\"darkred\")      #vertical line to indicate the probability of P(mort|first, adu, m)\n",
    "text(x=1.6,y=pred1[1]-0.02, labels=\"P(mort|first, adu, m)\",col=\"darkred\")   \n",
    "                                                                     \n"
   ],
   "outputs": [
    {
     "data": {
      "text/html": [
       "<table class=\"dataframe\">\n",
       "<caption>A data.frame: 1 × 4</caption>\n",
       "<thead>\n",
       "\t<tr><th></th><th scope=col>class</th><th scope=col>age</th><th scope=col>sex</th><th scope=col>result</th></tr>\n",
       "\t<tr><th></th><th scope=col>&lt;fct&gt;</th><th scope=col>&lt;fct&gt;</th><th scope=col>&lt;fct&gt;</th><th scope=col>&lt;fct&gt;</th></tr>\n",
       "</thead>\n",
       "<tbody>\n",
       "\t<tr><th scope=row>2</th><td>first</td><td>adu</td><td>m</td><td>surv</td></tr>\n",
       "</tbody>\n",
       "</table>\n"
      ],
      "text/markdown": "\nA data.frame: 1 × 4\n\n| <!--/--> | class &lt;fct&gt; | age &lt;fct&gt; | sex &lt;fct&gt; | result &lt;fct&gt; |\n|---|---|---|---|---|\n| 2 | first | adu | m | surv |\n\n",
      "text/latex": "A data.frame: 1 × 4\n\\begin{tabular}{r|llll}\n  & class & age & sex & result\\\\\n  & <fct> & <fct> & <fct> & <fct>\\\\\n\\hline\n\t2 & first & adu & m & surv\\\\\n\\end{tabular}\n",
      "text/plain": [
       "  class age sex result\n",
       "2 first adu m   surv  "
      ]
     },
     "metadata": {},
     "output_type": "display_data"
    },
    {
     "data": {
      "text/html": [
       "<table class=\"dataframe\">\n",
       "<caption>A matrix: 1 × 2 of type dbl</caption>\n",
       "<thead>\n",
       "\t<tr><th scope=col>mort</th><th scope=col>surv</th></tr>\n",
       "</thead>\n",
       "<tbody>\n",
       "\t<tr><td>0.5536861</td><td>0.4463139</td></tr>\n",
       "</tbody>\n",
       "</table>\n"
      ],
      "text/markdown": "\nA matrix: 1 × 2 of type dbl\n\n| mort | surv |\n|---|---|\n| 0.5536861 | 0.4463139 |\n\n",
      "text/latex": "A matrix: 1 × 2 of type dbl\n\\begin{tabular}{ll}\n mort & surv\\\\\n\\hline\n\t 0.5536861 & 0.4463139\\\\\n\\end{tabular}\n",
      "text/plain": [
       "     mort      surv     \n",
       "[1,] 0.5536861 0.4463139"
      ]
     },
     "metadata": {},
     "output_type": "display_data"
    },
    {
     "data": {
      "text/plain": [
       "Plot with title \"P(result|first, adu, m)\""
      ],
      "image/png": "[encoded data removed]"
     },
     "metadata": {
      "image/png": {
       "width": 420,
       "height": 420
      }
     },
     "output_type": "display_data"
    }
   ],
   "execution_count": 26
  },
  {
   "cell_type": "code",
   "id": "f465f634",
   "metadata": {
    "ExecuteTime": {
     "end_time": "2024-12-16T14:10:52.454214Z",
     "start_time": "2024-12-16T14:10:52.391505Z"
    }
   },
   "source": [
    "##P(class|result)\n",
    "nb$tables$class\n",
    "paste(\"P(first|mort):\", nb$tables$class[1,2])\n",
    "barplot(t(nb$tables$class),  main=\"P(class|result)\", legend=T)\n",
    "\n",
    "points(x=c(1.25,1.25), y=c(nb$tables$class[1,1],nb$tables$class[1,1]+nb$tables$class[1,2]), type=\"l\",col=\"darkred\")      #vertical line to indicate the probability of P(first|mort)\n",
    "text(x=1.45,y=nb$tables$class[1,1]+0.05, labels=\"P(first|mort)\",col=\"darkred\")   \n",
    " \n"
   ],
   "outputs": [
    {
     "data": {
      "text/plain": [
       "      class\n",
       "Y           crew     first    second     third\n",
       "  mort 0.4323570 0.1018131 0.1073919 0.3584379\n",
       "  surv 0.3185379 0.2924282 0.1409922 0.2480418"
      ]
     },
     "metadata": {},
     "output_type": "display_data"
    },
    {
     "data": {
      "text/html": [
       "'P(first|mort): 0.101813110181311'"
      ],
      "text/markdown": "'P(first|mort): 0.101813110181311'",
      "text/latex": "'P(first\\textbar{}mort): 0.101813110181311'",
      "text/plain": [
       "[1] \"P(first|mort): 0.101813110181311\""
      ]
     },
     "metadata": {},
     "output_type": "display_data"
    },
    {
     "data": {
      "text/plain": [
       "Plot with title \"P(class|result)\""
      ],
      "image/png": "[encoded data removed]"
     },
     "metadata": {
      "image/png": {
       "width": 420,
       "height": 420
      }
     },
     "output_type": "display_data"
    }
   ],
   "execution_count": 27
  },
  {
   "cell_type": "code",
   "id": "92b5fbf4",
   "metadata": {
    "ExecuteTime": {
     "end_time": "2024-12-16T14:10:52.676503Z",
     "start_time": "2024-12-16T14:10:52.616174Z"
    }
   },
   "source": [
    "##P(age|result)\n",
    "nb$tables$age\n",
    "paste(\"P(adu|mort):\", nb$tables$age[1,1])\n",
    "barplot(t(nb$tables$age),  main=\"P(age|result)\", legend=T)\n",
    "\n",
    "points(x=c(1.25,1.25), y=c(0,nb$tables$age[1,1]), type=\"l\",col=\"darkred\")      #vertical line to indicate the probability of P(adu|mort)\n",
    "text(x=1.45,y=0.4323570+0.05, labels=\"P(adu|mort)\",col=\"darkred\")   \n",
    " "
   ],
   "outputs": [
    {
     "data": {
      "text/plain": [
       "      age\n",
       "Y             adu        enf\n",
       "  mort 0.96513250 0.03486750\n",
       "  surv 0.92428198 0.07571802"
      ]
     },
     "metadata": {},
     "output_type": "display_data"
    },
    {
     "data": {
      "text/html": [
       "'P(adu|mort): 0.96513249651325'"
      ],
      "text/markdown": "'P(adu|mort): 0.96513249651325'",
      "text/latex": "'P(adu\\textbar{}mort): 0.96513249651325'",
      "text/plain": [
       "[1] \"P(adu|mort): 0.96513249651325\""
      ]
     },
     "metadata": {},
     "output_type": "display_data"
    },
    {
     "data": {
      "text/plain": [
       "Plot with title \"P(age|result)\""
      ],
      "image/png": "[encoded data removed]"
     },
     "metadata": {
      "image/png": {
       "width": 420,
       "height": 420
      }
     },
     "output_type": "display_data"
    }
   ],
   "execution_count": 28
  },
  {
   "cell_type": "code",
   "id": "05d3abde",
   "metadata": {
    "ExecuteTime": {
     "end_time": "2024-12-16T14:10:52.820136Z",
     "start_time": "2024-12-16T14:10:52.745769Z"
    }
   },
   "source": [
    "##P(sex|result)\n",
    "nb$tables$sex\n",
    "paste(\"P(m|mort):\", nb$tables$sex[1,2])\n",
    "barplot(t(nb$tables$sex), main=\"P(sex|result)\",legend=T)\n",
    "\n",
    "points(x=c(1.25,1.25), y=c(nb$tables$sex[1,1],nb$tables$sex[1,1]+nb$tables$sex[1,2]), type=\"l\",col=\"darkred\")      #vertical line to indicate the probability of P(m|mort)\n",
    "text(x=1.45,y=0.4323570+0.05, labels=\"P(m|mort)\",col=\"darkred\")   \n",
    "\n"
   ],
   "outputs": [
    {
     "data": {
      "text/plain": [
       "      sex\n",
       "Y               f          m\n",
       "  mort 0.07670851 0.92329149\n",
       "  surv 0.49347258 0.50652742"
      ]
     },
     "metadata": {},
     "output_type": "display_data"
    },
    {
     "data": {
      "text/html": [
       "'P(m|mort): 0.923291492329149'"
      ],
      "text/markdown": "'P(m|mort): 0.923291492329149'",
      "text/latex": "'P(m\\textbar{}mort): 0.923291492329149'",
      "text/plain": [
       "[1] \"P(m|mort): 0.923291492329149\""
      ]
     },
     "metadata": {},
     "output_type": "display_data"
    },
    {
     "data": {
      "text/plain": [
       "Plot with title \"P(sex|result)\""
      ],
      "image/png": "[encoded data removed]"
     },
     "metadata": {
      "image/png": {
       "width": 420,
       "height": 420
      }
     },
     "output_type": "display_data"
    }
   ],
   "execution_count": 29
  },
  {
   "cell_type": "code",
   "id": "1e43c4cf",
   "metadata": {
    "ExecuteTime": {
     "end_time": "2024-12-16T14:10:52.932116Z",
     "start_time": "2024-12-16T14:10:52.870413Z"
    }
   },
   "source": [
    "##P(result)\n",
    "barplot(prop.table(nb$apriori), main=\"P(result)\")\n",
    "\n",
    "points(x=c(1.25,1.25), y=c(0,prop.table(nb$apriori)[1]), type=\"l\",col=\"darkred\")      #vertical line to indicate the probability of P(mort)\n",
    "text(x=1.45,y=0.4323570+0.05, labels=\"P(mort)\")   \n"
   ],
   "outputs": [
    {
     "data": {
      "text/plain": [
       "Plot with title \"P(result)\""
      ],
      "image/png": "[encoded data removed]"
     },
     "metadata": {
      "image/png": {
       "width": 420,
       "height": 420
      }
     },
     "output_type": "display_data"
    }
   ],
   "execution_count": 30
  },
  {
   "cell_type": "code",
   "id": "5748ff55",
   "metadata": {
    "ExecuteTime": {
     "end_time": "2024-12-16T14:10:53.067969Z",
     "start_time": "2024-12-16T14:10:52.952831Z"
    }
   },
   "source": [
    "#so lets look at everything together\n",
    "\n",
    "#lets facilitate our lives and put them next to each other\n",
    "#par(mfrow = c(1, 5))\n",
    "\n",
    "layout_matrix <- matrix(c(1, 0, 2, 3, 4, 5), nrow=1)  \n",
    "layout(layout_matrix,widths=c(1.1,1.1,1.1,1.1,1.1))  \n",
    "\n",
    "\n",
    "#P(mort|first, adu, m) predicted probability\n",
    "#barplot(pred1, main=\"P(result|first, adu, m)\", ylim=c(0,1))\n",
    "barplot(pred1, main=\"P(result|first, adu, m)\", ylim=c(0,1))\n",
    "\n",
    "points(x=c(1.25,1.25), y=c(0,pred1[1]), type=\"l\",col=\"darkred\")      #vertical line to indicate the probability of P(mort|first, adu, m)\n",
    "text(x=1.6,y=pred1[1]-0.02, labels=\"P(mort|first, adu, m)\",col=\"darkred\")\n",
    "\n",
    "##P(class|result)\n",
    "nb$tables$class\n",
    "paste(\"P(first|mort):\", nb$tables$class[1,2])\n",
    "barplot(t(nb$tables$class),  main=\"P(class|result)\", legend=T, ylim=c(0,1))\n",
    "\n",
    "points(x=c(1.25,1.25), y=c(nb$tables$class[1,1],nb$tables$class[1,1]+nb$tables$class[1,2]), type=\"l\",col=\"darkred\")      #vertical line to indicate the probability of P(first|mort)\n",
    "text(x=1.45,y=nb$tables$class[1,1]+0.05, labels=\"P(first|mort)\",col=\"darkred\")   \n",
    " \n",
    "\n",
    "##P(age|result)\n",
    "nb$tables$age\n",
    "paste(\"P(adu|mort):\", nb$tables$age[1,1])\n",
    "barplot(t(nb$tables$age),  main=\"P(age|result)\", legend=T, ylim=c(0,1))\n",
    "\n",
    "points(x=c(1.25,1.25), y=c(0,nb$tables$age[1,1]), type=\"l\",col=\"darkred\")      #vertical line to indicate the probability of P(adu|mort)\n",
    "text(x=1.45,y=0.4323570+0.05, labels=\"P(adu|mort)\",col=\"darkred\")   \n",
    " \n",
    "##P(sex|result)\n",
    "nb$tables$sex\n",
    "paste(\"P(m|mort):\", nb$tables$sex[1,2])\n",
    "barplot(t(nb$tables$sex), main=\"P(sex|result)\",legend=T,ylim=c(0,1))\n",
    "\n",
    "points(x=c(1.25,1.25), y=c(nb$tables$sex[1,1],nb$tables$sex[1,1]+nb$tables$sex[1,2]), type=\"l\",col=\"darkred\")      #vertical line to indicate the probability of P(m|mort)\n",
    "text(x=1.45,y=0.4323570+0.05, labels=\"P(m|mort)\",col=\"darkred\")   \n",
    "\n",
    "##P(result)\n",
    "prop.table(nb$apriori)\n",
    "barplot(prop.table(nb$apriori), main=\"P(result)\", ylim=c(0,1))\n",
    "points(x=c(1.25,1.25), y=c(0,prop.table(nb$apriori)[1]), type=\"l\",col=\"darkred\")      #vertical line to indicate the probability of P(mort)\n",
    "text(x=1.45,y=0.4323570+0.05, labels=\"P(mort)\")   \n"
   ],
   "outputs": [
    {
     "data": {
      "text/plain": [
       "      class\n",
       "Y           crew     first    second     third\n",
       "  mort 0.4323570 0.1018131 0.1073919 0.3584379\n",
       "  surv 0.3185379 0.2924282 0.1409922 0.2480418"
      ]
     },
     "metadata": {},
     "output_type": "display_data"
    },
    {
     "data": {
      "text/html": [
       "'P(first|mort): 0.101813110181311'"
      ],
      "text/markdown": "'P(first|mort): 0.101813110181311'",
      "text/latex": "'P(first\\textbar{}mort): 0.101813110181311'",
      "text/plain": [
       "[1] \"P(first|mort): 0.101813110181311\""
      ]
     },
     "metadata": {},
     "output_type": "display_data"
    },
    {
     "data": {
      "text/plain": [
       "      age\n",
       "Y             adu        enf\n",
       "  mort 0.96513250 0.03486750\n",
       "  surv 0.92428198 0.07571802"
      ]
     },
     "metadata": {},
     "output_type": "display_data"
    },
    {
     "data": {
      "text/html": [
       "'P(adu|mort): 0.96513249651325'"
      ],
      "text/markdown": "'P(adu|mort): 0.96513249651325'",
      "text/latex": "'P(adu\\textbar{}mort): 0.96513249651325'",
      "text/plain": [
       "[1] \"P(adu|mort): 0.96513249651325\""
      ]
     },
     "metadata": {},
     "output_type": "display_data"
    },
    {
     "data": {
      "text/plain": [
       "      sex\n",
       "Y               f          m\n",
       "  mort 0.07670851 0.92329149\n",
       "  surv 0.49347258 0.50652742"
      ]
     },
     "metadata": {},
     "output_type": "display_data"
    },
    {
     "data": {
      "text/html": [
       "'P(m|mort): 0.923291492329149'"
      ],
      "text/markdown": "'P(m|mort): 0.923291492329149'",
      "text/latex": "'P(m\\textbar{}mort): 0.923291492329149'",
      "text/plain": [
       "[1] \"P(m|mort): 0.923291492329149\""
      ]
     },
     "metadata": {},
     "output_type": "display_data"
    },
    {
     "data": {
      "text/plain": [
       "Y\n",
       "     mort      surv \n",
       "0.6518182 0.3481818 "
      ]
     },
     "metadata": {},
     "output_type": "display_data"
    },
    {
     "data": {
      "text/plain": [
       "Plot with title \"P(result)\""
      ],
      "image/png": "[encoded data removed]"
     },
     "metadata": {
      "image/png": {
       "width": 420,
       "height": 420
      }
     },
     "output_type": "display_data"
    }
   ],
   "execution_count": 31
  },
  {
   "cell_type": "markdown",
   "id": "7e7f73ee",
   "metadata": {},
   "source": [
    "In the above graph we basically demonstrate: \n",
    "$$ P(\\text{mort} | \\text{first, adu, m}) \\propto {P(\\text{first}|\\text{mort}) P(\\text{adu}|\\text{mort}) P(\\text{m}|\\text{mort}) P(\\text{mort})}$$\n",
    "i.e. we do not show the computation of the denominator."
   ]
  },
  {
   "cell_type": "markdown",
   "id": "88a51007",
   "metadata": {},
   "source": [
    "## Some exercises"
   ]
  },
  {
   "cell_type": "markdown",
   "id": "6f130b1e",
   "metadata": {},
   "source": [
    "**Exercise** Train a naive bayes model on 70% of the titanic dataset. Extract and visualise from the model the following distributions\n",
    "* P(result)\n",
    "* P(age|result)\n",
    "* P(sex|result)\n",
    "* P(class|result)\n",
    "\n",
    "Use the above distributions to explain how the Naive Bayes model will compute the probability of mort and surv for the instance $\\mathbf x = (\\text{third}, \\text{enf}, \\text{f})$. "
   ]
  },
  {
   "cell_type": "code",
   "id": "c4e3ceee",
   "metadata": {
    "ExecuteTime": {
     "end_time": "2024-12-16T14:10:53.147514Z",
     "start_time": "2024-12-16T14:10:53.135437Z"
    }
   },
   "source": [
    "#code and comments here"
   ],
   "outputs": [],
   "execution_count": 32
  },
  {
   "cell_type": "markdown",
   "id": "1391ad01",
   "metadata": {},
   "source": [
    "**Exercise** Create a function that will receive a dataset (dataframe), the class index, a number of repetitions, and will do a train and test evaluation of naive bayes as many times indicated by the number of repetitions variable. The function should return the average of the estimated accuracies. Test your function on titanic and iris."
   ]
  },
  {
   "cell_type": "code",
   "id": "a8df352e",
   "metadata": {
    "ExecuteTime": {
     "end_time": "2024-12-16T14:10:53.196031Z",
     "start_time": "2024-12-16T14:10:53.183029Z"
    }
   },
   "source": [
    "#code here\n",
    "#input:\n",
    "# dataset:        a data frame with your data\n",
    "# classIndex:     the index of the class attribute\n",
    "# numRepetitions: how many times should we do the train and testing\n",
    "#output: average TBC (Taux de biens classes)\n",
    "evaluateNB <- function(dataset, classIndex, numRepetitions){\n",
    "    \n",
    "    #...\n",
    "    \n",
    "    TBC\n",
    "}"
   ],
   "outputs": [],
   "execution_count": 33
  }
 ],
 "metadata": {
  "kernelspec": {
   "display_name": "R",
   "language": "R",
   "name": "ir"
  },
  "language_info": {
   "codemirror_mode": "r",
   "file_extension": ".r",
   "mimetype": "text/x-r-source",
   "name": "R",
   "pygments_lexer": "r",
   "version": "4.2.1"
  }
 },
 "nbformat": 4,
 "nbformat_minor": 5
}
