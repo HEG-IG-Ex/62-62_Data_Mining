{
 "cells": [
  {
   "cell_type": "markdown",
   "id": "71f9d149",
   "metadata": {},
   "source": [
    "# Entraînement et évaluation de Naive Bayes (avec des attributs prédictifs quantitatives)"
   ]
  },
  {
   "cell_type": "markdown",
   "id": "2486efef",
   "metadata": {},
   "source": [
    "Comme d'habitude, nous travaillerons avec l'ensemble de données iris\n"
   ]
  },
  {
   "cell_type": "code",
   "id": "665cbe79",
   "metadata": {
    "ExecuteTime": {
     "end_time": "2024-12-22T17:09:18.275973Z",
     "start_time": "2024-12-22T17:09:18.256974Z"
    }
   },
   "source": [
    "#mettre le paquet Naive Bayes à disposition\n",
    "if (!requireNamespace(\"e1071\", quietly = TRUE)) {\n",
    "  install.packages(\"e1071\")\n",
    "}\n",
    "\n",
    "#for latex parsing of equations\n",
    "if (!requireNamespace(\"latex2exp\", quietly = TRUE)) {\n",
    "  install.packages(\"latex2exp\")\n",
    "}\n",
    "\n",
    "library(e1071)\n",
    "library(latex2exp)\n",
    "\n",
    "#read data\n",
    "# avec colClasses, nous contrôlons explicitement les types des différentes variables, \n",
    "# les valeurs qui nous intéressent le plus sont \n",
    "# factor: variables qualitatives\n",
    "# numeric: pour les variables quantitatives\n",
    "myData<- read.table(\"iris.csv\",header=T,sep=\",\",colClasses=c(\"numeric\", \"numeric\", \"numeric\", \"numeric\", \"factor\"))"
   ],
   "outputs": [
    {
     "name": "stderr",
     "output_type": "stream",
     "text": [
      "Your code contains a unicode char which cannot be displayed in your\n",
      "current locale and R will silently convert it to an escaped form when the\n",
      "R kernel executes this code. This can lead to subtle errors if you use\n",
      "such chars to do comparisons. For more information, please see\n",
      "https://github.com/IRkernel/repr/wiki/Problems-with-unicode-on-windows"
     ]
    }
   ],
   "execution_count": 92
  },
  {
   "cell_type": "code",
   "id": "51c95b83",
   "metadata": {
    "ExecuteTime": {
     "end_time": "2024-12-22T17:09:18.313555Z",
     "start_time": "2024-12-22T17:09:18.293502Z"
    }
   },
   "source": [
    "head(myData)\n",
    "dim(myData)"
   ],
   "outputs": [
    {
     "data": {
      "text/html": [
       "<table>\n",
       "<thead><tr><th scope=col>sepal_length</th><th scope=col>sepal_width</th><th scope=col>petal_length</th><th scope=col>petal_width</th><th scope=col>type</th></tr></thead>\n",
       "<tbody>\n",
       "\t<tr><td>5.1        </td><td>3.5        </td><td>1.4        </td><td>0.2        </td><td>Iris_setosa</td></tr>\n",
       "\t<tr><td>4.9        </td><td>3.0        </td><td>1.4        </td><td>0.2        </td><td>Iris_setosa</td></tr>\n",
       "\t<tr><td>4.7        </td><td>3.2        </td><td>1.3        </td><td>0.2        </td><td>Iris_setosa</td></tr>\n",
       "\t<tr><td>4.6        </td><td>3.1        </td><td>1.5        </td><td>0.2        </td><td>Iris_setosa</td></tr>\n",
       "\t<tr><td>5.0        </td><td>3.6        </td><td>1.4        </td><td>0.2        </td><td>Iris_setosa</td></tr>\n",
       "\t<tr><td>5.4        </td><td>3.9        </td><td>1.7        </td><td>0.4        </td><td>Iris_setosa</td></tr>\n",
       "</tbody>\n",
       "</table>\n"
      ],
      "text/markdown": "\n| sepal_length | sepal_width | petal_length | petal_width | type |\n|---|---|---|---|---|\n| 5.1         | 3.5         | 1.4         | 0.2         | Iris_setosa |\n| 4.9         | 3.0         | 1.4         | 0.2         | Iris_setosa |\n| 4.7         | 3.2         | 1.3         | 0.2         | Iris_setosa |\n| 4.6         | 3.1         | 1.5         | 0.2         | Iris_setosa |\n| 5.0         | 3.6         | 1.4         | 0.2         | Iris_setosa |\n| 5.4         | 3.9         | 1.7         | 0.4         | Iris_setosa |\n\n",
      "text/latex": "\\begin{tabular}{r|lllll}\n sepal\\_length & sepal\\_width & petal\\_length & petal\\_width & type\\\\\n\\hline\n\t 5.1           & 3.5           & 1.4           & 0.2           & Iris\\_setosa\\\\\n\t 4.9           & 3.0           & 1.4           & 0.2           & Iris\\_setosa\\\\\n\t 4.7           & 3.2           & 1.3           & 0.2           & Iris\\_setosa\\\\\n\t 4.6           & 3.1           & 1.5           & 0.2           & Iris\\_setosa\\\\\n\t 5.0           & 3.6           & 1.4           & 0.2           & Iris\\_setosa\\\\\n\t 5.4           & 3.9           & 1.7           & 0.4           & Iris\\_setosa\\\\\n\\end{tabular}\n",
      "text/plain": [
       "  sepal_length sepal_width petal_length petal_width type       \n",
       "1 5.1          3.5         1.4          0.2         Iris_setosa\n",
       "2 4.9          3.0         1.4          0.2         Iris_setosa\n",
       "3 4.7          3.2         1.3          0.2         Iris_setosa\n",
       "4 4.6          3.1         1.5          0.2         Iris_setosa\n",
       "5 5.0          3.6         1.4          0.2         Iris_setosa\n",
       "6 5.4          3.9         1.7          0.4         Iris_setosa"
      ]
     },
     "metadata": {},
     "output_type": "display_data"
    },
    {
     "data": {
      "text/html": [
       "<ol class=list-inline>\n",
       "\t<li>150</li>\n",
       "\t<li>5</li>\n",
       "</ol>\n"
      ],
      "text/markdown": "1. 150\n2. 5\n\n\n",
      "text/latex": "\\begin{enumerate*}\n\\item 150\n\\item 5\n\\end{enumerate*}\n",
      "text/plain": [
       "[1] 150   5"
      ]
     },
     "metadata": {},
     "output_type": "display_data"
    }
   ],
   "execution_count": 93
  },
  {
   "cell_type": "code",
   "id": "ed704231",
   "metadata": {
    "ExecuteTime": {
     "end_time": "2024-12-22T17:09:18.387206Z",
     "start_time": "2024-12-22T17:09:18.351206Z"
    }
   },
   "source": [
    "#créons l'ensemble de données d'apprentissage\n",
    "#utilizons 50% des données pour la apprentissage\n",
    "set.seed(1) #controlled randomness\n",
    "trainIndex <- sample(1:dim(myData)[1],size=0.5*dim(myData)[1])\n",
    "trainData <- myData[trainIndex,]\n",
    "print(\"Train data\")\n",
    "head(trainData)\n",
    "dim(trainData)\n",
    "\n",
    "#et utilisons les restantes pour créer l'ensemble de test\n",
    "testData <- myData[-trainIndex,]\n",
    "print(\"Test data\")\n",
    "head(testData)\n",
    "dim(testData)"
   ],
   "outputs": [
    {
     "name": "stderr",
     "output_type": "stream",
     "text": [
      "Your code contains a unicode char which cannot be displayed in your\n",
      "current locale and R will silently convert it to an escaped form when the\n",
      "R kernel executes this code. This can lead to subtle errors if you use\n",
      "such chars to do comparisons. For more information, please see\n",
      "https://github.com/IRkernel/repr/wiki/Problems-with-unicode-on-windows"
     ]
    },
    {
     "name": "stdout",
     "output_type": "stream",
     "text": [
      "[1] \"Train data\"\n"
     ]
    },
    {
     "data": {
      "text/html": [
       "<table>\n",
       "<thead><tr><th></th><th scope=col>sepal_length</th><th scope=col>sepal_width</th><th scope=col>petal_length</th><th scope=col>petal_width</th><th scope=col>type</th></tr></thead>\n",
       "<tbody>\n",
       "\t<tr><th scope=row>68</th><td>5.8            </td><td>2.7            </td><td>4.1            </td><td>1.0            </td><td>Iris_versicolor</td></tr>\n",
       "\t<tr><th scope=row>129</th><td>6.4            </td><td>2.8            </td><td>5.6            </td><td>2.1            </td><td>Iris_virginica </td></tr>\n",
       "\t<tr><th scope=row>43</th><td>4.4            </td><td>3.2            </td><td>1.3            </td><td>0.2            </td><td>Iris_setosa    </td></tr>\n",
       "\t<tr><th scope=row>14</th><td>4.3            </td><td>3.0            </td><td>1.1            </td><td>0.1            </td><td>Iris_setosa    </td></tr>\n",
       "\t<tr><th scope=row>51</th><td>7.0            </td><td>3.2            </td><td>4.7            </td><td>1.4            </td><td>Iris_versicolor</td></tr>\n",
       "\t<tr><th scope=row>85</th><td>5.4            </td><td>3.0            </td><td>4.5            </td><td>1.5            </td><td>Iris_versicolor</td></tr>\n",
       "</tbody>\n",
       "</table>\n"
      ],
      "text/markdown": "\n| <!--/--> | sepal_length | sepal_width | petal_length | petal_width | type |\n|---|---|---|---|---|---|\n| 68 | 5.8             | 2.7             | 4.1             | 1.0             | Iris_versicolor |\n| 129 | 6.4             | 2.8             | 5.6             | 2.1             | Iris_virginica  |\n| 43 | 4.4             | 3.2             | 1.3             | 0.2             | Iris_setosa     |\n| 14 | 4.3             | 3.0             | 1.1             | 0.1             | Iris_setosa     |\n| 51 | 7.0             | 3.2             | 4.7             | 1.4             | Iris_versicolor |\n| 85 | 5.4             | 3.0             | 4.5             | 1.5             | Iris_versicolor |\n\n",
      "text/latex": "\\begin{tabular}{r|lllll}\n  & sepal\\_length & sepal\\_width & petal\\_length & petal\\_width & type\\\\\n\\hline\n\t68 & 5.8               & 2.7               & 4.1               & 1.0               & Iris\\_versicolor\\\\\n\t129 & 6.4               & 2.8               & 5.6               & 2.1               & Iris\\_virginica \\\\\n\t43 & 4.4               & 3.2               & 1.3               & 0.2               & Iris\\_setosa    \\\\\n\t14 & 4.3               & 3.0               & 1.1               & 0.1               & Iris\\_setosa    \\\\\n\t51 & 7.0               & 3.2               & 4.7               & 1.4               & Iris\\_versicolor\\\\\n\t85 & 5.4               & 3.0               & 4.5               & 1.5               & Iris\\_versicolor\\\\\n\\end{tabular}\n",
      "text/plain": [
       "    sepal_length sepal_width petal_length petal_width type           \n",
       "68  5.8          2.7         4.1          1.0         Iris_versicolor\n",
       "129 6.4          2.8         5.6          2.1         Iris_virginica \n",
       "43  4.4          3.2         1.3          0.2         Iris_setosa    \n",
       "14  4.3          3.0         1.1          0.1         Iris_setosa    \n",
       "51  7.0          3.2         4.7          1.4         Iris_versicolor\n",
       "85  5.4          3.0         4.5          1.5         Iris_versicolor"
      ]
     },
     "metadata": {},
     "output_type": "display_data"
    },
    {
     "data": {
      "text/html": [
       "<ol class=list-inline>\n",
       "\t<li>75</li>\n",
       "\t<li>5</li>\n",
       "</ol>\n"
      ],
      "text/markdown": "1. 75\n2. 5\n\n\n",
      "text/latex": "\\begin{enumerate*}\n\\item 75\n\\item 5\n\\end{enumerate*}\n",
      "text/plain": [
       "[1] 75  5"
      ]
     },
     "metadata": {},
     "output_type": "display_data"
    },
    {
     "name": "stdout",
     "output_type": "stream",
     "text": [
      "[1] \"Test data\"\n"
     ]
    },
    {
     "data": {
      "text/html": [
       "<table>\n",
       "<thead><tr><th></th><th scope=col>sepal_length</th><th scope=col>sepal_width</th><th scope=col>petal_length</th><th scope=col>petal_width</th><th scope=col>type</th></tr></thead>\n",
       "<tbody>\n",
       "\t<tr><th scope=row>1</th><td>5.1        </td><td>3.5        </td><td>1.4        </td><td>0.2        </td><td>Iris_setosa</td></tr>\n",
       "\t<tr><th scope=row>3</th><td>4.7        </td><td>3.2        </td><td>1.3        </td><td>0.2        </td><td>Iris_setosa</td></tr>\n",
       "\t<tr><th scope=row>4</th><td>4.6        </td><td>3.1        </td><td>1.5        </td><td>0.2        </td><td>Iris_setosa</td></tr>\n",
       "\t<tr><th scope=row>5</th><td>5.0        </td><td>3.6        </td><td>1.4        </td><td>0.2        </td><td>Iris_setosa</td></tr>\n",
       "\t<tr><th scope=row>8</th><td>5.0        </td><td>3.4        </td><td>1.5        </td><td>0.2        </td><td>Iris_setosa</td></tr>\n",
       "\t<tr><th scope=row>9</th><td>4.4        </td><td>2.9        </td><td>1.4        </td><td>0.2        </td><td>Iris_setosa</td></tr>\n",
       "</tbody>\n",
       "</table>\n"
      ],
      "text/markdown": "\n| <!--/--> | sepal_length | sepal_width | petal_length | petal_width | type |\n|---|---|---|---|---|---|\n| 1 | 5.1         | 3.5         | 1.4         | 0.2         | Iris_setosa |\n| 3 | 4.7         | 3.2         | 1.3         | 0.2         | Iris_setosa |\n| 4 | 4.6         | 3.1         | 1.5         | 0.2         | Iris_setosa |\n| 5 | 5.0         | 3.6         | 1.4         | 0.2         | Iris_setosa |\n| 8 | 5.0         | 3.4         | 1.5         | 0.2         | Iris_setosa |\n| 9 | 4.4         | 2.9         | 1.4         | 0.2         | Iris_setosa |\n\n",
      "text/latex": "\\begin{tabular}{r|lllll}\n  & sepal\\_length & sepal\\_width & petal\\_length & petal\\_width & type\\\\\n\\hline\n\t1 & 5.1           & 3.5           & 1.4           & 0.2           & Iris\\_setosa\\\\\n\t3 & 4.7           & 3.2           & 1.3           & 0.2           & Iris\\_setosa\\\\\n\t4 & 4.6           & 3.1           & 1.5           & 0.2           & Iris\\_setosa\\\\\n\t5 & 5.0           & 3.6           & 1.4           & 0.2           & Iris\\_setosa\\\\\n\t8 & 5.0           & 3.4           & 1.5           & 0.2           & Iris\\_setosa\\\\\n\t9 & 4.4           & 2.9           & 1.4           & 0.2           & Iris\\_setosa\\\\\n\\end{tabular}\n",
      "text/plain": [
       "  sepal_length sepal_width petal_length petal_width type       \n",
       "1 5.1          3.5         1.4          0.2         Iris_setosa\n",
       "3 4.7          3.2         1.3          0.2         Iris_setosa\n",
       "4 4.6          3.1         1.5          0.2         Iris_setosa\n",
       "5 5.0          3.6         1.4          0.2         Iris_setosa\n",
       "8 5.0          3.4         1.5          0.2         Iris_setosa\n",
       "9 4.4          2.9         1.4          0.2         Iris_setosa"
      ]
     },
     "metadata": {},
     "output_type": "display_data"
    },
    {
     "data": {
      "text/html": [
       "<ol class=list-inline>\n",
       "\t<li>75</li>\n",
       "\t<li>5</li>\n",
       "</ol>\n"
      ],
      "text/markdown": "1. 75\n2. 5\n\n\n",
      "text/latex": "\\begin{enumerate*}\n\\item 75\n\\item 5\n\\end{enumerate*}\n",
      "text/plain": [
       "[1] 75  5"
      ]
     },
     "metadata": {},
     "output_type": "display_data"
    }
   ],
   "execution_count": 94
  },
  {
   "cell_type": "code",
   "id": "599e90f6",
   "metadata": {
    "ExecuteTime": {
     "end_time": "2024-12-22T17:09:18.521793Z",
     "start_time": "2024-12-22T17:09:18.504343Z"
    }
   },
   "source": [
    "#Train a Naive Bayes on myData.\n",
    "#The parameter:\n",
    "# formula=result~.\n",
    "#sets the target/class variable to be the type.\n",
    "#and use as predictive variables all the others\n",
    "#Entraîner un Naive Bayes sur myData.\n",
    "#Le paramètre :\n",
    "# formula=result~.\n",
    "#définit la variable cible/classe comme étant le result\n",
    "#et utilise comme variables prédictives toutes les autres variables\n",
    "nb<-naiveBayes(formula=type~.,data=trainData)"
   ],
   "outputs": [
    {
     "name": "stderr",
     "output_type": "stream",
     "text": [
      "Your code contains a unicode char which cannot be displayed in your\n",
      "current locale and R will silently convert it to an escaped form when the\n",
      "R kernel executes this code. This can lead to subtle errors if you use\n",
      "such chars to do comparisons. For more information, please see\n",
      "https://github.com/IRkernel/repr/wiki/Problems-with-unicode-on-windows"
     ]
    }
   ],
   "execution_count": 95
  },
  {
   "cell_type": "code",
   "id": "fdbfd49c",
   "metadata": {
    "ExecuteTime": {
     "end_time": "2024-12-22T17:09:18.571839Z",
     "start_time": "2024-12-22T17:09:18.558827Z"
    }
   },
   "source": [
    "#Voyons ce que nous avons dans le modèle\n",
    "nb"
   ],
   "outputs": [
    {
     "name": "stderr",
     "output_type": "stream",
     "text": [
      "Your code contains a unicode char which cannot be displayed in your\n",
      "current locale and R will silently convert it to an escaped form when the\n",
      "R kernel executes this code. This can lead to subtle errors if you use\n",
      "such chars to do comparisons. For more information, please see\n",
      "https://github.com/IRkernel/repr/wiki/Problems-with-unicode-on-windows"
     ]
    },
    {
     "data": {
      "text/plain": [
       "\n",
       "Naive Bayes Classifier for Discrete Predictors\n",
       "\n",
       "Call:\n",
       "naiveBayes.default(x = X, y = Y, laplace = laplace)\n",
       "\n",
       "A-priori probabilities:\n",
       "Y\n",
       "    Iris_setosa Iris_versicolor  Iris_virginica \n",
       "      0.3733333       0.2666667       0.3600000 \n",
       "\n",
       "Conditional probabilities:\n",
       "                 sepal_length\n",
       "Y                     [,1]      [,2]\n",
       "  Iris_setosa     4.978571 0.3541888\n",
       "  Iris_versicolor 5.975000 0.4540751\n",
       "  Iris_virginica  6.748148 0.6441275\n",
       "\n",
       "                 sepal_width\n",
       "Y                     [,1]      [,2]\n",
       "  Iris_setosa     3.414286 0.3960119\n",
       "  Iris_versicolor 2.810000 0.2174009\n",
       "  Iris_virginica  2.988889 0.3693376\n",
       "\n",
       "                 petal_length\n",
       "Y                     [,1]      [,2]\n",
       "  Iris_setosa     1.464286 0.2022362\n",
       "  Iris_versicolor 4.395000 0.4135533\n",
       "  Iris_virginica  5.637037 0.6245910\n",
       "\n",
       "                 petal_width\n",
       "Y                      [,1]      [,2]\n",
       "  Iris_setosa     0.2607143 0.1257254\n",
       "  Iris_versicolor 1.3400000 0.1788854\n",
       "  Iris_virginica  2.0296296 0.2700638\n"
      ]
     },
     "metadata": {},
     "output_type": "display_data"
    }
   ],
   "execution_count": 96
  },
  {
   "cell_type": "markdown",
   "id": "d1be9351",
   "metadata": {},
   "source": [
    "========================================================================\n",
    "\n",
    "Les composantes du modèle ont la signification/interprétation suivante :\n",
    "\n",
    "========================================================================\n",
    "\n",
    "```A-priori probabilities:\n",
    "Y\n",
    "    Iris_setosa Iris_versicolor  Iris_virginica       => Y=type, la variable cible\n",
    "      0.3733333       0.2666667       0.3600000       => P(type) = {P(setosa),P(versicolor),P(virginica)}\n",
    "\n",
    "Conditional probabilities:\n",
    "                 sepal_length\n",
    "Y                     [,1]      [,2]\n",
    "  Iris_setosa     4.978571 0.3541888                  => Moyenne, ecart-type de Sepal_length dans Setosa\n",
    "  Iris_versicolor 5.975000 0.4540751                  => Moyenne, ecart-type de Sepal_length dans Versicolor\n",
    "  Iris_virginica  6.748148 0.6441275                  => Moyenne, ecart-type de Sepal_length dans Virginica\n",
    "\n",
    "                 sepal_width\n",
    "Y                     [,1]      [,2]\n",
    "  Iris_setosa     3.414286 0.3960119                  => Moyenne, ecart-type de Sepal_width dans Setosa\n",
    "  Iris_versicolor 2.810000 0.2174009                  => Moyenne, ecart-type de Sepal_width dans Versicolor\n",
    "  Iris_virginica  2.988889 0.3693376                  => Moyenne, ecart-type de Sepal_width dans Virginica\n",
    "\n",
    "                 petal_length\n",
    "Y                     [,1]      [,2]\n",
    "  Iris_setosa     1.464286 0.2022362                  => etc... \n",
    "  Iris_versicolor 4.395000 0.4135533\n",
    "  Iris_virginica  5.637037 0.6245910\n",
    "\n",
    "                 petal_width\n",
    "Y                      [,1]      [,2]\n",
    "  Iris_setosa     0.2607143 0.1257254                 => etc...\n",
    "  Iris_versicolor 1.3400000 0.1788854\n",
    "  Iris_virginica  2.0296296 0.2700638\n",
    "  \n",
    "  ```\n"
   ]
  },
  {
   "cell_type": "markdown",
   "id": "2c45ce6b",
   "metadata": {},
   "source": [
    "Nous pouvons récupérer les différentes parties du modèle comme suit"
   ]
  },
  {
   "cell_type": "markdown",
   "id": "8ef2a9a9",
   "metadata": {},
   "source": [
    "**Remarque**: Comme nous le voyons (et nous nous y attendions), avec des attributs continus, nous nous appuierons sur leur moyenne et leur écart-type conditionnelle. Pour calculer la « probabilité » conditionnelle sachant la class, nous utiliserons maintenant la loi normale, dont la moyenne et l'ecart-type. \n",
    "\n",
    "Ainsi, si nous voulons calculer la P(petal_width | setosa ) pour une instance donnée, nous l' obtiendrons comme suit: \n",
    "\n",
    "\n",
    "$$\n",
    "N(x; \\mu, \\sigma^2) = \\frac{1}{\\sqrt{2 \\pi \\sigma^2}} \\exp\\left(-\\frac{(x - \\mu)^2}{2 \\sigma^2}\\right)\n",
    "$$\n",
    "\n",
    "Substituting values:\n",
    "\n",
    "$$\n",
    "N(\\text{petal\\_width}; \\mu_{\\text{petal\\_width|setosa}}, \\sigma^2_{\\text{petal\\_width|setosa}}) = \\frac{1}{\\sqrt{2 \\pi \\cdot 0.1257254^2}} \\exp\\left(-\\frac{(\\text{petal\\_width} - 0.2607143)^2}{2 \\cdot 0.1257254^2}\\right)\n",
    "$$\n",
    "\n",
    "\n",
    "Nous n'avons donc plus de tables de probabilités conditionnelles comme on avait pour les variables qualitatives, mais les moyennes et les écarts types conditionnels par classe que nous devons utiliser avec la densité gaussienne afin d'obtenir les probabilités conditionnelles dont nous avons besoin. "
   ]
  },
  {
   "cell_type": "code",
   "id": "04b9299b",
   "metadata": {
    "ExecuteTime": {
     "end_time": "2024-12-22T17:09:18.651946Z",
     "start_time": "2024-12-22T17:09:18.640344Z"
    }
   },
   "source": [
    "#récupérer les comptes de la variable cible\n",
    "nb$apriori"
   ],
   "outputs": [
    {
     "name": "stderr",
     "output_type": "stream",
     "text": [
      "Your code contains a unicode char which cannot be displayed in your\n",
      "current locale and R will silently convert it to an escaped form when the\n",
      "R kernel executes this code. This can lead to subtle errors if you use\n",
      "such chars to do comparisons. For more information, please see\n",
      "https://github.com/IRkernel/repr/wiki/Problems-with-unicode-on-windows"
     ]
    },
    {
     "data": {
      "text/plain": [
       "Y\n",
       "    Iris_setosa Iris_versicolor  Iris_virginica \n",
       "             28              20              27 "
      ]
     },
     "metadata": {},
     "output_type": "display_data"
    }
   ],
   "execution_count": 97
  },
  {
   "cell_type": "code",
   "id": "42d70270",
   "metadata": {
    "ExecuteTime": {
     "end_time": "2024-12-22T17:09:18.722577Z",
     "start_time": "2024-12-22T17:09:18.703836Z"
    }
   },
   "source": [
    "#récupérer les \"propabilités conditionnelles\" étant donné la variable cible, cad P(x|y)\n",
    "# * propabilités conditionnelles pour les attributs qualitatifs (titanic)\n",
    "# * moyennes et écarts types conditionnels de classe pour les attributs quantitatifs (iris)\n",
    "\n",
    "nb$tables"
   ],
   "outputs": [
    {
     "name": "stderr",
     "output_type": "stream",
     "text": [
      "Your code contains a unicode char which cannot be displayed in your\n",
      "current locale and R will silently convert it to an escaped form when the\n",
      "R kernel executes this code. This can lead to subtle errors if you use\n",
      "such chars to do comparisons. For more information, please see\n",
      "https://github.com/IRkernel/repr/wiki/Problems-with-unicode-on-windows"
     ]
    },
    {
     "data": {
      "text/html": [
       "<dl>\n",
       "\t<dt>$sepal_length</dt>\n",
       "\t\t<dd><table>\n",
       "<tbody>\n",
       "\t<tr><th scope=row>Iris_setosa</th><td>4.978571 </td><td>0.3541888</td></tr>\n",
       "\t<tr><th scope=row>Iris_versicolor</th><td>5.975000 </td><td>0.4540751</td></tr>\n",
       "\t<tr><th scope=row>Iris_virginica</th><td>6.748148 </td><td>0.6441275</td></tr>\n",
       "</tbody>\n",
       "</table>\n",
       "</dd>\n",
       "\t<dt>$sepal_width</dt>\n",
       "\t\t<dd><table>\n",
       "<tbody>\n",
       "\t<tr><th scope=row>Iris_setosa</th><td>3.414286 </td><td>0.3960119</td></tr>\n",
       "\t<tr><th scope=row>Iris_versicolor</th><td>2.810000 </td><td>0.2174009</td></tr>\n",
       "\t<tr><th scope=row>Iris_virginica</th><td>2.988889 </td><td>0.3693376</td></tr>\n",
       "</tbody>\n",
       "</table>\n",
       "</dd>\n",
       "\t<dt>$petal_length</dt>\n",
       "\t\t<dd><table>\n",
       "<tbody>\n",
       "\t<tr><th scope=row>Iris_setosa</th><td>1.464286 </td><td>0.2022362</td></tr>\n",
       "\t<tr><th scope=row>Iris_versicolor</th><td>4.395000 </td><td>0.4135533</td></tr>\n",
       "\t<tr><th scope=row>Iris_virginica</th><td>5.637037 </td><td>0.6245910</td></tr>\n",
       "</tbody>\n",
       "</table>\n",
       "</dd>\n",
       "\t<dt>$petal_width</dt>\n",
       "\t\t<dd><table>\n",
       "<tbody>\n",
       "\t<tr><th scope=row>Iris_setosa</th><td>0.2607143</td><td>0.1257254</td></tr>\n",
       "\t<tr><th scope=row>Iris_versicolor</th><td>1.3400000</td><td>0.1788854</td></tr>\n",
       "\t<tr><th scope=row>Iris_virginica</th><td>2.0296296</td><td>0.2700638</td></tr>\n",
       "</tbody>\n",
       "</table>\n",
       "</dd>\n",
       "</dl>\n"
      ],
      "text/markdown": "$sepal_length\n:   \n| Iris_setosa | 4.978571  | 0.3541888 |\n| Iris_versicolor | 5.975000  | 0.4540751 |\n| Iris_virginica | 6.748148  | 0.6441275 |\n\n\n$sepal_width\n:   \n| Iris_setosa | 3.414286  | 0.3960119 |\n| Iris_versicolor | 2.810000  | 0.2174009 |\n| Iris_virginica | 2.988889  | 0.3693376 |\n\n\n$petal_length\n:   \n| Iris_setosa | 1.464286  | 0.2022362 |\n| Iris_versicolor | 4.395000  | 0.4135533 |\n| Iris_virginica | 5.637037  | 0.6245910 |\n\n\n$petal_width\n:   \n| Iris_setosa | 0.2607143 | 0.1257254 |\n| Iris_versicolor | 1.3400000 | 0.1788854 |\n| Iris_virginica | 2.0296296 | 0.2700638 |\n\n\n\n\n",
      "text/latex": "\\begin{description}\n\\item[\\$sepal\\_length] \\begin{tabular}{r|ll}\n\tIris\\_setosa & 4.978571  & 0.3541888\\\\\n\tIris\\_versicolor & 5.975000  & 0.4540751\\\\\n\tIris\\_virginica & 6.748148  & 0.6441275\\\\\n\\end{tabular}\n\n\\item[\\$sepal\\_width] \\begin{tabular}{r|ll}\n\tIris\\_setosa & 3.414286  & 0.3960119\\\\\n\tIris\\_versicolor & 2.810000  & 0.2174009\\\\\n\tIris\\_virginica & 2.988889  & 0.3693376\\\\\n\\end{tabular}\n\n\\item[\\$petal\\_length] \\begin{tabular}{r|ll}\n\tIris\\_setosa & 1.464286  & 0.2022362\\\\\n\tIris\\_versicolor & 4.395000  & 0.4135533\\\\\n\tIris\\_virginica & 5.637037  & 0.6245910\\\\\n\\end{tabular}\n\n\\item[\\$petal\\_width] \\begin{tabular}{r|ll}\n\tIris\\_setosa & 0.2607143 & 0.1257254\\\\\n\tIris\\_versicolor & 1.3400000 & 0.1788854\\\\\n\tIris\\_virginica & 2.0296296 & 0.2700638\\\\\n\\end{tabular}\n\n\\end{description}\n",
      "text/plain": [
       "$sepal_length\n",
       "                 sepal_length\n",
       "Y                     [,1]      [,2]\n",
       "  Iris_setosa     4.978571 0.3541888\n",
       "  Iris_versicolor 5.975000 0.4540751\n",
       "  Iris_virginica  6.748148 0.6441275\n",
       "\n",
       "$sepal_width\n",
       "                 sepal_width\n",
       "Y                     [,1]      [,2]\n",
       "  Iris_setosa     3.414286 0.3960119\n",
       "  Iris_versicolor 2.810000 0.2174009\n",
       "  Iris_virginica  2.988889 0.3693376\n",
       "\n",
       "$petal_length\n",
       "                 petal_length\n",
       "Y                     [,1]      [,2]\n",
       "  Iris_setosa     1.464286 0.2022362\n",
       "  Iris_versicolor 4.395000 0.4135533\n",
       "  Iris_virginica  5.637037 0.6245910\n",
       "\n",
       "$petal_width\n",
       "                 petal_width\n",
       "Y                      [,1]      [,2]\n",
       "  Iris_setosa     0.2607143 0.1257254\n",
       "  Iris_versicolor 1.3400000 0.1788854\n",
       "  Iris_virginica  2.0296296 0.2700638\n"
      ]
     },
     "metadata": {},
     "output_type": "display_data"
    }
   ],
   "execution_count": 98
  },
  {
   "cell_type": "markdown",
   "id": "d5b8d218",
   "metadata": {},
   "source": [
    "Examinons donc de plus près l'une de ces tables, par exemple ```nb$tables$petal_width```. Ce tableau contient tout ce dont nous avons besoin pour construire les trois distributions conditionnelles $P(\\text{petal_width}|\\text{setosa})$, $P(\\text{petal_width}|\\text{versicolor})$, $P(\\text{petal_width}|\\text{virginica})$. Construisons-les donc."
   ]
  },
  {
   "cell_type": "code",
   "id": "0dd4baef",
   "metadata": {
    "ExecuteTime": {
     "end_time": "2024-12-22T17:09:19.238027Z",
     "start_time": "2024-12-22T17:09:18.766374Z"
    }
   },
   "source": [
    "#lets draw the three conditional distributions\n",
    "\n",
    "#dnorm is the density function of a normal distribution with mean=0 and sd=1\n",
    "#curve draws the dnorm function from=minimum of petal width+some epsillo to=maximum of petal width + some epsillon, \n",
    "#                               the epsillon is there to have a range that includes all the possible values of petal_width\n",
    "epsillon <- 0.7*(abs(min(myData[,4])-max(myData[,4])))\n",
    "\n",
    "#1. P(petal_width | setosa), using the means and the standard deviations that NB has already computed\n",
    "m<-nb$tables$petal_width[1,1] #retrieve the mean of petal_width in setosa\n",
    "s<-nb$tables$petal_width[1,2] #retrieve the std of petal_width in setosa\n",
    "curve(dnorm(x,mean=m, sd=s), from=min(myData[,4])-epsillon, to=max(myData[,4])+epsillon, col=2, lty=2,lwd=2, ylab=\"Density\", main=\"p(petal_width|setosa)\", xlab=\"petal_witdth\")\n",
    "text(x=0.5,y=3, labels=TeX(\"$N(z;\\\\mu_{setosa},\\\\sigma_{setosa}^2)=\\\\frac{1}{\\\\sqrt{2 \\\\pi \\\\sigma_{setosa}^2}} \\\\exp{-\\\\frac{(z - \\\\mu_{setosa})^2}{2\\\\sigma_{setosa}^2}}$\") )\n",
    "labelForMeanStd <- paste(\"$\\\\mu_{setosa}=\",m, \"\\\\ \\\\ \\\\ \\\\ \\\\sigma_{setosa}=\",s,\",$\")\n",
    "text(x=0.4,y=2.6, labels=TeX(labelForMeanStd))\n",
    "\n",
    "#2. P(petal_width | versicolor), using the means and the standard deviations that NB has already computed\n",
    "m<-nb$tables$petal_width[2,1] #retrieve the mean of petal_width in versicolor\n",
    "s<-nb$tables$petal_width[2,2] #retrieve the std of petal_width in versicolor\n",
    "curve(dnorm(x,mean=m, sd=s), from=min(myData[,4])-epsillon, to=max(myData[,4])+epsillon, col=3, lty=2,lwd=2, ylab=\"Density\", main=\"p(petal_width|versicolor)\", xlab=\"petal_width\")\n",
    "text(x=0.5,y=2, labels=TeX(\"$N(z;\\\\mu_{versicolor},\\\\sigma_{versicolor}^2)=\\\\frac{1}{\\\\sqrt{2 \\\\pi \\\\sigma_{versicolor}^2}} \\\\exp{-\\\\frac{(z - \\\\mu_{versicolor})^2}{2\\\\sigma_{versicolor}^2}}$\") )\n",
    "labelForMeanStd <- paste(\"$\\\\mu_{versicolor}=\",m, \"\\\\ \\\\ \\\\ \\\\ \\\\sigma_{versicilor}=\",s,\",$\")\n",
    "text(x=0.1,y=1.7, labels=TeX(labelForMeanStd))\n",
    "\n",
    "\n",
    "#2. P(petal_width | versicolor), using the means and the standard deviations that NB has already computed\n",
    "m<-nb$tables$petal_width[3,1] #retrieve the mean of petal_width in virginica\n",
    "s<-nb$tables$petal_width[3,2] #retrieve the std of petal_width in virginica\n",
    "curve(dnorm(x,mean=m, sd=s), from=min(myData[,4])-epsillon, to=max(myData[,4])+epsillon, col=4, lty=2,lwd=2, ylab=\"Density\", main=\"p(petal_width|virginica)\", xlab=\"petal_width\")\n",
    "text(x=0.5,y=1.4, labels=TeX(\"$N(z;\\\\mu_{virginica},\\\\sigma_{virginica}^2)=\\\\frac{1}{\\\\sqrt{2 \\\\pi \\\\sigma_{virginica}^2}} \\\\exp{-\\\\frac{(z - \\\\mu_{virginica})^2}{2\\\\sigma_{virginica}^2}}$\") )\n",
    "labelForMeanStd <- paste(\"$\\\\mu_{virginica}=\",m, \"\\\\ \\\\ \\\\ \\\\ \\\\sigma_{virginica}=\",s,\",$\")\n",
    "text(x=0.4,y=1.2, labels=TeX(labelForMeanStd))\n"
   ],
   "outputs": [
    {
     "data": {
      "text/plain": [
       "Plot with title \"p(petal_width|setosa)\""
      ],
      "image/png": "[encoded data removed]"
     },
     "metadata": {},
     "output_type": "display_data"
    },
    {
     "data": {
      "text/plain": [
       "Plot with title \"p(petal_width|versicolor)\""
      ],
      "image/png": "[encoded data removed]"
     },
     "metadata": {},
     "output_type": "display_data"
    },
    {
     "data": {
      "text/plain": [
       "Plot with title \"p(petal_width|virginica)\""
      ],
      "image/png": "[encoded data removed]"
     },
     "metadata": {},
     "output_type": "display_data"
    }
   ],
   "execution_count": 99
  },
  {
   "cell_type": "markdown",
   "id": "a6504cd7",
   "metadata": {},
   "source": [
    "Nous pouvons considérer que ces trois distributions conditionnelles correspondent aux tables de distribution conditionnelle que nous avions dans le cas de Titanic, par exemple les distributions conditionnelles de l'attribut âge compte tenu du résultat, $P(\\text{age}|\\text{result})$, qui étaient les suivantes\n",
    "\n",
    "```\n",
    "P(age|result)\n",
    "      age\n",
    "Y             adu        enf\n",
    "  mort 0.96513250 0.03486750\n",
    "  surv 0.92428198 0.07571802\n",
    "  ```\n",
    "  \n",
    "<img src=\"P.age.given.result.png\" alt=\"P(age|result)\"  width=\"300\" height=\"200\">\n",
    "\n",
    "Nous pouvons considérer chacune des barres comme l'équivalent des distributions conditionnelles que nous avons tracées ci-dessus pour chacune des classes. Dans le cas des attributs qualitatifs, les tableaux nous donnent directement la probabilité d'une valeur particulière, tandis que dans le cas des attributs quantitatifs, nous calculons cette probabilité à l'aide de la distribution gaussienne. "
   ]
  },
  {
   "cell_type": "markdown",
   "id": "b4f96538",
   "metadata": {},
   "source": [
    "Ainsi, dans le cas d'attributs quantitatifs, nous devons utiliser la densité gaussienne pour calculer la probabilité de l'état. On peut se demander dans quelle mesure cette probabilité est exacte. La réponse dépend de la pertinence de l'hypothèse d'une distribution gaussienne. Nous pouvons vérifier cette hypothèse en traçant la distribution réelle des données, en utilisant les histogrammes et en les comparant aux densités respectives. C'est ce que nous allons faire. "
   ]
  },
  {
   "cell_type": "code",
   "id": "91d976a5",
   "metadata": {
    "ExecuteTime": {
     "end_time": "2024-12-22T17:09:19.350049Z",
     "start_time": "2024-12-22T17:09:19.247655Z"
    }
   },
   "source": [
    "#the code is more or less the same as above where we draw the conditional distributions as these are assumed\n",
    "#by the naive bayes model to be Gaussians, but now we also add the empirical estimates of these distributions\n",
    "#as there are given by the data and the respective histograms.\n",
    "\n",
    "#breaks for the histrograms\n",
    "minX <- min(myData[,4])\n",
    "maxX <- max(myData[,4])\n",
    "breaks = seq(from = minX, to = maxX, length.out=20)\n",
    "\n",
    "\n",
    "#lets draw the three conditional distributions\n",
    "\n",
    "#dnorm is the density function of a normal distribution with mean=0 and sd=1\n",
    "#curve draws the dnorm function from=minimum of petal width+some epsillo to=maximum of petal width + some epsillon, \n",
    "#                               the epsillon is there to have a range that includes all the possible values of petal_width\n",
    "epsillon <- 0.7*(abs(min(myData[,4])-max(myData[,4])))\n",
    "\n",
    "#1. P(petal_width | setosa), using the means and the standard deviations that NB has already computed\n",
    "m<-nb$tables$petal_width[1,1] #retrieve the mean of petal_width in setosa\n",
    "s<-nb$tables$petal_width[1,2] #retrieve the std of petal_width in setosa\n",
    "curve(dnorm(x,mean=m, sd=s), from=min(myData[,4])-epsillon, to=max(myData[,4])+epsillon, col=2, lty=2,lwd=2, ylab=\"Density\", main=\"p(petal_width|setosa)\", xlab=\"petal_witdth\", ylim=c(0,6))\n",
    "#text(x=-2,y=1.5, labels=TeX(\"$N(\\\\mu_{setosa},\\\\sigma_{setosa}^2)=\\\\frac{1}{\\\\sqrt{2 \\\\pi \\\\sigma_{setosa}^2}} \\\\exp{-\\\\frac{(z - \\\\mu_{setosa})^2}{2\\\\sigma_{setosa}^2}}$\") )\n",
    "#labelForMeanStd <- paste(\"$\\\\mu_{setosa}=\",m, \"\\\\ \\\\ \\\\ \\\\ \\\\sigma_{setosa}=\",s,\",$\")\n",
    "#text(x=-2.2,y=1.3, labels=TeX(labelForMeanStd))\n",
    "hist(myData[myData[,5]==\"Iris_setosa\",4],breaks=breaks, freq=FALSE, add=TRUE)\n",
    "\n",
    "\n",
    "#2. P(petal_width | versicolor), using the means and the standard deviations that NB has already computed\n",
    "m<-nb$tables$petal_width[2,1] #retrieve the mean of petal_width in versicolor\n",
    "s<-nb$tables$petal_width[2,2] #retrieve the std of petal_width in versicolor\n",
    "curve(dnorm(x,mean=m, sd=s), from=min(myData[,4])-epsillon, to=max(myData[,4])+epsillon, col=3, lty=2,lwd=2, ylab=\"Density\", main=\"p(petal_width|versicolor)\", xlab=\"petal_width\", ylim=c(0,4.5))\n",
    "#text(x=-1.2,y=0.28, labels=TeX(\"$N(\\\\mu_{versicolor},\\\\sigma_{versicolor}^2)=\\\\frac{1}{\\\\sqrt{2 \\\\pi \\\\sigma_{versicolor}^2}} \\\\exp{-\\\\frac{(z - \\\\mu_{versicolor})^2}{2\\\\sigma_{versicolor}^2}}$\") )\n",
    "#labelForMeanStd <- paste(\"$\\\\mu_{versicolor}=\",m, \"\\\\ \\\\ \\\\ \\\\ \\\\sigma_{versicilor}=\",s,\",$\")\n",
    "#text(x=-3,y=0.25, labels=TeX(labelForMeanStd))\n",
    "hist(myData[myData[,5]==\"Iris_versicolor\",4],breaks=breaks, freq=FALSE, add=TRUE)\n",
    "\n",
    "\n",
    "#3. P(petal_width | versicolor), using the means and the standard deviations that NB has already computed\n",
    "m<-nb$tables$petal_width[3,1] #retrieve the mean of petal_width in virginica\n",
    "s<-nb$tables$petal_width[3,2] #retrieve the std of petal_width in virginica\n",
    "curve(dnorm(x,mean=m, sd=s), from=min(myData[,4])-epsillon, to=max(myData[,4])+epsillon, col=4, lty=2,lwd=2, ylab=\"Density\", main=\"p(petal_width|virginica)\", xlab=\"petal_width\", ylim=c(0,4.5))\n",
    "#text(x=-1.2,y=0.18, labels=TeX(\"$N(\\\\mu_{virginica},\\\\sigma_{virginica}^2)=\\\\frac{1}{\\\\sqrt{2 \\\\pi \\\\sigma_{virginica}^2}} \\\\exp{-\\\\frac{(z - \\\\mu_{virginica})^2}{2\\\\sigma_{virginica}^2}}$\") )\n",
    "#labelForMeanStd <- paste(\"$\\\\mu_{virginica}=\",m, \"\\\\ \\\\ \\\\ \\\\ \\\\sigma_{virginica}=\",s,\",$\")\n",
    "#text(x=-2.9,y=0.16, labels=TeX(labelForMeanStd))\n",
    "hist(myData[myData[,5]==\"Iris_virginica\",4],breaks=breaks, freq=FALSE, add=TRUE)"
   ],
   "outputs": [
    {
     "data": {
      "text/plain": [
       "Plot with title \"p(petal_width|setosa)\""
      ],
      "image/png": "[encoded data removed]"
     },
     "metadata": {},
     "output_type": "display_data"
    },
    {
     "data": {
      "text/plain": [
       "Plot with title \"p(petal_width|versicolor)\""
      ],
      "image/png": "[encoded data removed]"
     },
     "metadata": {},
     "output_type": "display_data"
    },
    {
     "data": {
      "text/plain": [
       "Plot with title \"p(petal_width|virginica)\""
      ],
      "image/png": "[encoded data removed]"
     },
     "metadata": {},
     "output_type": "display_data"
    }
   ],
   "execution_count": 100
  },
  {
   "cell_type": "markdown",
   "id": "d65da46f",
   "metadata": {},
   "source": [
    "Comme le montrent les figures, l'hypothèse d'une distribution gaussienne n'est pas très précise/appropriée. "
   ]
  },
  {
   "cell_type": "markdown",
   "id": "01705189",
   "metadata": {},
   "source": [
    "## évaluation du modèle"
   ]
  },
  {
   "cell_type": "markdown",
   "id": "0c45abd3",
   "metadata": {},
   "source": [
    "actement la même logique que pour les attributs qualitatifs, rien ne change."
   ]
  },
  {
   "cell_type": "code",
   "id": "653c362d",
   "metadata": {
    "ExecuteTime": {
     "end_time": "2024-12-22T17:09:19.394416Z",
     "start_time": "2024-12-22T17:09:19.372628Z"
    }
   },
   "source": [
    "#testons le modèle entraîné sur l'ensemble de test que nous avons créé\n",
    "#predict prend en entrée :\n",
    "# * le modèle (nb)\n",
    "# * l'ensemble de test (testData)\n",
    "#et produit une prédiction pour chaque instance de test\n",
    "predictions <- predict(nb, testData)\n",
    "numCorrect <- sum(diag(table(testData[,5],predictions)))\n",
    "TBC <- numCorrect/nrow(testData)\n",
    "TBC"
   ],
   "outputs": [
    {
     "name": "stderr",
     "output_type": "stream",
     "text": [
      "Your code contains a unicode char which cannot be displayed in your\n",
      "current locale and R will silently convert it to an escaped form when the\n",
      "R kernel executes this code. This can lead to subtle errors if you use\n",
      "such chars to do comparisons. For more information, please see\n",
      "https://github.com/IRkernel/repr/wiki/Problems-with-unicode-on-windows"
     ]
    },
    {
     "data": {
      "text/html": [
       "0.946666666666667"
      ],
      "text/markdown": "0.946666666666667",
      "text/latex": "0.946666666666667",
      "text/plain": [
       "[1] 0.9466667"
      ]
     },
     "metadata": {},
     "output_type": "display_data"
    }
   ],
   "execution_count": 101
  },
  {
   "cell_type": "markdown",
   "id": "1694e02d",
   "metadata": {},
   "source": [
    "### Partie théorique de Naive Bayes : comprendre comment le modèle classifie/calcule les probabilités"
   ]
  },
  {
   "cell_type": "markdown",
   "id": "f44498ff",
   "metadata": {},
   "source": [
    "La logique est exactement la même que dans le cas des attributs quantitatifs ; la seule différence réside dans la manière dont les probabilités conditionnelles sont calculées. Comme nous l'avons déjà dit dans le cas des attributs quantitatifs, nous ne disposons pas de tables de probabilités conditionnelles par classe, mais de moyennes et d'écarts types conditionnels par classe que nous utilisons avec la distribution gaussienne pour obtenir les probabilités conditionnelles par classe"
   ]
  },
  {
   "cell_type": "code",
   "id": "f27319c2",
   "metadata": {
    "ExecuteTime": {
     "end_time": "2024-12-22T17:09:19.443715Z",
     "start_time": "2024-12-22T17:09:19.421695Z"
    }
   },
   "source": [
    "#Examinons un instance de test particulier, par exemple le premier\n",
    "testInstance<-testData[1,]\n",
    "testInstance\n",
    "#et les probabilités prédites de mort et de surv\n",
    "pred1 <- predict(nb, testData[1,],type = \"raw\")\n",
    "pred1"
   ],
   "outputs": [
    {
     "name": "stderr",
     "output_type": "stream",
     "text": [
      "Your code contains a unicode char which cannot be displayed in your\n",
      "current locale and R will silently convert it to an escaped form when the\n",
      "R kernel executes this code. This can lead to subtle errors if you use\n",
      "such chars to do comparisons. For more information, please see\n",
      "https://github.com/IRkernel/repr/wiki/Problems-with-unicode-on-windows"
     ]
    },
    {
     "data": {
      "text/html": [
       "<table>\n",
       "<thead><tr><th scope=col>sepal_length</th><th scope=col>sepal_width</th><th scope=col>petal_length</th><th scope=col>petal_width</th><th scope=col>type</th></tr></thead>\n",
       "<tbody>\n",
       "\t<tr><td>5.1        </td><td>3.5        </td><td>1.4        </td><td>0.2        </td><td>Iris_setosa</td></tr>\n",
       "</tbody>\n",
       "</table>\n"
      ],
      "text/markdown": "\n| sepal_length | sepal_width | petal_length | petal_width | type |\n|---|---|---|---|---|\n| 5.1         | 3.5         | 1.4         | 0.2         | Iris_setosa |\n\n",
      "text/latex": "\\begin{tabular}{r|lllll}\n sepal\\_length & sepal\\_width & petal\\_length & petal\\_width & type\\\\\n\\hline\n\t 5.1           & 3.5           & 1.4           & 0.2           & Iris\\_setosa\\\\\n\\end{tabular}\n",
      "text/plain": [
       "  sepal_length sepal_width petal_length petal_width type       \n",
       "1 5.1          3.5         1.4          0.2         Iris_setosa"
      ]
     },
     "metadata": {},
     "output_type": "display_data"
    },
    {
     "data": {
      "text/html": [
       "<table>\n",
       "<thead><tr><th scope=col>Iris_setosa</th><th scope=col>Iris_versicolor</th><th scope=col>Iris_virginica</th></tr></thead>\n",
       "<tbody>\n",
       "\t<tr><td>1           </td><td>2.813576e-24</td><td>1.755063e-23</td></tr>\n",
       "</tbody>\n",
       "</table>\n"
      ],
      "text/markdown": "\n| Iris_setosa | Iris_versicolor | Iris_virginica |\n|---|---|---|\n| 1            | 2.813576e-24 | 1.755063e-23 |\n\n",
      "text/latex": "\\begin{tabular}{lll}\n Iris\\_setosa & Iris\\_versicolor & Iris\\_virginica\\\\\n\\hline\n\t 1            & 2.813576e-24 & 1.755063e-23\\\\\n\\end{tabular}\n",
      "text/plain": [
       "     Iris_setosa Iris_versicolor Iris_virginica\n",
       "[1,] 1           2.813576e-24    1.755063e-23  "
      ]
     },
     "metadata": {},
     "output_type": "display_data"
    }
   ],
   "execution_count": 102
  },
  {
   "cell_type": "code",
   "id": "d5b17188",
   "metadata": {
    "ExecuteTime": {
     "end_time": "2024-12-22T17:09:19.501489Z",
     "start_time": "2024-12-22T17:09:19.467144Z"
    }
   },
   "source": [
    "#visualisons la distribution des probabilites de result sachant l' instance: first, adu, m\n",
    "#cad la distribution a posteriori: de P(result|first, adu, m)\n",
    "barplot(pred1, main=paste(\"P(type|\",paste(testInstance, collapse=\" \"),\")\"))"
   ],
   "outputs": [
    {
     "data": {
      "text/plain": [
       "Plot with title \"P(type| 5.1 3.5 1.4 0.2 1 )\""
      ],
      "image/png": "[encoded data removed]"
     },
     "metadata": {},
     "output_type": "display_data"
    }
   ],
   "execution_count": 103
  },
  {
   "cell_type": "markdown",
   "id": "1d1c734a",
   "metadata": {},
   "source": [
    "et voyons comment Naive Bayes utilise les différentes  distributions qu'il a calculées, cad: \n",
    "$$\n",
    "P(\\text{sepal\\_length} \\mid \\text{type}), \\, \n",
    "P(\\text{sepal\\_width} \\mid \\text{type}), \\, \n",
    "P(\\text{petal\\_length} \\mid \\text{type}), \\, \n",
    "P(\\text{petal\\_width} \\mid \\text{type}), \\, \n",
    "P(\\text{type})\n",
    "$$\n",
    "\n",
    "pour calculer ces trois probabilités, cad pour calculer:\n",
    "$$P(\\text{type}|\\mathbf x) = \\{ P(\\text{type}=\\text{setosa} |\\mathbf x), P(\\text{type}=\\text{virginica} |\\mathbf x)  P(\\text{type}=\\text{versicolor} |\\mathbf x) \\}$$\n",
    "pour notre $\\mathbf x = (5.1, 3.5, 1.4, 0.2\t)$.\n",
    "\n",
    "\n",
    "$$\n",
    "\\begin{align}\n",
    "P(\\text{setosa} \\mid 5.1, 3.5, 1.4, 0.2) & = \\frac{P(5.1, 3.5, 1.4, 0.2 \\mid \\text{setosa}) P(\\text{setosa})}{P(5.1, 3.5, 1.4, 0.2)} \\\\\n",
    "& = \\frac{P(5.1 \\mid \\text{setosa}) P(3.5 \\mid \\text{setosa}) \n",
    "\\times P(1.4 \\mid \\text{setosa}) P(0.2 \\mid \\text{setosa}) \n",
    "\\times P(\\text{setosa})}\n",
    "{P(5.1, 3.5, 1.4, 0.2)}\n",
    "\\end{align}\n",
    "$$\n",
    "\n",
    "a seule différence par rapport au cas des attributs qualitatifs est que, comme nous l'avons dit, nous n'avons plus de tables de probabilités conditionnelles que nous utilisons pour obtenir les probabilités dont nous avons besoin, mais nous les calculerons en utilisant la distribution gaussienne et les moyennes et écarts-types conditionnels de classe appropriés. Donc\n",
    "\n",
    "$$\n",
    "\\begin{align} \n",
    "\\frac{P(5.1 \\mid \\text{setosa}) P(3.5 \\mid \\text{setosa})\n",
    " \\times P(1.4 \\mid \\text{setosa}) P(0.2 \\mid \\text{setosa}) \n",
    " \\times P(\\text{setosa})} \n",
    " {P(5.1, 3.5, 1.4, 0.2)} = \\\\\n",
    " \\frac{N(5.1; \\mu_{\\text{sepal\\_length|setosa}}, \\sigma^2_{\\text{sepal\\_length|setosa}}) \\times \\\\\n",
    "       N(3.5; \\mu_{\\text{sepal\\_width|setosa}}, \\sigma^2_{\\text{sepal\\_width|setosa}}) \\times \\\\\n",
    "       N(1.4; \\mu_{\\text{petal\\_length|setosa}}, \\sigma^2_{\\text{petal\\_length|setosa}}) \\times \\\\\n",
    "       N(0.2; \\mu_{\\text{petal\\_width|setosa}}, \\sigma^2_{\\text{petal\\_width|setosa}}) \\times P(\\text{setosa}) \n",
    " }{P(5.1, 3.5, 1.4, 0.2)}\n",
    "\\end{align}\n",
    "$$\n",
    "\n",
    "\n",
    "\n",
    "Nous pouvons très facilement obtenir chacun des termes : \n",
    "$$\n",
    "N(5.1; \\mu_{\\text{sepal\\_length|setosa}}, \\sigma^2_{\\text{sepal\\_length|setosa}}) = \\frac{1}{\\sqrt{2 \\pi \\sigma_{\\text{sepal\\_length|setosa}}^2}} \\exp \\left( -\\frac{(5.1 - \\mu_{\\text{sepal\\_length|setosa}})^2}{2 \\sigma_{\\text{sepal\\_length|setosa}}^2} \\right)\n",
    "$$\n",
    "\n",
    "$$\n",
    "N(3.5; \\mu_{\\text{sepal\\_width|setosa}}, \\sigma^2_{\\text{sepal\\_width|setosa}}) = \\frac{1}{\\sqrt{2 \\pi \\sigma_{\\text{sepal\\_width|setosa}}^2}} \\exp \\left( -\\frac{(3.5 - \\mu_{\\text{sepal\\_width|setosa}})^2}{2 \\sigma_{\\text{sepal\\_width|setosa}}^2} \\right)\n",
    "$$\n",
    "\n",
    "$$\n",
    "N(1.4; \\mu_{\\text{petal\\_length|setosa}}, \\sigma^2_{\\text{petal\\_length|setosa}}) = \\frac{1}{\\sqrt{2 \\pi \\sigma_{\\text{petal\\_length|setosa}}^2}} \\exp \\left( -\\frac{(1.4 - \\mu_{\\text{petal\\_length|setosa}})^2}{2 \\sigma_{\\text{petal\\_length|setosa}}^2} \\right)\n",
    "$$\n",
    "\n",
    "$$\n",
    "N(0.2; \\mu_{\\text{petal\\_width|setosa}}, \\sigma^2_{\\text{petal\\_width|setosa}}) = \\frac{1}{\\sqrt{2 \\pi \\sigma_{\\text{petal\\_width|setosa}}^2}} \\exp \\left( -\\frac{(0.2 - \\mu_{\\text{petal\\_width|setosa}})^2}{2 \\sigma_{\\text{petal\\_width|setosa}}^2} \\right)\n",
    "$$\n"
   ]
  },
  {
   "cell_type": "code",
   "id": "c81eb613",
   "metadata": {
    "ExecuteTime": {
     "end_time": "2024-12-22T17:09:19.570550Z",
     "start_time": "2024-12-22T17:09:19.556538Z"
    }
   },
   "source": [
    "#lets just compute the first one: P(sepal_length=5.1|setosa)\n",
    "m<-nb$tables$sepal_length[1,1]\n",
    "s<-nb$tables$sepal_length[1,2]\n",
    "\n",
    "#compute now the density N(5.1;m,s)\n",
    "dnorm(5.1,m,s)"
   ],
   "outputs": [
    {
     "data": {
      "text/html": [
       "1.06206844873882"
      ],
      "text/markdown": "1.06206844873882",
      "text/latex": "1.06206844873882",
      "text/plain": [
       "[1] 1.062068"
      ]
     },
     "metadata": {},
     "output_type": "display_data"
    }
   ],
   "execution_count": 104
  },
  {
   "cell_type": "code",
   "id": "178e1b53",
   "metadata": {
    "ExecuteTime": {
     "end_time": "2024-12-22T17:09:19.748213Z",
     "start_time": "2024-12-22T17:09:19.589328Z"
    }
   },
   "source": [
    "#and lets visualise this probability/density\n",
    "#P(sepal length | setosa), and its evaluation at sepal_length=5.1\n",
    "epsillon <- (abs(min(myData[myData[,5]==\"Iris_setosa\",1])-max(myData[myData[,5]==\"Iris_setosa\",1])))\n",
    "curve(dnorm(x,mean=m, sd=s), from=min(myData[myData[,5]==\"Iris_setosa\",1])-epsillon, to=max(myData[myData[,5]==\"Iris_setosa\",1])+epsillon, col=2, lty=2,lwd=2, ylab=\"Density\", main=\"p(sepal_length|setosa)\", xlab=\"sepal_length\", ylim=c(0,1.5))\n",
    "text(x=-2,y=1.5, labels=TeX(\"$N(\\\\mu_{setosa},\\\\sigma_{setosa}^2)=\\\\frac{1}{\\\\sqrt{2 \\\\pi \\\\sigma_{setosa}^2}} \\\\exp{-\\\\frac{(z - \\\\mu_{setosa})^2}{2\\\\sigma_{setosa}^2}}$\") )\n",
    "labelForMeanStd <- paste(\"$\\\\mu_{setosa}=\",m, \"\\\\ \\\\ \\\\ \\\\ \\\\sigma_{setosa}=\",s,\",$\")\n",
    "text(x=-2.2,y=1.3, labels=TeX(labelForMeanStd))\n",
    "\n",
    "#plot the point that corresponds to petal_length=5.1\n",
    "points(x=5.1,y=0)\n",
    "\n",
    "#and show its corresponding density\n",
    "points(x=c(5.1,5.1),y=c(0,dnorm(5.1,m,s)),col=\"red\",type=\"l\")\n",
    "points(x=5.1,y=dnorm(5.1,m,s))\n",
    "text(x=6,y=dnorm(5.1,m,s), labels=\"P(sepal_length=5.1|setosa)\",col=\"darkred\")\n"
   ],
   "outputs": [
    {
     "data": {
      "text/plain": [
       "Plot with title \"p(sepal_length|setosa)\""
      ],
      "image/png": "[encoded data removed]"
     },
     "metadata": {},
     "output_type": "display_data"
    }
   ],
   "execution_count": 105
  },
  {
   "cell_type": "markdown",
   "id": "2bb7d345",
   "metadata": {},
   "source": [
    "# Exercises"
   ]
  },
  {
   "cell_type": "markdown",
   "id": "fdd74890",
   "metadata": {},
   "source": [
    "**Exercise** Entraîner un modèle naïf de Bayes sur 70% de l'ensemble de données d'iris, en utilisant uniquement les attributs sepal_length et petal_length et uniquement les deux classes : virginica et versicolor. Extraire et visualiser les distributions suivantes à partir du modèle\n",
    "\n",
    "* P(type)\n",
    "* P(sepal_length|type)\n",
    "* P(petal_length|type)\n",
    "\n",
    "Utilisez les distributions ci-dessus pour expliquer comment le modèle Naive Bayes calculera la probabilité de setosa pour l'instance $\\mathbf x = (6.9, 3.1)$. "
   ]
  },
  {
   "cell_type": "code",
   "id": "146e87f1",
   "metadata": {
    "ExecuteTime": {
     "end_time": "2024-12-22T17:09:19.767557Z",
     "start_time": "2024-12-22T17:09:19.756115Z"
    }
   },
   "source": [
    "#code here\n",
    "#creates the simpler iris\n",
    "reducedIris <- myData[myData[,5]!=\"Iris_setosa\",c(1,3,5)]\n",
    "\n",
    "#..."
   ],
   "outputs": [],
   "execution_count": 106
  },
  {
   "cell_type": "markdown",
   "id": "954d0ba9",
   "metadata": {},
   "source": [
    "# Appendix"
   ]
  },
  {
   "cell_type": "markdown",
   "id": "76502827",
   "metadata": {},
   "source": [
    "A somehow more generic (though not very generic) function that plots in one go all conditional distributions for all attributes as these are given by the naive bayes model. It assumes that all attributes are numeric."
   ]
  },
  {
   "cell_type": "code",
   "id": "53a0e988",
   "metadata": {
    "ExecuteTime": {
     "end_time": "2024-12-22T17:09:19.788576Z",
     "start_time": "2024-12-22T17:09:19.772561Z"
    }
   },
   "source": [
    "#Using colorspace Package, which allows to control colors transperancy\n",
    "#while indexing colors with integer indeces\n",
    "#Install and load the colorspace package if you haven't already\n",
    "package_name <- \"colorspace\"\n",
    "# Check if the package is installed\n",
    "if (!require(package_name, character.only = TRUE)) {\n",
    "    install.packages(package_name)\n",
    "}\n",
    "library(package_name, character.only = TRUE)\n",
    "\n",
    "#receives as input:\n",
    "# * myData : the dataset\n",
    "# * nb : a naive bayes model trained on that dataset\n",
    "# * classColIndex : the index of the class attributes\n",
    "# it will plot the all class conditional distributions for each attribute\n",
    "# Attention: it assumes that all attributes are numeric\n",
    "condDist <- function(myData, nb, classColIndex){\n",
    "\n",
    "    numAttrs <- dim(myData)[1]-1\n",
    "    numClasses<-length(unique(myData[,classColIndex]))\n",
    "\n",
    "    \n",
    "    for (attribute in 1:length(nb$tables)) {\n",
    "\n",
    "        par(mfrow = c(1,2))\n",
    "    \n",
    "        condDistStats<-nb$tables[[attribute]]\n",
    "        attrName    <- names(nb$tables[attribute])\n",
    "        numClasses  <- nrow(condDistStats)\n",
    "        classNames <- rownames(condDistStats)\n",
    "    \n",
    "    \n",
    "        minVal <- min(myData[,attribute])\n",
    "        maxVal <- max(myData[,attribute])\n",
    "\n",
    "        epsillon <- (abs(minVal-maxVal))\n",
    "    \n",
    "        breaks = seq(from = minVal-epsillon, to = maxVal+epsillon, length.out=30)\n",
    "    \n",
    "\n",
    "        #go over the classes\n",
    "        add=FALSE #first time in the loop add = False to create a new figure\n",
    "        for(classIndex in 1:numClasses){\n",
    "            m<-condDistStats[classIndex,1] #retrieve the mean of petal_width in setosa\n",
    "            s<-condDistStats[classIndex,2] #retrieve the std of petal_width in setosa\n",
    "            className <- classNames[classIndex]\n",
    "            curve(dnorm(x,mean=m, sd=s), \n",
    "                  from=minVal-epsillon, to=maxVal+epsillon, \n",
    "                  col=classIndex, lty=2,lwd=2, \n",
    "                  ylab=\"Density\", \n",
    "                  main=paste(\"p(\",attrName,\"|\",names(myData)[classColIndex],\")\"), \n",
    "                  xlab=attrName, add=add)\n",
    "            add=TRUE\n",
    "        }\n",
    "        legend(\"topright\", legend=classNames,fill=1:numClasses)\n",
    "     \n",
    "        add=FALSE\n",
    "        for(classIndex in 1:numClasses){\n",
    "            className <- classNames[classIndex]\n",
    "            transparentColor <- adjust_transparency(palette()[classIndex], alpha = 0.5) #adds transparency for better visuals\n",
    "            hist(myData[myData[,classColIndex]==className,attribute],\n",
    "             breaks=breaks,\n",
    "             add=add,col=transparentColor, \n",
    "             main=paste(\"p(\",attrName,\"|\",names(myData)[classColIndex],\")\"), \n",
    "             xlab=attrName)\n",
    "            add=TRUE\n",
    "        }\n",
    "        legend(\"topright\", legend=classNames,fill=1:numClasses)\n",
    "\n",
    "    }\n",
    "}"
   ],
   "outputs": [],
   "execution_count": 107
  },
  {
   "cell_type": "code",
   "id": "59c7da88",
   "metadata": {
    "ExecuteTime": {
     "end_time": "2024-12-22T17:09:19.996887Z",
     "start_time": "2024-12-22T17:09:19.791578Z"
    }
   },
   "source": [
    "condDist(myData,nb,5)"
   ],
   "outputs": [
    {
     "data": {
      "text/plain": [
       "Plot with title \"p( sepal_length | type )\""
      ],
      "image/png": "[encoded data removed]"
     },
     "metadata": {},
     "output_type": "display_data"
    },
    {
     "data": {
      "text/plain": [
       "Plot with title \"p( sepal_width | type )\""
      ],
      "image/png": "[encoded data removed]"
     },
     "metadata": {},
     "output_type": "display_data"
    },
    {
     "data": {
      "text/plain": [
       "Plot with title \"p( petal_length | type )\""
      ],
      "image/png": "[encoded data removed]"
     },
     "metadata": {},
     "output_type": "display_data"
    },
    {
     "data": {
      "text/plain": [
       "Plot with title \"p( petal_width | type )\""
      ],
      "image/png": "[encoded data removed]"
     },
     "metadata": {},
     "output_type": "display_data"
    }
   ],
   "execution_count": 108
  },
  {
   "cell_type": "code",
   "id": "2759ad38",
   "metadata": {
    "ExecuteTime": {
     "end_time": "2024-12-22T17:09:20.013721Z",
     "start_time": "2024-12-22T17:09:20.002969Z"
    }
   },
   "source": [],
   "outputs": [],
   "execution_count": null
  }
 ],
 "metadata": {
  "kernelspec": {
   "display_name": "R",
   "language": "R",
   "name": "ir"
  },
  "language_info": {
   "codemirror_mode": "r",
   "file_extension": ".r",
   "mimetype": "text/x-r-source",
   "name": "R",
   "pygments_lexer": "r",
   "version": "4.2.1"
  }
 },
 "nbformat": 4,
 "nbformat_minor": 5
}
