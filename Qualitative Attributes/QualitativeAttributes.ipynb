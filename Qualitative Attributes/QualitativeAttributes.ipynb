{
 "cells": [
  {
   "cell_type": "markdown",
   "id": "76ce90a1",
   "metadata": {},
   "source": [
    "# Qualitative attributes and probability distributions"
   ]
  },
  {
   "cell_type": "markdown",
   "id": "646a2374",
   "metadata": {},
   "source": [
    "In this notebook we will explore the following concepts for qualitative attributes:\n",
    "* frequency and contigency tables\n",
    "* Marginal probability of a qualitative attribute $P(X)$\n",
    "* Joint probability distribution of two qualitative attributes $P(X,Y)$\n",
    "* Conditional probability distribution of qualitative attribues, $P(X|Y), P(Y|X)$\n",
    "* The relation of the joint to the marginal and the conditional distributions. \n",
    "* Bayes theorem. \n",
    "We will demonstrate the different concepts using *Titanic* a simple dataset with only qualitative attributes. "
   ]
  },
  {
   "cell_type": "markdown",
   "id": "549b4889",
   "metadata": {},
   "source": [
    "Lets start a small reminder on probabilities and distributions with **qualitative (categorical/discrete)** attributes. We will work with the titanic dataset.\n",
    "\n",
    "<img src=\"https://www.gannett-cdn.com/presto/2023/04/13/USAT/acb75fda-723c-4930-9e1b-9436ea7fe4a1-Titanic-topper.png?crop=3399,1912,x221,y414&width=2560\" alt=\"Titanic\" width=\"400\" height=\"300\">\n"
   ]
  },
  {
   "cell_type": "markdown",
   "id": "5fb09e22",
   "metadata": {},
   "source": [
    "It is a dataset that contains one entry per passenger of the \n",
    "Titanic. Each passenger is described by the following three qualitative attributes:\n",
    "* $class  \\in \\{crew, first, second, third\\}$\n",
    "* $age    \\in \\{adu, enf\\}$\n",
    "* $gender \\in \\{ f, m\\}$\n",
    "and the target attribute\n",
    "* $result \\in \\{mort, surv\\}$\n",
    "which indicates whether the passenger survived or not.\n",
    "\n",
    "Normally you have seen already the basic probability concepts in *Mathematics for machine learning, Probabilities and Statistics, 64-41*, Grigorios Anagnostopoulos, [url](https://cyberlearn.hes-so.ch/course/view.php?id=20206)\n",
    "\n",
    "So lets start by reading the dataset"
   ]
  },
  {
   "cell_type": "code",
   "id": "c3a2193c",
   "metadata": {
    "ExecuteTime": {
     "end_time": "2024-09-23T17:21:35.666758Z",
     "start_time": "2024-09-23T17:21:35.655759Z"
    }
   },
   "source": [
    "#give your working directory\n",
    "setwd(\"C:/Users/huniv/jnotebook/datasets\")"
   ],
   "outputs": [],
   "execution_count": 3
  },
  {
   "metadata": {
    "ExecuteTime": {
     "end_time": "2024-09-23T17:21:38.920006Z",
     "start_time": "2024-09-23T17:21:38.908924Z"
    }
   },
   "cell_type": "code",
   "source": [
    "#read titanic.csv\n",
    "myData <- read.table (file=\"titanic.csv\",sep=\",\", header=T)"
   ],
   "id": "30215999f0a1371a",
   "outputs": [],
   "execution_count": 5
  },
  {
   "cell_type": "code",
   "id": "e6a513c0",
   "metadata": {
    "ExecuteTime": {
     "end_time": "2024-09-23T17:21:39.997500Z",
     "start_time": "2024-09-23T17:21:39.982496Z"
    }
   },
   "source": [
    "summary(myData)"
   ],
   "outputs": [
    {
     "data": {
      "text/plain": [
       "    class               age                sex               result         \n",
       " Length:2201        Length:2201        Length:2201        Length:2201       \n",
       " Class :character   Class :character   Class :character   Class :character  \n",
       " Mode  :character   Mode  :character   Mode  :character   Mode  :character  "
      ]
     },
     "metadata": {},
     "output_type": "display_data"
    }
   ],
   "execution_count": 6
  },
  {
   "cell_type": "code",
   "id": "7e25d91a",
   "metadata": {
    "ExecuteTime": {
     "end_time": "2024-09-23T17:21:48.481137Z",
     "start_time": "2024-09-23T17:21:48.449136Z"
    }
   },
   "source": [
    "myData"
   ],
   "outputs": [
    {
     "data": {
      "text/html": [
       "<table class=\"dataframe\">\n",
       "<caption>A data.frame: 2201 × 4</caption>\n",
       "<thead>\n",
       "\t<tr><th scope=col>class</th><th scope=col>age</th><th scope=col>sex</th><th scope=col>result</th></tr>\n",
       "\t<tr><th scope=col>&lt;chr&gt;</th><th scope=col>&lt;chr&gt;</th><th scope=col>&lt;chr&gt;</th><th scope=col>&lt;chr&gt;</th></tr>\n",
       "</thead>\n",
       "<tbody>\n",
       "\t<tr><td>first</td><td>adu</td><td>m</td><td>surv</td></tr>\n",
       "\t<tr><td>first</td><td>adu</td><td>m</td><td>surv</td></tr>\n",
       "\t<tr><td>first</td><td>adu</td><td>m</td><td>surv</td></tr>\n",
       "\t<tr><td>first</td><td>adu</td><td>m</td><td>surv</td></tr>\n",
       "\t<tr><td>first</td><td>adu</td><td>m</td><td>surv</td></tr>\n",
       "\t<tr><td>first</td><td>adu</td><td>m</td><td>surv</td></tr>\n",
       "\t<tr><td>first</td><td>adu</td><td>m</td><td>surv</td></tr>\n",
       "\t<tr><td>first</td><td>adu</td><td>m</td><td>surv</td></tr>\n",
       "\t<tr><td>first</td><td>adu</td><td>m</td><td>surv</td></tr>\n",
       "\t<tr><td>first</td><td>adu</td><td>m</td><td>surv</td></tr>\n",
       "\t<tr><td>first</td><td>adu</td><td>m</td><td>surv</td></tr>\n",
       "\t<tr><td>first</td><td>adu</td><td>m</td><td>surv</td></tr>\n",
       "\t<tr><td>first</td><td>adu</td><td>m</td><td>surv</td></tr>\n",
       "\t<tr><td>first</td><td>adu</td><td>m</td><td>surv</td></tr>\n",
       "\t<tr><td>first</td><td>adu</td><td>m</td><td>surv</td></tr>\n",
       "\t<tr><td>first</td><td>adu</td><td>m</td><td>surv</td></tr>\n",
       "\t<tr><td>first</td><td>adu</td><td>m</td><td>surv</td></tr>\n",
       "\t<tr><td>first</td><td>adu</td><td>m</td><td>surv</td></tr>\n",
       "\t<tr><td>first</td><td>adu</td><td>m</td><td>surv</td></tr>\n",
       "\t<tr><td>first</td><td>adu</td><td>m</td><td>surv</td></tr>\n",
       "\t<tr><td>first</td><td>adu</td><td>m</td><td>surv</td></tr>\n",
       "\t<tr><td>first</td><td>adu</td><td>m</td><td>surv</td></tr>\n",
       "\t<tr><td>first</td><td>adu</td><td>m</td><td>surv</td></tr>\n",
       "\t<tr><td>first</td><td>adu</td><td>m</td><td>surv</td></tr>\n",
       "\t<tr><td>first</td><td>adu</td><td>m</td><td>surv</td></tr>\n",
       "\t<tr><td>first</td><td>adu</td><td>m</td><td>surv</td></tr>\n",
       "\t<tr><td>first</td><td>adu</td><td>m</td><td>surv</td></tr>\n",
       "\t<tr><td>first</td><td>adu</td><td>m</td><td>surv</td></tr>\n",
       "\t<tr><td>first</td><td>adu</td><td>m</td><td>surv</td></tr>\n",
       "\t<tr><td>first</td><td>adu</td><td>m</td><td>surv</td></tr>\n",
       "\t<tr><td>...</td><td>...</td><td>...</td><td>...</td></tr>\n",
       "\t<tr><td>crew</td><td>adu</td><td>m</td><td>mort</td></tr>\n",
       "\t<tr><td>crew</td><td>adu</td><td>m</td><td>mort</td></tr>\n",
       "\t<tr><td>crew</td><td>adu</td><td>m</td><td>mort</td></tr>\n",
       "\t<tr><td>crew</td><td>adu</td><td>m</td><td>mort</td></tr>\n",
       "\t<tr><td>crew</td><td>adu</td><td>m</td><td>mort</td></tr>\n",
       "\t<tr><td>crew</td><td>adu</td><td>m</td><td>mort</td></tr>\n",
       "\t<tr><td>crew</td><td>adu</td><td>m</td><td>mort</td></tr>\n",
       "\t<tr><td>crew</td><td>adu</td><td>m</td><td>mort</td></tr>\n",
       "\t<tr><td>crew</td><td>adu</td><td>m</td><td>mort</td></tr>\n",
       "\t<tr><td>crew</td><td>adu</td><td>m</td><td>mort</td></tr>\n",
       "\t<tr><td>crew</td><td>adu</td><td>m</td><td>mort</td></tr>\n",
       "\t<tr><td>crew</td><td>adu</td><td>m</td><td>mort</td></tr>\n",
       "\t<tr><td>crew</td><td>adu</td><td>m</td><td>mort</td></tr>\n",
       "\t<tr><td>crew</td><td>adu</td><td>m</td><td>mort</td></tr>\n",
       "\t<tr><td>crew</td><td>adu</td><td>m</td><td>mort</td></tr>\n",
       "\t<tr><td>crew</td><td>adu</td><td>m</td><td>mort</td></tr>\n",
       "\t<tr><td>crew</td><td>adu</td><td>m</td><td>mort</td></tr>\n",
       "\t<tr><td>crew</td><td>adu</td><td>m</td><td>mort</td></tr>\n",
       "\t<tr><td>crew</td><td>adu</td><td>m</td><td>mort</td></tr>\n",
       "\t<tr><td>crew</td><td>adu</td><td>m</td><td>mort</td></tr>\n",
       "\t<tr><td>crew</td><td>adu</td><td>m</td><td>mort</td></tr>\n",
       "\t<tr><td>crew</td><td>adu</td><td>m</td><td>mort</td></tr>\n",
       "\t<tr><td>crew</td><td>adu</td><td>m</td><td>mort</td></tr>\n",
       "\t<tr><td>crew</td><td>adu</td><td>m</td><td>mort</td></tr>\n",
       "\t<tr><td>crew</td><td>adu</td><td>m</td><td>mort</td></tr>\n",
       "\t<tr><td>crew</td><td>adu</td><td>m</td><td>mort</td></tr>\n",
       "\t<tr><td>crew</td><td>adu</td><td>m</td><td>mort</td></tr>\n",
       "\t<tr><td>crew</td><td>adu</td><td>m</td><td>mort</td></tr>\n",
       "\t<tr><td>crew</td><td>adu</td><td>m</td><td>mort</td></tr>\n",
       "\t<tr><td>crew</td><td>adu</td><td>m</td><td>mort</td></tr>\n",
       "</tbody>\n",
       "</table>\n"
      ],
      "text/markdown": "\nA data.frame: 2201 × 4\n\n| class &lt;chr&gt; | age &lt;chr&gt; | sex &lt;chr&gt; | result &lt;chr&gt; |\n|---|---|---|---|\n| first | adu | m | surv |\n| first | adu | m | surv |\n| first | adu | m | surv |\n| first | adu | m | surv |\n| first | adu | m | surv |\n| first | adu | m | surv |\n| first | adu | m | surv |\n| first | adu | m | surv |\n| first | adu | m | surv |\n| first | adu | m | surv |\n| first | adu | m | surv |\n| first | adu | m | surv |\n| first | adu | m | surv |\n| first | adu | m | surv |\n| first | adu | m | surv |\n| first | adu | m | surv |\n| first | adu | m | surv |\n| first | adu | m | surv |\n| first | adu | m | surv |\n| first | adu | m | surv |\n| first | adu | m | surv |\n| first | adu | m | surv |\n| first | adu | m | surv |\n| first | adu | m | surv |\n| first | adu | m | surv |\n| first | adu | m | surv |\n| first | adu | m | surv |\n| first | adu | m | surv |\n| first | adu | m | surv |\n| first | adu | m | surv |\n| ... | ... | ... | ... |\n| crew | adu | m | mort |\n| crew | adu | m | mort |\n| crew | adu | m | mort |\n| crew | adu | m | mort |\n| crew | adu | m | mort |\n| crew | adu | m | mort |\n| crew | adu | m | mort |\n| crew | adu | m | mort |\n| crew | adu | m | mort |\n| crew | adu | m | mort |\n| crew | adu | m | mort |\n| crew | adu | m | mort |\n| crew | adu | m | mort |\n| crew | adu | m | mort |\n| crew | adu | m | mort |\n| crew | adu | m | mort |\n| crew | adu | m | mort |\n| crew | adu | m | mort |\n| crew | adu | m | mort |\n| crew | adu | m | mort |\n| crew | adu | m | mort |\n| crew | adu | m | mort |\n| crew | adu | m | mort |\n| crew | adu | m | mort |\n| crew | adu | m | mort |\n| crew | adu | m | mort |\n| crew | adu | m | mort |\n| crew | adu | m | mort |\n| crew | adu | m | mort |\n| crew | adu | m | mort |\n\n",
      "text/latex": "A data.frame: 2201 × 4\n\\begin{tabular}{llll}\n class & age & sex & result\\\\\n <chr> & <chr> & <chr> & <chr>\\\\\n\\hline\n\t first & adu & m & surv\\\\\n\t first & adu & m & surv\\\\\n\t first & adu & m & surv\\\\\n\t first & adu & m & surv\\\\\n\t first & adu & m & surv\\\\\n\t first & adu & m & surv\\\\\n\t first & adu & m & surv\\\\\n\t first & adu & m & surv\\\\\n\t first & adu & m & surv\\\\\n\t first & adu & m & surv\\\\\n\t first & adu & m & surv\\\\\n\t first & adu & m & surv\\\\\n\t first & adu & m & surv\\\\\n\t first & adu & m & surv\\\\\n\t first & adu & m & surv\\\\\n\t first & adu & m & surv\\\\\n\t first & adu & m & surv\\\\\n\t first & adu & m & surv\\\\\n\t first & adu & m & surv\\\\\n\t first & adu & m & surv\\\\\n\t first & adu & m & surv\\\\\n\t first & adu & m & surv\\\\\n\t first & adu & m & surv\\\\\n\t first & adu & m & surv\\\\\n\t first & adu & m & surv\\\\\n\t first & adu & m & surv\\\\\n\t first & adu & m & surv\\\\\n\t first & adu & m & surv\\\\\n\t first & adu & m & surv\\\\\n\t first & adu & m & surv\\\\\n\t ... & ... & ... & ...\\\\\n\t crew & adu & m & mort\\\\\n\t crew & adu & m & mort\\\\\n\t crew & adu & m & mort\\\\\n\t crew & adu & m & mort\\\\\n\t crew & adu & m & mort\\\\\n\t crew & adu & m & mort\\\\\n\t crew & adu & m & mort\\\\\n\t crew & adu & m & mort\\\\\n\t crew & adu & m & mort\\\\\n\t crew & adu & m & mort\\\\\n\t crew & adu & m & mort\\\\\n\t crew & adu & m & mort\\\\\n\t crew & adu & m & mort\\\\\n\t crew & adu & m & mort\\\\\n\t crew & adu & m & mort\\\\\n\t crew & adu & m & mort\\\\\n\t crew & adu & m & mort\\\\\n\t crew & adu & m & mort\\\\\n\t crew & adu & m & mort\\\\\n\t crew & adu & m & mort\\\\\n\t crew & adu & m & mort\\\\\n\t crew & adu & m & mort\\\\\n\t crew & adu & m & mort\\\\\n\t crew & adu & m & mort\\\\\n\t crew & adu & m & mort\\\\\n\t crew & adu & m & mort\\\\\n\t crew & adu & m & mort\\\\\n\t crew & adu & m & mort\\\\\n\t crew & adu & m & mort\\\\\n\t crew & adu & m & mort\\\\\n\\end{tabular}\n",
      "text/plain": [
       "     class age sex result\n",
       "1    first adu m   surv  \n",
       "2    first adu m   surv  \n",
       "3    first adu m   surv  \n",
       "4    first adu m   surv  \n",
       "5    first adu m   surv  \n",
       "6    first adu m   surv  \n",
       "7    first adu m   surv  \n",
       "8    first adu m   surv  \n",
       "9    first adu m   surv  \n",
       "10   first adu m   surv  \n",
       "11   first adu m   surv  \n",
       "12   first adu m   surv  \n",
       "13   first adu m   surv  \n",
       "14   first adu m   surv  \n",
       "15   first adu m   surv  \n",
       "16   first adu m   surv  \n",
       "17   first adu m   surv  \n",
       "18   first adu m   surv  \n",
       "19   first adu m   surv  \n",
       "20   first adu m   surv  \n",
       "21   first adu m   surv  \n",
       "22   first adu m   surv  \n",
       "23   first adu m   surv  \n",
       "24   first adu m   surv  \n",
       "25   first adu m   surv  \n",
       "26   first adu m   surv  \n",
       "27   first adu m   surv  \n",
       "28   first adu m   surv  \n",
       "29   first adu m   surv  \n",
       "30   first adu m   surv  \n",
       "...  ...   ... ... ...   \n",
       "2172 crew  adu m   mort  \n",
       "2173 crew  adu m   mort  \n",
       "2174 crew  adu m   mort  \n",
       "2175 crew  adu m   mort  \n",
       "2176 crew  adu m   mort  \n",
       "2177 crew  adu m   mort  \n",
       "2178 crew  adu m   mort  \n",
       "2179 crew  adu m   mort  \n",
       "2180 crew  adu m   mort  \n",
       "2181 crew  adu m   mort  \n",
       "2182 crew  adu m   mort  \n",
       "2183 crew  adu m   mort  \n",
       "2184 crew  adu m   mort  \n",
       "2185 crew  adu m   mort  \n",
       "2186 crew  adu m   mort  \n",
       "2187 crew  adu m   mort  \n",
       "2188 crew  adu m   mort  \n",
       "2189 crew  adu m   mort  \n",
       "2190 crew  adu m   mort  \n",
       "2191 crew  adu m   mort  \n",
       "2192 crew  adu m   mort  \n",
       "2193 crew  adu m   mort  \n",
       "2194 crew  adu m   mort  \n",
       "2195 crew  adu m   mort  \n",
       "2196 crew  adu m   mort  \n",
       "2197 crew  adu m   mort  \n",
       "2198 crew  adu m   mort  \n",
       "2199 crew  adu m   mort  \n",
       "2200 crew  adu m   mort  \n",
       "2201 crew  adu m   mort  "
      ]
     },
     "metadata": {},
     "output_type": "display_data"
    }
   ],
   "execution_count": 7
  },
  {
   "cell_type": "markdown",
   "id": "26e08f10",
   "metadata": {},
   "source": [
    "## Single qualitative attribute X: Frequency table and marginal distribution, P(X) "
   ]
  },
  {
   "cell_type": "markdown",
   "id": "8f778d7f",
   "metadata": {},
   "source": [
    "Lets start by exploring the distributions of individual attributes e.g. \n",
    "the first attribute: *class* and see how we get the $P(class)$.\n",
    "We call the distribution of a single attribute a **MARGINAL** distribution.\n",
    "To get to that distribition we first need to retrieve the counts/frequencies of each value of the *class* attribute. The result is what we call the **frequency table** of the *class* attribute.\n"
   ]
  },
  {
   "cell_type": "code",
   "id": "aaf44b09",
   "metadata": {
    "ExecuteTime": {
     "end_time": "2024-09-23T17:21:59.601866Z",
     "start_time": "2024-09-23T17:21:59.587867Z"
    }
   },
   "source": [
    "counts <- table(myData[,1])\n",
    "print(\"counts:\")\n",
    "print(counts)\n"
   ],
   "outputs": [
    {
     "name": "stdout",
     "output_type": "stream",
     "text": [
      "[1] \"counts:\"\n",
      "\n",
      "  crew  first second  third \n",
      "   873    332    281    715 \n"
     ]
    }
   ],
   "execution_count": 8
  },
  {
   "cell_type": "markdown",
   "id": "a9569de5",
   "metadata": {},
   "source": [
    "From the frequencies we can go to the probabilities of each value of our *class* attribute. How?"
   ]
  },
  {
   "cell_type": "code",
   "id": "6c8860bc",
   "metadata": {
    "ExecuteTime": {
     "end_time": "2024-09-23T17:22:39.557699Z",
     "start_time": "2024-09-23T17:22:39.541702Z"
    }
   },
   "source": [
    "probs <- table(myData[,1])/dim(myData)[1]\n",
    "print(\"probs:\")\n",
    "print(probs)\n"
   ],
   "outputs": [
    {
     "name": "stdout",
     "output_type": "stream",
     "text": [
      "[1] \"probs:\"\n",
      "\n",
      "     crew     first    second     third \n",
      "0.3966379 0.1508405 0.1276692 0.3248523 \n"
     ]
    }
   ],
   "execution_count": 11
  },
  {
   "cell_type": "markdown",
   "id": "24859621",
   "metadata": {},
   "source": [
    "Go from the frequencies to probabilities, the easy/R way. The function *prop.table* converts the counts to probabilities and gives us as a result the $P(class)$. It basically divides each entry of the table with the sum of the entries. In this case the result is a vector that contains the probability of each value of the $class$ attribute.\n"
   ]
  },
  {
   "cell_type": "code",
   "id": "ce6db2dd",
   "metadata": {
    "ExecuteTime": {
     "end_time": "2024-09-23T17:23:08.457012Z",
     "start_time": "2024-09-23T17:23:08.446423Z"
    }
   },
   "source": [
    "prop.table(table(myData[,1]))\n"
   ],
   "outputs": [
    {
     "data": {
      "text/plain": [
       "\n",
       "     crew     first    second     third \n",
       "0.3966379 0.1508405 0.1276692 0.3248523 "
      ]
     },
     "metadata": {},
     "output_type": "display_data"
    }
   ],
   "execution_count": 12
  },
  {
   "cell_type": "markdown",
   "id": "0cd178b2",
   "metadata": {},
   "source": [
    "Lets visualise now the distribution of the class variable, i.e. we visualise the $P(class)$, we will use the *barplot* command."
   ]
  },
  {
   "cell_type": "code",
   "id": "945512f4",
   "metadata": {
    "ExecuteTime": {
     "end_time": "2024-09-23T17:23:17.107458Z",
     "start_time": "2024-09-23T17:23:17.064220Z"
    }
   },
   "source": [
    "barplot(prop.table(table(myData[,1])), main=\"Probability distribution of variable class, P(class)\")"
   ],
   "outputs": [
    {
     "data": {
      "text/plain": [
       "Plot with title \"Probability distribution of variable class, P(class)\""
      ],
      "image/png": "[encoded data removed]"
     },
     "metadata": {
      "image/png": {
       "width": 420,
       "height": 420
      }
     },
     "output_type": "display_data"
    }
   ],
   "execution_count": 13
  },
  {
   "cell_type": "markdown",
   "id": "5a6f2164",
   "metadata": {},
   "source": [
    "And make the code a bit more generic by working with a generic index. The command:\n",
    "\n",
    "```paste(\"probability of variable:\", names(myData)[index])``` \n",
    "\n",
    "produces a string that includes the name of the variable whose distribution we want to visualise. Paste concatenates. \n"
   ]
  },
  {
   "cell_type": "code",
   "id": "4d9b86a7",
   "metadata": {
    "ExecuteTime": {
     "end_time": "2024-09-23T17:23:35.222461Z",
     "start_time": "2024-09-23T17:23:35.181628Z"
    }
   },
   "source": [
    "index <- 1\n",
    "barplot(prop.table(table(myData[,index])), main=paste(\"Probability of variable:\", names(myData)[index]) )"
   ],
   "outputs": [
    {
     "data": {
      "text/plain": [
       "Plot with title \"Probability of variable: class\""
      ],
      "image/png": "[encoded data removed]"
     },
     "metadata": {
      "image/png": {
       "width": 420,
       "height": 420
      }
     },
     "output_type": "display_data"
    }
   ],
   "execution_count": 14
  },
  {
   "cell_type": "markdown",
   "id": "8b004da8",
   "metadata": {},
   "source": [
    "now lets make the same thing for all attributes using a *for loop*\n"
   ]
  },
  {
   "cell_type": "code",
   "id": "da52ca82",
   "metadata": {
    "ExecuteTime": {
     "end_time": "2024-09-23T17:25:10.386873Z",
     "start_time": "2024-09-23T17:25:10.276997Z"
    }
   },
   "source": [
    "for(index in 1:(dim(myData)[2]) ){\n",
    "    print(\"###################################\")\n",
    "    print(paste(\"P(\",names(myData)[index],\")\",sep=\"\"))\n",
    "    print(prop.table(table(myData[,index])))\n",
    "}\n",
    "\n",
    "for(index in 1:(dim(myData)[2]) ){\n",
    "\tbarplot(prop.table(table(myData[,index])), main=paste(\"probability of variable:\", names(myData)[index]) )\n",
    "}"
   ],
   "outputs": [
    {
     "name": "stdout",
     "output_type": "stream",
     "text": [
      "[1] \"###################################\"\n",
      "[1] \"P(class)\"\n",
      "\n",
      "     crew     first    second     third \n",
      "0.3966379 0.1508405 0.1276692 0.3248523 \n",
      "[1] \"###################################\"\n",
      "[1] \"P(age)\"\n",
      "\n",
      "       adu        enf \n",
      "0.94593367 0.05406633 \n",
      "[1] \"###################################\"\n",
      "[1] \"P(sex)\"\n",
      "\n",
      "        f         m \n",
      "0.2053612 0.7946388 \n",
      "[1] \"###################################\"\n",
      "[1] \"P(result)\"\n",
      "\n",
      "    mort     surv \n",
      "0.676965 0.323035 \n"
     ]
    },
    {
     "data": {
      "text/plain": [
       "Plot with title \"probability of variable: class\""
      ],
      "image/png": "[encoded data removed]"
     },
     "metadata": {
      "image/png": {
       "width": 420,
       "height": 420
      }
     },
     "output_type": "display_data"
    },
    {
     "data": {
      "text/plain": [
       "Plot with title \"probability of variable: age\""
      ],
      "image/png": "[encoded data removed]"
     },
     "metadata": {
      "image/png": {
       "width": 420,
       "height": 420
      }
     },
     "output_type": "display_data"
    },
    {
     "data": {
      "text/plain": [
       "Plot with title \"probability of variable: sex\""
      ],
      "image/png": "[encoded data removed]"
     },
     "metadata": {
      "image/png": {
       "width": 420,
       "height": 420
      }
     },
     "output_type": "display_data"
    },
    {
     "data": {
      "text/plain": [
       "Plot with title \"probability of variable: result\""
      ],
      "image/png": "[encoded data removed]"
     },
     "metadata": {
      "image/png": {
       "width": 420,
       "height": 420
      }
     },
     "output_type": "display_data"
    }
   ],
   "execution_count": 16
  },
  {
   "cell_type": "markdown",
   "id": "3528eb18",
   "metadata": {},
   "source": [
    "Lets use the following cartoon picture as a guide to understand the concepts of probabilities (they are equivalent to two of our barplots above). Here we see two **marginal** distributions, the size of the parallelograms corresponds to all the instances in our dataset, i.e. 100% of the passengers of titanic. We should think of the different colors as the **set of passengers** that have a specific attribute value. \n",
    "\n",
    "<img src=\"ProbabilitiesInTitanic-Slide-marginals-1.png\" alt=\"Marginals\" width=\"400\" height=\"300\">"
   ]
  },
  {
   "cell_type": "markdown",
   "id": "daa22887",
   "metadata": {},
   "source": [
    "## Pairs of qualitative variables, X,Y: Contigency table and joint distribution P(X,Y)"
   ]
  },
  {
   "cell_type": "markdown",
   "id": "1aad4af2",
   "metadata": {},
   "source": [
    "* the marginal distirbution looks at a single attribute \n",
    "* In most cases we want to look at combinations of attributes, two or more,\n",
    "* and try to understand and model their relation.\n",
    "* We will work with pairs of attributes and we will proceed as before:\n",
    "  1. Create the *contigency table* which contains the counts of all value combinations\n",
    "  2. Use the contigency table to get the joint probability distribution \n",
    " \n",
    "Lets look at the attributes class and sex and first get the *contigency table*. The contigency table gives us the counts/frequency of every attribute value combination. \t\t\t\n"
   ]
  },
  {
   "cell_type": "code",
   "id": "57fe20a0",
   "metadata": {
    "ExecuteTime": {
     "end_time": "2024-09-23T17:27:49.280378Z",
     "start_time": "2024-09-23T17:27:49.269356Z"
    }
   },
   "source": [
    "table(myData[,c(1,3)])"
   ],
   "outputs": [
    {
     "data": {
      "text/plain": [
       "        sex\n",
       "class      f   m\n",
       "  crew    19 854\n",
       "  first  138 194\n",
       "  second 108 173\n",
       "  third  187 528"
      ]
     },
     "metadata": {},
     "output_type": "display_data"
    }
   ],
   "execution_count": 17
  },
  {
   "cell_type": "markdown",
   "id": "26de1b6f",
   "metadata": {},
   "source": [
    "And as in the case of the marginal distributions here also we go to from the contigency table to the **JOINT** probability distribution $P(class, result)$ using the prop.table function which we will then visualise using a barplot. "
   ]
  },
  {
   "cell_type": "code",
   "id": "2f0aa65a",
   "metadata": {
    "ExecuteTime": {
     "end_time": "2024-09-23T17:27:59.455476Z",
     "start_time": "2024-09-23T17:27:59.444477Z"
    }
   },
   "source": [
    "#the joint distribution P(class,result)\n",
    "prop.table(table(myData[,c(1,4)]))"
   ],
   "outputs": [
    {
     "data": {
      "text/plain": [
       "        result\n",
       "class          mort       surv\n",
       "  crew   0.30077238 0.09586552\n",
       "  first  0.05997274 0.09086779\n",
       "  second 0.07133121 0.05633803\n",
       "  third  0.24488869 0.07996365"
      ]
     },
     "metadata": {},
     "output_type": "display_data"
    }
   ],
   "execution_count": 18
  },
  {
   "cell_type": "markdown",
   "id": "2050e497",
   "metadata": {},
   "source": [
    "Note how the sum of *all* values in the above table is 1.0\n",
    "\n",
    "Make sure you understand very well the meaning of the values in the above joint probability distribution table. \n",
    "\n",
    "For example: what does the value 0.30077238 correspond to?\n",
    "\n",
    "* $P(class = crew \\text{ AND } result = mort)$ \n",
    "* or in other words that probability that if you select one instance at random it will have the values crew **and** mort in the class and result variables, i.e. it will belong to the crew and mort sets/events.\n",
    "\n",
    "Reminder: In the probability and statistics course you were using the $P(class = crew \\cap result = mort)$ notation.\n"
   ]
  },
  {
   "cell_type": "markdown",
   "id": "3c3ec454",
   "metadata": {},
   "source": [
    "We will use barplot to visualise P(class, result). Barplot will create as many bars as columns in the object we pass as argument, here we pass the joint distribution P(class, result) which has two columns (result attribute) => two bars. Within each bar we will have as many categories as we have lines (class attribute).  "
   ]
  },
  {
   "cell_type": "code",
   "id": "d09b4166",
   "metadata": {
    "ExecuteTime": {
     "end_time": "2024-09-23T17:28:30.080972Z",
     "start_time": "2024-09-23T17:28:30.039649Z"
    }
   },
   "source": [
    "#So lets see it.\n",
    "title <- paste(\"P(\",names(myData)[1],\",\",names(myData)[4],\")\")\n",
    "barplot(prop.table(table(myData[,c(1,4)])), main=title, legend=T)"
   ],
   "outputs": [
    {
     "data": {
      "text/plain": [
       "Plot with title \"P( class , result )\""
      ],
      "image/png": "[encoded data removed]"
     },
     "metadata": {
      "image/png": {
       "width": 420,
       "height": 420
      }
     },
     "output_type": "display_data"
    }
   ],
   "execution_count": 19
  },
  {
   "cell_type": "markdown",
   "id": "e4763bdc",
   "metadata": {},
   "source": [
    "What happens if instead of: \n",
    "* ```prop.table(table(myData[,c(1,4)]))```\n",
    "\n",
    "we visualise its transpose:\n",
    "\n",
    "* ```t(prop.table(table(myData[,c(1,4)])))```\n",
    "\n",
    "are these two barplots displaying something really different? Not really, but they give us a different view on the same joint distribution.\n",
    "* visualising the ```prop.table(table(myData[,c(1,4)]))``` we focus on the result attribute\n",
    "* visualising its transpose we focus on the class attribute\n",
    "* can we go from the joint to the marginal? i.e. can we compute the P(result) or the P(class) from P(class, result)?"
   ]
  },
  {
   "cell_type": "code",
   "execution_count": null,
   "id": "3742dc6b",
   "metadata": {
    "scrolled": true
   },
   "outputs": [],
   "source": [
    "t(prop.table(table(myData[,c(1,4)])))\n",
    "\n",
    "title <- paste(\"P(\",names(myData)[1],\",\",names(myData)[4],\")\")\n",
    "barplot(t(prop.table(table(myData[,c(1,4)]))), main=title, legend=T)"
   ]
  },
  {
   "cell_type": "markdown",
   "id": "fdc60553",
   "metadata": {},
   "source": [
    "Lets try now to understand what the joint distribution tells us.\n",
    "As before we have the marginal distributions\n",
    "<img src=\"ProbabilitiesInTitanic-Slide-marginals-1.png\" alt=\"Marginals\" width=\"400\" height=\"300\">\n",
    "\n",
    "To make our life simpler we will look only at a part of the joint, the: P(result, class=crew)\n",
    "<img src=\"ProbabilitiesInTitanic-Slide-joint-2.png\" alt=\"Joint\" width=\"400\" height=\"300\">"
   ]
  },
  {
   "cell_type": "markdown",
   "id": "9d9e2447",
   "metadata": {},
   "source": [
    "## Conditional Distributions, P(X|Y), P(Y|X)"
   ]
  },
  {
   "cell_type": "markdown",
   "id": "af93a205",
   "metadata": {},
   "source": [
    "\n",
    "The concept of conditional distribution allows us to compute probabilities of certain event happening *given* that we know that something else has already happened. For example in our setting we might want to compute:\n",
    "* the probability of observing a *crew* among the *mort*, we write this probability as: P(class=crew|result=mort)\n",
    "\n",
    "In our exploratory data analysis we will use the conditional distributions in order to understand the relation of the different variables to the target variable that we want to predict and get at first an intuitive/qualitative feeling of which are the most informative attributes. \n",
    "\n",
    "So now lets see how we can compute the conditional distribution P(class | result).\n",
    "Conditional means that we will fix the value of the conditioning attribute\n",
    "here the result, e.g. looking only at instances for which result=mort\n",
    "or instances for which result=surv. Within these subsets we will compute\n",
    "the probability of each of the four class values. As before:\n",
    "* We first compute the contigency table\n",
    "* and then use prop.table to do the appropriate marginalisation (here the sum per column = 1)"
   ]
  },
  {
   "cell_type": "code",
   "execution_count": null,
   "id": "0255da95",
   "metadata": {},
   "outputs": [],
   "source": [
    "continTable.class.result<-table(myData[,c(1,4)])\n",
    "\n",
    "#Get the P(class | result)\n",
    "#The \",2\" argument means that the sum of the entries in each column will be one\n",
    "prop.table(continTable.class.result,2) "
   ]
  },
  {
   "cell_type": "markdown",
   "id": "a387d739",
   "metadata": {},
   "source": [
    "Observe how above the sum per column = 1\n",
    "\n",
    "* First column gives the probabilities of *crew, first, second, third* within the *mort* category, which we denote as $P(class|result=mort)$\n",
    "* Second column gives the probabilities of *crew, first, second, third* within the *surv* category, which we  denote as $P(class|result=surv)$\n",
    "* We denote $\\{ P(class|result=mort), P(class|result=surv)\\}$ by $P(class|result)$"
   ]
  },
  {
   "cell_type": "markdown",
   "id": "0a14135c",
   "metadata": {},
   "source": [
    "So lets visualise the P(class|result)"
   ]
  },
  {
   "cell_type": "code",
   "execution_count": null,
   "id": "b96ac13c",
   "metadata": {},
   "outputs": [],
   "source": [
    "#barplot will create one bar/column of its argumane\n",
    "barplot(prop.table(continTable.class.result,2), main=\"P(class|result)\", legend=TRUE)"
   ]
  },
  {
   "cell_type": "markdown",
   "id": "9da744cc",
   "metadata": {},
   "source": [
    "In a similar manner we can get the conditional distribution of P(result|class)\n",
    "where here we will be fixing the values in the row variable, i.e. the class"
   ]
  },
  {
   "cell_type": "code",
   "execution_count": null,
   "id": "cc7d28a9",
   "metadata": {},
   "outputs": [],
   "source": [
    "continTable.class.result<-table(myData[,c(1,4)])\n",
    "\n",
    "#Get the P(result | class)\n",
    "prop.table(continTable.class.result,1) "
   ]
  },
  {
   "cell_type": "markdown",
   "id": "a9b7b3be",
   "metadata": {},
   "source": [
    "Observe now how the sum per line = 1\n",
    "\n",
    "First line gives the probablities of *mort* and *surv* within the class *crew*, which we can collectivelly denote as $P(result|class=crew)$\n",
    "\n",
    "How should we use barplot to visualise P(result | class)? \n",
    "* The best way is to have the different bars to correspond to the values of the conditioning attribute, the class\n",
    "* to do so we should visualise the transpose of the P(result | class) we just computed above, attention it does not change anything, it is just for visualisation purposes. "
   ]
  },
  {
   "cell_type": "code",
   "execution_count": null,
   "id": "53ac567c",
   "metadata": {},
   "outputs": [],
   "source": [
    "prop.table(continTable.class.result,1) "
   ]
  },
  {
   "cell_type": "code",
   "execution_count": null,
   "id": "45fbd9d8",
   "metadata": {},
   "outputs": [],
   "source": [
    "t(prop.table(continTable.class.result,1))"
   ]
  },
  {
   "cell_type": "code",
   "execution_count": null,
   "id": "008e8b5c",
   "metadata": {},
   "outputs": [],
   "source": [
    "barplot(t(prop.table(continTable.class.result,1)), main=\"P(result|class)\", legend=TRUE) "
   ]
  },
  {
   "cell_type": "markdown",
   "id": "638fd1fa",
   "metadata": {},
   "source": [
    "So looking at $P(result|class)$ can you say what is the class that has highest/lowest probability of survival?\n",
    "\n",
    "An *informative attribute* is one whose value significantly affects the target variable probability. \n",
    "\n",
    "This is exactly the type of questions we would be looking to answer for the target attribute, i.e. are there particular combinations of predictive attribute values that make one value of the target attribute more or less probable? \n",
    "\n",
    "Eventually we will build models that given an instance will output the most probable class. "
   ]
  },
  {
   "cell_type": "markdown",
   "id": "cdf3d13a",
   "metadata": {},
   "source": [
    "So lets explore the relation of each predictive attribute of titanic with the result attribute by computing and visualising the conditional distributions. "
   ]
  },
  {
   "cell_type": "code",
   "execution_count": null,
   "id": "3440b497",
   "metadata": {},
   "outputs": [],
   "source": [
    "#Get and visualise the P(result | class)\n",
    "prop.table(table(myData[,c(1,4)]),1) \n",
    "barplot(t(prop.table(table(myData[,c(1,4)]),1) ), main=\"P(result|class)\",legend=TRUE)"
   ]
  },
  {
   "cell_type": "code",
   "execution_count": null,
   "id": "f8a06c90",
   "metadata": {},
   "outputs": [],
   "source": [
    "#Get and visualise the P(result | age)\n",
    "prop.table(table(myData[,c(2,4)]),1) \n",
    "barplot(t(prop.table(table(myData[,c(2,4)]),1) ), main=\"P(result|age)\",legend=TRUE)"
   ]
  },
  {
   "cell_type": "code",
   "execution_count": null,
   "id": "5683095c",
   "metadata": {
    "scrolled": true
   },
   "outputs": [],
   "source": [
    "#Get and visualise the P(result | sex)\n",
    "prop.table(table(myData[,c(3,4)]),1) \n",
    "barplot(t(prop.table(table(myData[,c(3,4)]),1) ), main=\"P(result|sex)\",legend=TRUE)"
   ]
  },
  {
   "cell_type": "code",
   "execution_count": null,
   "id": "7348319a",
   "metadata": {},
   "outputs": [],
   "source": [
    "#lets facilitate our lives and put them next to each other\n",
    "par(mfrow = c(1, 3))\n",
    "barplot(t(prop.table(table(myData[,c(1,4)]),1) ), main=\"P(result|class)\",legend=TRUE)\n",
    "barplot(t(prop.table(table(myData[,c(2,4)]),1) ), main=\"P(result|age)\",legend=TRUE)\n",
    "barplot(t(prop.table(table(myData[,c(3,4)]),1) ), main=\"P(result|sex)\",legend=TRUE)"
   ]
  },
  {
   "cell_type": "markdown",
   "id": "87a1a573",
   "metadata": {},
   "source": [
    "In fact each of the P(Y|X) should be explored together with the P(X), we do not only want to have a change in the P(Y|X), but we also want to make sure that where ever the probability changes a lot we also have high probability in P(X)."
   ]
  },
  {
   "cell_type": "code",
   "execution_count": null,
   "id": "b35617b5",
   "metadata": {},
   "outputs": [],
   "source": [
    "#lets facilitate our lives and put them next to each other\n",
    "par(mfrow = c(2, 3))\n",
    "barplot(t(prop.table(table(myData[,c(1,4)]),1) ), main=\"P(result|class)\",legend=TRUE)\n",
    "barplot(t(prop.table(table(myData[,c(2,4)]),1) ), main=\"P(result|age)\",legend=TRUE)\n",
    "barplot(t(prop.table(table(myData[,c(3,4)]),1) ), main=\"P(result|sex)\",legend=TRUE)\n",
    "\n",
    "barplot(prop.table(table(myData[,1])), main=\"P(class)\",legend=TRUE)\n",
    "barplot(prop.table(table(myData[,2])), main=\"P(age)\",legend=TRUE)\n",
    "barplot(prop.table(table(myData[,3])), main=\"P(sex)\",legend=TRUE)"
   ]
  },
  {
   "cell_type": "markdown",
   "id": "4d1ea01a",
   "metadata": {},
   "source": [
    "So looking at the above graphs:\n",
    "* which is the attribute that you think brings most information about the result attribute? \n",
    "* give the instance that\n",
    "  * has the highest probability of mort\n",
    "  * the highest probability of surv"
   ]
  },
  {
   "cell_type": "markdown",
   "id": "970bdb89",
   "metadata": {},
   "source": [
    "*We will need to answer such questions* in the exploratory analysis of the dataset we will work with in the project. "
   ]
  },
  {
   "cell_type": "markdown",
   "id": "1b452607",
   "metadata": {},
   "source": [
    "## On the relation of the joint distribution P(X,Y) and the marginal distributions P(X) and P(Y)"
   ]
  },
  {
   "cell_type": "markdown",
   "id": "f3f21f69",
   "metadata": {},
   "source": [
    "Can we get from the from the joint distribution P(class, result) the probability P(result=mort) as well as the probability P(result=surv)? (These two probabilities give the marginal distribution P(result))"
   ]
  },
  {
   "cell_type": "code",
   "execution_count": null,
   "id": "1fa65db5",
   "metadata": {},
   "outputs": [],
   "source": [
    "#the joint distribution P(class,result)\n",
    "prop.table(table(myData[,c(1,4)]))\n",
    "\n",
    "#And its bar plot\n",
    "title <- paste(\"P(\",names(myData)[1],\",\",names(myData)[4],\")\")\n",
    "barplot(prop.table(table(myData[,c(1,4)])), main=title, legend=T)"
   ]
  },
  {
   "cell_type": "markdown",
   "id": "c60c7cc1",
   "metadata": {},
   "source": [
    "Yes! It is the height of the column that corresponds to *result=mort* and the \n",
    "height of the column that corresponds to *result=surv*. \n",
    "These heights are nothing else than sums of probabilities over the rows for each column.  \n",
    "\n",
    "```        result\n",
    "class          mort       surv\n",
    "  crew   0.30077238 0.09586552\n",
    "  first  0.05997274 0.09086779\n",
    "  second 0.07133121 0.05633803\n",
    "  third  0.24488869 0.07996365 \n",
    "  \n",
    "               ||\n",
    "               ||\n",
    "               \\/\n",
    "         sum over the rows \n",
    "               ||\n",
    "               ||\n",
    "               \\/\n",
    "         P(mort)       P(surv)\n",
    "  \n",
    "  \n",
    "  ```\n",
    "\n",
    "When we are summing we are marginalising out one (or more) dimensions of the joint distribution, this is why we call the result the **MARGINAL distribution**, so the marginal distribution of result, P(result) is given by:\n",
    "\n",
    "$\\begin{eqnarray} \n",
    "P(result=surv) & =  P(class=crew, result=surv) \\\\\n",
    "               & + P(class=first, result=surv) \\\\\n",
    "               & + P(class=second, result=surv) \\\\\n",
    "               & + P(class=third, result=surv) \\\\\n",
    "               & =\\sum_{class \\in \\{ first, second, third, crew\\} } P(class, result = surv)\n",
    "\\end{eqnarray} $\n",
    "\n",
    "$\\begin{eqnarray} P(result = mort) & = P(class=crew, result = mort) \\\\\n",
    "                                   & + P(class=first, result = mort) \\\\\n",
    "                                   & + P(class=second, result = mort) \\\\\n",
    "                                   & + P(class=third, result = mort) \\\\\n",
    "                                   & =\\sum_{class \\in \\{ first, second, third, crew\\} } P(class, result = mort)\n",
    "                                   \\end{eqnarray} $\n",
    "\n",
    "A compact way of writing the two equations above is:\n",
    "$$P(result) = \\sum_{class} P(class,result)$$  \n"
   ]
  },
  {
   "cell_type": "markdown",
   "id": "0b2ce151",
   "metadata": {},
   "source": [
    "So lets verify this by doing the sum of the row values for each column of $P(class,result)$ with the help of the colSums function which adds the values of the rows for each column"
   ]
  },
  {
   "cell_type": "code",
   "execution_count": null,
   "id": "96021760",
   "metadata": {},
   "outputs": [],
   "source": [
    "colSums(prop.table(table(myData[,c(1,4)])))"
   ]
  },
  {
   "cell_type": "markdown",
   "id": "164537bc",
   "metadata": {},
   "source": [
    "We can check that it is correct by looking directly at $P(result)$ as we did before"
   ]
  },
  {
   "cell_type": "code",
   "execution_count": null,
   "id": "8d272903",
   "metadata": {},
   "outputs": [],
   "source": [
    "prop.table(table(myData[,4]))"
   ]
  },
  {
   "cell_type": "markdown",
   "id": "cd0a4d83",
   "metadata": {},
   "source": [
    "We can do exactly the same with P(class,result) by marginalising out the column variable, i.e. result, now we will be summing over the rows."
   ]
  },
  {
   "cell_type": "code",
   "execution_count": null,
   "id": "c8e137f8",
   "metadata": {},
   "outputs": [],
   "source": [
    "#the joint distribution\n",
    "prop.table(table(myData[,c(1,4)]))\n",
    "\n",
    "#and its marginalisation over the column variable sex, using rowSums\n",
    "rowSums(prop.table(table(myData[,c(1,4)])))"
   ]
  },
  {
   "cell_type": "markdown",
   "id": "5bfdad01",
   "metadata": {},
   "source": [
    "and again just to be sure:"
   ]
  },
  {
   "cell_type": "code",
   "execution_count": null,
   "id": "e19493f2",
   "metadata": {},
   "outputs": [],
   "source": [
    "#P(class)\n",
    "prop.table(table(myData[,1]))"
   ]
  },
  {
   "cell_type": "markdown",
   "id": "f9bcd767",
   "metadata": {},
   "source": [
    "So given the $P(class, result)$ by marginalising over the lines or the columns we are removing one\n",
    "of the two attributes and obtain the MARGINAL distribution of the other attribute:\n",
    "\n",
    "```\n",
    "        result\n",
    "class          mort       surv\n",
    "  crew   0.30077238 0.09586552                                               P(crew)\n",
    "  first  0.05997274 0.09086779  ====> sum over the columns (rowSums) =====>  P(first)\n",
    "  second 0.07133121 0.05633803                                               P(second)\n",
    "  third  0.24488869 0.07996365                                               P(third)\n",
    "\n",
    "               ||\n",
    "               ||\n",
    "               \\/\n",
    "         sum over the rows (colSums)\n",
    "               ||\n",
    "               ||\n",
    "               \\/\n",
    "         P(mort)       P(surv)\n",
    "```\n"
   ]
  },
  {
   "cell_type": "markdown",
   "id": "0901c9b2",
   "metadata": {},
   "source": [
    "## On the relation of the Joint distribution P(X,Y) and the conditional distributions P(X|Y) and P(Y|X)"
   ]
  },
  {
   "cell_type": "markdown",
   "id": "6ccd7016",
   "metadata": {},
   "source": [
    "* We saw before that from the joint distribution P(X,Y) we can obtain the two marginal ones by marginalising over the line or the column attribute. \n",
    "* We can also go from the joint to each one of the two conditionals by appropriate marginalisation"
   ]
  },
  {
   "cell_type": "code",
   "execution_count": null,
   "id": "8a7bb133",
   "metadata": {},
   "outputs": [],
   "source": [
    "#So lets get again the joint distribution P(class,result) and then see how we can get P(result | class)\n",
    "counts<-table(myData[,c(1,4)])\n",
    "P.class.result <- prop.table(counts)\n",
    "print(P.class.result)"
   ]
  },
  {
   "cell_type": "markdown",
   "id": "064b49f5",
   "metadata": {},
   "source": [
    "Attention the sum of the probabilities in the joint distribution is 1.0\n",
    "\n",
    "**Question**: Any idea what operation I should do in the above table to get P(result|class)?\n",
    "* Hint1: in P(result|class) the sum is 1.0 on the lines or on the columns?\n",
    "* Hint2: with what simple operation I could achieve the above?\n",
    "\n",
    "\n",
    "\n",
    "\n",
    "\n",
    "**Answer**: \n",
    "* Just divide each element of a given line (e.g. crew) with the sum of probabilities of that line\n",
    "* To what does the sum of probabilities of a line correspond to?\n",
    "  * the probability of the value of the line, e.g. P(crew) for the first line\n",
    "\n",
    "```\n",
    "P(result | class):\n",
    "         result\n",
    "class          mort               surv\n",
    "  crew   0.30077238/P(crew)   0.09586552/P(crew)\n",
    "  first  0.05997274/P(first)  0.09086779/P(first)\n",
    "  second 0.07133121/P(second) 0.05633803/P(second)\n",
    "  third  0.24488869/P(third)  0.07996365/P(third) \n",
    "```\n",
    "\n",
    "what we actually have in the above table is: \n",
    "\n",
    "```\n",
    "P(result | class):\n",
    "         result\n",
    "class          mort                         surv\n",
    "  crew   P(crew and mort)/P(crew)     P(crew and surv)/P(crew)\n",
    "  first  P(first and mort)/P(first)   P(first and surv)/P(first)\n",
    "  second P(second and mort)/P(second) P(second and surv)/P(second)\n",
    "  third  P(third and mort)/P(third)   P(third and surv)/P(third) \n",
    "```\n",
    "\n",
    "which can be summarised as: $$P(result|class) = \\frac{P(class \\text{ and }result)}{P(class)}$$"
   ]
  },
  {
   "cell_type": "markdown",
   "id": "5f0e014b",
   "metadata": {},
   "source": [
    "So lets go back to our cartoon visualisation to get a better intuition for the conditional probabilities. We have the two marginals:\n",
    "<img src=\"ProbabilitiesInTitanic-Slide-marginals-1.png\" alt=\"Marginals\" width=\"400\" height=\"300\">\n",
    "\n",
    "\n",
    "And the part of the joint which we saw before, P(result, class=crew):\n",
    "<img src=\"ProbabilitiesInTitanic-Slide-joint-2.png\" alt=\"Joint\" width=\"400\" height=\"300\">\n",
    "\n",
    "We will visualise the relation of the conditional to the joint and the marginal. We will focus only on the **crew** instances and we will compute the P(result=mort | class = crew) and P(result=surv | class = crew) using the joint P(result, class=crew) and the marginal P(class=crew). Now instead of looking at all the instances we are looking only on the crew ones and within the set of crew we compute the proportion of surv and the proportion of mort. \n",
    "\n",
    "<img src=\"ProbabilitiesInTitanic-Slide-conditional-3.png\" alt=\"Joint\" width=\"400\" height=\"300\">\n"
   ]
  },
  {
   "cell_type": "markdown",
   "id": "e2e82987",
   "metadata": {},
   "source": [
    "So lets try to compute the P(result | class ) by:\n",
    "1. computing the joint P(class, result)\n",
    "2. computing the marginal P(class) \n",
    "3. and dividing the appropriate entries of the joint probability matrix with the respective class probability.\n"
   ]
  },
  {
   "cell_type": "code",
   "execution_count": null,
   "id": "c630135f",
   "metadata": {},
   "outputs": [],
   "source": [
    "print(\"############################\")\n",
    "print(\"P(class, result)\")\n",
    "print(P.class.result)\n",
    "\n",
    "print(\"############################\")\n",
    "#get the margin P(class) from the joint P(class,result)\n",
    "P.class <- rowSums(P.class.result)\n",
    "print(\"P(class)\")\n",
    "print(P.class)\n",
    "\n",
    "print(\"############################\")\n",
    "print(\" The / based computation of the conditional\")\n",
    "P.result.given.class <- P.class.result / P.class # this operation divides each element \n",
    "                                                 # of the ith line of the P.class.result matrix \n",
    "                                                 # with the ith entry of the P.class vector \n",
    "                                                 # R recycles (repeats) the vector elements\n",
    "                                                 # over the matrix columns. \n",
    "print(\"P(result|class)\")\n",
    "print(P.result.given.class)\n",
    "\n",
    "\n",
    "print(\"The sweep based computation of the conditional\")\n",
    "P.result.given.class <- sweep(P.class.result,1,P.class, FUN=\"/\") #same result, repeats P.class over the \n",
    "                                                                 #lines of the P.class.result matrix and\n",
    "                                                                 #applies the / operation\n",
    "print(\"P(result|class)\")\n",
    "print(P.result.given.class)\n",
    "print(\"############################\")\n",
    "\n",
    "#check the result (sum over the rows==1)\n",
    "rowSums(P.result.given.class)\n",
    "print(\"############################\")"
   ]
  },
  {
   "cell_type": "markdown",
   "id": "3ebcd563",
   "metadata": {},
   "source": [
    "So given the $P(class, result)$ and normalising (/) each row by the respective class probability we obtain the $P(result|class)$\n",
    "\n",
    "```\n",
    "P(class, result)                                 P(result|class)\n",
    "        result                                           result\n",
    "class          mort       surv                  class         mort      surv\n",
    "  crew   0.30077238 0.09586552                    crew   0.7583047 0.2416953\n",
    "  first  0.05997274 0.09086779 rows / P(class)    first  0.3975904 0.6024096\n",
    "  second 0.07133121 0.05633803 ==============>    second 0.5587189 0.4412811\n",
    "  third  0.24488869 0.07996365                    third  0.7538462 0.2461538\n",
    "```\n",
    "Nothing else than the application of the :\n",
    "$$P(result|class) = \\frac{P(class \\text{ and }result)}{P(class)}$$"
   ]
  },
  {
   "cell_type": "markdown",
   "id": "3f9b03e1",
   "metadata": {},
   "source": [
    "We can achieve the same result, i.e. get the conditional distirbution directly from the contigency table and marginalising over the lines"
   ]
  },
  {
   "cell_type": "code",
   "execution_count": null,
   "id": "bd99d1b6",
   "metadata": {},
   "outputs": [],
   "source": [
    "P.result.given.class.v2 <- prop.table(counts, 1)\n",
    "print(P.class.given.result.v2)\n",
    "#check the result (sum over the rows==1)\n",
    "rowSums(P.result.given.class.v2)"
   ]
  },
  {
   "cell_type": "markdown",
   "id": "9a041a27",
   "metadata": {},
   "source": [
    "**Exercise**: get the P(class | result) "
   ]
  },
  {
   "cell_type": "code",
   "execution_count": null,
   "id": "41b3cc32",
   "metadata": {},
   "outputs": [],
   "source": [
    "print(\"########################\")\n",
    "print(\"P(class, result)\")\n",
    "print(P.class.result)\n",
    "\n",
    "print(\"########################\")\n",
    "#get the marginal P(result) from the joint P(class,result)\n",
    "P.result <- colSums(P.class.result)\n",
    "print(\"P(result):\")\n",
    "print(P.result)\n",
    "\n",
    "print(\"########################\")\n",
    "#P.result.given.class <- P.class.result / P.result      # this one does not work as we would like\n",
    "                                                        # i.e. dividing column i of P.class.result \n",
    "                                                        # with the i entry of the P.result vector, \n",
    "                                                        # instead it divides its line of the matrix\n",
    "                                                        # with a given element in the vector and then\n",
    "                                                        # repeats the elements of the vector as needed\n",
    "\n",
    "P.class.given.result<- t(t(P.class.result) / P.result) # we play with the transpose to make the dimensions match\n",
    "print(\"P(class|result):\")\n",
    "print(P.class.given.result)\n",
    "\n",
    "P.class.given.result <- sweep(P.class.result, 2, P.result, FUN=\"/\") #same as the above\n",
    "print(\"P(class|result):\")\n",
    "print(P.class.given.result)\n",
    "\n",
    "\n",
    "print(\"########################\")\n",
    "print(\"Check:\")\n",
    "print(colSums(P.class.given.result))"
   ]
  },
  {
   "cell_type": "code",
   "execution_count": null,
   "id": "7f3e0473",
   "metadata": {},
   "outputs": [],
   "source": [
    "#getting it directly from the counts\n",
    "P.class.given.result.v2 <- prop.table(counts, 2)\n",
    "print(\"P(class|result)\")\n",
    "print(P.class.given.result.v2)\n",
    "print(\"Check:\")\n",
    "print(colSums(P.class.given.result.v2))"
   ]
  },
  {
   "cell_type": "markdown",
   "id": "c0b79c98",
   "metadata": {},
   "source": [
    "So what we did to get P(class|result) ? \n",
    "* Just divide each element of a given column (e.g. mortw) with the sum of probabilities of that column\n",
    "* To what does the sum of probabilities of a column correspond to?\n",
    "  * the probability of the value of the column, e.g. P(mort) for the first column\n",
    "\n",
    "```\n",
    "P(class | result):\n",
    "         result\n",
    "class          mort               surv\n",
    "  crew   0.30077238/P(mort)  0.09586552/P(surv)\n",
    "  first  0.05997274/P(mort)  0.09086779/P(surv)\n",
    "  second 0.07133121/P(mort)  0.05633803/P(surv)\n",
    "  third  0.24488869/P(mort)  0.07996365/P(surv) \n",
    "```\n",
    "\n",
    "what we actually have in the above table is: \n",
    "\n",
    "```\n",
    "P(class | result):\n",
    "         result\n",
    "class          mort                         surv\n",
    "  crew   P(crew and mort)/P(mort)    P(crew and surv)/P(surv)\n",
    "  first  P(first and mort)/P(mort)   P(first and surv)/P(surv)\n",
    "  second P(second and mort)/P(mort)  P(second and surv)/P(surv)\n",
    "  third  P(third and mort)/P(mort)   P(third and surv)/Psurv) \n",
    "```\n",
    "\n",
    "which can be summarised as: $$P(class|result) = \\frac{P(class \\text{ and }result)}{P(result)}$$\n",
    "\n",
    "Once more \n",
    "\n",
    "```\n",
    "P(class, result)\n",
    "        result\n",
    "class          mort       surv\n",
    "  crew   0.30077238 0.09586552\n",
    "  first  0.05997274 0.09086779\n",
    "  second 0.07133121 0.05633803\n",
    "  third  0.24488869 0.07996365\n",
    "                   ||\n",
    "                   ||\n",
    "                   || columns / P(result)\n",
    "                   ||\n",
    "                   ||\n",
    "                   \\/\n",
    "P(result | class)\n",
    "        result\n",
    "class          mort       surv\n",
    "  crew   0.4442953 0.2967651\n",
    "  first  0.0885906 0.2812940\n",
    "  second 0.1053691 0.1744023\n",
    "  third  0.3617450 0.2475387\n",
    "```"
   ]
  },
  {
   "cell_type": "markdown",
   "id": "98cfc982",
   "metadata": {},
   "source": [
    "And putting them altogether: we can go from the joint $P(class, result)$ to any of the conditionals $P(class|result)$ or $P(result|class)$\n",
    "\n",
    "```\n",
    "P(class, result)                                 P(class|result)\n",
    "        result                                           result\n",
    "class          mort       surv                  class         mort      surv\n",
    "  crew   0.30077238 0.09586552                    crew   0.7583047 0.2416953\n",
    "  first  0.05997274 0.09086779 rows / P(class)    first  0.3975904 0.6024096\n",
    "  second 0.07133121 0.05633803 ==============>    second 0.5587189 0.4412811\n",
    "  third  0.24488869 0.07996365                    third  0.7538462 0.2461538\n",
    "                   ||\n",
    "                   ||\n",
    "                   || columns / P(result)\n",
    "                   ||\n",
    "                   ||\n",
    "                   \\/\n",
    "P(result | class)\n",
    "        result\n",
    "class          mort       surv\n",
    "  crew   0.4442953 0.2967651\n",
    "  first  0.0885906 0.2812940\n",
    "  second 0.1053691 0.1744023\n",
    "  third  0.3617450 0.2475387\n",
    "\n",
    "\n",
    "\n",
    "\n",
    "```"
   ]
  },
  {
   "cell_type": "code",
   "execution_count": null,
   "id": "fde5baa4",
   "metadata": {},
   "outputs": [],
   "source": [
    "#Lets visualise using barplots the three distributions above, P(Class, result), P(class|result), P(result|class)\n",
    "par(mfrow = c(1, 2))\n",
    "barplot(P.class.result, main=\"P(class,result)\")\n",
    "barplot(P.class.given.result, main=\"P(class|result)\")\n",
    "\n",
    "par(mfrow = c(1, 2))\n",
    "barplot(t(P.class.result), main=\"P(result, class)\")\n",
    "barplot(t(P.result.given.class), main=\"P(result|class)\")\n",
    "#observe once again how the conditionals take the joint and they rescale parts of it (the conditioning variable)"
   ]
  },
  {
   "cell_type": "markdown",
   "id": "b97d06f4",
   "metadata": {},
   "source": [
    "## Bayes Rule"
   ]
  },
  {
   "cell_type": "markdown",
   "id": "c1b35a0e",
   "metadata": {},
   "source": [
    "<img src=\"https://www.the-tls.co.uk/wp-content/uploads/sites/7/2019/11/Thomas-Bayes.jpg?resize=1024,576\" alt=\"Bayes\" width=\"400\" height=\"300\">\n",
    "\n",
    "We have seen above how the joint and the conditionals relate to each other:\n",
    "* $P(X|Y) = \\frac{P(X,Y)}{P(Y)}$\n",
    "* $P(Y|X) = \\frac{P(X,Y)}{P(X)}$\n",
    "solving in the two above equations for $P(X,Y)$ will give us respectivelly \n",
    "* $P(X,Y) = P(X|Y) P(Y)$\n",
    "* $P(X,Y) = P(Y|X) P(X)$\n",
    "\n",
    "thus:\n",
    "\n",
    "* $P(X|Y) P(Y) = P(Y|X) P(X) \\Rightarrow P(Y|X) = \\frac{P(X|Y) P(Y)}{P(X)}$\n",
    "\n",
    "The identity: \n",
    "$$P(Y|X) = \\frac{P(X|Y) P(Y)}{P(X)}$$\n",
    "is known as the Bayes rule, it allows us to go from one conditional to the other. Its part in this rule has a particular name: \n",
    "$$ \\text{posterior} = \\frac{\\text{likelihood} \\times \\text{prior}}{\\text{evidence}} $$\n",
    "\n",
    "\n",
    "The Bayes rule is the basis of the Naive Bayes algorithm that we will see later. "
   ]
  },
  {
   "cell_type": "markdown",
   "id": "f6b1537f",
   "metadata": {},
   "source": [
    "## Exercises "
   ]
  },
  {
   "cell_type": "markdown",
   "id": "88824498",
   "metadata": {},
   "source": [
    "* Compute the probability of an instance being a child (enf), \n",
    "* which distribution you need to compute in order to get that probability? is it a marginal, joint or conditional distribution?\n",
    "* visualise that distribution"
   ]
  },
  {
   "cell_type": "code",
   "execution_count": null,
   "id": "e09b6bd9",
   "metadata": {},
   "outputs": [],
   "source": [
    "#Your code/answers here"
   ]
  },
  {
   "cell_type": "markdown",
   "id": "2d2d6fc1",
   "metadata": {},
   "source": [
    "* Compute the probability of an instance being adult and first class\n",
    "* which distribution you need to compute in order to get that probability? is it a marginal, joint or conditional? explain your reasoning. \n",
    "* visualise that distribution in two different ways\n",
    "* Explain how from that distribution you can go to the P(adult) and P(class)"
   ]
  },
  {
   "cell_type": "code",
   "execution_count": null,
   "id": "172c7fb9",
   "metadata": {},
   "outputs": [],
   "source": [
    "#Your code/answers here"
   ]
  },
  {
   "cell_type": "markdown",
   "id": "a270d358",
   "metadata": {},
   "source": [
    "* Compute what is the proportion of women among the dead passengers\n",
    "* which distribution you need to compute in order to get that probability? is it a marginal, joint or conditional? explain your reasoning. \n",
    "* visualise that distribution it two different ways and save the result in a pdf file. "
   ]
  },
  {
   "cell_type": "code",
   "execution_count": null,
   "id": "46778aca",
   "metadata": {},
   "outputs": [],
   "source": [
    "#Your code/answers here"
   ]
  },
  {
   "cell_type": "markdown",
   "id": "698d8b20",
   "metadata": {},
   "source": [
    "* Compute and visualise the joint distribution of age and sex\n",
    "* Using the joint compute the marginals of age and sex, explain how you did it\n",
    "* Using the joint distributions compute the conditional distribution of age given the sex, and the conditional distribution of sex given age. Visualise the joint and the conditionals and explain their relation. "
   ]
  },
  {
   "cell_type": "markdown",
   "id": "90a20f34",
   "metadata": {},
   "source": [
    "Use the Bayes rule to compute the probability $P(result = mort|class=first)$. Verify that what you get agrees with the result that you get when you compute directly the probability from the contigency table as we saw above. "
   ]
  },
  {
   "cell_type": "code",
   "execution_count": null,
   "id": "2b753828",
   "metadata": {},
   "outputs": [],
   "source": [
    "#Your code/answer here"
   ]
  },
  {
   "cell_type": "markdown",
   "id": "7c7f2449",
   "metadata": {},
   "source": [
    "## Quantitative attributes and probability distributions"
   ]
  },
  {
   "cell_type": "markdown",
   "id": "61035b5b",
   "metadata": {},
   "source": [
    "So lets move now to quantitative attributes and explore their probability distributions. We will work with *iris* a dataset that contains quantitative predictive attributes. "
   ]
  },
  {
   "cell_type": "code",
   "execution_count": null,
   "id": "9df080a4",
   "metadata": {},
   "outputs": [],
   "source": [
    "myData <- read.table(file=\"iris.csv\", header=T, sep=\",\")"
   ]
  },
  {
   "cell_type": "code",
   "execution_count": null,
   "id": "29b65af2",
   "metadata": {},
   "outputs": [],
   "source": [
    "myData[,1]\n"
   ]
  },
  {
   "cell_type": "code",
   "execution_count": null,
   "id": "ad8abc13",
   "metadata": {},
   "outputs": [],
   "source": [
    "names(myData)"
   ]
  },
  {
   "cell_type": "code",
   "execution_count": null,
   "id": "195f6060",
   "metadata": {},
   "outputs": [],
   "source": [
    "#lets compute means and variances \n",
    "mean(myData[,1])"
   ]
  },
  {
   "cell_type": "code",
   "execution_count": null,
   "id": "1650b072",
   "metadata": {},
   "outputs": [],
   "source": [
    "#the mean of all the attributes\n",
    "colMeans(myData[,c(1:4)])"
   ]
  },
  {
   "cell_type": "code",
   "execution_count": null,
   "id": "1b3320a7",
   "metadata": {},
   "outputs": [],
   "source": [
    "#variance \n",
    "var(myData[,c(1:4)])"
   ]
  },
  {
   "cell_type": "code",
   "execution_count": null,
   "id": "fb75dc06",
   "metadata": {},
   "outputs": [],
   "source": [
    "#since the variance is in the diagonal I just need to retrieve the \n",
    "#elements in the diagonal\n",
    "diag(var(myData[,c(1:4)]))"
   ]
  },
  {
   "cell_type": "code",
   "execution_count": null,
   "id": "7030fc35",
   "metadata": {},
   "outputs": [],
   "source": [
    "#so lets first try to visualise the distribution of a single quantitative attribute\n",
    "hist(myData[,1])"
   ]
  },
  {
   "cell_type": "code",
   "execution_count": null,
   "id": "cacba349",
   "metadata": {},
   "outputs": [],
   "source": [
    "names(myData)[1]"
   ]
  },
  {
   "cell_type": "markdown",
   "id": "de7bdfe0",
   "metadata": {},
   "source": [
    "so we will now try to visualise the conditional distribution of each attribute given the class, and explore in a visual manner whether there is an attribute that helps us best distinguish between the classes. So lets focus at two classes only (even though iris has three): setosa and virginica"
   ]
  },
  {
   "cell_type": "code",
   "execution_count": null,
   "id": "1af3c6f2",
   "metadata": {},
   "outputs": [],
   "source": [
    "#visualise the two distributions, but we have a bit of a problem with the x-axis which does not\n",
    "#have exactly the same bins in the two graphs.\n",
    "hist(myData[ myData[,5]==\"Iris_setosa\"  ,    1], main=\"Distribution of sepal_length for setosa\")\n",
    "hist(myData[ myData[,5]==\"Iris_virginica\"  ,    1], main=\"Distribution of sepal_length\")"
   ]
  },
  {
   "cell_type": "code",
   "execution_count": null,
   "id": "4b399c6b",
   "metadata": {},
   "outputs": [],
   "source": [
    "#To force the same bins we are going to use the breaks argument in hist which controls the separation. \n",
    "minX <- min(myData[,1])\n",
    "maxX <- max(myData[,1])\n",
    "\n",
    "breaks <- seq(from = minX, to = maxX, length.out=20)\n",
    "print(breaks)"
   ]
  },
  {
   "cell_type": "code",
   "execution_count": null,
   "id": "42e7dbbf",
   "metadata": {},
   "outputs": [],
   "source": [
    "hist(myData[ myData[,5]==\"Iris_setosa\"  ,    1], main=\"Distribution of sepal_length for setosa\", breaks=breaks)\n",
    "hist(myData[ myData[,5]==\"Iris_virginica\"  ,    1], main=\"Distribution of sepal_length for virginica\", breaks = breaks)"
   ]
  },
  {
   "cell_type": "code",
   "execution_count": null,
   "id": "67da0785",
   "metadata": {},
   "outputs": [],
   "source": [
    "minX <- min(myData[,2])\n",
    "maxX <- max(myData[,2])\n",
    "\n",
    "breaks <- seq(from = minX, to = maxX, length.out=20)\n",
    "\n",
    "hist(myData[ myData[,5]==\"Iris_setosa\"  ,    2], main=\"Distribution of sepal_width for setosa\", breaks=breaks)\n",
    "hist(myData[ myData[,5]==\"Iris_virginica\"  ,  2], main=\"Distribution of sepal_width for virginica\", breaks=breaks)"
   ]
  },
  {
   "cell_type": "markdown",
   "id": "768c3a46",
   "metadata": {},
   "source": [
    "so between the two attributes, sepal_width and sepal_length, which one helps us most in determining the target variable? sepal_length because here we have the least overlap between the two distributions P(sepal_length|iris_setosa) and P(sepal_length | iris_virginica)"
   ]
  },
  {
   "cell_type": "markdown",
   "id": "b2d6e71f",
   "metadata": {},
   "source": [
    "So how can we quantify the fact that we want the two distributions to be as far as possible and with the smallest overlap? intuitevely we want to have a very large distance of the two class conditional means with a very small variance. So what we are going to compute is $\\frac{|\\mu_{attribute|virginica} - \\mu_{attribute|setosa}|}{\\sigma_{attribute}}$, for all attributes"
   ]
  },
  {
   "cell_type": "markdown",
   "id": "f2b21d9b",
   "metadata": {},
   "source": [
    "how can we get this class conditional mean  $\\mu_{attribute|virginica}$ for all attributes in one go?"
   ]
  },
  {
   "cell_type": "code",
   "execution_count": null,
   "id": "2893e59f",
   "metadata": {},
   "outputs": [],
   "source": [
    "condMeansVrg<-colMeans(myData[myData[,5]==\"Iris_virginica\",1:4])"
   ]
  },
  {
   "cell_type": "code",
   "execution_count": null,
   "id": "990f55bf",
   "metadata": {},
   "outputs": [],
   "source": [
    "condMeansSts<-colMeans(myData[myData[,5]==\"Iris_setosa\",1:4])"
   ]
  },
  {
   "cell_type": "code",
   "execution_count": null,
   "id": "1e41e0cf",
   "metadata": {},
   "outputs": [],
   "source": [
    "abs(condMeansVrg-condMeansSts)"
   ]
  },
  {
   "cell_type": "markdown",
   "id": "a6b736af",
   "metadata": {},
   "source": [
    "but just the difference of the means is not enough, as we said we need to normalise (i.e. divide) with the standard deviation"
   ]
  },
  {
   "cell_type": "code",
   "execution_count": null,
   "id": "f812f134",
   "metadata": {},
   "outputs": [],
   "source": [
    "sqrt(diag(var(myData[,1:4])))"
   ]
  },
  {
   "cell_type": "code",
   "execution_count": null,
   "id": "8287a451",
   "metadata": {},
   "outputs": [],
   "source": [
    "attributesScore<-abs(condMeansVrg-condMeansSts)/sqrt(diag(var(myData[,1:4])))\n",
    "print(attributesScore)"
   ]
  },
  {
   "cell_type": "code",
   "execution_count": null,
   "id": "578e01b1",
   "metadata": {},
   "outputs": [],
   "source": [
    "#so the score says that the best attribute is the petal width, lets see the class conditional histograms\n",
    "minX <- min(myData[,4])\n",
    "maxX <- max(myData[,4])\n",
    "\n",
    "breaks <- seq(from = minX, to = maxX, length.out=20)\n",
    "\n",
    "hist(myData[ myData[,5]==\"Iris_setosa\"  ,    4], main=\"Distribution of sepal_width for setosa\", breaks=breaks)\n",
    "hist(myData[ myData[,5]==\"Iris_virginica\"  ,  4], main=\"Distribution of sepal_width for virginica\", breaks=breaks)"
   ]
  },
  {
   "cell_type": "markdown",
   "id": "00f660d1",
   "metadata": {},
   "source": [
    "So indeed sepal_width has a very good class separation (at least between virginica and setosa)"
   ]
  },
  {
   "cell_type": "markdown",
   "id": "ef99881e",
   "metadata": {},
   "source": [
    "So lets now take a small look at functions, and make a simple one that for all attributes draws histograms and saves them in a file. "
   ]
  },
  {
   "cell_type": "code",
   "execution_count": null,
   "id": "45769511",
   "metadata": {},
   "outputs": [],
   "source": [
    "#since we can do histograms only on quantitative variables we need to \n",
    "#pass the indexes of the quantitative variable. Lets define as default\n",
    "#value for these indeced the ones of iris, i.e. 1,2,3,4. \n",
    "#Attention the graphics folder should exist, because we \n",
    "#are going to save all files there. \n",
    "visualiseAllHistograms <- function(myData, indexQuant=c(1:4)){\n",
    "    for( i in indexQuant){\n",
    "        hist(myData[,i], main = paste(\"Histogram of attribute\", names(myData)[i]))\n",
    "        \n",
    "        #and lets save the figure in a .pdf\n",
    "        dev.copy2pdf(file=paste(\"graphics/\",\"HistogramOfAttribute\",names(myData)[i],\".pdf\",sep=\"\"))\n",
    "    }\n",
    "}"
   ]
  },
  {
   "cell_type": "code",
   "execution_count": null,
   "id": "51d334b0",
   "metadata": {},
   "outputs": [],
   "source": [
    "#no need to pass indexQuantitative since we are working with iris, and we have set a de\n",
    "#default value to corresponds to iris. \n",
    "visualiseAllHistograms(myData)"
   ]
  },
  {
   "cell_type": "markdown",
   "id": "2086ddb0",
   "metadata": {},
   "source": [
    "finally lets make a scatter plot with the best two attributes according to the attributes score computed above and see whether we can distinguish between the two classes with which we worked, i.e. setosa and virginica"
   ]
  },
  {
   "cell_type": "code",
   "execution_count": null,
   "id": "bacd396e",
   "metadata": {},
   "outputs": [],
   "source": [
    "print(attributesScore)"
   ]
  },
  {
   "cell_type": "code",
   "execution_count": null,
   "id": "27a8e311",
   "metadata": {},
   "outputs": [],
   "source": [
    "#A more elaborate filter including an OR |\n",
    "#lets get only the virginica and setosa classes\n",
    "myData[myData[,5]==\"Iris_virginica\" | myData[,5]==\"Iris_setosa\", 5]"
   ]
  },
  {
   "cell_type": "code",
   "execution_count": null,
   "id": "9ca2959b",
   "metadata": {},
   "outputs": [],
   "source": [
    "#same as the previous filter using a NOT\n",
    "myData[myData[,5]!=\"Iris_versicolor\",5] "
   ]
  },
  {
   "cell_type": "code",
   "execution_count": null,
   "id": "af6987a6",
   "metadata": {},
   "outputs": [],
   "source": [
    "#so lets use the two best attributes according to the score and see whether they allow us to easily\n",
    "#separate the two classes\n",
    "#col is the color of each dagta point which is taken from their class label\n",
    "plot(myData[myData[,5]!=\"Iris_versicolor\",c(3,4)],col=factor(myData[myData[,5]!=\"Iris_versicolor\",5]),pch=19)\n",
    "#and lets add a legend\n",
    "legend(\"topleft\",\n",
    "       legend = levels(factor(myData[myData[,5]!=\"Iris_versicolor\",5])),\n",
    "       pch = 19,\n",
    "       col = factor(levels(factor(myData[myData[,5]!=\"Iris_versicolor\",5]))))"
   ]
  },
  {
   "cell_type": "code",
   "execution_count": null,
   "id": "e18d2e80",
   "metadata": {},
   "outputs": [],
   "source": []
  },
  {
   "cell_type": "code",
   "execution_count": null,
   "id": "f9206f11",
   "metadata": {},
   "outputs": [],
   "source": []
  }
 ],
 "metadata": {
  "kernelspec": {
   "display_name": "R",
   "language": "R",
   "name": "ir"
  },
  "language_info": {
   "codemirror_mode": "r",
   "file_extension": ".r",
   "mimetype": "text/x-r-source",
   "name": "R",
   "pygments_lexer": "r",
   "version": "4.2.1"
  }
 },
 "nbformat": 4,
 "nbformat_minor": 5
}
